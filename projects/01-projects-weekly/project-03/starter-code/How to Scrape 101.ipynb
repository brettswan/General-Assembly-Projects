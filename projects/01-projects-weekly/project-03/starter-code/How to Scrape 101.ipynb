{
 "cells": [
  {
   "cell_type": "code",
   "execution_count": 1,
   "metadata": {
    "collapsed": false
   },
   "outputs": [],
   "source": [
    "import scrapy\n",
    "from scrapy.selector import Selector\n",
    "from scrapy.http import HtmlResponse\n",
    "import requests"
   ]
  },
  {
   "cell_type": "code",
   "execution_count": 2,
   "metadata": {
    "collapsed": false
   },
   "outputs": [],
   "source": [
    "import builtwith, whois"
   ]
  },
  {
   "cell_type": "code",
   "execution_count": 11,
   "metadata": {
    "collapsed": true
   },
   "outputs": [],
   "source": [
    "r = requests.get('https://losangeles.craigslist.org/search/sss?query=bmw+m3&excats=5-15-22-27-27-26-38-3-4-12-11-11-1-1-1&sort=rel')"
   ]
  },
  {
   "cell_type": "code",
   "execution_count": 4,
   "metadata": {
    "collapsed": false
   },
   "outputs": [
    {
     "data": {
      "text/plain": [
       "{u'javascript-frameworks': [u'jQuery', u'Modernizr', u'jQuery UI'],\n",
       " u'programming-languages': [u'Python'],\n",
       " u'web-frameworks': [u'Web2py', u'Twitter Bootstrap'],\n",
       " u'web-servers': [u'Nginx']}"
      ]
     },
     "execution_count": 4,
     "metadata": {},
     "output_type": "execute_result"
    }
   ],
   "source": [
    "builtwith.parse('http://example.webscraping.com')"
   ]
  },
  {
   "cell_type": "code",
   "execution_count": 5,
   "metadata": {
    "collapsed": false
   },
   "outputs": [
    {
     "name": "stdout",
     "output_type": "stream",
     "text": [
      "{\n",
      "  \"updated_date\": \"2013-08-20 00:00:00\", \n",
      "  \"status\": [\n",
      "    \"clientDeleteProhibited https://icann.org/epp#clientDeleteProhibited\", \n",
      "    \"clientRenewProhibited https://icann.org/epp#clientRenewProhibited\", \n",
      "    \"clientTransferProhibited https://icann.org/epp#clientTransferProhibited\", \n",
      "    \"clientUpdateProhibited https://icann.org/epp#clientUpdateProhibited\", \n",
      "    \"clientTransferProhibited http://www.icann.org/epp#clientTransferProhibited\", \n",
      "    \"clientUpdateProhibited http://www.icann.org/epp#clientUpdateProhibited\", \n",
      "    \"clientRenewProhibited http://www.icann.org/epp#clientRenewProhibited\", \n",
      "    \"clientDeleteProhibited http://www.icann.org/epp#clientDeleteProhibited\"\n",
      "  ], \n",
      "  \"name\": \"Richard Penman\", \n",
      "  \"dnssec\": \"unsigned\", \n",
      "  \"city\": \"Melbourne\", \n",
      "  \"expiration_date\": [\n",
      "    \"2020-06-26 00:00:00\", \n",
      "    \"2020-06-26 18:01:19\"\n",
      "  ], \n",
      "  \"zipcode\": \"3056-06-24 00:00:00\", \n",
      "  \"domain_name\": \"WEBSCRAPING.COM\", \n",
      "  \"country\": \"AU\", \n",
      "  \"whois_server\": \"whois.godaddy.com\", \n",
      "  \"state\": \"Victoria\", \n",
      "  \"registrar\": \"GoDaddy.com, LLC\", \n",
      "  \"referral_url\": \"http://www.godaddy.com\", \n",
      "  \"address\": \"13/815 Leonard St\", \n",
      "  \"name_servers\": [\n",
      "    \"NS1.WEBFACTION.COM\", \n",
      "    \"NS2.WEBFACTION.COM\", \n",
      "    \"NS3.WEBFACTION.COM\", \n",
      "    \"NS4.WEBFACTION.COM\"\n",
      "  ], \n",
      "  \"org\": null, \n",
      "  \"creation_date\": [\n",
      "    \"2004-06-26 00:00:00\", \n",
      "    \"2004-06-26 18:01:19\"\n",
      "  ], \n",
      "  \"emails\": [\n",
      "    \"abuse@godaddy.com\", \n",
      "    \"contact@webscraping.com\"\n",
      "  ]\n",
      "}\n"
     ]
    }
   ],
   "source": [
    "print whois.whois('http://example.webscraping.com')"
   ]
  },
  {
   "cell_type": "code",
   "execution_count": 6,
   "metadata": {
    "collapsed": true
   },
   "outputs": [],
   "source": [
    "import urllib2\n",
    "def download(url):\n",
    "    return urllib2.urlopen(url).read()"
   ]
  },
  {
   "cell_type": "code",
   "execution_count": 8,
   "metadata": {
    "collapsed": false
   },
   "outputs": [],
   "source": [
    "html = download('http://example.webscraping.com')"
   ]
  },
  {
   "cell_type": "code",
   "execution_count": 9,
   "metadata": {
    "collapsed": true
   },
   "outputs": [],
   "source": [
    "url = 'http://example.webscraping.com/view/UnitedKingdom-239'\n",
    "html = download(url)"
   ]
  },
  {
   "cell_type": "code",
   "execution_count": 10,
   "metadata": {
    "collapsed": false
   },
   "outputs": [
    {
     "data": {
      "text/plain": [
       "['<img src=\"/places/static/images/flags/gb.png\" />',\n",
       " '244,820 square kilometres',\n",
       " '62,348,447',\n",
       " 'GB',\n",
       " 'United Kingdom',\n",
       " 'London',\n",
       " '<a href=\"/continent/EU\">EU</a>',\n",
       " '.uk',\n",
       " 'GBP',\n",
       " 'Pound',\n",
       " '44',\n",
       " '@# #@@|@## #@@|@@# #@@|@@## #@@|@#@ #@@|@@#@ #@@|GIR0AA',\n",
       " '^(([A-Z]\\\\d{2}[A-Z]{2})|([A-Z]\\\\d{3}[A-Z]{2})|([A-Z]{2}\\\\d{2}[A-Z]{2})|([A-Z]{2}\\\\d{3}[A-Z]{2})|([A-Z]\\\\d[A-Z]\\\\d[A-Z]{2})|([A-Z]{2}\\\\d[A-Z]\\\\d[A-Z]{2})|(GIR0AA))$',\n",
       " 'en-GB,cy-GB,gd',\n",
       " '<div><a href=\"/iso/IE\">IE </a></div>']"
      ]
     },
     "execution_count": 10,
     "metadata": {},
     "output_type": "execute_result"
    }
   ],
   "source": [
    "import re\n",
    "re.findall('<td class=\"w2p_fw\">(.*?)</td>',html)"
   ]
  },
  {
   "cell_type": "code",
   "execution_count": null,
   "metadata": {
    "collapsed": true
   },
   "outputs": [],
   "source": [
    "//p[@class=\"row\"]/*/span[@class=\"price\"]"
   ]
  },
  {
   "cell_type": "code",
   "execution_count": 15,
   "metadata": {
    "collapsed": true
   },
   "outputs": [],
   "source": [
    "HTML = r.text"
   ]
  },
  {
   "cell_type": "code",
   "execution_count": 16,
   "metadata": {
    "collapsed": false
   },
   "outputs": [],
   "source": [
    "prices  = (Selector(text=HTML).xpath('//p[@class=\"row\"]/*/span[@class=\"price\"]/text()').extract())\n",
    "\n"
   ]
  },
  {
   "cell_type": "code",
   "execution_count": 25,
   "metadata": {
    "collapsed": false
   },
   "outputs": [],
   "source": [
    "import numpy as np\n",
    "stripped = []\n",
    "for i in prices:\n",
    "    stripped.append(int(i.strip('$')))\n",
    "    "
   ]
  },
  {
   "cell_type": "code",
   "execution_count": 27,
   "metadata": {
    "collapsed": false
   },
   "outputs": [
    {
     "data": {
      "text/plain": [
       "21685.515463917527"
      ]
     },
     "execution_count": 27,
     "metadata": {},
     "output_type": "execute_result"
    }
   ],
   "source": [
    "np.mean(stripped)"
   ]
  },
  {
   "cell_type": "code",
   "execution_count": 28,
   "metadata": {
    "collapsed": false
   },
   "outputs": [
    {
     "data": {
      "text/plain": [
       "97"
      ]
     },
     "execution_count": 28,
     "metadata": {},
     "output_type": "execute_result"
    }
   ],
   "source": [
    "len(stripped)"
   ]
  },
  {
   "cell_type": "code",
   "execution_count": null,
   "metadata": {
    "collapsed": true
   },
   "outputs": [],
   "source": []
  }
 ],
 "metadata": {
  "kernelspec": {
   "display_name": "Python 2",
   "language": "python",
   "name": "python2"
  },
  "language_info": {
   "codemirror_mode": {
    "name": "ipython",
    "version": 2
   },
   "file_extension": ".py",
   "mimetype": "text/x-python",
   "name": "python",
   "nbconvert_exporter": "python",
   "pygments_lexer": "ipython2",
   "version": "2.7.11"
  }
 },
 "nbformat": 4,
 "nbformat_minor": 0
}
