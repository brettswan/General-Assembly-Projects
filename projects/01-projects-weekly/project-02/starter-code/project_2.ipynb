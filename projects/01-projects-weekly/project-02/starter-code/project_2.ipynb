{
 "cells": [
  {
   "cell_type": "markdown",
   "metadata": {
    "focus": true,
    "id": "263eb813-da45-48cf-9a8f-9da76c18e470"
   },
   "source": [
    "# Project 2\n",
    "## Step 1: Exploring your data.\n",
    "\n",
    "##### Load your data in using Pandas and start to explore. Save all of your early exploration code here and include in your final submission."
   ]
  },
  {
   "cell_type": "code",
   "execution_count": 22,
   "metadata": {
    "collapsed": false,
    "focus": false,
    "id": "b733d2fe-6d33-41dd-a3fc-5dfe9d71d91f"
   },
   "outputs": [],
   "source": [
    "import pandas as pd\n",
    "import numpy as np\n",
    "\n",
    "BD = BillboardData = pd.read_csv(\"/Users/davidswan/Desktop/GA WORK/projects/01-projects-weekly/project-02/assets/billboard.csv\")\n"
   ]
  },
  {
   "cell_type": "code",
   "execution_count": 24,
   "metadata": {
    "collapsed": false
   },
   "outputs": [
    {
     "name": "stdout",
     "output_type": "stream",
     "text": [
      "     year               artist.inverted                                track  \\\n",
      "29   2000               Jordan, Montell                   Get It On.. Tonite   \n",
      "30   2000                        N'Sync                          Bye Bye Bye   \n",
      "31   2000                        Eminem                  The Real Slim Shady   \n",
      "32   2000                          Pink                           Most Girls   \n",
      "33   2000               Mumba, Samantha                       Gotta Tell You   \n",
      "34   2000                        Blaque                   Bring It All To Me   \n",
      "35   2000  Elliott, Missy \"Misdemeanor\"                             Hot Boyz   \n",
      "36   2000                    Gray, Macy                                I Try   \n",
      "37   2000                        N'Sync                   This I Promise You   \n",
      "38   2000                     Ruff Endz                              No More   \n",
      "39   2000          Backstreet Boys, The  Show Me The Meaning Of Being Lonely   \n",
      "40   2000                     Nine Days         Absolutely (Story Of A Girl)   \n",
      "41   2000                  Dion, Celine                 That's The Way It Is   \n",
      "42   2000                     Blink-182                 All The Small Things   \n",
      "43   2000                     Eiffel 65                     Blue (Da Ba Dee)   \n",
      "44   2000                  Badu, Erkyah                             Bag Lady   \n",
      "45   2000                          Pink                           There U Go   \n",
      "46   2000                         Creed                               Higher   \n",
      "47   2000                         Nelly           (Hot S**t) Country Grammar   \n",
      "48   2000                          Next                                Wifey   \n",
      "49   2000                       Kenny G   Auld Lang Syne (The Millenium Mix)   \n",
      "50   2000                       Sonique                     It Feels So Good   \n",
      "51   2000               Spears, Britney               Oops!.. I Did It Again   \n",
      "52   2000          Backstreet Boys, The                    Shape Of My Heart   \n",
      "53   2000                     Everclear                            Wonderful   \n",
      "54   2000                       Ja Rule                   Between Me And You   \n",
      "55   2000                  Rimes, LeAnn                           I Need You   \n",
      "56   2000                   Smash Mouth               Then The Morning Comes   \n",
      "57   2000                         Jay-Z   I Just Wanna Love U (Give It 2 Me)   \n",
      "58   2000                   Jagged Edge                    Let's Get Married   \n",
      "..    ...                           ...                                  ...   \n",
      "257  2000                Worley, Darryl                When You Need My Love   \n",
      "258  2000                      Lil' Kim                      How Many Licks?   \n",
      "259  2000                  Clark, Terri                    A Little Gasoline   \n",
      "260  2000                   Brock, Chad            A Country Boy Can Survive   \n",
      "261  2000                  Cagle, Chris               My Love Goes On And On   \n",
      "262  2000                   Byrd, Tracy                Put Your Hand In Mine   \n",
      "263  2000                     Metallica                          I Disappear   \n",
      "264  2000                         Jay-Z                             Hey Papi   \n",
      "265  2000                   Fatboy Slim                The Rockafeller Skank   \n",
      "266  2000                Levert, Gerald                    Mr. Too Damn Good   \n",
      "267  2000               McKnight, Brian                    Stay Or Let It Go   \n",
      "268  2000                   Allan, Gary              Smoke Rings In The Dark   \n",
      "269  2000                      Ginuwine                The Best Man I Can Be   \n",
      "270  2000                   Before Dark                               Monica   \n",
      "271  2000               Estefan, Gloria                No Me Dejes De Querer   \n",
      "272  2000           Stone Temple Pilots                            Sour Girl   \n",
      "273  2000             Montgomery Gentry            Daddy Won't Sell The Farm   \n",
      "274  2000              Cyrus, Billy Ray              You Won't Be Lonely Now   \n",
      "275  2000       Clark Family Experience          Meanwhile Back At The Ranch   \n",
      "276  2000                  Thomas, Carl                          Summer Rain   \n",
      "277  2000              Yearwood, Trisha                      Real Live Woman   \n",
      "278  2000                   Trick Daddy                              Shut Up   \n",
      "279  2000                 Moore, Chante                          Straight Up   \n",
      "280  2000                       Cam'ron          What Means The World To You   \n",
      "281  2000                      Juvenile                         U Understand   \n",
      "282  2000               Hollister, Dave                           Can't Stay   \n",
      "283  2000                         Tamia                    Can't Go For That   \n",
      "284  2000                           LFO                      West Side Story   \n",
      "285  2000                 Paisley, Brad                           Me Neither   \n",
      "286  2000                Carter, Torrey                            Take That   \n",
      "\n",
      "     time        genre date.entered date.peaked  x1st.week  x2nd.week  \\\n",
      "29   4:34          Rap   1999-10-23  2000-02-12         92       80.0   \n",
      "30   3:15         Rock   2000-01-29  2000-04-15         42       20.0   \n",
      "31   4:42          Rap   2000-05-06  2000-06-24         70       32.0   \n",
      "32   4:06         Rock   2000-08-12  2000-11-25         85       70.0   \n",
      "33   3:19         Rock   2000-09-09  2000-12-09         85       72.0   \n",
      "34   3:46          Pop   1999-10-23  2000-01-22         73       63.0   \n",
      "35   3:51          Rap   1999-11-27  2000-01-08         36       21.0   \n",
      "36   3:52         Rock   2000-02-19  2000-05-20         68       51.0   \n",
      "37   4:23         Rock   2000-09-30  2000-12-02         68       31.0   \n",
      "38   3:56         Rock   2000-07-01  2000-09-02         76       38.0   \n",
      "39   3:54         Rock   2000-01-01  2000-03-18         74       62.0   \n",
      "40   3:09         Rock   2000-05-06  2000-07-22         85       71.0   \n",
      "41   4:03         Rock   1999-11-13  2000-03-04         74       68.0   \n",
      "42   2:52         Rock   1999-12-04  2000-02-19         89       76.0   \n",
      "43   3:29  Electronica   1999-12-11  2000-01-29         67       29.0   \n",
      "44   5:03         Rock   2000-08-19  2000-10-07         67       53.0   \n",
      "45   3:23         Rock   2000-03-04  2000-04-08         25       15.0   \n",
      "46   5:16         Rock   1999-09-11  2000-07-22         81       77.0   \n",
      "47   4:17          Rap   2000-04-29  2000-09-16        100       99.0   \n",
      "48   4:03         Rock   2000-05-27  2000-09-09         85       61.0   \n",
      "49   7:50         Jazz   1999-12-25  2000-01-08         89       89.0   \n",
      "50   3:48         Rock   2000-01-22  2000-04-22         67       52.0   \n",
      "51   3:30         Rock   2000-04-22  2000-06-10         67       38.0   \n",
      "52   3:49         Rock   2000-10-14  2000-12-02         39       25.0   \n",
      "53   4:30         Rock   2000-07-08  2000-09-30         77       69.0   \n",
      "54   4:05          Rap   2000-09-16  2000-11-18         85       74.0   \n",
      "55   3:42      Country   2000-05-27  2000-08-12         77       68.0   \n",
      "56   3:04         Rock   1999-10-30  2000-01-29         83       59.0   \n",
      "57   3:50          Rap   2000-10-28  2000-12-30         58       45.0   \n",
      "58   4:23         Rock   2000-05-06  2000-07-29         77       66.0   \n",
      "..    ...          ...          ...         ...        ...        ...   \n",
      "257  3:35      Country   2000-06-17  2000-09-02         98       88.0   \n",
      "258  3:50          Rap   2000-11-25  2000-12-02         79       75.0   \n",
      "259  3:07      Country   2000-12-16  2000-12-16         75       82.0   \n",
      "260  3:54      Country   2000-01-01  2000-01-08         93       75.0   \n",
      "261  3:02      Country   2000-10-21  2000-12-02         99       94.0   \n",
      "262  4:30      Country   2000-01-29  2000-02-12         81       77.0   \n",
      "263  4:26         Rock   2000-05-13  2000-06-17         86       84.0   \n",
      "264  3:40          Rap   2000-08-12  2000-10-07         98      100.0   \n",
      "265  4:00  Electronica   1999-11-13  2000-01-22         94       94.0   \n",
      "266  4:06          R&B   2000-03-18  2000-04-08         84       83.0   \n",
      "267  4:32         Rock   2000-02-26  2000-03-25         95       92.0   \n",
      "268  4:18      Country   2000-01-22  2000-02-05         80       78.0   \n",
      "269  4:06         Rock   2000-01-08  2000-03-04         97       97.0   \n",
      "270  4:04         Rock   2000-05-20  2000-06-17         95       87.0   \n",
      "271  3:25         Rock   2000-06-10  2000-06-10         77        NaN   \n",
      "272  4:16         Rock   2000-07-08  2000-07-29         79       79.0   \n",
      "273  4:18      Country   2000-03-04  2000-03-25         87       83.0   \n",
      "274  3:45      Country   2000-09-23  2000-11-11         97       97.0   \n",
      "275  2:56      Country   2000-11-18  2000-12-16         87       86.0   \n",
      "276  4:57         Rock   2000-09-23  2000-10-14         82       82.0   \n",
      "277  3:55      Country   2000-04-01  2000-04-29         85       83.0   \n",
      "278  4:17          Rap   2000-05-20  2000-06-17         99       95.0   \n",
      "279  3:40         Rock   2000-10-28  2000-12-02         98       98.0   \n",
      "280  4:38          Rap   2000-10-14  2000-11-18         94       94.0   \n",
      "281  3:51          Rap   2000-02-05  2000-02-12         85       83.0   \n",
      "282  6:17         Rock   2000-03-25  2000-03-25         84       84.0   \n",
      "283  3:38         Rock   2000-09-16  2000-09-30         90       86.0   \n",
      "284  3:27         Rock   2000-08-05  2000-08-12         96       84.0   \n",
      "285  3:19      Country   2000-05-13  2000-05-20         87       85.0   \n",
      "286  3:43         Rock   2000-06-24  2000-07-08         94       88.0   \n",
      "\n",
      "     x3rd.week     ...      x67th.week  x68th.week  x69th.week  x70th.week  \\\n",
      "29        72.0     ...             NaN         NaN         NaN         NaN   \n",
      "30        19.0     ...             NaN         NaN         NaN         NaN   \n",
      "31        20.0     ...             NaN         NaN         NaN         NaN   \n",
      "32        52.0     ...             NaN         NaN         NaN         NaN   \n",
      "33        65.0     ...             NaN         NaN         NaN         NaN   \n",
      "34        50.0     ...             NaN         NaN         NaN         NaN   \n",
      "35        13.0     ...             NaN         NaN         NaN         NaN   \n",
      "36        47.0     ...             NaN         NaN         NaN         NaN   \n",
      "37        19.0     ...             NaN         NaN         NaN         NaN   \n",
      "38        19.0     ...             NaN         NaN         NaN         NaN   \n",
      "39        55.0     ...             NaN         NaN         NaN         NaN   \n",
      "40        59.0     ...             NaN         NaN         NaN         NaN   \n",
      "41        65.0     ...             NaN         NaN         NaN         NaN   \n",
      "42        69.0     ...             NaN         NaN         NaN         NaN   \n",
      "43        16.0     ...             NaN         NaN         NaN         NaN   \n",
      "44        42.0     ...             NaN         NaN         NaN         NaN   \n",
      "45        12.0     ...             NaN         NaN         NaN         NaN   \n",
      "46        73.0     ...             NaN         NaN         NaN         NaN   \n",
      "47        96.0     ...             NaN         NaN         NaN         NaN   \n",
      "48        46.0     ...             NaN         NaN         NaN         NaN   \n",
      "49         7.0     ...             NaN         NaN         NaN         NaN   \n",
      "50        30.0     ...             NaN         NaN         NaN         NaN   \n",
      "51        26.0     ...             NaN         NaN         NaN         NaN   \n",
      "52        24.0     ...             NaN         NaN         NaN         NaN   \n",
      "53        53.0     ...             NaN         NaN         NaN         NaN   \n",
      "54        61.0     ...             NaN         NaN         NaN         NaN   \n",
      "55        67.0     ...             NaN         NaN         NaN         NaN   \n",
      "56        56.0     ...             NaN         NaN         NaN         NaN   \n",
      "57        35.0     ...             NaN         NaN         NaN         NaN   \n",
      "58        55.0     ...             NaN         NaN         NaN         NaN   \n",
      "..         ...     ...             ...         ...         ...         ...   \n",
      "257       93.0     ...             NaN         NaN         NaN         NaN   \n",
      "258       77.0     ...             NaN         NaN         NaN         NaN   \n",
      "259       88.0     ...             NaN         NaN         NaN         NaN   \n",
      "260       92.0     ...             NaN         NaN         NaN         NaN   \n",
      "261       94.0     ...             NaN         NaN         NaN         NaN   \n",
      "262       76.0     ...             NaN         NaN         NaN         NaN   \n",
      "263       88.0     ...             NaN         NaN         NaN         NaN   \n",
      "264       98.0     ...             NaN         NaN         NaN         NaN   \n",
      "265       94.0     ...             NaN         NaN         NaN         NaN   \n",
      "266       83.0     ...             NaN         NaN         NaN         NaN   \n",
      "267       82.0     ...             NaN         NaN         NaN         NaN   \n",
      "268       76.0     ...             NaN         NaN         NaN         NaN   \n",
      "269       83.0     ...             NaN         NaN         NaN         NaN   \n",
      "270       80.0     ...             NaN         NaN         NaN         NaN   \n",
      "271        NaN     ...             NaN         NaN         NaN         NaN   \n",
      "272       79.0     ...             NaN         NaN         NaN         NaN   \n",
      "273       81.0     ...             NaN         NaN         NaN         NaN   \n",
      "274       97.0     ...             NaN         NaN         NaN         NaN   \n",
      "275       81.0     ...             NaN         NaN         NaN         NaN   \n",
      "276       86.0     ...             NaN         NaN         NaN         NaN   \n",
      "277       83.0     ...             NaN         NaN         NaN         NaN   \n",
      "278       87.0     ...             NaN         NaN         NaN         NaN   \n",
      "279       97.0     ...             NaN         NaN         NaN         NaN   \n",
      "280       96.0     ...             NaN         NaN         NaN         NaN   \n",
      "281      100.0     ...             NaN         NaN         NaN         NaN   \n",
      "282       93.0     ...             NaN         NaN         NaN         NaN   \n",
      "283       84.0     ...             NaN         NaN         NaN         NaN   \n",
      "284       88.0     ...             NaN         NaN         NaN         NaN   \n",
      "285       90.0     ...             NaN         NaN         NaN         NaN   \n",
      "286       86.0     ...             NaN         NaN         NaN         NaN   \n",
      "\n",
      "     x71st.week  x72nd.week  x73rd.week  x74th.week  x75th.week  x76th.week  \n",
      "29          NaN         NaN         NaN         NaN         NaN         NaN  \n",
      "30          NaN         NaN         NaN         NaN         NaN         NaN  \n",
      "31          NaN         NaN         NaN         NaN         NaN         NaN  \n",
      "32          NaN         NaN         NaN         NaN         NaN         NaN  \n",
      "33          NaN         NaN         NaN         NaN         NaN         NaN  \n",
      "34          NaN         NaN         NaN         NaN         NaN         NaN  \n",
      "35          NaN         NaN         NaN         NaN         NaN         NaN  \n",
      "36          NaN         NaN         NaN         NaN         NaN         NaN  \n",
      "37          NaN         NaN         NaN         NaN         NaN         NaN  \n",
      "38          NaN         NaN         NaN         NaN         NaN         NaN  \n",
      "39          NaN         NaN         NaN         NaN         NaN         NaN  \n",
      "40          NaN         NaN         NaN         NaN         NaN         NaN  \n",
      "41          NaN         NaN         NaN         NaN         NaN         NaN  \n",
      "42          NaN         NaN         NaN         NaN         NaN         NaN  \n",
      "43          NaN         NaN         NaN         NaN         NaN         NaN  \n",
      "44          NaN         NaN         NaN         NaN         NaN         NaN  \n",
      "45          NaN         NaN         NaN         NaN         NaN         NaN  \n",
      "46          NaN         NaN         NaN         NaN         NaN         NaN  \n",
      "47          NaN         NaN         NaN         NaN         NaN         NaN  \n",
      "48          NaN         NaN         NaN         NaN         NaN         NaN  \n",
      "49          NaN         NaN         NaN         NaN         NaN         NaN  \n",
      "50          NaN         NaN         NaN         NaN         NaN         NaN  \n",
      "51          NaN         NaN         NaN         NaN         NaN         NaN  \n",
      "52          NaN         NaN         NaN         NaN         NaN         NaN  \n",
      "53          NaN         NaN         NaN         NaN         NaN         NaN  \n",
      "54          NaN         NaN         NaN         NaN         NaN         NaN  \n",
      "55          NaN         NaN         NaN         NaN         NaN         NaN  \n",
      "56          NaN         NaN         NaN         NaN         NaN         NaN  \n",
      "57          NaN         NaN         NaN         NaN         NaN         NaN  \n",
      "58          NaN         NaN         NaN         NaN         NaN         NaN  \n",
      "..          ...         ...         ...         ...         ...         ...  \n",
      "257         NaN         NaN         NaN         NaN         NaN         NaN  \n",
      "258         NaN         NaN         NaN         NaN         NaN         NaN  \n",
      "259         NaN         NaN         NaN         NaN         NaN         NaN  \n",
      "260         NaN         NaN         NaN         NaN         NaN         NaN  \n",
      "261         NaN         NaN         NaN         NaN         NaN         NaN  \n",
      "262         NaN         NaN         NaN         NaN         NaN         NaN  \n",
      "263         NaN         NaN         NaN         NaN         NaN         NaN  \n",
      "264         NaN         NaN         NaN         NaN         NaN         NaN  \n",
      "265         NaN         NaN         NaN         NaN         NaN         NaN  \n",
      "266         NaN         NaN         NaN         NaN         NaN         NaN  \n",
      "267         NaN         NaN         NaN         NaN         NaN         NaN  \n",
      "268         NaN         NaN         NaN         NaN         NaN         NaN  \n",
      "269         NaN         NaN         NaN         NaN         NaN         NaN  \n",
      "270         NaN         NaN         NaN         NaN         NaN         NaN  \n",
      "271         NaN         NaN         NaN         NaN         NaN         NaN  \n",
      "272         NaN         NaN         NaN         NaN         NaN         NaN  \n",
      "273         NaN         NaN         NaN         NaN         NaN         NaN  \n",
      "274         NaN         NaN         NaN         NaN         NaN         NaN  \n",
      "275         NaN         NaN         NaN         NaN         NaN         NaN  \n",
      "276         NaN         NaN         NaN         NaN         NaN         NaN  \n",
      "277         NaN         NaN         NaN         NaN         NaN         NaN  \n",
      "278         NaN         NaN         NaN         NaN         NaN         NaN  \n",
      "279         NaN         NaN         NaN         NaN         NaN         NaN  \n",
      "280         NaN         NaN         NaN         NaN         NaN         NaN  \n",
      "281         NaN         NaN         NaN         NaN         NaN         NaN  \n",
      "282         NaN         NaN         NaN         NaN         NaN         NaN  \n",
      "283         NaN         NaN         NaN         NaN         NaN         NaN  \n",
      "284         NaN         NaN         NaN         NaN         NaN         NaN  \n",
      "285         NaN         NaN         NaN         NaN         NaN         NaN  \n",
      "286         NaN         NaN         NaN         NaN         NaN         NaN  \n",
      "\n",
      "[258 rows x 83 columns]\n"
     ]
    }
   ],
   "source": [
    "print BD['']"
   ]
  },
  {
   "cell_type": "code",
   "execution_count": 27,
   "metadata": {
    "collapsed": false
   },
   "outputs": [
    {
     "data": {
      "text/plain": [
       "Index([u'year', u'artist.inverted', u'track', u'time', u'genre',\n",
       "       u'date.entered', u'date.peaked', u'x1st.week', u'x2nd.week',\n",
       "       u'x3rd.week', u'x4th.week', u'x5th.week', u'x6th.week', u'x7th.week',\n",
       "       u'x8th.week', u'x9th.week', u'x10th.week', u'x11th.week', u'x12th.week',\n",
       "       u'x13th.week', u'x14th.week', u'x15th.week', u'x16th.week',\n",
       "       u'x17th.week', u'x18th.week', u'x19th.week', u'x20th.week',\n",
       "       u'x21st.week', u'x22nd.week', u'x23rd.week', u'x24th.week',\n",
       "       u'x25th.week', u'x26th.week', u'x27th.week', u'x28th.week',\n",
       "       u'x29th.week', u'x30th.week', u'x31st.week', u'x32nd.week',\n",
       "       u'x33rd.week', u'x34th.week', u'x35th.week', u'x36th.week',\n",
       "       u'x37th.week', u'x38th.week', u'x39th.week', u'x40th.week',\n",
       "       u'x41st.week', u'x42nd.week', u'x43rd.week', u'x44th.week',\n",
       "       u'x45th.week', u'x46th.week', u'x47th.week', u'x48th.week',\n",
       "       u'x49th.week', u'x50th.week', u'x51st.week', u'x52nd.week',\n",
       "       u'x53rd.week', u'x54th.week', u'x55th.week', u'x56th.week',\n",
       "       u'x57th.week', u'x58th.week', u'x59th.week', u'x60th.week',\n",
       "       u'x61st.week', u'x62nd.week', u'x63rd.week', u'x64th.week',\n",
       "       u'x65th.week', u'x66th.week', u'x67th.week', u'x68th.week',\n",
       "       u'x69th.week', u'x70th.week', u'x71st.week', u'x72nd.week',\n",
       "       u'x73rd.week', u'x74th.week', u'x75th.week', u'x76th.week'],\n",
       "      dtype='object')"
      ]
     },
     "execution_count": 27,
     "metadata": {},
     "output_type": "execute_result"
    }
   ],
   "source": [
    "BD.columns"
   ]
  },
  {
   "cell_type": "code",
   "execution_count": 45,
   "metadata": {
    "collapsed": false
   },
   "outputs": [
    {
     "name": "stdout",
     "output_type": "stream",
     "text": [
      "year Type is:  int64\n",
      "artist.inverted Type is:  object\n",
      "track Type is:  object\n",
      "time Type is:  object\n",
      "genre Type is:  object\n",
      "date.entered Type is:  object\n",
      "date.peaked Type is:  object\n",
      "x1st.week Type is:  int64\n",
      "x2nd.week Type is:  float64\n",
      "x3rd.week Type is:  float64\n",
      "x4th.week Type is:  float64\n",
      "x5th.week Type is:  float64\n",
      "x6th.week Type is:  float64\n",
      "x7th.week Type is:  float64\n",
      "x8th.week Type is:  float64\n",
      "x9th.week Type is:  float64\n",
      "x10th.week Type is:  float64\n",
      "x11th.week Type is:  float64\n",
      "x12th.week Type is:  float64\n",
      "x13th.week Type is:  float64\n",
      "x14th.week Type is:  float64\n",
      "x15th.week Type is:  float64\n",
      "x16th.week Type is:  float64\n",
      "x17th.week Type is:  float64\n",
      "x18th.week Type is:  float64\n",
      "x19th.week Type is:  float64\n",
      "x20th.week Type is:  float64\n",
      "x21st.week Type is:  float64\n",
      "x22nd.week Type is:  float64\n",
      "x23rd.week Type is:  float64\n",
      "x24th.week Type is:  float64\n",
      "x25th.week Type is:  float64\n",
      "x26th.week Type is:  float64\n",
      "x27th.week Type is:  float64\n",
      "x28th.week Type is:  float64\n",
      "x29th.week Type is:  float64\n",
      "x30th.week Type is:  float64\n",
      "x31st.week Type is:  float64\n",
      "x32nd.week Type is:  float64\n",
      "x33rd.week Type is:  float64\n",
      "x34th.week Type is:  float64\n",
      "x35th.week Type is:  float64\n",
      "x36th.week Type is:  float64\n",
      "x37th.week Type is:  float64\n",
      "x38th.week Type is:  float64\n",
      "x39th.week Type is:  float64\n",
      "x40th.week Type is:  float64\n",
      "x41st.week Type is:  float64\n",
      "x42nd.week Type is:  float64\n",
      "x43rd.week Type is:  float64\n",
      "x44th.week Type is:  float64\n",
      "x45th.week Type is:  float64\n",
      "x46th.week Type is:  float64\n",
      "x47th.week Type is:  float64\n",
      "x48th.week Type is:  float64\n",
      "x49th.week Type is:  float64\n",
      "x50th.week Type is:  float64\n",
      "x51st.week Type is:  float64\n",
      "x52nd.week Type is:  float64\n",
      "x53rd.week Type is:  float64\n",
      "x54th.week Type is:  float64\n",
      "x55th.week Type is:  float64\n",
      "x56th.week Type is:  float64\n",
      "x57th.week Type is:  float64\n",
      "x58th.week Type is:  float64\n",
      "x59th.week Type is:  float64\n",
      "x60th.week Type is:  float64\n",
      "x61st.week Type is:  float64\n",
      "x62nd.week Type is:  float64\n",
      "x63rd.week Type is:  float64\n",
      "x64th.week Type is:  float64\n",
      "x65th.week Type is:  float64\n",
      "x66th.week Type is:  float64\n",
      "x67th.week Type is:  float64\n",
      "x68th.week Type is:  float64\n",
      "x69th.week Type is:  float64\n",
      "x70th.week Type is:  float64\n",
      "x71st.week Type is:  float64\n",
      "x72nd.week Type is:  float64\n",
      "x73rd.week Type is:  float64\n",
      "x74th.week Type is:  float64\n",
      "x75th.week Type is:  float64\n",
      "x76th.week Type is:  float64\n"
     ]
    }
   ],
   "source": [
    "for i in range(len(BD.columns)):\n",
    "    print BD.columns[i], \"Type is: \", BD[BD.columns[i]].dtype"
   ]
  },
  {
   "cell_type": "markdown",
   "metadata": {
    "focus": false,
    "id": "94514384-cf79-4e7a-a09b-02cddc91e77c"
   },
   "source": [
    "##### Write a brief description of your data, and any interesting observations you've made thus far. "
   ]
  },
  {
   "cell_type": "markdown",
   "metadata": {},
   "source": [
    "It looks like there is a lot of null values for billboard rank as time goes on in the billboard.csv sheet. Billboard.csv contains year, artist name, track,\ttime, genre, date entered into system, date of it's peak on the billboard list, followed by ranking for weeks following the song's release."
   ]
  },
  {
   "cell_type": "markdown",
   "metadata": {},
   "source": []
  },
  {
   "cell_type": "code",
   "execution_count": null,
   "metadata": {
    "collapsed": true,
    "focus": false,
    "id": "33a9e3f0-a29d-4b02-90bd-528bdb44fb78"
   },
   "outputs": [],
   "source": []
  },
  {
   "cell_type": "markdown",
   "metadata": {
    "focus": false,
    "id": "888b6223-3bb4-4d91-b753-4867a3a1b281"
   },
   "source": [
    "## Step 2: Clean your data."
   ]
  },
  {
   "cell_type": "markdown",
   "metadata": {
    "focus": false,
    "id": "8a273328-6d9f-4dfc-88f8-a0c18e4d7f90"
   },
   "source": [
    "##### Do some rudimentary cleaning. Rename any columns that are poorly named, shorten any strings that may be too long, fill in any missing values. Explain your rationale for the way you choose to \"impute\" the missing data."
   ]
  },
  {
   "cell_type": "code",
   "execution_count": null,
   "metadata": {
    "collapsed": true,
    "focus": false,
    "id": "00022458-8edc-4f84-8492-0be04397fa64"
   },
   "outputs": [],
   "source": []
  },
  {
   "cell_type": "markdown",
   "metadata": {
    "focus": false,
    "id": "604ee5d7-10ed-4d14-9f86-16a6b240c00d"
   },
   "source": [
    "##### Using Pandas' built in `melt` function, pivot the weekly ranking data to be long rather than wide. As a result, you will have removed the 72 'week' columns and replace it with two: Week and Ranking. There will now be multiple entries for each song, one for each week on the Billboard rankings."
   ]
  },
  {
   "cell_type": "code",
   "execution_count": null,
   "metadata": {
    "collapsed": true,
    "focus": false,
    "id": "bf0161ca-0fcb-4883-a216-93fd7ffa6456"
   },
   "outputs": [],
   "source": []
  },
  {
   "cell_type": "markdown",
   "metadata": {
    "focus": false,
    "id": "2023c5a8-1f4e-4d83-9a52-c41a5090af74"
   },
   "source": [
    "## Step 3: Visualize your data."
   ]
  },
  {
   "cell_type": "markdown",
   "metadata": {
    "focus": false,
    "id": "dfaca026-8eca-4119-b4c1-e43433790c8e"
   },
   "source": [
    "##### Using a plotting utility of your choice (Tableau or python modules or both), create visualizations that will provide context to your data. There is no minimum or maximum number of graphs you should generate, but there should be a clear and consistent story being told. Give insights to the distribution, statistics, and relationships of the data. "
   ]
  },
  {
   "cell_type": "code",
   "execution_count": null,
   "metadata": {
    "collapsed": true,
    "focus": false,
    "id": "aa0c535c-497c-4f10-b695-540612ca534e"
   },
   "outputs": [],
   "source": []
  },
  {
   "cell_type": "markdown",
   "metadata": {
    "focus": false,
    "id": "8401c631-245b-4560-8971-25cb2406c2ab"
   },
   "source": [
    "## Step 4: Create a Problem Statement.\n",
    "\n",
    "##### Having explored the data, come up with a problem statement for this data set. You can feel free to introduce data from any other source to support your problem statement, just be sure to provide a link to the origin of the data. Once again- be creative!"
   ]
  },
  {
   "cell_type": "code",
   "execution_count": null,
   "metadata": {
    "collapsed": true,
    "focus": false,
    "id": "e1b81214-9b26-4735-8c1b-4482e948b355"
   },
   "outputs": [],
   "source": []
  },
  {
   "cell_type": "markdown",
   "metadata": {
    "collapsed": false,
    "focus": false,
    "id": "a0ff30a0-48be-4851-9ec3-4ce8ece08a67"
   },
   "source": [
    "## Step 5: Brainstorm your Approach.\n",
    "##### In bullet-list form, provide a proposed approach for evaluating your problem statement. This can be somewhat high-level, but start to think about ways you can massage the data for maximum efficacy. "
   ]
  },
  {
   "cell_type": "code",
   "execution_count": null,
   "metadata": {
    "collapsed": true,
    "focus": false,
    "id": "9d772c7b-61e0-4bc4-bb1a-f3d43ba54862"
   },
   "outputs": [],
   "source": []
  },
  {
   "cell_type": "markdown",
   "metadata": {
    "collapsed": true,
    "focus": false,
    "id": "a3c74c5b-3d90-4442-97d9-ae320fe238d1"
   },
   "source": [
    "## Step 6: Create a blog post with your code snippets and visualizations.\n",
    "##### Data Science is a growing field, and the Tech industry thrives off of collaboration and sharing of knowledge. Blogging is a powerful means for pushing the needle forward in our field. Using your blogging platform of choice, create a post describing each of the 5 steps above. Rather than writing a procedural text, imagine you're describing the data, visualizations, and conclusions you've arrived at to your peers. Aim for a minimum of 500 words. "
   ]
  },
  {
   "cell_type": "code",
   "execution_count": null,
   "metadata": {
    "collapsed": true,
    "focus": false,
    "id": "9b0185e4-7023-4086-b8b7-e15bcacc9984"
   },
   "outputs": [],
   "source": []
  },
  {
   "cell_type": "markdown",
   "metadata": {
    "focus": false,
    "id": "aee61cbf-dfe9-40d3-bfef-772a60bed757"
   },
   "source": [
    "## BONUS: The Content Managers working for the Podcast Publishing Company have recognized you as a thought leader in your field. They've asked you to pen a white paper (minimum 500 words) on the subject of 'What It Means To Have Clean Data'. This will be an opinion piece read by a wide audience, so be sure to back up your statements with real world examples or scenarios.\n",
    "\n",
    "##### Hint: To get started, look around on the internet for articles, blog posts, papers, youtube videos, podcasts, reddit discussions, anything that will help you understand the challenges and implications of dealing with big data. This should be a personal reflection on everything you've learned this week, and the learning goals that have been set out for you going forward. "
   ]
  },
  {
   "cell_type": "code",
   "execution_count": null,
   "metadata": {
    "collapsed": true,
    "focus": false,
    "id": "28deb393-c994-47bc-87d2-035741ce527c"
   },
   "outputs": [],
   "source": []
  }
 ],
 "metadata": {
  "kernelspec": {
   "display_name": "Python 2",
   "language": "python",
   "name": "python2"
  },
  "language_info": {
   "codemirror_mode": {
    "name": "ipython",
    "version": 2
   },
   "file_extension": ".py",
   "mimetype": "text/x-python",
   "name": "python",
   "nbconvert_exporter": "python",
   "pygments_lexer": "ipython2",
   "version": "2.7.11"
  }
 },
 "nbformat": 4,
 "nbformat_minor": 0
}
