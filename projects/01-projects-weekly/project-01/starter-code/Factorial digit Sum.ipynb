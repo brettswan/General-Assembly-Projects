{
 "cells": [
  {
   "cell_type": "code",
   "execution_count": 15,
   "metadata": {
    "collapsed": false
   },
   "outputs": [
    {
     "data": {
      "text/plain": [
       "933262154439441526816992388562667004907159682643816214685929638952175999932299156089414639761565182862536979208272237582511852109168640000000000000000000000L"
      ]
     },
     "execution_count": 15,
     "metadata": {},
     "output_type": "execute_result"
    }
   ],
   "source": [
    "def factorial(val):\n",
    "    totalFact = 1\n",
    "    for i in range(1,val):\n",
    "        totalFact *= i\n",
    "    return totalFact\n",
    "\n",
    "factorial(100)"
   ]
  },
  {
   "cell_type": "code",
   "execution_count": 14,
   "metadata": {
    "collapsed": false
   },
   "outputs": [
    {
     "data": {
      "text/plain": [
       "648"
      ]
     },
     "execution_count": 14,
     "metadata": {},
     "output_type": "execute_result"
    }
   ],
   "source": [
    "def digitAddition(number):\n",
    "    strNumber = str(number)\n",
    "    totalAdd = 0\n",
    "    strNumberList = []\n",
    "    for i in range(len(strNumber)):\n",
    "        strNumberList.append(int(strNumber[i]))\n",
    "    for i in strNumberList:\n",
    "        totalAdd += i\n",
    "    return totalAdd\n",
    "digitAddition(362880)\n",
    "\n",
    "def compositeFunc(val):\n",
    "    return digitAddition(factorial(val))\n",
    "\n",
    "compositeFunc(100)"
   ]
  },
  {
   "cell_type": "code",
   "execution_count": null,
   "metadata": {
    "collapsed": true
   },
   "outputs": [],
   "source": []
  }
 ],
 "metadata": {
  "kernelspec": {
   "display_name": "Python 2",
   "language": "python",
   "name": "python2"
  },
  "language_info": {
   "codemirror_mode": {
    "name": "ipython",
    "version": 2
   },
   "file_extension": ".py",
   "mimetype": "text/x-python",
   "name": "python",
   "nbconvert_exporter": "python",
   "pygments_lexer": "ipython2",
   "version": "2.7.11"
  }
 },
 "nbformat": 4,
 "nbformat_minor": 0
}
