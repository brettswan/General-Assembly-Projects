{
 "cells": [
  {
   "cell_type": "code",
   "execution_count": 9,
   "metadata": {
    "collapsed": false
   },
   "outputs": [
    {
     "data": {
      "image/png": "[encoded data removed]",
      "text/plain": [
       "<matplotlib.figure.Figure at 0x10e875c10>"
      ]
     },
     "metadata": {},
     "output_type": "display_data"
    }
   ],
   "source": [
    "radius = [1.0, 2.0, 3.0, 4.0, 5.0, 6.0]\n",
    "area = [3.14159, 12.56636, 28.27431, 50.26544, 78.53975, 113.09724]\n",
    "plt.plot(radius, area, marker = 'o', linestyle = '-', color = 'g')\n",
    "plt.xlabel('Radius')\n",
    "plt.ylabel('Area')\n",
    "plt.title('Area of a Circle')\n",
    "plt.show()"
   ]
  },
  {
   "cell_type": "code",
   "execution_count": 3,
   "metadata": {
    "collapsed": false
   },
   "outputs": [],
   "source": [
    "import numpy as np\n",
    "import scipy as sp\n",
    "import pandas as pd\n",
    "import statsmodels as sm\n",
    "import seaborn as sns\n",
    "\n",
    "\n",
    "x1 = pd.ExcelFile('/Users/davidswan/Downloads/cars_2015_mpg.xlsx')\n",
    "x1.sheet_names\n",
    "df = x1.parse('MPG')\n",
    "\n",
    "sns.set_style('darkgrid')"
   ]
  },
  {
   "cell_type": "code",
   "execution_count": 11,
   "metadata": {
    "collapsed": false
   },
   "outputs": [
    {
     "name": "stdout",
     "output_type": "stream",
     "text": [
      "      YEAR                 MANUFACTURER                          MODEL  \\\n",
      "0     2015                   Alfa Romeo                             4C   \n",
      "1     2015     Aston Martin Lagonda Ltd                  V12 Vantage S   \n",
      "2     2015     Aston Martin Lagonda Ltd                     V8 Vantage   \n",
      "3     2015     Aston Martin Lagonda Ltd                     V8 Vantage   \n",
      "4     2015     Aston Martin Lagonda Ltd                   V8 Vantage S   \n",
      "5     2015     Aston Martin Lagonda Ltd                   V8 Vantage S   \n",
      "6     2015     Aston Martin Lagonda Ltd                     Vantage GT   \n",
      "7     2015     Aston Martin Lagonda Ltd                     Vantage GT   \n",
      "8     2015                         Audi                             R8   \n",
      "9     2015                         Audi                             R8   \n",
      "10    2015                         Audi                             R8   \n",
      "11    2015                         Audi                             R8   \n",
      "12    2015                         Audi                      R8 Spyder   \n",
      "13    2015                         Audi                      R8 Spyder   \n",
      "14    2015                         Audi                      R8 Spyder   \n",
      "15    2015                         Audi                      R8 Spyder   \n",
      "16    2015                         Audi            TT Roadster quattro   \n",
      "17    2015                      Bentley              Continental GT3-R   \n",
      "18    2015                          BMW                   Z4 sDrive28i   \n",
      "19    2015                          BMW                   Z4 sDrive28i   \n",
      "20    2015                          BMW                   Z4 sDrive35i   \n",
      "21    2015                          BMW                  Z4 sDrive35is   \n",
      "22    2015                      Bugatti                         Veyron   \n",
      "23    2015                    Chevrolet                       CORVETTE   \n",
      "24    2015                    Chevrolet                       CORVETTE   \n",
      "25    2015                    Chevrolet                       CORVETTE   \n",
      "26    2015                    Chevrolet                       CORVETTE   \n",
      "27    2015                        Dodge                      Viper SRT   \n",
      "28    2015  Ferrari North America, Inc.                     458 Italia   \n",
      "29    2015  Ferrari North America, Inc.                     458 Italia   \n",
      "...    ...                          ...                            ...   \n",
      "1202  2015                      Lincoln                  Navigator 4WD   \n",
      "1203  2015                      Lincoln                Navigator L 4WD   \n",
      "1204  2015                Mercedes-Benz                          G 550   \n",
      "1205  2015                Mercedes-Benz                       G 63 AMG   \n",
      "1206  2015                Mercedes-Benz          GL 350 BLUETEC 4MATIC   \n",
      "1207  2015                Mercedes-Benz                  GL 450 4MATIC   \n",
      "1208  2015                Mercedes-Benz                  GL 550 4MATIC   \n",
      "1209  2015                Mercedes-Benz                      GL 63 AMG   \n",
      "1210  2015                Mercedes-Benz          ML 250 BLUETEC 4MATIC   \n",
      "1211  2015                Mercedes-Benz                  ML 350 4MATIC   \n",
      "1212  2015                Mercedes-Benz                  ML 350 4MATIC   \n",
      "1213  2015                Mercedes-Benz                  ML 400 4MATIC   \n",
      "1214  2015                Mercedes-Benz                      ML 63 AMG   \n",
      "1215  2015                       NISSAN                     ARMADA 4WD   \n",
      "1216  2015                       NISSAN                     ARMADA 4WD   \n",
      "1217  2015                       NISSAN          PATHFINDER Hybrid 4WD   \n",
      "1218  2015                      Porsche                 Cayenne Diesel   \n",
      "1219  2015                      Porsche                      Cayenne S   \n",
      "1220  2015                      Porsche                  Cayenne Turbo   \n",
      "1221  2015                       TOYOTA                    4RUNNER 4WD   \n",
      "1222  2015                       TOYOTA                    4RUNNER 4WD   \n",
      "1223  2015                       TOYOTA                 HIGHLANDER AWD   \n",
      "1224  2015                       TOYOTA          HIGHLANDER HYBRID AWD   \n",
      "1225  2015                       TOYOTA  HIGHLANDER HYBRID AWD LE Plus   \n",
      "1226  2015                       TOYOTA         LAND CRUISER WAGON 4WD   \n",
      "1227  2015                       TOYOTA                    SEQUOIA 4WD   \n",
      "1228  2015                       TOYOTA                SEQUOIA 4WD FFV   \n",
      "1229  2015                   Volkswagen                        Touareg   \n",
      "1230  2015                   Volkswagen                        Touareg   \n",
      "1231  2015                   Volkswagen                 Touareg Hybrid   \n",
      "\n",
      "      VOLUME  CYLINDERS  GEARS FWD_RWD              DRIVE_DESCR  MPG_CITY  \\\n",
      "0        1.8          4      6       R      2-Wheel Drive, Rear        24   \n",
      "1        6.0         12      7       R      2-Wheel Drive, Rear        12   \n",
      "2        4.7          8      7       R      2-Wheel Drive, Rear        14   \n",
      "3        4.7          8      6       R      2-Wheel Drive, Rear        13   \n",
      "4        4.7          8      7       R      2-Wheel Drive, Rear        14   \n",
      "5        4.7          8      6       R      2-Wheel Drive, Rear        13   \n",
      "6        4.7          8      7       R      2-Wheel Drive, Rear        14   \n",
      "7        4.7          8      6       R      2-Wheel Drive, Rear        13   \n",
      "8        4.2          8      7       A          All Wheel Drive        14   \n",
      "9        4.2          8      6       A          All Wheel Drive        11   \n",
      "10       5.2         10      7       A          All Wheel Drive        13   \n",
      "11       5.2         10      6       A          All Wheel Drive        12   \n",
      "12       4.2          8      7       A          All Wheel Drive        14   \n",
      "13       4.2          8      6       A          All Wheel Drive        11   \n",
      "14       5.2         10      7       A          All Wheel Drive        13   \n",
      "15       5.2         10      6       A          All Wheel Drive        12   \n",
      "16       2.0          4      6       A          All Wheel Drive        22   \n",
      "17       4.0          8      8       A          All Wheel Drive        13   \n",
      "18       2.0          4      8       R      2-Wheel Drive, Rear        22   \n",
      "19       2.0          4      6       R      2-Wheel Drive, Rear        22   \n",
      "20       3.0          6      7       R      2-Wheel Drive, Rear        17   \n",
      "21       3.0          6      7       R      2-Wheel Drive, Rear        17   \n",
      "22       8.0         16      7       A          All Wheel Drive         8   \n",
      "23       6.2          8      8       R      2-Wheel Drive, Rear        16   \n",
      "24       6.2          8      8       R      2-Wheel Drive, Rear        13   \n",
      "25       6.2          8      7       R      2-Wheel Drive, Rear        17   \n",
      "26       6.2          8      7       R      2-Wheel Drive, Rear        15   \n",
      "27       8.4         10      6       R      2-Wheel Drive, Rear        12   \n",
      "28       4.5          8      7       R      2-Wheel Drive, Rear        13   \n",
      "29       4.5          8      7       R      2-Wheel Drive, Rear        13   \n",
      "...      ...        ...    ...     ...                      ...       ...   \n",
      "1202     3.5          6      6       P  Part-time 4-Wheel Drive        15   \n",
      "1203     3.5          6      6       P  Part-time 4-Wheel Drive        15   \n",
      "1204     5.5          8      7       4            4-Wheel Drive        12   \n",
      "1205     5.5          8      7       4            4-Wheel Drive        12   \n",
      "1206     3.0          6      7       4            4-Wheel Drive        19   \n",
      "1207     3.0          6      7       4            4-Wheel Drive        17   \n",
      "1208     4.7          8      7       4            4-Wheel Drive        13   \n",
      "1209     5.5          8      7       4            4-Wheel Drive        13   \n",
      "1210     2.1          4      7       4            4-Wheel Drive        22   \n",
      "1211     3.5          6      7       4            4-Wheel Drive        17   \n",
      "1212     3.5          6      7       4            4-Wheel Drive        17   \n",
      "1213     3.0          6      7       4            4-Wheel Drive        18   \n",
      "1214     5.5          8      7       4            4-Wheel Drive        13   \n",
      "1215     5.6          8      5       4            4-Wheel Drive        12   \n",
      "1216     5.6          8      5       4            4-Wheel Drive        12   \n",
      "1217     2.5          4      1       4            4-Wheel Drive        25   \n",
      "1218     3.0          6      8       A          All Wheel Drive        20   \n",
      "1219     3.6          6      8       A          All Wheel Drive        17   \n",
      "1220     4.8          8      8       A          All Wheel Drive        14   \n",
      "1221     4.0          6      5       A          All Wheel Drive        17   \n",
      "1222     4.0          6      5       P  Part-time 4-Wheel Drive        17   \n",
      "1223     3.5          6      6       A          All Wheel Drive        18   \n",
      "1224     3.5          6      6       A          All Wheel Drive        27   \n",
      "1225     3.5          6      6       A          All Wheel Drive        28   \n",
      "1226     5.7          8      6       4            4-Wheel Drive        13   \n",
      "1227     5.7          8      6       P  Part-time 4-Wheel Drive        13   \n",
      "1228     5.7          8      6       P  Part-time 4-Wheel Drive        13   \n",
      "1229     3.0          6      8       A          All Wheel Drive        20   \n",
      "1230     3.6          6      8       A          All Wheel Drive        17   \n",
      "1231     3.0          6      8       A          All Wheel Drive        20   \n",
      "\n",
      "      MGP_HWY  MPG_COMBINED  CO2_CITY  CO2_HWY  CO2_COMBINED  \n",
      "0          34            28       365      259           317  \n",
      "1          18            14       742      488           628  \n",
      "2          21            16       655      426           552  \n",
      "3          19            15       681      461           582  \n",
      "4          21            16       655      426           552  \n",
      "5          19            15       681      461           582  \n",
      "6          21            16       655      426           552  \n",
      "7          19            15       681      461           582  \n",
      "8          23            17       656      394           538  \n",
      "9          20            14       772      439           622  \n",
      "10         22            16       686      400           557  \n",
      "11         19            14       753      454           618  \n",
      "12         23            17       656      394           538  \n",
      "13         20            14       772      439           622  \n",
      "14         22            16       686      400           557  \n",
      "15         19            14       753      454           618  \n",
      "16         31            26       395      284           345  \n",
      "17         23            17       663      379           535  \n",
      "18         33            26       403      266           341  \n",
      "19         34            26       400      259           337  \n",
      "20         24            20       518      376           454  \n",
      "21         24            20       518      376           454  \n",
      "22         15            10      1050      599           847  \n",
      "23         29            20       553      305           441  \n",
      "24         21            16       665      415           552  \n",
      "25         29            21       517      310           424  \n",
      "26         22            18       589      399           503  \n",
      "27         21            15       725      419           587  \n",
      "28         17            15       688      520           612  \n",
      "29         17            14       701      525           622  \n",
      "...       ...           ...       ...      ...           ...  \n",
      "1202       20            17       611      446           537  \n",
      "1203       19            16       611      467           546  \n",
      "1204       15            13       756      601           686  \n",
      "1205       14            13       754      624           696  \n",
      "1206       26            22       533      391           469  \n",
      "1207       21            19       526      423           480  \n",
      "1208       18            15       660      498           587  \n",
      "1209       17            14       686      527           615  \n",
      "1210       29            25       462      354           413  \n",
      "1211       22            19       506      396           456  \n",
      "1212       22            19       506      396           456  \n",
      "1213       22            20       496      403           454  \n",
      "1214       17            15       681      525           611  \n",
      "1215       18            14       722      508           626  \n",
      "1216       18            14       725      508           628  \n",
      "1217       27            26       355      324           342  \n",
      "1218       29            23       517      351           442  \n",
      "1219       24            20       525      363           452  \n",
      "1220       21            17       629      425           537  \n",
      "1221       21            18       531      414           478  \n",
      "1222       21            18       531      414           478  \n",
      "1223       24            20       492      369           437  \n",
      "1224       28            28       321      316           319  \n",
      "1225       28            28       314      312           313  \n",
      "1226       18            15       677      498           596  \n",
      "1227       17            14       700      515           617  \n",
      "1228       17            14       697      510           613  \n",
      "1229       29            23       517      351           442  \n",
      "1230       23            19       520      391           462  \n",
      "1231       24            21       447      372           413  \n",
      "\n",
      "[1232 rows x 14 columns]\n"
     ]
    }
   ],
   "source": [
    "df = pd.read_excel(\"/Users/davidswan/Downloads/cars_2015_mpg.xlsx\")\n",
    "print df"
   ]
  },
  {
   "cell_type": "code",
   "execution_count": 24,
   "metadata": {
    "collapsed": false
   },
   "outputs": [
    {
     "data": {
      "text/plain": [
       "Index([u'YEAR', u'MANUFACTURER', u'MODEL', u'VOLUME', u'CYLINDERS', u'GEARS',\n",
       "       u'FWD_RWD', u'DRIVE_DESCR', u'MPG_CITY', u'MGP_HWY', u'MPG_COMBINED',\n",
       "       u'CO2_CITY', u'CO2_HWY', u'CO2_COMBINED'],\n",
       "      dtype='object')"
      ]
     },
     "execution_count": 24,
     "metadata": {},
     "output_type": "execute_result"
    }
   ],
   "source": [
    "df.columns"
   ]
  },
  {
   "cell_type": "code",
   "execution_count": 5,
   "metadata": {
    "collapsed": false
   },
   "outputs": [
    {
     "name": "stderr",
     "output_type": "stream",
     "text": [
      "/Users/davidswan/anaconda/lib/python2.7/site-packages/matplotlib/tight_layout.py:222: UserWarning: tight_layout : falling back to Agg renderer\n",
      "  warnings.warn(\"tight_layout : falling back to Agg renderer\")\n"
     ]
    },
    {
     "data": {
      "text/plain": [
       "<seaborn.axisgrid.PairGrid at 0x106018710>"
      ]
     },
     "execution_count": 5,
     "metadata": {},
     "output_type": "execute_result"
    }
   ],
   "source": [
    "#iris = sns.load_dataset(df)\n",
    "#df = pd.read_excel(\"/Users/davidswan/Downloads/cars_2015_mpg.xlsx\")\n",
    "#sns.pairplot(df, kind= 'reg', markers = '+', hue = 'MANUFACTURER')"
   ]
  },
  {
   "cell_type": "code",
   "execution_count": 15,
   "metadata": {
    "collapsed": false
   },
   "outputs": [
    {
     "data": {
      "text/plain": [
       "<seaborn.axisgrid.PairGrid at 0x173988710>"
      ]
     },
     "execution_count": 15,
     "metadata": {},
     "output_type": "execute_result"
    }
   ],
   "source": [
    "df = pd.read_excel(\"/Users/davidswan/Downloads/cars_2015_mpg.xlsx\")\n",
    "sns.set_style('darkgrid')\n",
    "sns.pairplot(df, kind= 'reg', markers = '+')"
   ]
  },
  {
   "cell_type": "code",
   "execution_count": null,
   "metadata": {
    "collapsed": true
   },
   "outputs": [],
   "source": []
  }
 ],
 "metadata": {
  "kernelspec": {
   "display_name": "Python 2",
   "language": "python",
   "name": "python2"
  },
  "language_info": {
   "codemirror_mode": {
    "name": "ipython",
    "version": 2
   },
   "file_extension": ".py",
   "mimetype": "text/x-python",
   "name": "python",
   "nbconvert_exporter": "python",
   "pygments_lexer": "ipython2",
   "version": "2.7.11"
  }
 },
 "nbformat": 4,
 "nbformat_minor": 0
}
