{
 "cells": [
  {
   "cell_type": "code",
   "execution_count": 8,
   "metadata": {
    "collapsed": false
   },
   "outputs": [
    {
     "data": {
      "text/plain": [
       "[[{'January': 31},\n",
       "  {'February': 28},\n",
       "  {'March': 31},\n",
       "  {'April': 30},\n",
       "  {'May': 31},\n",
       "  {'June': 30},\n",
       "  {'September': 30},\n",
       "  {'October': 31},\n",
       "  {'November': 30},\n",
       "  {'December': 31}]]"
      ]
     },
     "execution_count": 8,
     "metadata": {},
     "output_type": "execute_result"
    }
   ],
   "source": [
    "'''\n",
    "Week 3 Tuesday Code Challenge \n",
    "You are given the following information, \n",
    "but you may prefer to do some research for yourself.\n",
    "    1 Jan 1900 was a Monday.\n",
    "    Thirty days has September,\n",
    "    April, June and November.\n",
    "    All the rest have thirty-one,\n",
    "    Saving February alone,\n",
    "    Which has twenty-eight, rain or shine.\n",
    "    And on leap years, twenty-nine.\n",
    "    A leap year occurs on any year evenly divisible by 4, but not on a century unless it is divisible by 400.\n",
    "How many Sundays fell on the first of the month \n",
    "during the twentieth century (1 Jan 1901 to 31 Dec 2000)?\n",
    "Starter Code:'''\n",
    "import pandas as pd\n",
    "from datetime import timedelta, date\n",
    "def generate_first_sundays(start_date, end_date):\n",
    "    pass\n",
    "start_date = date(1901, 1, 1)\n",
    "end_date = date(2000, 12, 31)\n",
    "#assert(generate_first_sundays(start_date, end_date)) == 171\n",
    "MonthList = []\n",
    "DaysList = ['Mon', 'Tues', 'Wed', 'Thur', 'Fri', 'Sat', 'Sun']\n",
    "MonthList.append([{'January':31}, {'February':28}, {'March':31}, {'April':30}, {'May':31}, {'June':30}, {'September': 30}, {'October':31} , {'November':30}, {'December':31}])\n",
    "MonthList"
   ]
  },
  {
   "cell_type": "code",
   "execution_count": 12,
   "metadata": {
    "collapsed": false
   },
   "outputs": [
    {
     "name": "stdout",
     "output_type": "stream",
     "text": [
      "[31]\n"
     ]
    }
   ],
   "source": [
    "for year in range(1900, 2000):\n",
    "    for month in MonthList[0]:\n",
    "        for day in DaysList:\n",
    "            print "
   ]
  },
  {
   "cell_type": "code",
   "execution_count": null,
   "metadata": {
    "collapsed": true
   },
   "outputs": [],
   "source": [
    "def generate_first_sundays(start_date, end_date):\n",
    "    i = pd.date_range(start_date, end_date, freq = 'w', )"
   ]
  }
 ],
 "metadata": {
  "kernelspec": {
   "display_name": "Python 2",
   "language": "python",
   "name": "python2"
  },
  "language_info": {
   "codemirror_mode": {
    "name": "ipython",
    "version": 2
   },
   "file_extension": ".py",
   "mimetype": "text/x-python",
   "name": "python",
   "nbconvert_exporter": "python",
   "pygments_lexer": "ipython2",
   "version": "2.7.11"
  }
 },
 "nbformat": 4,
 "nbformat_minor": 0
}
