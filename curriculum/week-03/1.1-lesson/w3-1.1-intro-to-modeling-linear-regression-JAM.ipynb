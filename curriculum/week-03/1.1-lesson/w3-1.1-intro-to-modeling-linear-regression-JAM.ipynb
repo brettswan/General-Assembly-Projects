{
 "cells": [
  {
   "cell_type": "code",
   "execution_count": 1,
   "metadata": {
    "collapsed": false,
    "slideshow": {
     "slide_type": "skip"
    }
   },
   "outputs": [
    {
     "name": "stdout",
     "output_type": "stream",
     "text": [
      "/Users/jam3jam/dsi/DSI-SF-1/curriculum/week-03/1.1-intro-to-linear-regression/slides\r\n"
     ]
    }
   ],
   "source": [
    "from IPython.display import Image, display, HTML\n",
    "!pwd"
   ]
  },
  {
   "cell_type": "markdown",
   "metadata": {
    "slideshow": {
     "slide_type": "slide"
    }
   },
   "source": [
    "<img src=\"https://ga-dash.s3.amazonaws.com/production/assets/logo-9f88ae6c9c3871690e33280fcf557f33.png\" style=\"float: left; margin: 15px\">\n",
    "# Intro to Modeling: Linear Regression\n",
    "***\n",
    "Week 3 | Lesson 1.1\n",
    "\n",
    "### LEARNING OBJECTIVES\n",
    "*After this lesson, you will be able to:*\n",
    "- Define the terms: modeling, prediction\n",
    "- Find the best fit line by hand\n",
    "- Explore linear relationships with plotting"
   ]
  },
  {
   "cell_type": "markdown",
   "metadata": {
    "slideshow": {
     "slide_type": "skip"
    }
   },
   "source": [
    "### LESSON GUIDE\n",
    "| TIMING  | TYPE  | TOPIC  |\n",
    "|:-:|---|---|\n",
    "| 5 min  | [Opening](#opening)  | Topic description  |\n",
    "| 10 min  | [Introduction](#introduction)   | Topic description  |\n",
    "| 15 min  | [Demo](#demo)  | Topic description  |\n",
    "| 25 min  | [Guided Practice](#guided-practice<a name=\"opening\"></a>)  | Topic description  |\n",
    "| 25 min  | [Independent Practice](#ind-practice)  | Topic description  |\n",
    "| 5 min  | [Conclusion](#conclusion)  | Topic description  |\n",
    "\n",
    "---"
   ]
  },
  {
   "cell_type": "markdown",
   "metadata": {
    "slideshow": {
     "slide_type": "slide"
    }
   },
   "source": [
    "> <span style=\"font-size: 24pt;\">\"It Is A Capital Mistake To Theorize Before One Has Data. Insensibly One Begins To Twist Facts To Suit Theories, Instead Of Theories To Suit Facts.\"</span>\n",
    "\n",
    ">     Arthur Conan Doyle, Sherlock Holmes"
   ]
  },
  {
   "cell_type": "markdown",
   "metadata": {
    "collapsed": true,
    "slideshow": {
     "slide_type": "slide"
    }
   },
   "source": [
    "# Preface!\n",
    "\n",
    "As data scientists:\n",
    "    \n",
    "- We find relationships between variables using statistical and mathmatical techniques\n",
    "- We use _modeling_ to explore these relationships\n",
    "- _linear regression_ is an extremely common technique for modeling relationships"
   ]
  },
  {
   "cell_type": "markdown",
   "metadata": {
    "slideshow": {
     "slide_type": "slide"
    }
   },
   "source": [
    "<span style=\"font-size: 45pt;\">\n",
    "$$ \n",
    "y_{i} = \\alpha + \\beta x_{i} + \\mu_{i}\n",
    "$$\n",
    "</span>"
   ]
  },
  {
   "cell_type": "markdown",
   "metadata": {
    "slideshow": {
     "slide_type": "fragment"
    }
   },
   "source": [
    "\n",
    "\n",
    "<span style=\"font-size: 40pt;\">\n",
    "$$ \n",
    "Q = \\sum^{n}_{i=1}\\left (  y_{i} - \\hat{\\alpha}\\ - \\hat{\\beta} x_{i} \\right )^{2}\n",
    "$$\n",
    "</span>"
   ]
  },
  {
   "cell_type": "markdown",
   "metadata": {
    "slideshow": {
     "slide_type": "slide"
    }
   },
   "source": [
    "## What are some ways we have broadly or specifically used linear regression?"
   ]
  },
  {
   "cell_type": "markdown",
   "metadata": {
    "slideshow": {
     "slide_type": "notes"
    }
   },
   "source": [
    "_Note:  List/explore/whiteboard examples from excited crowd_"
   ]
  },
  {
   "cell_type": "markdown",
   "metadata": {
    "slideshow": {
     "slide_type": "slide"
    }
   },
   "source": [
    "# Time/Direction Example\n",
    "\n",
    "When we drive a constant speed in a single direction, what happens?"
   ]
  },
  {
   "cell_type": "markdown",
   "metadata": {
    "slideshow": {
     "slide_type": "fragment"
    }
   },
   "source": [
    "\n",
    "**When you drive at a constant speed `s` for `t` hours, the distance you travel is**\n",
    "\n",
    "<span style=\"font-size: 50pt;\">\n",
    "$$ \n",
    "d = st \n",
    "$$\n",
    "</span>"
   ]
  },
  {
   "cell_type": "markdown",
   "metadata": {},
   "source": [
    "* The quantities of distance and time are in a **linear relationship**\n",
    "because the graph is a line with **slope (rate) `s`**.\n",
    "* This equation is a **model** between the **distance travelled** and the **time travelled**."
   ]
  },
  {
   "cell_type": "markdown",
   "metadata": {
    "slideshow": {
     "slide_type": "slide"
    }
   },
   "source": [
    "## The Mobile Developer Salary Example\n",
    "\n",
    "Do mobile developers get paid more, the more experience they have? Yes!  Let's assume a standard constant when we consdier the following:\n",
    "<br><br>\n",
    "<details> \n",
    "  <summary>Over `y` years, how much might a developers salary (`s`) increase? </summary>\n",
    "  <br><br><br>\n",
    "  <span style=\"font-size: 35pt\">\n",
    "  $$\n",
    "      y = sd\n",
    "  $$\n",
    "  </span>\n",
    "</details>\n"
   ]
  },
  {
   "cell_type": "markdown",
   "metadata": {
    "slideshow": {
     "slide_type": "slide"
    }
   },
   "source": [
    "## The Orange Juice Example\n",
    "\n",
    "We drink a glass of orange juice every day, from a bottle that holds 8 glasses.\n",
    "<br><br>\n",
    "<details> \n",
    "  <summary>In `d` days, how much of a bottle of juice (`j`) do we drink? </summary>\n",
    "  <br>\n",
    "  \n",
    "<span style=\"font-size: 35pt\">\n",
    "  $$\n",
    "      j = (1/8) * d\n",
    "  $$\n",
    "</span>\n",
    "</details>\n"
   ]
  },
  {
   "cell_type": "markdown",
   "metadata": {
    "slideshow": {
     "slide_type": "slide"
    }
   },
   "source": [
    "## Intro: Linear Relationships\n",
    "\n",
    "Because we use rates to commonly understand natural processes, linear\n",
    "relationships are ubiquitous in our lives and our data. We don't always know\n",
    "how two quantities are related. Linear regression is a way to determine the\n",
    "relationship from a set of data.\n",
    "\n",
    "* Models are relationships between quantities\n",
    "* Linear regression is a method to determine the coefficients of linear\n",
    "relationships\n",
    "\n",
    "![](http://www.comfsm.fm/~dleeling/statistics/relationships.gif)"
   ]
  },
  {
   "cell_type": "markdown",
   "metadata": {
    "slideshow": {
     "slide_type": "notes"
    }
   },
   "source": [
    "_note:  We might not always know the relationship, but we can use linear regression to measure our observations, as a basic construct._"
   ]
  },
  {
   "cell_type": "markdown",
   "metadata": {
    "slideshow": {
     "slide_type": "slide"
    }
   },
   "source": [
    "## Prediction\n",
    "\n",
    "**With a model we can make _predictions.**\n",
    "\n",
    "35 miles per hour for 2 hours then I predict that you will travel ?? miles.\n",
    "\n",
    "<br><br>\n",
    "\n",
    "<div style=\"font-size: 50pt;\">\n",
    "$$\n",
    "d=st\n",
    "$$\n",
    "</div>"
   ]
  },
  {
   "cell_type": "markdown",
   "metadata": {
    "slideshow": {
     "slide_type": "fragment"
    }
   },
   "source": [
    "<div style=\"font-size: 20pt;\">\n",
    "$$\n",
    "distance = 35 miles * 2 hours\n",
    "$$\n",
    "</div>"
   ]
  },
  {
   "cell_type": "markdown",
   "metadata": {
    "slideshow": {
     "slide_type": "fragment"
    }
   },
   "source": [
    "<div style=\"font-size: 20pt;\">\n",
    "$$\n",
    "mph 35 * 2 hours = 70 miles\n",
    "$$\n",
    "</div>"
   ]
  },
  {
   "cell_type": "markdown",
   "metadata": {
    "slideshow": {
     "slide_type": "slide"
    }
   },
   "source": [
    "> <span style=\"font-size: 30pt;\">Perfectly straight lines are 100% predictable.  Real-life isn't so black and white...<br><br></span> -Linear Regression of real life data\n",
    "\n"
   ]
  },
  {
   "cell_type": "markdown",
   "metadata": {
    "slideshow": {
     "slide_type": "notes"
    }
   },
   "source": [
    "_Imagine if you speed up or slow down several times when your driving?  What is the impact?  If we also want to consider direction, what if we're not driving in perfectly straight lines?_"
   ]
  },
  {
   "cell_type": "markdown",
   "metadata": {
    "slideshow": {
     "slide_type": "slide"
    }
   },
   "source": [
    "## Predictions Don't Have to Be Accurate to be Useful\n",
    "\n",
    "In general our models are not so precise if the relationship between our quantities are not perfect, but we can still make a reasonable guess using our models.\n",
    "\n",
    "* They have to generalize well to be useful\n",
    "* Real life data comes installed with lots of unexpected variation\n",
    "* Nothing in life is 100% certain, not even relationships (insert pun about human relationships)\n",
    "\n",
    "\n"
   ]
  },
  {
   "cell_type": "markdown",
   "metadata": {
    "slideshow": {
     "slide_type": "slide"
    }
   },
   "source": [
    "## Discussion:\n",
    "\n",
    "> Consider owning a movie theater and the problem of predicting how many employee's you may need to schedule.  What are some ways prediction could help for business?"
   ]
  },
  {
   "cell_type": "markdown",
   "metadata": {
    "slideshow": {
     "slide_type": "slide"
    }
   },
   "source": [
    "### Follow up\n",
    "\n",
    "For example, if you own a movie theatre, you need need to make sure you have enough\n",
    "staff on nights and weekends to handle the increased number of patrons. A model\n",
    "to **predict how many movie-goers will show up on a given night** will help you\n",
    "predict the amount of employees that you'll need -- enough to handle the customers\n",
    "but not too many so that you keep labor costs reasonable. \n",
    "\n",
    "\n",
    "\n"
   ]
  },
  {
   "cell_type": "markdown",
   "metadata": {
    "slideshow": {
     "slide_type": "fragment"
    }
   },
   "source": [
    "Too few employees and you won't be able to serve all the customers; too many and you've spent too much\n",
    "on labor. The better the estimate the better your business runs, and even if\n",
    "the estimate is off a bit you are still more prepared than if you had no\n",
    "model at all."
   ]
  },
  {
   "cell_type": "markdown",
   "metadata": {
    "slideshow": {
     "slide_type": "slide"
    }
   },
   "source": [
    "### Follow up...\n",
    "\n",
    "Similarly, other models might **predict**:\n",
    "- **How much** inventory to **stock**\n",
    "- **How much** a component or raw material will **cost** during **different times of year**\n",
    "- The **percentage of voters** that will show up in various **weather conditions** \n",
    "- and just about anything else\n",
    "\n",
    "With models we can make predictions.  Good predictions are extremely valuable for a wide variety of purposes"
   ]
  },
  {
   "cell_type": "markdown",
   "metadata": {
    "slideshow": {
     "slide_type": "slide"
    }
   },
   "source": [
    "# Linear Regression By Eye\n",
    "\n",
    "One way we can approximate a slope, is by drawing a line seperating a set of datapoints approximately, then calculating the intercept and slope using a simple equation:\n",
    "\n",
    "$$ y = mx + b $$\n",
    "\n",
    "The basic steps:\n",
    "\n",
    " - Split the data in half\n",
    " - Draw a line\n",
    " - Find the intercept \"b\"\n",
    " - Calculate the slope (the increase in y / increase in x)\n",
    "\n"
   ]
  },
  {
   "cell_type": "markdown",
   "metadata": {
    "slideshow": {
     "slide_type": "slide"
    }
   },
   "source": [
    "Let's consider the points (0,1) and (2,2). "
   ]
  },
  {
   "cell_type": "code",
   "execution_count": 9,
   "metadata": {
    "collapsed": false
   },
   "outputs": [
    {
     "data": {
      "text/plain": [
       "[<matplotlib.lines.Line2D at 0x109a8ee10>]"
      ]
     },
     "execution_count": 9,
     "metadata": {},
     "output_type": "execute_result"
    },
    {
     "data": {
      "image/png": "[encoded data removed]",
      "text/plain": [
       "<matplotlib.figure.Figure at 0x109ac2310>"
      ]
     },
     "metadata": {},
     "output_type": "display_data"
    }
   ],
   "source": [
    "import matplotlib.pyplot as plt\n",
    "%matplotlib inline\n",
    "# (x0, x1), (y0, y1)\n",
    "data = [[0,2], [1, 2]]\n",
    "plt.plot(data[0], data[1], \"k-\")\n",
    "plt.plot(data[0], data[1], \"o\")"
   ]
  },
  {
   "cell_type": "markdown",
   "metadata": {
    "slideshow": {
     "slide_type": "slide"
    }
   },
   "source": [
    "We can find the slope by taking the difference of _x_ points / difference in _y_ points:\n",
    "\n",
    "$$ \\frac{y_0-y_1}{x_0-x_1} $$ \n",
    "\n",
    "With our points **[0,1] and [2,2]** respectively, we should have something that looks like this:\n",
    "\n",
    "$$ \\frac{1-2}{0-2} $$\n",
    "\n",
    "Our slope ends up being:\n",
    "\n",
    "$$ .5 $$\n",
    "\n",
    "Completing our equation _(intercept is 1, where the x crosses the y boundary)_:\n",
    "\n",
    "$$ y = .5x + 1 $$"
   ]
  },
  {
   "cell_type": "markdown",
   "metadata": {
    "slideshow": {
     "slide_type": "slide"
    }
   },
   "source": [
    "## With a partner, fit a line manually to the following dataset, and report back.\n",
    "\n",
    "Use this dataset:\n",
    "[1,2.5], [1.5,3.5], [2,3.0], [3,3], [4, 5.2], [5, 4.5], [6, 5.9]\n",
    "\n",
    "We will compare results."
   ]
  },
  {
   "cell_type": "code",
   "execution_count": 11,
   "metadata": {
    "collapsed": false
   },
   "outputs": [
    {
     "data": {
      "text/plain": [
       "<matplotlib.axes._subplots.AxesSubplot at 0x10f6f2bd0>"
      ]
     },
     "execution_count": 11,
     "metadata": {},
     "output_type": "execute_result"
    },
    {
     "data": {
      "image/png": "[encoded data removed]",
      "text/plain": [
       "<matplotlib.figure.Figure at 0x10f6f24d0>"
      ]
     },
     "metadata": {},
     "output_type": "display_data"
    }
   ],
   "source": [
    "import pandas as pd\n",
    "sample_data = [[1,2.5], [1.5,3.5], [2,3.0], [3,3], [4, 5.2], [5, 4.5], [6, 5.9]]\n",
    "pd.DataFrame(sample_data).plot(kind=\"scatter\", x=0, y=1, figsize=(10, 5))"
   ]
  },
  {
   "cell_type": "markdown",
   "metadata": {
    "slideshow": {
     "slide_type": "slide"
    }
   },
   "source": [
    "## Simple linear regression\n",
    "\n",
    "Simple linear regression is an approach for predicting a **continuous response** using a **single feature**. It takes the following form:\n",
    "\n",
    "$y = \\beta_0 + \\beta_1x$\n",
    "\n",
    "- $y$ is the response\n",
    "- $x$ is the feature\n",
    "- $\\beta_0$ is the intercept\n",
    "- $\\beta_1$ is the coefficient for x\n",
    "\n",
    "$\\beta_0$ and $\\beta_1$ are called the **model coefficients**:\n",
    "\n",
    "- We must \"learn\" the values of these coefficients to create our model.\n",
    "- And once we've learned these coefficients, we can use the model to predict **something**.\n"
   ]
  },
  {
   "cell_type": "markdown",
   "metadata": {
    "slideshow": {
     "slide_type": "slide"
    }
   },
   "source": [
    "[Wikipedia](https://en.wikipedia.org/wiki/Simple_linear_regression) has a great explanation about how to get the best fit line from the least squares method.  \n",
    "\n",
    "_In other words, α (the y-intercept) and β (the slope)._\n",
    "\n",
    "![Best fit coefficients](https://upload.wikimedia.org/math/e/e/d/eed68731d1230938d457c576deee1bcf.png)\n",
    "\n",
    "Looks messy.  This is the fun part of statistics.  Generally, you don't want to calculate these by hand.  [Check this out if you want to do that.  Highly recommended.](https://www.youtube.com/watch?v=1C3olrs1CUw)"
   ]
  },
  {
   "cell_type": "markdown",
   "metadata": {
    "slideshow": {
     "slide_type": "slide"
    }
   },
   "source": [
    "## Estimating (\"learning\") model coefficients\n",
    "- Coefficients are estimated during the model fitting process using the least squares criterion.\n",
    "- We are find the line (mathematically) which minimizes the sum of squared residuals (or \"sum of squared errors\").\n",
    "\n",
    "![](https://snag.gy/9R57Or.jpg)\n",
    "\n",
    "_Residuals: The difference between the observed value of the dependent variable (y) and the predicted value (ŷ) is called the residual (e). Each data point has one residual._"
   ]
  },
  {
   "cell_type": "markdown",
   "metadata": {
    "slideshow": {
     "slide_type": "slide"
    }
   },
   "source": [
    "![](https://snag.gy/Ymsu2T.jpg)\n",
    "\n",
    "**How do the model coefficients relate to the least squares line?**\n",
    " - β0 is the intercept (the value of y when x=0)\n",
    " - β1 is the slope (the change in y divided by change in x)"
   ]
  },
  {
   "cell_type": "markdown",
   "metadata": {
    "slideshow": {
     "slide_type": "slide"
    }
   },
   "source": [
    "# Regplots to Discover Linear Relationships\n",
    "\n",
    "Plotting variables against each other is an important step to consider when exploring relationships.  Pairplots are very useful for this reason, but to get better at plotting with Seaborn and matplotlib, it's good practice to get better at using these tools and extended visual elements.\n",
    "\n",
    "Here's a quick demo of Seaborn's regplot.\n"
   ]
  },
  {
   "cell_type": "markdown",
   "metadata": {
    "slideshow": {
     "slide_type": "notes"
    }
   },
   "source": [
    "_Note: It's important to review linear relationships as they help us determine common sense statistical power with regards to our repsonse prediction.  We will get into this as we dive deeper into linear regression in the near future._"
   ]
  },
  {
   "cell_type": "code",
   "execution_count": 12,
   "metadata": {
    "collapsed": false,
    "slideshow": {
     "slide_type": "slide"
    }
   },
   "outputs": [
    {
     "name": "stderr",
     "output_type": "stream",
     "text": [
      "/Users/jam3jam/anaconda/lib/python2.7/site-packages/matplotlib/__init__.py:872: UserWarning: axes.color_cycle is deprecated and replaced with axes.prop_cycle; please use the latter.\n",
      "  warnings.warn(self.msg_depr % (key, alt_key))\n"
     ]
    }
   ],
   "source": [
    "import pandas as pd, seaborn as sns\n",
    "%matplotlib inline"
   ]
  },
  {
   "cell_type": "code",
   "execution_count": 13,
   "metadata": {
    "collapsed": false
   },
   "outputs": [
    {
     "name": "stdout",
     "output_type": "stream",
     "text": [
      "Data:  [[ 60.    3.1]\n",
      " [ 61.    3.6]\n",
      " [ 62.    3.8]\n",
      " [ 63.    4. ]\n",
      " [ 65.    4.1]]\n",
      "Number of samples: 2\n"
     ]
    },
    {
     "data": {
      "image/png": "[encoded data removed]",
      "text/plain": [
       "<matplotlib.figure.Figure at 0x10defd9d0>"
      ]
     },
     "metadata": {},
     "output_type": "display_data"
    }
   ],
   "source": [
    "# Our sample data\n",
    "x = (60, 61, 62, 63, 65)\n",
    "y = (3.1, 3.6, 3.8, 4, 4.1)\n",
    "\n",
    "sample_data = zip(x, y)\n",
    "df = pd.DataFrame(sample_data, columns=[\"x\", \"y\"])\n",
    "\n",
    "my_plot = df.plot(kind=\"scatter\", x=\"x\", y=\"y\", title=\"Sample Data\", figsize=(10, 5))\n",
    "\n",
    "# Add value markers because it's nice to have a visual reference to data points\n",
    "for point in sample_data:\n",
    "    my_plot.text(point[0] + .2, point[1] - .02, str(point))\n",
    "\n",
    "sns.regplot(x=\"x\", y=\"y\", data=df)\n",
    "print \"Data: \", df.values\n",
    "print \"Number of samples:\", len(data)"
   ]
  },
  {
   "cell_type": "markdown",
   "metadata": {
    "slideshow": {
     "slide_type": "slide"
    }
   },
   "source": [
    "# (20 min) Independent Practice\n",
    "\n",
    "Working with Seaborns \"tips\" data, plot the relationships between\n",
    "\n",
    "Total_bill and:\n",
    " - tip\n",
    " - size\n",
    " \n",
    "**Also**\n",
    "\n",
    "Tip:\n",
    " - size\n",
    " \n",
    "### Bonus\n",
    "Is there a better linear relationship between male or female, smokers or non-smokers?  How would you find this?\n",
    " \n",
    "### Bonus Bonus\n",
    "\n",
    "Write a function that automatically plots a list parameter parameters against each other using seaborns regplot. \n",
    "\n",
    "_Yes pairplot does this for us, but please figure out how to do this without sns.pairplot!_"
   ]
  },
  {
   "cell_type": "code",
   "execution_count": 29,
   "metadata": {
    "collapsed": false,
    "slideshow": {
     "slide_type": "-"
    }
   },
   "outputs": [
    {
     "name": "stdout",
     "output_type": "stream",
     "text": [
      "Index([u'total_bill', u'tip', u'sex', u'smoker', u'day', u'time', u'size'], dtype='object')\n"
     ]
    },
    {
     "data": {
      "image/png": "[encoded data removed]",
      "text/plain": [
       "<matplotlib.figure.Figure at 0x1117f8850>"
      ]
     },
     "metadata": {},
     "output_type": "display_data"
    }
   ],
   "source": [
    "tips = sns.load_dataset(\"tips\")\n",
    "tips.head(5)\n",
    "print tips.columns\n",
    "\n",
    "# x = (60, 61, 62, 63, 65)\n",
    "# y = (3.1, 3.6, 3.8, 4, 4.1)\n",
    "\n",
    "# sample_data = zip(x, y)\n",
    "# df = pd.DataFrame(sample_data, columns=[\"x\", \"y\"])\n",
    "\n",
    "# my_plot = df.plot(kind=\"scatter\", x=\"x\", y=\"y\", title=\"Sample Data\", figsize=(10, 5))\n",
    "\n",
    "# # Add value markers because it's nice to have a visual reference to data points\n",
    "# for point in sample_data:\n",
    "#     my_plot.text(point[0] + .2, point[1] - .02, str(point))\n",
    "\n",
    "# sns.regplot(x=\"x\", y=\"y\", data=df)\n",
    "# print \"Data: \", df.values\n",
    "# print \"Number of samples:\", len(data)\n",
    "\n",
    "sns.regplot(x=\"total_bill\", y=\"tip\", data=tips);\n"
   ]
  },
  {
   "cell_type": "markdown",
   "metadata": {
    "slideshow": {
     "slide_type": "slide"
    }
   },
   "source": [
    "### A quick reminder, that pairplot is a handy tool for doing this as well:"
   ]
  },
  {
   "cell_type": "code",
   "execution_count": 15,
   "metadata": {
    "collapsed": false
   },
   "outputs": [
    {
     "name": "stderr",
     "output_type": "stream",
     "text": [
      "/Users/jam3jam/anaconda/lib/python2.7/site-packages/matplotlib/__init__.py:892: UserWarning: axes.color_cycle is deprecated and replaced with axes.prop_cycle; please use the latter.\n",
      "  warnings.warn(self.msg_depr % (key, alt_key))\n"
     ]
    },
    {
     "data": {
      "text/plain": [
       "<seaborn.axisgrid.PairGrid at 0x1112a46d0>"
      ]
     },
     "execution_count": 15,
     "metadata": {},
     "output_type": "execute_result"
    },
    {
     "data": {
      "image/png": "[encoded data removed]",
      "text/plain": [
       "<matplotlib.figure.Figure at 0x10defde10>"
      ]
     },
     "metadata": {},
     "output_type": "display_data"
    }
   ],
   "source": [
    "sns.pairplot(tips, kind=\"reg\")  # using kind=\"reg\" we can get nice looking regressions"
   ]
  },
  {
   "cell_type": "markdown",
   "metadata": {
    "slideshow": {
     "slide_type": "slide"
    }
   },
   "source": [
    "Pairplot is great because:\n",
    "    \n",
    "- Automatically filters continious variables\n",
    "- Builds matrix of regression plots for you\n",
    "- Plots basic histogram when variables match itself (middle / identity)\n",
    "- You don't have to do anything -- don't be lazy though!"
   ]
  },
  {
   "cell_type": "code",
   "execution_count": 17,
   "metadata": {
    "collapsed": false,
    "scrolled": false,
    "slideshow": {
     "slide_type": "slide"
    }
   },
   "outputs": [
    {
     "data": {
      "text/plain": [
       "<seaborn.axisgrid.FacetGrid at 0x1123258d0>"
      ]
     },
     "execution_count": 17,
     "metadata": {},
     "output_type": "execute_result"
    },
    {
     "data": {
      "image/png": "[encoded data removed]",
      "text/plain": [
       "<matplotlib.figure.Figure at 0x11232ac90>"
      ]
     },
     "metadata": {},
     "output_type": "display_data"
    }
   ],
   "source": [
    "my_plot = sns.FacetGrid(tips, row=\"sex\", col=\"smoker\")\n",
    "my_plot.map(plt.scatter, \"total_bill\", \"tip\")"
   ]
  },
  {
   "cell_type": "code",
   "execution_count": 27,
   "metadata": {
    "collapsed": false
   },
   "outputs": [
    {
     "data": {
      "text/html": [
       "<div>\n",
       "<table border=\"1\" class=\"dataframe\">\n",
       "  <thead>\n",
       "    <tr style=\"text-align: right;\">\n",
       "      <th></th>\n",
       "      <th>year</th>\n",
       "      <th>month</th>\n",
       "      <th>passengers</th>\n",
       "    </tr>\n",
       "  </thead>\n",
       "  <tbody>\n",
       "    <tr>\n",
       "      <th>0</th>\n",
       "      <td>1949</td>\n",
       "      <td>January</td>\n",
       "      <td>112</td>\n",
       "    </tr>\n",
       "    <tr>\n",
       "      <th>1</th>\n",
       "      <td>1949</td>\n",
       "      <td>February</td>\n",
       "      <td>118</td>\n",
       "    </tr>\n",
       "    <tr>\n",
       "      <th>2</th>\n",
       "      <td>1949</td>\n",
       "      <td>March</td>\n",
       "      <td>132</td>\n",
       "    </tr>\n",
       "    <tr>\n",
       "      <th>3</th>\n",
       "      <td>1949</td>\n",
       "      <td>April</td>\n",
       "      <td>129</td>\n",
       "    </tr>\n",
       "    <tr>\n",
       "      <th>4</th>\n",
       "      <td>1949</td>\n",
       "      <td>May</td>\n",
       "      <td>121</td>\n",
       "    </tr>\n",
       "    <tr>\n",
       "      <th>5</th>\n",
       "      <td>1949</td>\n",
       "      <td>June</td>\n",
       "      <td>135</td>\n",
       "    </tr>\n",
       "    <tr>\n",
       "      <th>6</th>\n",
       "      <td>1949</td>\n",
       "      <td>July</td>\n",
       "      <td>148</td>\n",
       "    </tr>\n",
       "    <tr>\n",
       "      <th>7</th>\n",
       "      <td>1949</td>\n",
       "      <td>August</td>\n",
       "      <td>148</td>\n",
       "    </tr>\n",
       "    <tr>\n",
       "      <th>8</th>\n",
       "      <td>1949</td>\n",
       "      <td>September</td>\n",
       "      <td>136</td>\n",
       "    </tr>\n",
       "    <tr>\n",
       "      <th>9</th>\n",
       "      <td>1949</td>\n",
       "      <td>October</td>\n",
       "      <td>119</td>\n",
       "    </tr>\n",
       "  </tbody>\n",
       "</table>\n",
       "</div>"
      ],
      "text/plain": [
       "   year      month  passengers\n",
       "0  1949    January         112\n",
       "1  1949   February         118\n",
       "2  1949      March         132\n",
       "3  1949      April         129\n",
       "4  1949        May         121\n",
       "5  1949       June         135\n",
       "6  1949       July         148\n",
       "7  1949     August         148\n",
       "8  1949  September         136\n",
       "9  1949    October         119"
      ]
     },
     "execution_count": 27,
     "metadata": {},
     "output_type": "execute_result"
    }
   ],
   "source": [
    "import seaborn as sns\n",
    "import numpy as np\n",
    "import pandas as pd\n",
    "import csv\n",
    "# with (read_csv('https://github.com/mwaskom/seaborn-data/blob/master/flights.csv')) as f:\n",
    "#     f.readlines()\n",
    "    \n",
    "flights = sns.load_dataset('flights')\n",
    "flights.head(10)\n"
   ]
  },
  {
   "cell_type": "code",
   "execution_count": 28,
   "metadata": {
    "collapsed": false
   },
   "outputs": [
    {
     "data": {
      "text/plain": [
       "<seaborn.axisgrid.PairGrid at 0x12398fc50>"
      ]
     },
     "execution_count": 28,
     "metadata": {},
     "output_type": "execute_result"
    }
   ],
   "source": [
    "sns.pairplot(flights, kind = 'reg')"
   ]
  },
  {
   "cell_type": "code",
   "execution_count": 17,
   "metadata": {
    "collapsed": false
   },
   "outputs": [
    {
     "ename": "IndexError",
     "evalue": "index out of range",
     "output_type": "error",
     "traceback": [
      "\u001b[0;31m---------------------------------------------------------------------------\u001b[0m",
      "\u001b[0;31mIndexError\u001b[0m                                Traceback (most recent call last)",
      "\u001b[0;32m<ipython-input-17-97e8cf269d9c>\u001b[0m in \u001b[0;36m<module>\u001b[0;34m()\u001b[0m\n\u001b[0;32m----> 1\u001b[0;31m \u001b[0msns\u001b[0m\u001b[0;34m.\u001b[0m\u001b[0mpairplot\u001b[0m\u001b[0;34m(\u001b[0m\u001b[0;34m'sepal_length'\u001b[0m\u001b[0;34m,\u001b[0m \u001b[0;34m'petal_length'\u001b[0m \u001b[0;34m,\u001b[0m \u001b[0mIrisDF\u001b[0m\u001b[0;34m)\u001b[0m\u001b[0;34m\u001b[0m\u001b[0m\n\u001b[0m",
      "\u001b[0;32m/Users/davidswan/anaconda/lib/python2.7/site-packages/seaborn/linearmodels.pyc\u001b[0m in \u001b[0;36mpairplot\u001b[0;34m(data, hue, hue_order, palette, vars, x_vars, y_vars, kind, diag_kind, markers, size, aspect, dropna, plot_kws, diag_kws, grid_kws)\u001b[0m\n\u001b[1;32m   1583\u001b[0m                     \u001b[0mhue_order\u001b[0m\u001b[0;34m=\u001b[0m\u001b[0mhue_order\u001b[0m\u001b[0;34m,\u001b[0m \u001b[0mpalette\u001b[0m\u001b[0;34m=\u001b[0m\u001b[0mpalette\u001b[0m\u001b[0;34m,\u001b[0m\u001b[0;34m\u001b[0m\u001b[0m\n\u001b[1;32m   1584\u001b[0m                     \u001b[0mdiag_sharey\u001b[0m\u001b[0;34m=\u001b[0m\u001b[0mdiag_sharey\u001b[0m\u001b[0;34m,\u001b[0m\u001b[0;34m\u001b[0m\u001b[0m\n\u001b[0;32m-> 1585\u001b[0;31m                     size=size, aspect=aspect, dropna=dropna, **grid_kws)\n\u001b[0m\u001b[1;32m   1586\u001b[0m \u001b[0;34m\u001b[0m\u001b[0m\n\u001b[1;32m   1587\u001b[0m     \u001b[0;31m# Add the markers here as PairGrid has figured out how many levels of the\u001b[0m\u001b[0;34m\u001b[0m\u001b[0;34m\u001b[0m\u001b[0m\n",
      "\u001b[0;32m/Users/davidswan/anaconda/lib/python2.7/site-packages/seaborn/axisgrid.pyc\u001b[0m in \u001b[0;36m__init__\u001b[0;34m(self, data, hue, hue_order, palette, hue_kws, vars, x_vars, y_vars, diag_sharey, size, aspect, despine, dropna)\u001b[0m\n\u001b[1;32m   1201\u001b[0m                                  \u001b[0mfigsize\u001b[0m\u001b[0;34m=\u001b[0m\u001b[0mfigsize\u001b[0m\u001b[0;34m,\u001b[0m\u001b[0;34m\u001b[0m\u001b[0m\n\u001b[1;32m   1202\u001b[0m                                  \u001b[0msharex\u001b[0m\u001b[0;34m=\u001b[0m\u001b[0;34m\"col\"\u001b[0m\u001b[0;34m,\u001b[0m \u001b[0msharey\u001b[0m\u001b[0;34m=\u001b[0m\u001b[0;34m\"row\"\u001b[0m\u001b[0;34m,\u001b[0m\u001b[0;34m\u001b[0m\u001b[0m\n\u001b[0;32m-> 1203\u001b[0;31m                                  squeeze=False)\n\u001b[0m\u001b[1;32m   1204\u001b[0m \u001b[0;34m\u001b[0m\u001b[0m\n\u001b[1;32m   1205\u001b[0m         \u001b[0mself\u001b[0m\u001b[0;34m.\u001b[0m\u001b[0mfig\u001b[0m \u001b[0;34m=\u001b[0m \u001b[0mfig\u001b[0m\u001b[0;34m\u001b[0m\u001b[0m\n",
      "\u001b[0;32m/Users/davidswan/anaconda/lib/python2.7/site-packages/matplotlib/pyplot.pyc\u001b[0m in \u001b[0;36msubplots\u001b[0;34m(nrows, ncols, sharex, sharey, squeeze, subplot_kw, gridspec_kw, **fig_kw)\u001b[0m\n\u001b[1;32m   1184\u001b[0m \u001b[0;34m\u001b[0m\u001b[0m\n\u001b[1;32m   1185\u001b[0m     \u001b[0;31m# Create first subplot separately, so we can share it if requested\u001b[0m\u001b[0;34m\u001b[0m\u001b[0;34m\u001b[0m\u001b[0m\n\u001b[0;32m-> 1186\u001b[0;31m     \u001b[0max0\u001b[0m \u001b[0;34m=\u001b[0m \u001b[0mfig\u001b[0m\u001b[0;34m.\u001b[0m\u001b[0madd_subplot\u001b[0m\u001b[0;34m(\u001b[0m\u001b[0mgs\u001b[0m\u001b[0;34m[\u001b[0m\u001b[0;36m0\u001b[0m\u001b[0;34m,\u001b[0m \u001b[0;36m0\u001b[0m\u001b[0;34m]\u001b[0m\u001b[0;34m,\u001b[0m \u001b[0;34m**\u001b[0m\u001b[0msubplot_kw\u001b[0m\u001b[0;34m)\u001b[0m\u001b[0;34m\u001b[0m\u001b[0m\n\u001b[0m\u001b[1;32m   1187\u001b[0m     \u001b[0maxarr\u001b[0m\u001b[0;34m[\u001b[0m\u001b[0;36m0\u001b[0m\u001b[0;34m]\u001b[0m \u001b[0;34m=\u001b[0m \u001b[0max0\u001b[0m\u001b[0;34m\u001b[0m\u001b[0m\n\u001b[1;32m   1188\u001b[0m \u001b[0;34m\u001b[0m\u001b[0m\n",
      "\u001b[0;32m/Users/davidswan/anaconda/lib/python2.7/site-packages/matplotlib/gridspec.pyc\u001b[0m in \u001b[0;36m__getitem__\u001b[0;34m(self, key)\u001b[0m\n\u001b[1;32m    152\u001b[0m                     \u001b[0mk1\u001b[0m \u001b[0;34m+=\u001b[0m \u001b[0mnrows\u001b[0m\u001b[0;34m\u001b[0m\u001b[0m\n\u001b[1;32m    153\u001b[0m                 \u001b[0;32mif\u001b[0m \u001b[0mk1\u001b[0m \u001b[0;34m>=\u001b[0m \u001b[0mnrows\u001b[0m \u001b[0;32mor\u001b[0m \u001b[0mk1\u001b[0m \u001b[0;34m<\u001b[0m \u001b[0;36m0\u001b[0m \u001b[0;34m:\u001b[0m\u001b[0;34m\u001b[0m\u001b[0m\n\u001b[0;32m--> 154\u001b[0;31m                     \u001b[0;32mraise\u001b[0m \u001b[0mIndexError\u001b[0m\u001b[0;34m(\u001b[0m\u001b[0;34m\"index out of range\"\u001b[0m\u001b[0;34m)\u001b[0m\u001b[0;34m\u001b[0m\u001b[0m\n\u001b[0m\u001b[1;32m    155\u001b[0m                 \u001b[0mrow1\u001b[0m\u001b[0;34m,\u001b[0m \u001b[0mrow2\u001b[0m \u001b[0;34m=\u001b[0m \u001b[0mk1\u001b[0m\u001b[0;34m,\u001b[0m \u001b[0mk1\u001b[0m\u001b[0;34m+\u001b[0m\u001b[0;36m1\u001b[0m\u001b[0;34m\u001b[0m\u001b[0m\n\u001b[1;32m    156\u001b[0m \u001b[0;34m\u001b[0m\u001b[0m\n",
      "\u001b[0;31mIndexError\u001b[0m: index out of range"
     ]
    }
   ],
   "source": [
    "sns.pairplot('sepal_length', 'petal_length' , IrisDF)"
   ]
  },
  {
   "cell_type": "markdown",
   "metadata": {},
   "source": [
    "## Conclusion\n",
    "\n",
    "- Define the terms: modeling, prediction\n",
    "- Find the best fit line by hand\n",
    "- Explore linear relationships with plotting"
   ]
  },
  {
   "cell_type": "code",
   "execution_count": null,
   "metadata": {
    "collapsed": true
   },
   "outputs": [],
   "source": []
  }
 ],
 "metadata": {
  "celltoolbar": "Slideshow",
  "kernelspec": {
   "display_name": "Python 2",
   "language": "python",
   "name": "python2"
  },
  "language_info": {
   "codemirror_mode": {
    "name": "ipython",
    "version": 2
   },
   "file_extension": ".py",
   "mimetype": "text/x-python",
   "name": "python",
   "nbconvert_exporter": "python",
   "pygments_lexer": "ipython2",
   "version": "2.7.11"
  },
  "widgets": {
   "state": {},
   "version": "1.1.2"
  }
 },
 "nbformat": 4,
 "nbformat_minor": 0
}
