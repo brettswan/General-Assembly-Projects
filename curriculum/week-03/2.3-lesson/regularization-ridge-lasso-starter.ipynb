{
 "cells": [
  {
   "cell_type": "markdown",
   "metadata": {},
   "source": [
    "# Regularization with Ridge and Lasso\n",
    "\n",
    "This notebook visualizes the effect of ridge and lasso on the wine dataset.\n",
    "\n",
    "---"
   ]
  },
  {
   "cell_type": "markdown",
   "metadata": {},
   "source": [
    "### 1. Load standard packages"
   ]
  },
  {
   "cell_type": "code",
   "execution_count": 6,
   "metadata": {
    "collapsed": true
   },
   "outputs": [],
   "source": [
    "import pandas as pd\n",
    "import numpy as np\n",
    "import seaborn as sns\n",
    "import matplotlib.pyplot as plt\n",
    "\n",
    "%matplotlib inline"
   ]
  },
  {
   "cell_type": "markdown",
   "metadata": {},
   "source": [
    "---\n",
    "\n",
    "### 2. Import data\n",
    "\n",
    "Load in the wine dataset with pandas. This version has already had the red and white wines concatenated together and tagged with a binary 1,0 indicator (1 is red wine)."
   ]
  },
  {
   "cell_type": "code",
   "execution_count": 7,
   "metadata": {
    "collapsed": false
   },
   "outputs": [],
   "source": [
    "wine = pd.read_csv('/Users/davidswan/Desktop/GA WORK/curriculum/week-03/2.3-lesson/winequality_merged.csv')\n",
    "\n",
    "# replace spaces in column names and convert all columns to lowercase:\n",
    "wine.columns = [x.lower().replace(' ','_') for x in wine.columns]"
   ]
  },
  {
   "cell_type": "code",
   "execution_count": 8,
   "metadata": {
    "collapsed": false
   },
   "outputs": [
    {
     "data": {
      "text/html": [
       "<div>\n",
       "<table border=\"1\" class=\"dataframe\">\n",
       "  <thead>\n",
       "    <tr style=\"text-align: right;\">\n",
       "      <th></th>\n",
       "      <th>fixed_acidity</th>\n",
       "      <th>volatile_acidity</th>\n",
       "      <th>citric_acid</th>\n",
       "      <th>residual_sugar</th>\n",
       "      <th>chlorides</th>\n",
       "      <th>free_sulfur_dioxide</th>\n",
       "      <th>total_sulfur_dioxide</th>\n",
       "      <th>density</th>\n",
       "      <th>ph</th>\n",
       "      <th>sulphates</th>\n",
       "      <th>alcohol</th>\n",
       "      <th>quality</th>\n",
       "      <th>red_wine</th>\n",
       "    </tr>\n",
       "  </thead>\n",
       "  <tbody>\n",
       "    <tr>\n",
       "      <th>0</th>\n",
       "      <td>7.4</td>\n",
       "      <td>0.70</td>\n",
       "      <td>0.00</td>\n",
       "      <td>1.9</td>\n",
       "      <td>0.076</td>\n",
       "      <td>11.0</td>\n",
       "      <td>34.0</td>\n",
       "      <td>0.9978</td>\n",
       "      <td>3.51</td>\n",
       "      <td>0.56</td>\n",
       "      <td>9.4</td>\n",
       "      <td>5</td>\n",
       "      <td>1</td>\n",
       "    </tr>\n",
       "    <tr>\n",
       "      <th>1</th>\n",
       "      <td>7.8</td>\n",
       "      <td>0.88</td>\n",
       "      <td>0.00</td>\n",
       "      <td>2.6</td>\n",
       "      <td>0.098</td>\n",
       "      <td>25.0</td>\n",
       "      <td>67.0</td>\n",
       "      <td>0.9968</td>\n",
       "      <td>3.20</td>\n",
       "      <td>0.68</td>\n",
       "      <td>9.8</td>\n",
       "      <td>5</td>\n",
       "      <td>1</td>\n",
       "    </tr>\n",
       "    <tr>\n",
       "      <th>2</th>\n",
       "      <td>7.8</td>\n",
       "      <td>0.76</td>\n",
       "      <td>0.04</td>\n",
       "      <td>2.3</td>\n",
       "      <td>0.092</td>\n",
       "      <td>15.0</td>\n",
       "      <td>54.0</td>\n",
       "      <td>0.9970</td>\n",
       "      <td>3.26</td>\n",
       "      <td>0.65</td>\n",
       "      <td>9.8</td>\n",
       "      <td>5</td>\n",
       "      <td>1</td>\n",
       "    </tr>\n",
       "    <tr>\n",
       "      <th>3</th>\n",
       "      <td>11.2</td>\n",
       "      <td>0.28</td>\n",
       "      <td>0.56</td>\n",
       "      <td>1.9</td>\n",
       "      <td>0.075</td>\n",
       "      <td>17.0</td>\n",
       "      <td>60.0</td>\n",
       "      <td>0.9980</td>\n",
       "      <td>3.16</td>\n",
       "      <td>0.58</td>\n",
       "      <td>9.8</td>\n",
       "      <td>6</td>\n",
       "      <td>1</td>\n",
       "    </tr>\n",
       "    <tr>\n",
       "      <th>4</th>\n",
       "      <td>7.4</td>\n",
       "      <td>0.70</td>\n",
       "      <td>0.00</td>\n",
       "      <td>1.9</td>\n",
       "      <td>0.076</td>\n",
       "      <td>11.0</td>\n",
       "      <td>34.0</td>\n",
       "      <td>0.9978</td>\n",
       "      <td>3.51</td>\n",
       "      <td>0.56</td>\n",
       "      <td>9.4</td>\n",
       "      <td>5</td>\n",
       "      <td>1</td>\n",
       "    </tr>\n",
       "  </tbody>\n",
       "</table>\n",
       "</div>"
      ],
      "text/plain": [
       "   fixed_acidity  volatile_acidity  citric_acid  residual_sugar  chlorides  \\\n",
       "0            7.4              0.70         0.00             1.9      0.076   \n",
       "1            7.8              0.88         0.00             2.6      0.098   \n",
       "2            7.8              0.76         0.04             2.3      0.092   \n",
       "3           11.2              0.28         0.56             1.9      0.075   \n",
       "4            7.4              0.70         0.00             1.9      0.076   \n",
       "\n",
       "   free_sulfur_dioxide  total_sulfur_dioxide  density    ph  sulphates  \\\n",
       "0                 11.0                  34.0   0.9978  3.51       0.56   \n",
       "1                 25.0                  67.0   0.9968  3.20       0.68   \n",
       "2                 15.0                  54.0   0.9970  3.26       0.65   \n",
       "3                 17.0                  60.0   0.9980  3.16       0.58   \n",
       "4                 11.0                  34.0   0.9978  3.51       0.56   \n",
       "\n",
       "   alcohol  quality  red_wine  \n",
       "0      9.4        5         1  \n",
       "1      9.8        5         1  \n",
       "2      9.8        5         1  \n",
       "3      9.8        6         1  \n",
       "4      9.4        5         1  "
      ]
     },
     "execution_count": 8,
     "metadata": {},
     "output_type": "execute_result"
    }
   ],
   "source": [
    "wine.head()"
   ]
  },
  {
   "cell_type": "markdown",
   "metadata": {},
   "source": [
    "---\n",
    "\n",
    "### 3. Normalize the predictor columns\n",
    "\n",
    "With the Lasso and Ridge it is very neccessary to normalize the predictor columns before constructing the models, even the dummy coded categorical variables. Below we define our target variable and then normalize the columns that are not the target.\n",
    "\n",
    "**Q. Can you explain why normalization is so important in the context of regularization?**"
   ]
  },
  {
   "cell_type": "code",
   "execution_count": 9,
   "metadata": {
    "collapsed": true
   },
   "outputs": [],
   "source": [
    "# Choose a target/dependent variable that we will predict\n",
    "target = 'quality'"
   ]
  },
  {
   "cell_type": "code",
   "execution_count": 10,
   "metadata": {
    "collapsed": true
   },
   "outputs": [],
   "source": [
    "# select all the columns that are not the target\n",
    "nc = [x for x in wine.columns if x != target]\n",
    "\n",
    "# Using the .ix indexing syntax, subtract mean and divide by standard deviation for all predictor columns.\n",
    "#\n",
    "# Remember: .ix indexing notation works like: data.ix[row_indices, column_indices]\n",
    "# .ix is able to take a mix of boolean, number, or string specifications, which is useful.\n",
    "#\n",
    "# By subtracting the mean and dividing by the standard devation, the normalization procedure is putting \n",
    "# all of the predictor variables on the same scale (distributions with mean == 0 and standard deviation == 1)\n",
    "wine.ix[:, nc] = (wine.ix[:, nc] - wine.ix[:, nc].mean()) / wine.ix[:, nc].std()"
   ]
  },
  {
   "cell_type": "code",
   "execution_count": 11,
   "metadata": {
    "collapsed": false
   },
   "outputs": [
    {
     "data": {
      "text/html": [
       "<div>\n",
       "<table border=\"1\" class=\"dataframe\">\n",
       "  <thead>\n",
       "    <tr style=\"text-align: right;\">\n",
       "      <th></th>\n",
       "      <th>fixed_acidity</th>\n",
       "      <th>volatile_acidity</th>\n",
       "      <th>citric_acid</th>\n",
       "      <th>residual_sugar</th>\n",
       "      <th>chlorides</th>\n",
       "      <th>free_sulfur_dioxide</th>\n",
       "      <th>total_sulfur_dioxide</th>\n",
       "      <th>density</th>\n",
       "      <th>ph</th>\n",
       "      <th>sulphates</th>\n",
       "      <th>alcohol</th>\n",
       "      <th>quality</th>\n",
       "      <th>red_wine</th>\n",
       "    </tr>\n",
       "  </thead>\n",
       "  <tbody>\n",
       "    <tr>\n",
       "      <th>0</th>\n",
       "      <td>0.142462</td>\n",
       "      <td>2.188664</td>\n",
       "      <td>-2.192664</td>\n",
       "      <td>-0.744721</td>\n",
       "      <td>0.569914</td>\n",
       "      <td>-1.100055</td>\n",
       "      <td>-1.446247</td>\n",
       "      <td>1.034913</td>\n",
       "      <td>1.812950</td>\n",
       "      <td>0.193082</td>\n",
       "      <td>-0.915394</td>\n",
       "      <td>5</td>\n",
       "      <td>1.750055</td>\n",
       "    </tr>\n",
       "    <tr>\n",
       "      <th>1</th>\n",
       "      <td>0.451001</td>\n",
       "      <td>3.281982</td>\n",
       "      <td>-2.192664</td>\n",
       "      <td>-0.597594</td>\n",
       "      <td>1.197883</td>\n",
       "      <td>-0.311296</td>\n",
       "      <td>-0.862402</td>\n",
       "      <td>0.701432</td>\n",
       "      <td>-0.115064</td>\n",
       "      <td>0.999502</td>\n",
       "      <td>-0.580023</td>\n",
       "      <td>5</td>\n",
       "      <td>1.750055</td>\n",
       "    </tr>\n",
       "    <tr>\n",
       "      <th>2</th>\n",
       "      <td>0.451001</td>\n",
       "      <td>2.553104</td>\n",
       "      <td>-1.917405</td>\n",
       "      <td>-0.660648</td>\n",
       "      <td>1.026618</td>\n",
       "      <td>-0.874695</td>\n",
       "      <td>-1.092402</td>\n",
       "      <td>0.768128</td>\n",
       "      <td>0.258100</td>\n",
       "      <td>0.797897</td>\n",
       "      <td>-0.580023</td>\n",
       "      <td>5</td>\n",
       "      <td>1.750055</td>\n",
       "    </tr>\n",
       "    <tr>\n",
       "      <th>3</th>\n",
       "      <td>3.073580</td>\n",
       "      <td>-0.362411</td>\n",
       "      <td>1.660957</td>\n",
       "      <td>-0.744721</td>\n",
       "      <td>0.541370</td>\n",
       "      <td>-0.762016</td>\n",
       "      <td>-0.986248</td>\n",
       "      <td>1.101609</td>\n",
       "      <td>-0.363840</td>\n",
       "      <td>0.327485</td>\n",
       "      <td>-0.580023</td>\n",
       "      <td>6</td>\n",
       "      <td>1.750055</td>\n",
       "    </tr>\n",
       "    <tr>\n",
       "      <th>4</th>\n",
       "      <td>0.142462</td>\n",
       "      <td>2.188664</td>\n",
       "      <td>-2.192664</td>\n",
       "      <td>-0.744721</td>\n",
       "      <td>0.569914</td>\n",
       "      <td>-1.100055</td>\n",
       "      <td>-1.446247</td>\n",
       "      <td>1.034913</td>\n",
       "      <td>1.812950</td>\n",
       "      <td>0.193082</td>\n",
       "      <td>-0.915394</td>\n",
       "      <td>5</td>\n",
       "      <td>1.750055</td>\n",
       "    </tr>\n",
       "  </tbody>\n",
       "</table>\n",
       "</div>"
      ],
      "text/plain": [
       "   fixed_acidity  volatile_acidity  citric_acid  residual_sugar  chlorides  \\\n",
       "0       0.142462          2.188664    -2.192664       -0.744721   0.569914   \n",
       "1       0.451001          3.281982    -2.192664       -0.597594   1.197883   \n",
       "2       0.451001          2.553104    -1.917405       -0.660648   1.026618   \n",
       "3       3.073580         -0.362411     1.660957       -0.744721   0.541370   \n",
       "4       0.142462          2.188664    -2.192664       -0.744721   0.569914   \n",
       "\n",
       "   free_sulfur_dioxide  total_sulfur_dioxide   density        ph  sulphates  \\\n",
       "0            -1.100055             -1.446247  1.034913  1.812950   0.193082   \n",
       "1            -0.311296             -0.862402  0.701432 -0.115064   0.999502   \n",
       "2            -0.874695             -1.092402  0.768128  0.258100   0.797897   \n",
       "3            -0.762016             -0.986248  1.101609 -0.363840   0.327485   \n",
       "4            -1.100055             -1.446247  1.034913  1.812950   0.193082   \n",
       "\n",
       "    alcohol  quality  red_wine  \n",
       "0 -0.915394        5  1.750055  \n",
       "1 -0.580023        5  1.750055  \n",
       "2 -0.580023        5  1.750055  \n",
       "3 -0.580023        6  1.750055  \n",
       "4 -0.915394        5  1.750055  "
      ]
     },
     "execution_count": 11,
     "metadata": {},
     "output_type": "execute_result"
    }
   ],
   "source": [
    "wine.head()"
   ]
  },
  {
   "cell_type": "markdown",
   "metadata": {},
   "source": [
    "---\n",
    "\n",
    "### 4. Check out the correlation matrix\n",
    "\n",
    "Correlation matrix is useful to get some intuition right away for the relationships (or lack thereof) between all of our variables.\n",
    "\n",
    "Print out the numeric correlation. Also make a heatmap with seaborn."
   ]
  },
  {
   "cell_type": "code",
   "execution_count": 12,
   "metadata": {
    "collapsed": false
   },
   "outputs": [
    {
     "data": {
      "text/html": [
       "<div>\n",
       "<table border=\"1\" class=\"dataframe\">\n",
       "  <thead>\n",
       "    <tr style=\"text-align: right;\">\n",
       "      <th></th>\n",
       "      <th>fixed_acidity</th>\n",
       "      <th>volatile_acidity</th>\n",
       "      <th>citric_acid</th>\n",
       "      <th>residual_sugar</th>\n",
       "      <th>chlorides</th>\n",
       "      <th>free_sulfur_dioxide</th>\n",
       "      <th>total_sulfur_dioxide</th>\n",
       "      <th>density</th>\n",
       "      <th>ph</th>\n",
       "      <th>sulphates</th>\n",
       "      <th>alcohol</th>\n",
       "      <th>quality</th>\n",
       "      <th>red_wine</th>\n",
       "    </tr>\n",
       "  </thead>\n",
       "  <tbody>\n",
       "    <tr>\n",
       "      <th>fixed_acidity</th>\n",
       "      <td>1.000000</td>\n",
       "      <td>0.219008</td>\n",
       "      <td>0.324436</td>\n",
       "      <td>-0.111981</td>\n",
       "      <td>0.298195</td>\n",
       "      <td>-0.282735</td>\n",
       "      <td>-0.329054</td>\n",
       "      <td>0.458910</td>\n",
       "      <td>-0.252700</td>\n",
       "      <td>0.299568</td>\n",
       "      <td>-0.095452</td>\n",
       "      <td>-0.076743</td>\n",
       "      <td>0.486740</td>\n",
       "    </tr>\n",
       "    <tr>\n",
       "      <th>volatile_acidity</th>\n",
       "      <td>0.219008</td>\n",
       "      <td>1.000000</td>\n",
       "      <td>-0.377981</td>\n",
       "      <td>-0.196011</td>\n",
       "      <td>0.377124</td>\n",
       "      <td>-0.352557</td>\n",
       "      <td>-0.414476</td>\n",
       "      <td>0.271296</td>\n",
       "      <td>0.261454</td>\n",
       "      <td>0.225984</td>\n",
       "      <td>-0.037640</td>\n",
       "      <td>-0.265699</td>\n",
       "      <td>0.653036</td>\n",
       "    </tr>\n",
       "    <tr>\n",
       "      <th>citric_acid</th>\n",
       "      <td>0.324436</td>\n",
       "      <td>-0.377981</td>\n",
       "      <td>1.000000</td>\n",
       "      <td>0.142451</td>\n",
       "      <td>0.038998</td>\n",
       "      <td>0.133126</td>\n",
       "      <td>0.195242</td>\n",
       "      <td>0.096154</td>\n",
       "      <td>-0.329808</td>\n",
       "      <td>0.056197</td>\n",
       "      <td>-0.010493</td>\n",
       "      <td>0.085532</td>\n",
       "      <td>-0.187397</td>\n",
       "    </tr>\n",
       "    <tr>\n",
       "      <th>residual_sugar</th>\n",
       "      <td>-0.111981</td>\n",
       "      <td>-0.196011</td>\n",
       "      <td>0.142451</td>\n",
       "      <td>1.000000</td>\n",
       "      <td>-0.128940</td>\n",
       "      <td>0.402871</td>\n",
       "      <td>0.495482</td>\n",
       "      <td>0.552517</td>\n",
       "      <td>-0.267320</td>\n",
       "      <td>-0.185927</td>\n",
       "      <td>-0.359415</td>\n",
       "      <td>-0.036980</td>\n",
       "      <td>-0.348821</td>\n",
       "    </tr>\n",
       "    <tr>\n",
       "      <th>chlorides</th>\n",
       "      <td>0.298195</td>\n",
       "      <td>0.377124</td>\n",
       "      <td>0.038998</td>\n",
       "      <td>-0.128940</td>\n",
       "      <td>1.000000</td>\n",
       "      <td>-0.195045</td>\n",
       "      <td>-0.279630</td>\n",
       "      <td>0.362615</td>\n",
       "      <td>0.044708</td>\n",
       "      <td>0.395593</td>\n",
       "      <td>-0.256916</td>\n",
       "      <td>-0.200666</td>\n",
       "      <td>0.512678</td>\n",
       "    </tr>\n",
       "    <tr>\n",
       "      <th>free_sulfur_dioxide</th>\n",
       "      <td>-0.282735</td>\n",
       "      <td>-0.352557</td>\n",
       "      <td>0.133126</td>\n",
       "      <td>0.402871</td>\n",
       "      <td>-0.195045</td>\n",
       "      <td>1.000000</td>\n",
       "      <td>0.720934</td>\n",
       "      <td>0.025717</td>\n",
       "      <td>-0.145854</td>\n",
       "      <td>-0.188457</td>\n",
       "      <td>-0.179838</td>\n",
       "      <td>0.055463</td>\n",
       "      <td>-0.471644</td>\n",
       "    </tr>\n",
       "    <tr>\n",
       "      <th>total_sulfur_dioxide</th>\n",
       "      <td>-0.329054</td>\n",
       "      <td>-0.414476</td>\n",
       "      <td>0.195242</td>\n",
       "      <td>0.495482</td>\n",
       "      <td>-0.279630</td>\n",
       "      <td>0.720934</td>\n",
       "      <td>1.000000</td>\n",
       "      <td>0.032395</td>\n",
       "      <td>-0.238413</td>\n",
       "      <td>-0.275727</td>\n",
       "      <td>-0.265740</td>\n",
       "      <td>-0.041385</td>\n",
       "      <td>-0.700357</td>\n",
       "    </tr>\n",
       "    <tr>\n",
       "      <th>density</th>\n",
       "      <td>0.458910</td>\n",
       "      <td>0.271296</td>\n",
       "      <td>0.096154</td>\n",
       "      <td>0.552517</td>\n",
       "      <td>0.362615</td>\n",
       "      <td>0.025717</td>\n",
       "      <td>0.032395</td>\n",
       "      <td>1.000000</td>\n",
       "      <td>0.011686</td>\n",
       "      <td>0.259478</td>\n",
       "      <td>-0.686745</td>\n",
       "      <td>-0.305858</td>\n",
       "      <td>0.390645</td>\n",
       "    </tr>\n",
       "    <tr>\n",
       "      <th>ph</th>\n",
       "      <td>-0.252700</td>\n",
       "      <td>0.261454</td>\n",
       "      <td>-0.329808</td>\n",
       "      <td>-0.267320</td>\n",
       "      <td>0.044708</td>\n",
       "      <td>-0.145854</td>\n",
       "      <td>-0.238413</td>\n",
       "      <td>0.011686</td>\n",
       "      <td>1.000000</td>\n",
       "      <td>0.192123</td>\n",
       "      <td>0.121248</td>\n",
       "      <td>0.019506</td>\n",
       "      <td>0.329129</td>\n",
       "    </tr>\n",
       "    <tr>\n",
       "      <th>sulphates</th>\n",
       "      <td>0.299568</td>\n",
       "      <td>0.225984</td>\n",
       "      <td>0.056197</td>\n",
       "      <td>-0.185927</td>\n",
       "      <td>0.395593</td>\n",
       "      <td>-0.188457</td>\n",
       "      <td>-0.275727</td>\n",
       "      <td>0.259478</td>\n",
       "      <td>0.192123</td>\n",
       "      <td>1.000000</td>\n",
       "      <td>-0.003029</td>\n",
       "      <td>0.038485</td>\n",
       "      <td>0.487218</td>\n",
       "    </tr>\n",
       "    <tr>\n",
       "      <th>alcohol</th>\n",
       "      <td>-0.095452</td>\n",
       "      <td>-0.037640</td>\n",
       "      <td>-0.010493</td>\n",
       "      <td>-0.359415</td>\n",
       "      <td>-0.256916</td>\n",
       "      <td>-0.179838</td>\n",
       "      <td>-0.265740</td>\n",
       "      <td>-0.686745</td>\n",
       "      <td>0.121248</td>\n",
       "      <td>-0.003029</td>\n",
       "      <td>1.000000</td>\n",
       "      <td>0.444319</td>\n",
       "      <td>-0.032970</td>\n",
       "    </tr>\n",
       "    <tr>\n",
       "      <th>quality</th>\n",
       "      <td>-0.076743</td>\n",
       "      <td>-0.265699</td>\n",
       "      <td>0.085532</td>\n",
       "      <td>-0.036980</td>\n",
       "      <td>-0.200666</td>\n",
       "      <td>0.055463</td>\n",
       "      <td>-0.041385</td>\n",
       "      <td>-0.305858</td>\n",
       "      <td>0.019506</td>\n",
       "      <td>0.038485</td>\n",
       "      <td>0.444319</td>\n",
       "      <td>1.000000</td>\n",
       "      <td>-0.119323</td>\n",
       "    </tr>\n",
       "    <tr>\n",
       "      <th>red_wine</th>\n",
       "      <td>0.486740</td>\n",
       "      <td>0.653036</td>\n",
       "      <td>-0.187397</td>\n",
       "      <td>-0.348821</td>\n",
       "      <td>0.512678</td>\n",
       "      <td>-0.471644</td>\n",
       "      <td>-0.700357</td>\n",
       "      <td>0.390645</td>\n",
       "      <td>0.329129</td>\n",
       "      <td>0.487218</td>\n",
       "      <td>-0.032970</td>\n",
       "      <td>-0.119323</td>\n",
       "      <td>1.000000</td>\n",
       "    </tr>\n",
       "  </tbody>\n",
       "</table>\n",
       "</div>"
      ],
      "text/plain": [
       "                      fixed_acidity  volatile_acidity  citric_acid  \\\n",
       "fixed_acidity              1.000000          0.219008     0.324436   \n",
       "volatile_acidity           0.219008          1.000000    -0.377981   \n",
       "citric_acid                0.324436         -0.377981     1.000000   \n",
       "residual_sugar            -0.111981         -0.196011     0.142451   \n",
       "chlorides                  0.298195          0.377124     0.038998   \n",
       "free_sulfur_dioxide       -0.282735         -0.352557     0.133126   \n",
       "total_sulfur_dioxide      -0.329054         -0.414476     0.195242   \n",
       "density                    0.458910          0.271296     0.096154   \n",
       "ph                        -0.252700          0.261454    -0.329808   \n",
       "sulphates                  0.299568          0.225984     0.056197   \n",
       "alcohol                   -0.095452         -0.037640    -0.010493   \n",
       "quality                   -0.076743         -0.265699     0.085532   \n",
       "red_wine                   0.486740          0.653036    -0.187397   \n",
       "\n",
       "                      residual_sugar  chlorides  free_sulfur_dioxide  \\\n",
       "fixed_acidity              -0.111981   0.298195            -0.282735   \n",
       "volatile_acidity           -0.196011   0.377124            -0.352557   \n",
       "citric_acid                 0.142451   0.038998             0.133126   \n",
       "residual_sugar              1.000000  -0.128940             0.402871   \n",
       "chlorides                  -0.128940   1.000000            -0.195045   \n",
       "free_sulfur_dioxide         0.402871  -0.195045             1.000000   \n",
       "total_sulfur_dioxide        0.495482  -0.279630             0.720934   \n",
       "density                     0.552517   0.362615             0.025717   \n",
       "ph                         -0.267320   0.044708            -0.145854   \n",
       "sulphates                  -0.185927   0.395593            -0.188457   \n",
       "alcohol                    -0.359415  -0.256916            -0.179838   \n",
       "quality                    -0.036980  -0.200666             0.055463   \n",
       "red_wine                   -0.348821   0.512678            -0.471644   \n",
       "\n",
       "                      total_sulfur_dioxide   density        ph  sulphates  \\\n",
       "fixed_acidity                    -0.329054  0.458910 -0.252700   0.299568   \n",
       "volatile_acidity                 -0.414476  0.271296  0.261454   0.225984   \n",
       "citric_acid                       0.195242  0.096154 -0.329808   0.056197   \n",
       "residual_sugar                    0.495482  0.552517 -0.267320  -0.185927   \n",
       "chlorides                        -0.279630  0.362615  0.044708   0.395593   \n",
       "free_sulfur_dioxide               0.720934  0.025717 -0.145854  -0.188457   \n",
       "total_sulfur_dioxide              1.000000  0.032395 -0.238413  -0.275727   \n",
       "density                           0.032395  1.000000  0.011686   0.259478   \n",
       "ph                               -0.238413  0.011686  1.000000   0.192123   \n",
       "sulphates                        -0.275727  0.259478  0.192123   1.000000   \n",
       "alcohol                          -0.265740 -0.686745  0.121248  -0.003029   \n",
       "quality                          -0.041385 -0.305858  0.019506   0.038485   \n",
       "red_wine                         -0.700357  0.390645  0.329129   0.487218   \n",
       "\n",
       "                       alcohol   quality  red_wine  \n",
       "fixed_acidity        -0.095452 -0.076743  0.486740  \n",
       "volatile_acidity     -0.037640 -0.265699  0.653036  \n",
       "citric_acid          -0.010493  0.085532 -0.187397  \n",
       "residual_sugar       -0.359415 -0.036980 -0.348821  \n",
       "chlorides            -0.256916 -0.200666  0.512678  \n",
       "free_sulfur_dioxide  -0.179838  0.055463 -0.471644  \n",
       "total_sulfur_dioxide -0.265740 -0.041385 -0.700357  \n",
       "density              -0.686745 -0.305858  0.390645  \n",
       "ph                    0.121248  0.019506  0.329129  \n",
       "sulphates            -0.003029  0.038485  0.487218  \n",
       "alcohol               1.000000  0.444319 -0.032970  \n",
       "quality               0.444319  1.000000 -0.119323  \n",
       "red_wine             -0.032970 -0.119323  1.000000  "
      ]
     },
     "execution_count": 12,
     "metadata": {},
     "output_type": "execute_result"
    }
   ],
   "source": [
    "wine_corr = wine.corr()\n",
    "wine_corr"
   ]
  },
  {
   "cell_type": "code",
   "execution_count": 13,
   "metadata": {
    "collapsed": false
   },
   "outputs": [
    {
     "data": {
      "image/png": "[encoded data removed]",
      "text/plain": [
       "<matplotlib.figure.Figure at 0x11ca297d0>"
      ]
     },
     "metadata": {},
     "output_type": "display_data"
    }
   ],
   "source": [
    "# Set the default matplotlib figure size to 7x7:\n",
    "plt.rcParams['figure.figsize']=(9,7)\n",
    "\n",
    "# Generate a mask for the upper triangle (taken from seaborn example gallery)\n",
    "mask = np.zeros_like(wine_corr, dtype=np.bool)\n",
    "mask[np.triu_indices_from(mask)] = True\n",
    "\n",
    "# Plot the heatmap with seaborn.\n",
    "# Assign the matplotlib axis the function returns. This will let us resize the labels.\n",
    "ax = sns.heatmap(wine_corr, mask=mask)\n",
    "\n",
    "# Resize the labels.\n",
    "ax.set_xticklabels(ax.xaxis.get_ticklabels(), fontsize=14)\n",
    "ax.set_yticklabels(ax.yaxis.get_ticklabels(), fontsize=14)\n",
    "\n",
    "# If you put plt.show() at the bottom, it prevents those useless printouts from matplotlib.\n",
    "plt.show()"
   ]
  },
  {
   "cell_type": "markdown",
   "metadata": {},
   "source": [
    "---\n",
    "\n",
    "### 5. Make X and Y data\n",
    "\n",
    "Import patsy so we can use the formula syntax.\n",
    "\n",
    "We will be making two X, Y datasets. \n",
    "\n",
    "1. The first is going to just be all the variables added together.\n",
    "2. The second will 'multiply' the variables together. This means that every possible interaction between variables will be modeled, which should overfit the target quite a bit!\n"
   ]
  },
  {
   "cell_type": "code",
   "execution_count": 14,
   "metadata": {
    "collapsed": false
   },
   "outputs": [
    {
     "name": "stdout",
     "output_type": "stream",
     "text": [
      "quality ~ fixed_acidity + volatile_acidity + citric_acid + residual_sugar + chlorides + free_sulfur_dioxide + total_sulfur_dioxide + density + ph + sulphates + alcohol + red_wine -1\n",
      "quality ~ (fixed_acidity + volatile_acidity + citric_acid + residual_sugar + chlorides + free_sulfur_dioxide + total_sulfur_dioxide + density + ph + sulphates + alcohol + red_wine)**2 -1\n"
     ]
    }
   ],
   "source": [
    "import patsy\n",
    "\n",
    "# Get the non-target cols with a simple list comprehension\n",
    "non_target_cols = [c for c in wine.columns if c != target]\n",
    "\n",
    "# Use some string adding and joining to make the simple model formula:\n",
    "formula_simple = target + ' ~ ' + ' + '.join(non_target_cols) + ' -1'\n",
    "print formula_simple\n",
    "\n",
    "# Make the complex formula:\n",
    "formula_complex = target + ' ~ (' + ' + '.join(non_target_cols) + ')**2 -1'\n",
    "print formula_complex\n",
    "\n",
    "# Create the X and Y pairs for both!\n",
    "Y, X = patsy.dmatrices(formula_simple, data=wine)\n",
    "Yoverfit, Xoverfit = patsy.dmatrices(formula_complex, data=wine)\n"
   ]
  },
  {
   "cell_type": "markdown",
   "metadata": {},
   "source": [
    "Look at how the shapes of the X matrices differ. You can see taht the Xoverfit has a ton of columns due to the creation of all possible interactions."
   ]
  },
  {
   "cell_type": "code",
   "execution_count": 15,
   "metadata": {
    "collapsed": false
   },
   "outputs": [
    {
     "name": "stdout",
     "output_type": "stream",
     "text": [
      "(6497, 12)\n",
      "(6497, 78)\n"
     ]
    }
   ],
   "source": [
    "print X.shape\n",
    "print Xoverfit.shape"
   ]
  },
  {
   "cell_type": "markdown",
   "metadata": {},
   "source": [
    "Assign the feature names for the simple and complex models to variables. We can use the `.design_info.column_names` attribute of these patsy matrix objects.\n",
    "\n",
    "You can print out the complex feature names if you feel like it. There are a ton."
   ]
  },
  {
   "cell_type": "code",
   "execution_count": 16,
   "metadata": {
    "collapsed": false
   },
   "outputs": [],
   "source": [
    "simple_feature_names = X.design_info.column_names\n",
    "complex_feature_names = Xoverfit.design_info.column_names"
   ]
  },
  {
   "cell_type": "markdown",
   "metadata": {},
   "source": [
    "---\n",
    "\n",
    "### 6. Visualize the Ridge and Lasso regularization on coefficients\n",
    "\n",
    "We will only do this for the simple data since the model that will overfit has too many coefficients to see anything properly on a graph!"
   ]
  },
  {
   "cell_type": "markdown",
   "metadata": {},
   "source": [
    "#### 6.1 Visualizing the Ridge"
   ]
  },
  {
   "cell_type": "markdown",
   "metadata": {},
   "source": [
    "Import the `Ridge` model class (a \"blueprint\" for the model) from sklearn:"
   ]
  },
  {
   "cell_type": "code",
   "execution_count": 17,
   "metadata": {
    "collapsed": true
   },
   "outputs": [],
   "source": [
    "from sklearn.linear_model import Ridge"
   ]
  },
  {
   "cell_type": "markdown",
   "metadata": {},
   "source": [
    "Here I write a function that iterates over a series of different alpha regularization parameters. The alpha is related to the lambda value that multiples the square of betas from the equation (though it may not be exactly the same numerically – regardless, increasing the alpha increases the regularization of the ridge on the coefficients)."
   ]
  },
  {
   "cell_type": "code",
   "execution_count": 18,
   "metadata": {
    "collapsed": false
   },
   "outputs": [],
   "source": [
    "def ridge_coefs(X, Y, alphas):\n",
    "    \n",
    "    # set up the list to hold the different sets of coefficients:\n",
    "    coefs = []\n",
    "    \n",
    "    # Set up a ridge regression object\n",
    "    ridge_reg = Ridge()\n",
    "    \n",
    "    # Iterate through the alphas fed into the function:\n",
    "    for a in alphas:\n",
    "        \n",
    "        # On each alpha reset the ridge model's alpha to the current one:\n",
    "        ridge_reg.set_params(alpha=a)\n",
    "        \n",
    "        # fit or refit the model on the provided X, Y\n",
    "        ridge_reg.fit(X, Y)\n",
    "        \n",
    "        # Get out the coefficient list (first element of the .coef_ attribute)\n",
    "        coefs.append(ridge_reg.coef_[0])\n",
    "        \n",
    "    return coefs"
   ]
  },
  {
   "cell_type": "markdown",
   "metadata": {},
   "source": [
    "Alpha values for the ridge are best visualized on a logarithmic \"magnitude\" scale. Essentially the effect does not increase linearly so much as by the increase in orders of magnitude. You will see that this is different for the lasso (and is related to the fact that for the Ridge the beta coefficients are squared, rather than just the absolute value like in the Lasso)."
   ]
  },
  {
   "cell_type": "code",
   "execution_count": 19,
   "metadata": {
    "collapsed": false
   },
   "outputs": [],
   "source": [
    "# np.logspace gives us points between specified orders of magnitude on a logarithmic scale. It is base 10.\n",
    "r_alphas = np.logspace(0, 5, 200)\n",
    "\n",
    "# Get the coefficients for each alpha for the Ridge, using the function above\n",
    "r_coefs = ridge_coefs(X, Y, r_alphas)"
   ]
  },
  {
   "cell_type": "markdown",
   "metadata": {},
   "source": [
    "---\n",
    "\n",
    "Below I've written a plotting function that will:\n",
    "\n",
    " - Plot the effect of changing alpha on the coefficient size on a **path** graph\n",
    " - Plot the effect of changing alpha on the coefficient size on a **bar** graph\n",
    " \n",
    "Each one gives informative information. It's just two different ways of visualizing the same thing. The chart is interactive so you can play around with the values of alpha across the specified range above."
   ]
  },
  {
   "cell_type": "code",
   "execution_count": 20,
   "metadata": {
    "collapsed": false
   },
   "outputs": [],
   "source": [
    "# The cycler package lets us \"cycle\" throug colors.\n",
    "# Just another thing i had to look up on stackoverflow. That's my life.\n",
    "from cycler import cycler\n",
    "\n",
    "def coef_plotter(alphas, coefs, feature_names, to_alpha, regtype='ridge'):\n",
    "    \n",
    "    # Get the full range of alphas before subsetting to keep the plots from \n",
    "    # resetting axes each time. (We use these values to set static axes later).\n",
    "    amin = np.min(alphas)\n",
    "    amax = np.max(alphas)\n",
    "    \n",
    "    # Subset the alphas and coefficients to just the ones below the set limit\n",
    "    # from the interactive widget:\n",
    "    alphas = [a for a in alphas if a <= to_alpha]\n",
    "    coefs = coefs[0:len(alphas)]\n",
    "    \n",
    "    # Get some colors from seaborn:\n",
    "    colors = sns.color_palette(\"husl\", len(coefs[0]))\n",
    "    \n",
    "    # Get the figure and reset the size to be wider:\n",
    "    fig = plt.figure()\n",
    "    fig.set_size_inches(18,7)\n",
    "\n",
    "    # We have two axes this time on our figure. \n",
    "    # The fig.add_subplot adds axes to our figure. The number inside stands for:\n",
    "    #[figure_rows|figure_cols|position_of_current_axes]\n",
    "    ax1 = fig.add_subplot(121)\n",
    "    \n",
    "    # Give it the color cycler:\n",
    "    ax1.set_prop_cycle(cycler('color', colors))\n",
    "    \n",
    "    # Print a vertical line showing our current alpha threshold:\n",
    "    ax1.axvline(to_alpha, lw=2, ls='dashed', c='k', alpha=0.4)\n",
    "    \n",
    "    # Plot the lines of the alphas on x-axis and coefficients on y-axis\n",
    "    ax1.plot(alphas, coefs, lw=2)\n",
    "    \n",
    "    # set labels for axes:\n",
    "    ax1.set_xlabel('alpha', fontsize=20)\n",
    "    ax1.set_ylabel('coefficients', fontsize=20)\n",
    "    \n",
    "    # If this is for the ridge, set this to a log scale on the x-axis:\n",
    "    if regtype == 'ridge':\n",
    "        ax1.set_xscale('log')\n",
    "    \n",
    "    # Enforce the axis limits:\n",
    "    ax1.set_xlim([amin, amax])\n",
    "    \n",
    "    # Put a title on the axis\n",
    "    ax1.set_title(regtype+' coef paths\\n', fontsize=20)\n",
    "    \n",
    "    # Get the ymin and ymax for this axis to enforce it to be the same on the \n",
    "    # second chart:\n",
    "    ymin, ymax = ax1.get_ylim()\n",
    "\n",
    "    # Add our second axes for the barplot in position 2:\n",
    "    ax2 = fig.add_subplot(122)\n",
    "    \n",
    "    # Position the bars according to their index from the feature names variable:\n",
    "    ax2.bar(range(1, len(feature_names)+1), coefs[-1], align='center', color=colors)\n",
    "    ax2.set_xticks(range(1, len(feature_names)+1))\n",
    "    \n",
    "    # Reset the ticks from numbers to acutally be the names:\n",
    "    ax2.set_xticklabels(feature_names, rotation=65, fontsize=12)\n",
    "    \n",
    "    # enforce limits and add titles, labels\n",
    "    ax2.set_ylim([ymin, ymax])\n",
    "    ax2.set_title(regtype+' predictor coefs\\n', fontsize=20)\n",
    "    ax2.set_xlabel('coefficients', fontsize=20)\n",
    "    ax2.set_ylabel('alpha', fontsize=20)\n",
    "    \n",
    "    plt.show()\n"
   ]
  },
  {
   "cell_type": "markdown",
   "metadata": {},
   "source": [
    "Load the ipython widgets so we can make this plotting function interactive!"
   ]
  },
  {
   "cell_type": "code",
   "execution_count": 21,
   "metadata": {
    "collapsed": false,
    "scrolled": false
   },
   "outputs": [],
   "source": [
    "from ipywidgets import *\n",
    "from IPython.display import display"
   ]
  },
  {
   "cell_type": "markdown",
   "metadata": {},
   "source": [
    "The function and `interact` from ipywidgets lets me take some specified alphas that we have already calculated the coefficients for and plot them out."
   ]
  },
  {
   "cell_type": "code",
   "execution_count": 22,
   "metadata": {
    "collapsed": false,
    "scrolled": true
   },
   "outputs": [
    {
     "data": {
      "image/png": "[encoded data removed]",
      "text/plain": [
       "<matplotlib.figure.Figure at 0x10d608cd0>"
      ]
     },
     "metadata": {},
     "output_type": "display_data"
    },
    {
     "data": {
      "text/plain": [
       "<function __main__.ridge_plot_runner>"
      ]
     },
     "execution_count": 22,
     "metadata": {},
     "output_type": "execute_result"
    }
   ],
   "source": [
    "def ridge_plot_runner(log_of_alpha=0):\n",
    "    coef_plotter(r_alphas, r_coefs, simple_feature_names, 10**log_of_alpha, regtype='ridge')\n",
    "\n",
    "interact(ridge_plot_runner, log_of_alpha=(0.0,5.0,0.05))"
   ]
  },
  {
   "cell_type": "markdown",
   "metadata": {},
   "source": [
    "#### 6.2 Visualizing the Lasso\n",
    "\n",
    "Now we do the same thing as above but for the Lasso. You will be able to see how the coefficients change differently for both."
   ]
  },
  {
   "cell_type": "code",
   "execution_count": 23,
   "metadata": {
    "collapsed": true
   },
   "outputs": [],
   "source": [
    "from sklearn.linear_model import Lasso"
   ]
  },
  {
   "cell_type": "code",
   "execution_count": 24,
   "metadata": {
    "collapsed": false
   },
   "outputs": [],
   "source": [
    "# This is the same as the ridge coefficient by alpha calculator\n",
    "def lasso_coefs(X, Y, alphas):\n",
    "    coefs = []\n",
    "    lasso_reg = Lasso()\n",
    "    for a in alphas:\n",
    "        lasso_reg.set_params(alpha=a)\n",
    "        lasso_reg.fit(X, Y)\n",
    "        coefs.append(lasso_reg.coef_)\n",
    "        \n",
    "    return coefs\n"
   ]
  },
  {
   "cell_type": "markdown",
   "metadata": {},
   "source": [
    "Alphas for the Lasso don't have their effects by orders of magnitude. A linear series of alphas is sufficient. Don't worry about the warning for Lasso at alpha 0."
   ]
  },
  {
   "cell_type": "code",
   "execution_count": 25,
   "metadata": {
    "collapsed": false
   },
   "outputs": [
    {
     "name": "stderr",
     "output_type": "stream",
     "text": [
      "/Users/davidswan/anaconda/lib/python2.7/site-packages/ipykernel/__main__.py:7: UserWarning: With alpha=0, this algorithm does not converge well. You are advised to use the LinearRegression estimator\n",
      "/Users/davidswan/anaconda/lib/python2.7/site-packages/sklearn/linear_model/coordinate_descent.py:454: UserWarning: Coordinate descent with alpha=0 may lead to unexpected results and is discouraged.\n",
      "  positive)\n",
      "/Users/davidswan/anaconda/lib/python2.7/site-packages/sklearn/linear_model/coordinate_descent.py:466: ConvergenceWarning: Objective did not converge. You might want to increase the number of iterations\n",
      "  ConvergenceWarning)\n"
     ]
    }
   ],
   "source": [
    "l_alphas = np.arange(0, 0.2, 0.0025)\n",
    "l_coefs = lasso_coefs(X, Y, l_alphas)"
   ]
  },
  {
   "cell_type": "markdown",
   "metadata": {},
   "source": [
    "Run the same plotting function above, but now with the calculated coefficients by alpha for the Lasso."
   ]
  },
  {
   "cell_type": "code",
   "execution_count": 26,
   "metadata": {
    "collapsed": false
   },
   "outputs": [
    {
     "data": {
      "image/png": "[encoded data removed]",
      "text/plain": [
       "<matplotlib.figure.Figure at 0x120d72650>"
      ]
     },
     "metadata": {},
     "output_type": "display_data"
    },
    {
     "data": {
      "text/plain": [
       "<function __main__.lasso_plot_runner>"
      ]
     },
     "execution_count": 26,
     "metadata": {},
     "output_type": "execute_result"
    }
   ],
   "source": [
    "def lasso_plot_runner(alpha=0):\n",
    "    coef_plotter(l_alphas, l_coefs, simple_feature_names, alpha, regtype='lasso')\n",
    "\n",
    "interact(lasso_plot_runner, alpha=(0.0,0.2,0.0025))"
   ]
  },
  {
   "cell_type": "markdown",
   "metadata": {},
   "source": [
    "---\n",
    "\n",
    "### 7. Model performance of the Ridge and Lasso on the simple data\n",
    "\n",
    "Let's check out how the penalties affect the performance of our models."
   ]
  },
  {
   "cell_type": "markdown",
   "metadata": {},
   "source": [
    "Load in the KFold crossvalidation function from sklearn. We'll make five folds."
   ]
  },
  {
   "cell_type": "code",
   "execution_count": 27,
   "metadata": {
    "collapsed": true
   },
   "outputs": [],
   "source": [
    "from sklearn.cross_validation import KFold\n",
    "kfolds = KFold(wine.shape[0], n_folds=5)"
   ]
  },
  {
   "cell_type": "markdown",
   "metadata": {},
   "source": [
    "For both the Ridge and Lasso, iterate through their alphas and using the cross-validation folds calculate the average R2 at each regularization level:"
   ]
  },
  {
   "cell_type": "code",
   "execution_count": 28,
   "metadata": {
    "collapsed": false
   },
   "outputs": [
    {
     "name": "stdout",
     "output_type": "stream",
     "text": [
      "Lasso...\n"
     ]
    },
    {
     "name": "stderr",
     "output_type": "stream",
     "text": [
      "/Users/davidswan/anaconda/lib/python2.7/site-packages/ipykernel/__main__.py:28: UserWarning: With alpha=0, this algorithm does not converge well. You are advised to use the LinearRegression estimator\n"
     ]
    },
    {
     "name": "stdout",
     "output_type": "stream",
     "text": [
      "Ridge...\n"
     ]
    }
   ],
   "source": [
    "def ridge_lasso_cv_rsq(X, Y, r_alphas, l_alphas, kfolds, verbose=False):\n",
    "    \n",
    "    # lists to track mean R2s per alpha\n",
    "    ridge_rsq = []\n",
    "    lasso_rsq = []\n",
    "\n",
    "    # initialize models\n",
    "    lasso = Lasso()\n",
    "    ridge = Ridge()\n",
    "\n",
    "    print 'Lasso...'\n",
    "    # iterate through Lasso alphas\n",
    "    for la in l_alphas:\n",
    "        \n",
    "        if verbose: print la\n",
    "        \n",
    "        # set the current alpha to the model\n",
    "        lasso.set_params(alpha=la)\n",
    "        \n",
    "        # keep track of fold R2s\n",
    "        rsqs = []\n",
    "        \n",
    "        # iterate through the folds. Each iteration returns the training and\n",
    "        # testing indices\n",
    "        for traini, testi in kfolds:\n",
    "            \n",
    "            # run the current model with the subset training X and Y\n",
    "            lasso.fit(X[traini], Y[traini])\n",
    "            \n",
    "            # append the R2 on the test set to the tracker\n",
    "            rsqs.append(lasso.score(X[testi], Y[testi]))\n",
    "            \n",
    "        # append the mean of the R2s for this alpha to the R2 by alpha list\n",
    "        lasso_rsq.append(np.mean(rsqs))\n",
    "\n",
    "    print 'Ridge...'\n",
    "    # Do the same process as above for ridge...\n",
    "    for ra in r_alphas:\n",
    "        \n",
    "        if verbose: print ra\n",
    "        \n",
    "        ridge.set_params(alpha=ra)\n",
    "        rsqs = []\n",
    "        for traini, testi in kfolds:\n",
    "            ridge.fit(X[traini], Y[traini])\n",
    "            rsqs.append(ridge.score(X[testi], Y[testi]))\n",
    "        ridge_rsq.append(np.mean(rsqs))\n",
    "        \n",
    "    return ridge_rsq, lasso_rsq\n",
    "    \n",
    "# Get the ridge and lasso cross-validated R2s:\n",
    "ridge_rsq, lasso_rsq = ridge_lasso_cv_rsq(X, Y, r_alphas, l_alphas, kfolds)\n"
   ]
  },
  {
   "cell_type": "markdown",
   "metadata": {},
   "source": [
    "---\n",
    "\n",
    "Below we have a new plotting function that will track the performance of the model as the alphas increase, as measured by the mean R2s across cross-validation folds. Remember that R2 is a measure of how much variance in the target/dependent variable is explained by our predictor variables."
   ]
  },
  {
   "cell_type": "code",
   "execution_count": 29,
   "metadata": {
    "collapsed": true
   },
   "outputs": [],
   "source": [
    "def rsq_plotter(ridge_alphas, ridge_to_alpha, ridge_rsq,\n",
    "                lasso_alphas, lasso_to_alpha, lasso_rsq):\n",
    "    \n",
    "    \n",
    "    # Find the overall minimum and maximum alpha values for\n",
    "    # the Ridge and Lasso to fix the plot axes:\n",
    "    ridge_amin = np.min(ridge_alphas)\n",
    "    ridge_amax = np.max(ridge_alphas)\n",
    "    \n",
    "    lasso_amin = np.min(lasso_alphas)\n",
    "    lasso_amax = np.max(lasso_alphas)\n",
    "    \n",
    "    # Subet the models' alphas and rsqs according to the currently set\n",
    "    # alpha limits for each (passed in from the interactive sliders)\n",
    "    ridge_alphas = [a for a in ridge_alphas if a <= ridge_to_alpha]\n",
    "    ridge_rsq = ridge_rsq[0:len(ridge_alphas)]\n",
    "    \n",
    "    lasso_alphas = [a for a in lasso_alphas if a <= lasso_to_alpha]\n",
    "    lasso_rsq = lasso_rsq[0:len(lasso_alphas)]\n",
    "    \n",
    "    # Get some unique colors out for the Ridge R2 line, Lasso R2 line,\n",
    "    # and the 'max R2 achieved' line.\n",
    "    colors = sns.xkcd_palette(['windows blue', 'amber', 'faded green'])\n",
    "\n",
    "    # We will again be plotting two axes on the same figure:\n",
    "    fig = plt.figure()\n",
    "    fig.set_size_inches(18,7)\n",
    "\n",
    "    # The first subplot axes is for the ridge\n",
    "    ax1 = fig.add_subplot(121)\n",
    "    \n",
    "    # Plot a vertical line indicating the current alpha selected\n",
    "    ax1.axvline(ridge_to_alpha, lw=2, ls='dashed', c='k', alpha=0.4)\n",
    "    \n",
    "    # Plot a horizontal line for the maximum R2 achieved so far across alphas\n",
    "    # for the Ridge\n",
    "    ax1.axhline(np.max(ridge_rsq), lw=2, c=colors[2], alpha=0.8)\n",
    "    \n",
    "    # Plot the line tracking R2s by alpha values\n",
    "    ax1.plot(ridge_alphas, ridge_rsq, lw=3, c=colors[0])\n",
    "    \n",
    "    # Add the axis labels\n",
    "    ax1.set_xlabel('ridge alpha', fontsize=20)\n",
    "    ax1.set_ylabel('ridge CV R2', fontsize=20)\n",
    "    \n",
    "    # Set x-axis to logarithmic scale\n",
    "    ax1.set_xscale('log')\n",
    "    \n",
    "    # Fix the axes in place\n",
    "    ax1.set_xlim([ridge_amin, ridge_amax])\n",
    "    ax1.set_ylim([-0.05, 1])\n",
    "    \n",
    "    # set the title for the axes;\n",
    "    ax1.set_title('ridge cross-val performance\\n', fontsize=20)\n",
    "    \n",
    "    \n",
    "    # Now do all of this as above for the Lasso!\n",
    "    ax2 = fig.add_subplot(122)\n",
    "    ax2.axvline(lasso_to_alpha, lw=2, ls='dashed', c='k', alpha=0.4)\n",
    "    ax2.axhline(np.max(lasso_rsq), lw=2, c=colors[2], alpha=0.8)\n",
    "    \n",
    "    ax2.plot(lasso_alphas, lasso_rsq, lw=3, c=colors[0])\n",
    "    \n",
    "    ax2.set_xlabel('lasso alpha', fontsize=20)\n",
    "    ax2.set_ylabel('lasso CV R2', fontsize=20)\n",
    "    ax2.set_xlim([lasso_amin, lasso_amax])\n",
    "    ax2.set_ylim([-0.05, 1])\n",
    "        \n",
    "    ax2.set_title('lasso cross-val performance\\n', fontsize=20)\n",
    "    \n",
    "    plt.show()"
   ]
  },
  {
   "cell_type": "code",
   "execution_count": 30,
   "metadata": {
    "collapsed": false
   },
   "outputs": [
    {
     "data": {
      "image/png": "[encoded data removed]",
      "text/plain": [
       "<matplotlib.figure.Figure at 0x1232c6e50>"
      ]
     },
     "metadata": {},
     "output_type": "display_data"
    }
   ],
   "source": [
    "# We have our new widget where you can change both the Ridge and Lasso alphas to see how they compare:\n",
    "\n",
    "def rsq_plot_pipe(ra, la):\n",
    "    rsq_plotter(r_alphas, 10**ra, ridge_rsq, l_alphas, la, lasso_rsq)\n",
    "    \n",
    "w = widgets.interactive(rsq_plot_pipe, \n",
    "                        ra=widgets.FloatSlider(value=0, min=0., max=5., step=0.05, description='Ridge log10(alpha):'),\n",
    "                        la=widgets.FloatSlider(value=0, min=0., max=0.2, step=0.0025, description='Lasso alpha:')\n",
    ")\n",
    "\n",
    "display(w)"
   ]
  },
  {
   "cell_type": "markdown",
   "metadata": {},
   "source": [
    "---\n",
    "\n",
    "### 8. Model performance on the complex data\n",
    "\n",
    "Let's see what happens when we do this for the complex data that is designed to overfit.\n",
    "\n",
    "[This function takes a long time to run by comparison, as you might expect.]"
   ]
  },
  {
   "cell_type": "code",
   "execution_count": 31,
   "metadata": {
    "collapsed": false
   },
   "outputs": [
    {
     "name": "stdout",
     "output_type": "stream",
     "text": [
      "Lasso...\n",
      "0.0\n"
     ]
    },
    {
     "name": "stderr",
     "output_type": "stream",
     "text": [
      "/Users/davidswan/anaconda/lib/python2.7/site-packages/ipykernel/__main__.py:28: UserWarning: With alpha=0, this algorithm does not converge well. You are advised to use the LinearRegression estimator\n"
     ]
    },
    {
     "name": "stdout",
     "output_type": "stream",
     "text": [
      "0.0025\n",
      "0.005\n",
      "0.0075\n",
      "0.01\n",
      "0.0125\n",
      "0.015\n",
      "0.0175\n",
      "0.02\n",
      "0.0225\n",
      "0.025\n",
      "0.0275\n",
      "0.03\n",
      "0.0325\n",
      "0.035\n",
      "0.0375\n",
      "0.04\n",
      "0.0425\n",
      "0.045\n",
      "0.0475\n",
      "0.05\n",
      "0.0525\n",
      "0.055\n",
      "0.0575\n",
      "0.06\n",
      "0.0625\n",
      "0.065\n",
      "0.0675\n",
      "0.07\n",
      "0.0725\n",
      "0.075\n",
      "0.0775\n",
      "0.08\n",
      "0.0825\n",
      "0.085\n",
      "0.0875\n",
      "0.09\n",
      "0.0925\n",
      "0.095\n",
      "0.0975\n",
      "0.1\n",
      "0.1025\n",
      "0.105\n",
      "0.1075\n",
      "0.11\n",
      "0.1125\n",
      "0.115\n",
      "0.1175\n",
      "0.12\n",
      "0.1225\n",
      "0.125\n",
      "0.1275\n",
      "0.13\n",
      "0.1325\n",
      "0.135\n",
      "0.1375\n",
      "0.14\n",
      "0.1425\n",
      "0.145\n",
      "0.1475\n",
      "0.15\n",
      "0.1525\n",
      "0.155\n",
      "0.1575\n",
      "0.16\n",
      "0.1625\n",
      "0.165\n",
      "0.1675\n",
      "0.17\n",
      "0.1725\n",
      "0.175\n",
      "0.1775\n",
      "0.18\n",
      "0.1825\n",
      "0.185\n",
      "0.1875\n",
      "0.19\n",
      "0.1925\n",
      "0.195\n",
      "0.1975\n",
      "Ridge...\n",
      "1.0\n",
      "1.05956017928\n",
      "1.12266777351\n",
      "1.18953406737\n",
      "1.26038292968\n",
      "1.33545156293\n",
      "1.41499129743\n",
      "1.49926843279\n",
      "1.58856512943\n",
      "1.68318035333\n",
      "1.78343087693\n",
      "1.88965233969\n",
      "2.00220037182\n",
      "2.12145178491\n",
      "2.24780583355\n",
      "2.38168555198\n",
      "2.52353917043\n",
      "2.67384161584\n",
      "2.83309610184\n",
      "3.00183581358\n",
      "3.18062569279\n",
      "3.37006432927\n",
      "3.5707859649\n",
      "3.78346261713\n",
      "4.0088063289\n",
      "4.24757155254\n",
      "4.5005576757\n",
      "4.76861169771\n",
      "5.05263106534\n",
      "5.35356667741\n",
      "5.67242606849\n",
      "6.01027678207\n",
      "6.36824994472\n",
      "6.74754405311\n",
      "7.1494289866\n",
      "7.57525025877\n",
      "8.02643352226\n",
      "8.5044893418\n",
      "9.01101825167\n",
      "9.54771611421\n",
      "10.1163797977\n",
      "10.7189131921\n",
      "11.3573335834\n",
      "12.0337784078\n",
      "12.7505124071\n",
      "13.509935212\n",
      "14.3145893752\n",
      "15.1671688847\n",
      "16.0705281826\n",
      "17.0276917223\n",
      "18.0418640939\n",
      "19.1164407539\n",
      "20.2550193923\n",
      "21.4614119786\n",
      "22.7396575236\n",
      "24.0940356024\n",
      "25.5290806824\n",
      "27.0495973046\n",
      "28.6606761695\n",
      "30.3677111804\n",
      "32.1764175025\n",
      "34.0928506975\n",
      "36.1234269971\n",
      "38.2749447852\n",
      "40.5546073584\n",
      "42.9700470432\n",
      "45.5293507487\n",
      "48.2410870417\n",
      "51.1143348344\n",
      "54.1587137808\n",
      "57.384416483\n",
      "60.8022426165\n",
      "64.4236350872\n",
      "68.2607183427\n",
      "72.3263389648\n",
      "76.6341086801\n",
      "81.1984499318\n",
      "86.0346441668\n",
      "91.1588829975\n",
      "96.5883224116\n",
      "102.341140211\n",
      "108.436596869\n",
      "114.895100019\n",
      "121.738272774\n",
      "128.989026125\n",
      "136.671635646\n",
      "144.811822767\n",
      "153.436840893\n",
      "162.575566644\n",
      "172.25859654\n",
      "182.518349432\n",
      "193.389175046\n",
      "204.907468982\n",
      "217.111794569\n",
      "230.043011977\n",
      "243.744415012\n",
      "258.261876068\n",
      "273.643999707\n",
      "289.942285388\n",
      "307.211299886\n",
      "325.508859984\n",
      "344.896226041\n",
      "365.438307096\n",
      "387.203878181\n",
      "410.265810583\n",
      "434.701315813\n",
      "460.592204115\n",
      "488.025158365\n",
      "517.09202429\n",
      "547.890117959\n",
      "580.522551609\n",
      "615.098578858\n",
      "651.733960488\n",
      "690.551352016\n",
      "731.680714343\n",
      "775.259748863\n",
      "821.434358492\n",
      "870.359136149\n",
      "922.197882333\n",
      "977.124153535\n",
      "1035.3218433\n",
      "1096.98579789\n",
      "1162.32246868\n",
      "1231.55060329\n",
      "1304.90197801\n",
      "1382.62217376\n",
      "1464.97139831\n",
      "1552.22535743\n",
      "1644.67617799\n",
      "1742.63338601\n",
      "1846.4249429\n",
      "1956.39834352\n",
      "2072.9217796\n",
      "2196.38537242\n",
      "2327.20247896\n",
      "2465.81107582\n",
      "2612.67522556\n",
      "2768.28663039\n",
      "2933.16627839\n",
      "3107.86618778\n",
      "3292.9712551\n",
      "3489.10121341\n",
      "3696.9127072\n",
      "3917.10149081\n",
      "4150.40475785\n",
      "4397.6036093\n",
      "4659.52566866\n",
      "4937.04785284\n",
      "5231.09930806\n",
      "5542.66452066\n",
      "5872.78661319\n",
      "6222.57083673\n",
      "6593.18827133\n",
      "6985.87974679\n",
      "7401.95999692\n",
      "7842.82206134\n",
      "8309.94194935\n",
      "8804.88358164\n",
      "9329.30402628\n",
      "9884.95904663\n",
      "10473.7089796\n",
      "11097.5249641\n",
      "11758.4955405\n",
      "12458.833643\n",
      "13200.8840083\n",
      "13987.1310265\n",
      "14820.207058\n",
      "15702.9012473\n",
      "16638.1688608\n",
      "17629.141181\n",
      "18679.1359902\n",
      "19791.6686785\n",
      "20970.4640132\n",
      "22219.4686094\n",
      "23542.8641432\n",
      "24945.0813523\n",
      "26430.8148697\n",
      "28005.0389418\n",
      "29673.0240819\n",
      "31440.3547159\n",
      "33312.9478793\n",
      "35297.0730273\n",
      "37399.3730248\n",
      "39626.886387\n",
      "41987.0708444\n",
      "44487.8283113\n",
      "47137.5313412\n",
      "49945.0511586\n",
      "52919.7873596\n",
      "56071.6993821\n",
      "59411.3398497\n",
      "62949.8899022\n",
      "66699.1966303\n",
      "70671.8127393\n",
      "74881.0385759\n",
      "79340.966658\n",
      "84066.5288562\n",
      "89073.5463861\n",
      "94378.7827778\n",
      "100000.0\n"
     ]
    }
   ],
   "source": [
    "overfit_ridge_rsq, overfit_lasso_rsq = ridge_lasso_cv_rsq(Xoverfit, Yoverfit, \n",
    "                                                          r_alphas, l_alphas, \n",
    "                                                          kfolds, verbose=True)\n"
   ]
  },
  {
   "cell_type": "code",
   "execution_count": null,
   "metadata": {
    "collapsed": true
   },
   "outputs": [],
   "source": []
  }
 ],
 "metadata": {
  "kernelspec": {
   "display_name": "Python 2",
   "language": "python",
   "name": "python2"
  },
  "language_info": {
   "codemirror_mode": {
    "name": "ipython",
    "version": 2
   },
   "file_extension": ".py",
   "mimetype": "text/x-python",
   "name": "python",
   "nbconvert_exporter": "python",
   "pygments_lexer": "ipython2",
   "version": "2.7.11"
  },
  "widgets": {
   "state": {},
   "version": "1.1.2"
  }
 },
 "nbformat": 4,
 "nbformat_minor": 0
}
