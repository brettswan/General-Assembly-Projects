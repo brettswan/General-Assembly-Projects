{
 "cells": [
  {
   "cell_type": "markdown",
   "metadata": {},
   "source": [
    "# Regularization with Ridge and Lasso\n",
    "\n",
    "This notebook visualizes the effect of ridge and lasso on the wine dataset.\n",
    "\n",
    "---"
   ]
  },
  {
   "cell_type": "markdown",
   "metadata": {},
   "source": [
    "### 1. Load standard packages"
   ]
  },
  {
   "cell_type": "code",
   "execution_count": 6,
   "metadata": {
    "collapsed": true
   },
   "outputs": [],
   "source": [
    "import pandas as pd\n",
    "import numpy as np\n",
    "import seaborn as sns\n",
    "import matplotlib.pyplot as plt\n",
    "\n",
    "%matplotlib inline"
   ]
  },
  {
   "cell_type": "markdown",
   "metadata": {},
   "source": [
    "---\n",
    "\n",
    "### 2. Import data\n",
    "\n",
    "Load in the wine dataset with pandas. This version has already had the red and white wines concatenated together and tagged with a binary 1,0 indicator (1 is red wine)."
   ]
  },
  {
   "cell_type": "code",
<<<<<<< HEAD
   "execution_count": 7,
=======
   "execution_count": 3,
>>>>>>> 065d7e12db1816bc03274892c63d523a7a537c27
   "metadata": {
    "collapsed": false
   },
   "outputs": [],
   "source": [
<<<<<<< HEAD
    "wine = pd.read_csv('/Users/davidswan/Desktop/GA WORK/curriculum/week-03/2.3-lesson/winequality_merged.csv')\n",
=======
    "wine = pd.read_csv('/Users/mikeludwig/dsi_intensive/DSI_SM_01/curriculum/week-03/2.3-lesson/winequality_merged.csv')\n",
>>>>>>> 065d7e12db1816bc03274892c63d523a7a537c27
    "\n",
    "# replace spaces in column names and convert all columns to lowercase:\n",
    "wine.columns = [x.lower().replace(' ','_') for x in wine.columns]"
   ]
  },
  {
   "cell_type": "code",
<<<<<<< HEAD
   "execution_count": 8,
=======
   "execution_count": 4,
>>>>>>> 065d7e12db1816bc03274892c63d523a7a537c27
   "metadata": {
    "collapsed": false
   },
   "outputs": [
    {
     "data": {
      "text/html": [
       "<div style=\"max-height:1000px;max-width:1500px;overflow:auto;\">\n",
       "<table border=\"1\" class=\"dataframe\">\n",
       "  <thead>\n",
       "    <tr style=\"text-align: right;\">\n",
       "      <th></th>\n",
       "      <th>fixed_acidity</th>\n",
       "      <th>volatile_acidity</th>\n",
       "      <th>citric_acid</th>\n",
       "      <th>residual_sugar</th>\n",
       "      <th>chlorides</th>\n",
       "      <th>free_sulfur_dioxide</th>\n",
       "      <th>total_sulfur_dioxide</th>\n",
       "      <th>density</th>\n",
       "      <th>ph</th>\n",
       "      <th>sulphates</th>\n",
       "      <th>alcohol</th>\n",
       "      <th>quality</th>\n",
       "      <th>red_wine</th>\n",
       "    </tr>\n",
       "  </thead>\n",
       "  <tbody>\n",
       "    <tr>\n",
       "      <th>0</th>\n",
       "      <td>7.4</td>\n",
       "      <td>0.70</td>\n",
       "      <td>0.00</td>\n",
       "      <td>1.9</td>\n",
       "      <td>0.076</td>\n",
       "      <td>11.0</td>\n",
       "      <td>34.0</td>\n",
       "      <td>0.9978</td>\n",
       "      <td>3.51</td>\n",
       "      <td>0.56</td>\n",
       "      <td>9.4</td>\n",
       "      <td>5</td>\n",
       "      <td>1</td>\n",
       "    </tr>\n",
       "    <tr>\n",
       "      <th>1</th>\n",
       "      <td>7.8</td>\n",
       "      <td>0.88</td>\n",
       "      <td>0.00</td>\n",
       "      <td>2.6</td>\n",
       "      <td>0.098</td>\n",
       "      <td>25.0</td>\n",
       "      <td>67.0</td>\n",
       "      <td>0.9968</td>\n",
       "      <td>3.20</td>\n",
       "      <td>0.68</td>\n",
       "      <td>9.8</td>\n",
       "      <td>5</td>\n",
       "      <td>1</td>\n",
       "    </tr>\n",
       "    <tr>\n",
       "      <th>2</th>\n",
       "      <td>7.8</td>\n",
       "      <td>0.76</td>\n",
       "      <td>0.04</td>\n",
       "      <td>2.3</td>\n",
       "      <td>0.092</td>\n",
       "      <td>15.0</td>\n",
       "      <td>54.0</td>\n",
       "      <td>0.9970</td>\n",
       "      <td>3.26</td>\n",
       "      <td>0.65</td>\n",
       "      <td>9.8</td>\n",
       "      <td>5</td>\n",
       "      <td>1</td>\n",
       "    </tr>\n",
       "    <tr>\n",
       "      <th>3</th>\n",
       "      <td>11.2</td>\n",
       "      <td>0.28</td>\n",
       "      <td>0.56</td>\n",
       "      <td>1.9</td>\n",
       "      <td>0.075</td>\n",
       "      <td>17.0</td>\n",
       "      <td>60.0</td>\n",
       "      <td>0.9980</td>\n",
       "      <td>3.16</td>\n",
       "      <td>0.58</td>\n",
       "      <td>9.8</td>\n",
       "      <td>6</td>\n",
       "      <td>1</td>\n",
       "    </tr>\n",
       "    <tr>\n",
       "      <th>4</th>\n",
       "      <td>7.4</td>\n",
       "      <td>0.70</td>\n",
       "      <td>0.00</td>\n",
       "      <td>1.9</td>\n",
       "      <td>0.076</td>\n",
       "      <td>11.0</td>\n",
       "      <td>34.0</td>\n",
       "      <td>0.9978</td>\n",
       "      <td>3.51</td>\n",
       "      <td>0.56</td>\n",
       "      <td>9.4</td>\n",
       "      <td>5</td>\n",
       "      <td>1</td>\n",
       "    </tr>\n",
       "  </tbody>\n",
       "</table>\n",
       "</div>"
      ],
      "text/plain": [
       "   fixed_acidity  volatile_acidity  citric_acid  residual_sugar  chlorides  \\\n",
       "0            7.4              0.70         0.00             1.9      0.076   \n",
       "1            7.8              0.88         0.00             2.6      0.098   \n",
       "2            7.8              0.76         0.04             2.3      0.092   \n",
       "3           11.2              0.28         0.56             1.9      0.075   \n",
       "4            7.4              0.70         0.00             1.9      0.076   \n",
       "\n",
       "   free_sulfur_dioxide  total_sulfur_dioxide  density    ph  sulphates  \\\n",
       "0                 11.0                  34.0   0.9978  3.51       0.56   \n",
       "1                 25.0                  67.0   0.9968  3.20       0.68   \n",
       "2                 15.0                  54.0   0.9970  3.26       0.65   \n",
       "3                 17.0                  60.0   0.9980  3.16       0.58   \n",
       "4                 11.0                  34.0   0.9978  3.51       0.56   \n",
       "\n",
       "   alcohol  quality  red_wine  \n",
       "0      9.4        5         1  \n",
       "1      9.8        5         1  \n",
       "2      9.8        5         1  \n",
       "3      9.8        6         1  \n",
       "4      9.4        5         1  "
      ]
     },
<<<<<<< HEAD
     "execution_count": 8,
=======
     "execution_count": 4,
>>>>>>> 065d7e12db1816bc03274892c63d523a7a537c27
     "metadata": {},
     "output_type": "execute_result"
    }
   ],
   "source": [
    "wine.head()"
   ]
  },
  {
   "cell_type": "markdown",
   "metadata": {},
   "source": [
    "---\n",
    "\n",
    "### 3. Normalize the predictor columns\n",
    "\n",
    "With the Lasso and Ridge it is very neccessary to normalize the predictor columns before constructing the models, even the dummy coded categorical variables. Below we define our target variable and then normalize the columns that are not the target.\n",
    "\n",
    "**Q. Can you explain why normalization is so important in the context of regularization?**"
   ]
  },
  {
   "cell_type": "code",
<<<<<<< HEAD
   "execution_count": 9,
=======
   "execution_count": 5,
>>>>>>> 065d7e12db1816bc03274892c63d523a7a537c27
   "metadata": {
    "collapsed": true
   },
   "outputs": [],
   "source": [
    "# Choose a target/dependent variable that we will predict\n",
    "target = 'quality'"
   ]
  },
  {
   "cell_type": "code",
<<<<<<< HEAD
   "execution_count": 10,
=======
   "execution_count": 6,
>>>>>>> 065d7e12db1816bc03274892c63d523a7a537c27
   "metadata": {
    "collapsed": true
   },
   "outputs": [],
   "source": [
    "# select all the columns that are not the target\n",
    "nc = [x for x in wine.columns if x != target]\n",
    "\n",
    "# Using the .ix indexing syntax, subtract mean and divide by standard deviation for all predictor columns.\n",
    "#\n",
    "# Remember: .ix indexing notation works like: data.ix[row_indices, column_indices]\n",
    "# .ix is able to take a mix of boolean, number, or string specifications, which is useful.\n",
    "#\n",
    "# By subtracting the mean and dividing by the standard devation, the normalization procedure is putting \n",
    "# all of the predictor variables on the same scale (distributions with mean == 0 and standard deviation == 1)\n",
    "wine.ix[:, nc] = (wine.ix[:, nc] - wine.ix[:, nc].mean()) / wine.ix[:, nc].std()"
   ]
  },
  {
   "cell_type": "code",
<<<<<<< HEAD
   "execution_count": 11,
=======
   "execution_count": 7,
>>>>>>> 065d7e12db1816bc03274892c63d523a7a537c27
   "metadata": {
    "collapsed": false
   },
   "outputs": [
    {
     "data": {
      "text/html": [
       "<div style=\"max-height:1000px;max-width:1500px;overflow:auto;\">\n",
       "<table border=\"1\" class=\"dataframe\">\n",
       "  <thead>\n",
       "    <tr style=\"text-align: right;\">\n",
       "      <th></th>\n",
       "      <th>fixed_acidity</th>\n",
       "      <th>volatile_acidity</th>\n",
       "      <th>citric_acid</th>\n",
       "      <th>residual_sugar</th>\n",
       "      <th>chlorides</th>\n",
       "      <th>free_sulfur_dioxide</th>\n",
       "      <th>total_sulfur_dioxide</th>\n",
       "      <th>density</th>\n",
       "      <th>ph</th>\n",
       "      <th>sulphates</th>\n",
       "      <th>alcohol</th>\n",
       "      <th>quality</th>\n",
       "      <th>red_wine</th>\n",
       "    </tr>\n",
       "  </thead>\n",
       "  <tbody>\n",
       "    <tr>\n",
       "      <th>0</th>\n",
       "      <td>0.142462</td>\n",
       "      <td>2.188664</td>\n",
       "      <td>-2.192664</td>\n",
       "      <td>-0.744721</td>\n",
       "      <td>0.569914</td>\n",
       "      <td>-1.100055</td>\n",
       "      <td>-1.446247</td>\n",
       "      <td>1.034913</td>\n",
       "      <td>1.812950</td>\n",
       "      <td>0.193082</td>\n",
       "      <td>-0.915394</td>\n",
       "      <td>5</td>\n",
       "      <td>1.750055</td>\n",
       "    </tr>\n",
       "    <tr>\n",
       "      <th>1</th>\n",
       "      <td>0.451001</td>\n",
       "      <td>3.281982</td>\n",
       "      <td>-2.192664</td>\n",
       "      <td>-0.597594</td>\n",
       "      <td>1.197883</td>\n",
       "      <td>-0.311296</td>\n",
       "      <td>-0.862402</td>\n",
       "      <td>0.701432</td>\n",
       "      <td>-0.115064</td>\n",
       "      <td>0.999502</td>\n",
       "      <td>-0.580023</td>\n",
       "      <td>5</td>\n",
       "      <td>1.750055</td>\n",
       "    </tr>\n",
       "    <tr>\n",
       "      <th>2</th>\n",
       "      <td>0.451001</td>\n",
       "      <td>2.553104</td>\n",
       "      <td>-1.917405</td>\n",
       "      <td>-0.660648</td>\n",
       "      <td>1.026618</td>\n",
       "      <td>-0.874695</td>\n",
       "      <td>-1.092402</td>\n",
       "      <td>0.768128</td>\n",
       "      <td>0.258100</td>\n",
       "      <td>0.797897</td>\n",
       "      <td>-0.580023</td>\n",
       "      <td>5</td>\n",
       "      <td>1.750055</td>\n",
       "    </tr>\n",
       "    <tr>\n",
       "      <th>3</th>\n",
       "      <td>3.073580</td>\n",
       "      <td>-0.362411</td>\n",
       "      <td>1.660957</td>\n",
       "      <td>-0.744721</td>\n",
       "      <td>0.541370</td>\n",
       "      <td>-0.762016</td>\n",
       "      <td>-0.986248</td>\n",
       "      <td>1.101609</td>\n",
       "      <td>-0.363840</td>\n",
       "      <td>0.327485</td>\n",
       "      <td>-0.580023</td>\n",
       "      <td>6</td>\n",
       "      <td>1.750055</td>\n",
       "    </tr>\n",
       "    <tr>\n",
       "      <th>4</th>\n",
       "      <td>0.142462</td>\n",
       "      <td>2.188664</td>\n",
       "      <td>-2.192664</td>\n",
       "      <td>-0.744721</td>\n",
       "      <td>0.569914</td>\n",
       "      <td>-1.100055</td>\n",
       "      <td>-1.446247</td>\n",
       "      <td>1.034913</td>\n",
       "      <td>1.812950</td>\n",
       "      <td>0.193082</td>\n",
       "      <td>-0.915394</td>\n",
       "      <td>5</td>\n",
       "      <td>1.750055</td>\n",
       "    </tr>\n",
       "  </tbody>\n",
       "</table>\n",
       "</div>"
      ],
      "text/plain": [
       "   fixed_acidity  volatile_acidity  citric_acid  residual_sugar  chlorides  \\\n",
       "0       0.142462          2.188664    -2.192664       -0.744721   0.569914   \n",
       "1       0.451001          3.281982    -2.192664       -0.597594   1.197883   \n",
       "2       0.451001          2.553104    -1.917405       -0.660648   1.026618   \n",
       "3       3.073580         -0.362411     1.660957       -0.744721   0.541370   \n",
       "4       0.142462          2.188664    -2.192664       -0.744721   0.569914   \n",
       "\n",
       "   free_sulfur_dioxide  total_sulfur_dioxide   density        ph  sulphates  \\\n",
       "0            -1.100055             -1.446247  1.034913  1.812950   0.193082   \n",
       "1            -0.311296             -0.862402  0.701432 -0.115064   0.999502   \n",
       "2            -0.874695             -1.092402  0.768128  0.258100   0.797897   \n",
       "3            -0.762016             -0.986248  1.101609 -0.363840   0.327485   \n",
       "4            -1.100055             -1.446247  1.034913  1.812950   0.193082   \n",
       "\n",
       "    alcohol  quality  red_wine  \n",
       "0 -0.915394        5  1.750055  \n",
       "1 -0.580023        5  1.750055  \n",
       "2 -0.580023        5  1.750055  \n",
       "3 -0.580023        6  1.750055  \n",
       "4 -0.915394        5  1.750055  "
      ]
     },
<<<<<<< HEAD
     "execution_count": 11,
=======
     "execution_count": 7,
>>>>>>> 065d7e12db1816bc03274892c63d523a7a537c27
     "metadata": {},
     "output_type": "execute_result"
    }
   ],
   "source": [
    "wine.head()"
   ]
  },
  {
   "cell_type": "markdown",
   "metadata": {},
   "source": [
    "---\n",
    "\n",
    "### 4. Check out the correlation matrix\n",
    "\n",
    "Correlation matrix is useful to get some intuition right away for the relationships (or lack thereof) between all of our variables.\n",
    "\n",
    "Print out the numeric correlation. Also make a heatmap with seaborn."
   ]
  },
  {
   "cell_type": "code",
<<<<<<< HEAD
   "execution_count": 12,
=======
   "execution_count": 8,
>>>>>>> 065d7e12db1816bc03274892c63d523a7a537c27
   "metadata": {
    "collapsed": false
   },
   "outputs": [
    {
     "data": {
      "text/html": [
       "<div style=\"max-height:1000px;max-width:1500px;overflow:auto;\">\n",
       "<table border=\"1\" class=\"dataframe\">\n",
       "  <thead>\n",
       "    <tr style=\"text-align: right;\">\n",
       "      <th></th>\n",
       "      <th>fixed_acidity</th>\n",
       "      <th>volatile_acidity</th>\n",
       "      <th>citric_acid</th>\n",
       "      <th>residual_sugar</th>\n",
       "      <th>chlorides</th>\n",
       "      <th>free_sulfur_dioxide</th>\n",
       "      <th>total_sulfur_dioxide</th>\n",
       "      <th>density</th>\n",
       "      <th>ph</th>\n",
       "      <th>sulphates</th>\n",
       "      <th>alcohol</th>\n",
       "      <th>quality</th>\n",
       "      <th>red_wine</th>\n",
       "    </tr>\n",
       "  </thead>\n",
       "  <tbody>\n",
       "    <tr>\n",
       "      <th>fixed_acidity</th>\n",
       "      <td>1.000000</td>\n",
       "      <td>0.219008</td>\n",
       "      <td>0.324436</td>\n",
       "      <td>-0.111981</td>\n",
       "      <td>0.298195</td>\n",
       "      <td>-0.282735</td>\n",
       "      <td>-0.329054</td>\n",
       "      <td>0.458910</td>\n",
       "      <td>-0.252700</td>\n",
       "      <td>0.299568</td>\n",
       "      <td>-0.095452</td>\n",
       "      <td>-0.076743</td>\n",
       "      <td>0.486740</td>\n",
       "    </tr>\n",
       "    <tr>\n",
       "      <th>volatile_acidity</th>\n",
       "      <td>0.219008</td>\n",
       "      <td>1.000000</td>\n",
       "      <td>-0.377981</td>\n",
       "      <td>-0.196011</td>\n",
       "      <td>0.377124</td>\n",
       "      <td>-0.352557</td>\n",
       "      <td>-0.414476</td>\n",
       "      <td>0.271296</td>\n",
       "      <td>0.261454</td>\n",
       "      <td>0.225984</td>\n",
       "      <td>-0.037640</td>\n",
       "      <td>-0.265699</td>\n",
       "      <td>0.653036</td>\n",
       "    </tr>\n",
       "    <tr>\n",
       "      <th>citric_acid</th>\n",
       "      <td>0.324436</td>\n",
       "      <td>-0.377981</td>\n",
       "      <td>1.000000</td>\n",
       "      <td>0.142451</td>\n",
       "      <td>0.038998</td>\n",
       "      <td>0.133126</td>\n",
       "      <td>0.195242</td>\n",
       "      <td>0.096154</td>\n",
       "      <td>-0.329808</td>\n",
       "      <td>0.056197</td>\n",
       "      <td>-0.010493</td>\n",
       "      <td>0.085532</td>\n",
       "      <td>-0.187397</td>\n",
       "    </tr>\n",
       "    <tr>\n",
       "      <th>residual_sugar</th>\n",
       "      <td>-0.111981</td>\n",
       "      <td>-0.196011</td>\n",
       "      <td>0.142451</td>\n",
       "      <td>1.000000</td>\n",
       "      <td>-0.128940</td>\n",
       "      <td>0.402871</td>\n",
       "      <td>0.495482</td>\n",
       "      <td>0.552517</td>\n",
       "      <td>-0.267320</td>\n",
       "      <td>-0.185927</td>\n",
       "      <td>-0.359415</td>\n",
       "      <td>-0.036980</td>\n",
       "      <td>-0.348821</td>\n",
       "    </tr>\n",
       "    <tr>\n",
       "      <th>chlorides</th>\n",
       "      <td>0.298195</td>\n",
       "      <td>0.377124</td>\n",
       "      <td>0.038998</td>\n",
       "      <td>-0.128940</td>\n",
       "      <td>1.000000</td>\n",
       "      <td>-0.195045</td>\n",
       "      <td>-0.279630</td>\n",
       "      <td>0.362615</td>\n",
       "      <td>0.044708</td>\n",
       "      <td>0.395593</td>\n",
       "      <td>-0.256916</td>\n",
       "      <td>-0.200666</td>\n",
       "      <td>0.512678</td>\n",
       "    </tr>\n",
       "    <tr>\n",
       "      <th>free_sulfur_dioxide</th>\n",
       "      <td>-0.282735</td>\n",
       "      <td>-0.352557</td>\n",
       "      <td>0.133126</td>\n",
       "      <td>0.402871</td>\n",
       "      <td>-0.195045</td>\n",
       "      <td>1.000000</td>\n",
       "      <td>0.720934</td>\n",
       "      <td>0.025717</td>\n",
       "      <td>-0.145854</td>\n",
       "      <td>-0.188457</td>\n",
       "      <td>-0.179838</td>\n",
       "      <td>0.055463</td>\n",
       "      <td>-0.471644</td>\n",
       "    </tr>\n",
       "    <tr>\n",
       "      <th>total_sulfur_dioxide</th>\n",
       "      <td>-0.329054</td>\n",
       "      <td>-0.414476</td>\n",
       "      <td>0.195242</td>\n",
       "      <td>0.495482</td>\n",
       "      <td>-0.279630</td>\n",
       "      <td>0.720934</td>\n",
       "      <td>1.000000</td>\n",
       "      <td>0.032395</td>\n",
       "      <td>-0.238413</td>\n",
       "      <td>-0.275727</td>\n",
       "      <td>-0.265740</td>\n",
       "      <td>-0.041385</td>\n",
       "      <td>-0.700357</td>\n",
       "    </tr>\n",
       "    <tr>\n",
       "      <th>density</th>\n",
       "      <td>0.458910</td>\n",
       "      <td>0.271296</td>\n",
       "      <td>0.096154</td>\n",
       "      <td>0.552517</td>\n",
       "      <td>0.362615</td>\n",
       "      <td>0.025717</td>\n",
       "      <td>0.032395</td>\n",
       "      <td>1.000000</td>\n",
       "      <td>0.011686</td>\n",
       "      <td>0.259478</td>\n",
       "      <td>-0.686745</td>\n",
       "      <td>-0.305858</td>\n",
       "      <td>0.390645</td>\n",
       "    </tr>\n",
       "    <tr>\n",
       "      <th>ph</th>\n",
       "      <td>-0.252700</td>\n",
       "      <td>0.261454</td>\n",
       "      <td>-0.329808</td>\n",
       "      <td>-0.267320</td>\n",
       "      <td>0.044708</td>\n",
       "      <td>-0.145854</td>\n",
       "      <td>-0.238413</td>\n",
       "      <td>0.011686</td>\n",
       "      <td>1.000000</td>\n",
       "      <td>0.192123</td>\n",
       "      <td>0.121248</td>\n",
       "      <td>0.019506</td>\n",
       "      <td>0.329129</td>\n",
       "    </tr>\n",
       "    <tr>\n",
       "      <th>sulphates</th>\n",
       "      <td>0.299568</td>\n",
       "      <td>0.225984</td>\n",
       "      <td>0.056197</td>\n",
       "      <td>-0.185927</td>\n",
       "      <td>0.395593</td>\n",
       "      <td>-0.188457</td>\n",
       "      <td>-0.275727</td>\n",
       "      <td>0.259478</td>\n",
       "      <td>0.192123</td>\n",
       "      <td>1.000000</td>\n",
       "      <td>-0.003029</td>\n",
       "      <td>0.038485</td>\n",
       "      <td>0.487218</td>\n",
       "    </tr>\n",
       "    <tr>\n",
       "      <th>alcohol</th>\n",
       "      <td>-0.095452</td>\n",
       "      <td>-0.037640</td>\n",
       "      <td>-0.010493</td>\n",
       "      <td>-0.359415</td>\n",
       "      <td>-0.256916</td>\n",
       "      <td>-0.179838</td>\n",
       "      <td>-0.265740</td>\n",
       "      <td>-0.686745</td>\n",
       "      <td>0.121248</td>\n",
       "      <td>-0.003029</td>\n",
       "      <td>1.000000</td>\n",
       "      <td>0.444319</td>\n",
       "      <td>-0.032970</td>\n",
       "    </tr>\n",
       "    <tr>\n",
       "      <th>quality</th>\n",
       "      <td>-0.076743</td>\n",
       "      <td>-0.265699</td>\n",
       "      <td>0.085532</td>\n",
       "      <td>-0.036980</td>\n",
       "      <td>-0.200666</td>\n",
       "      <td>0.055463</td>\n",
       "      <td>-0.041385</td>\n",
       "      <td>-0.305858</td>\n",
       "      <td>0.019506</td>\n",
       "      <td>0.038485</td>\n",
       "      <td>0.444319</td>\n",
       "      <td>1.000000</td>\n",
       "      <td>-0.119323</td>\n",
       "    </tr>\n",
       "    <tr>\n",
       "      <th>red_wine</th>\n",
       "      <td>0.486740</td>\n",
       "      <td>0.653036</td>\n",
       "      <td>-0.187397</td>\n",
       "      <td>-0.348821</td>\n",
       "      <td>0.512678</td>\n",
       "      <td>-0.471644</td>\n",
       "      <td>-0.700357</td>\n",
       "      <td>0.390645</td>\n",
       "      <td>0.329129</td>\n",
       "      <td>0.487218</td>\n",
       "      <td>-0.032970</td>\n",
       "      <td>-0.119323</td>\n",
       "      <td>1.000000</td>\n",
       "    </tr>\n",
       "  </tbody>\n",
       "</table>\n",
       "</div>"
      ],
      "text/plain": [
       "                      fixed_acidity  volatile_acidity  citric_acid  \\\n",
       "fixed_acidity              1.000000          0.219008     0.324436   \n",
       "volatile_acidity           0.219008          1.000000    -0.377981   \n",
       "citric_acid                0.324436         -0.377981     1.000000   \n",
       "residual_sugar            -0.111981         -0.196011     0.142451   \n",
       "chlorides                  0.298195          0.377124     0.038998   \n",
       "free_sulfur_dioxide       -0.282735         -0.352557     0.133126   \n",
       "total_sulfur_dioxide      -0.329054         -0.414476     0.195242   \n",
       "density                    0.458910          0.271296     0.096154   \n",
       "ph                        -0.252700          0.261454    -0.329808   \n",
       "sulphates                  0.299568          0.225984     0.056197   \n",
       "alcohol                   -0.095452         -0.037640    -0.010493   \n",
       "quality                   -0.076743         -0.265699     0.085532   \n",
       "red_wine                   0.486740          0.653036    -0.187397   \n",
       "\n",
       "                      residual_sugar  chlorides  free_sulfur_dioxide  \\\n",
       "fixed_acidity              -0.111981   0.298195            -0.282735   \n",
       "volatile_acidity           -0.196011   0.377124            -0.352557   \n",
       "citric_acid                 0.142451   0.038998             0.133126   \n",
       "residual_sugar              1.000000  -0.128940             0.402871   \n",
       "chlorides                  -0.128940   1.000000            -0.195045   \n",
       "free_sulfur_dioxide         0.402871  -0.195045             1.000000   \n",
       "total_sulfur_dioxide        0.495482  -0.279630             0.720934   \n",
       "density                     0.552517   0.362615             0.025717   \n",
       "ph                         -0.267320   0.044708            -0.145854   \n",
       "sulphates                  -0.185927   0.395593            -0.188457   \n",
       "alcohol                    -0.359415  -0.256916            -0.179838   \n",
       "quality                    -0.036980  -0.200666             0.055463   \n",
       "red_wine                   -0.348821   0.512678            -0.471644   \n",
       "\n",
       "                      total_sulfur_dioxide   density        ph  sulphates  \\\n",
       "fixed_acidity                    -0.329054  0.458910 -0.252700   0.299568   \n",
       "volatile_acidity                 -0.414476  0.271296  0.261454   0.225984   \n",
       "citric_acid                       0.195242  0.096154 -0.329808   0.056197   \n",
       "residual_sugar                    0.495482  0.552517 -0.267320  -0.185927   \n",
       "chlorides                        -0.279630  0.362615  0.044708   0.395593   \n",
       "free_sulfur_dioxide               0.720934  0.025717 -0.145854  -0.188457   \n",
       "total_sulfur_dioxide              1.000000  0.032395 -0.238413  -0.275727   \n",
       "density                           0.032395  1.000000  0.011686   0.259478   \n",
       "ph                               -0.238413  0.011686  1.000000   0.192123   \n",
       "sulphates                        -0.275727  0.259478  0.192123   1.000000   \n",
       "alcohol                          -0.265740 -0.686745  0.121248  -0.003029   \n",
       "quality                          -0.041385 -0.305858  0.019506   0.038485   \n",
       "red_wine                         -0.700357  0.390645  0.329129   0.487218   \n",
       "\n",
       "                       alcohol   quality  red_wine  \n",
       "fixed_acidity        -0.095452 -0.076743  0.486740  \n",
       "volatile_acidity     -0.037640 -0.265699  0.653036  \n",
       "citric_acid          -0.010493  0.085532 -0.187397  \n",
       "residual_sugar       -0.359415 -0.036980 -0.348821  \n",
       "chlorides            -0.256916 -0.200666  0.512678  \n",
       "free_sulfur_dioxide  -0.179838  0.055463 -0.471644  \n",
       "total_sulfur_dioxide -0.265740 -0.041385 -0.700357  \n",
       "density              -0.686745 -0.305858  0.390645  \n",
       "ph                    0.121248  0.019506  0.329129  \n",
       "sulphates            -0.003029  0.038485  0.487218  \n",
       "alcohol               1.000000  0.444319 -0.032970  \n",
       "quality               0.444319  1.000000 -0.119323  \n",
       "red_wine             -0.032970 -0.119323  1.000000  "
      ]
     },
<<<<<<< HEAD
     "execution_count": 12,
=======
     "execution_count": 8,
>>>>>>> 065d7e12db1816bc03274892c63d523a7a537c27
     "metadata": {},
     "output_type": "execute_result"
    }
   ],
   "source": [
    "wine_corr = wine.corr()\n",
    "wine_corr"
   ]
  },
  {
   "cell_type": "code",
<<<<<<< HEAD
   "execution_count": 13,
=======
   "execution_count": 9,
>>>>>>> 065d7e12db1816bc03274892c63d523a7a537c27
   "metadata": {
    "collapsed": false
   },
   "outputs": [
    {
     "name": "stderr",
     "output_type": "stream",
     "text": [
      "/usr/local/lib/python2.7/site-packages/matplotlib/collections.py:590: FutureWarning: elementwise comparison failed; returning scalar instead, but in the future will perform elementwise comparison\n",
      "  if self._edgecolors == str('face'):\n"
     ]
    },
    {
     "data": {
      "image/png": "iVBORw0KGgoAAAANSUhEUgAAA2oAAAMYCAYAAAC6wRTBAAAABHNCSVQICAgIfAhkiAAAAAlwSFlz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\n",
      "text/plain": [
<<<<<<< HEAD
       "<matplotlib.figure.Figure at 0x11ca297d0>"
=======
       "<matplotlib.figure.Figure at 0x1070cea10>"
>>>>>>> 065d7e12db1816bc03274892c63d523a7a537c27
      ]
     },
     "metadata": {},
     "output_type": "display_data"
    }
   ],
   "source": [
    "# Set the default matplotlib figure size to 7x7:\n",
    "plt.rcParams['figure.figsize']=(9,7)\n",
    "\n",
    "# Generate a mask for the upper triangle (taken from seaborn example gallery)\n",
    "mask = np.zeros_like(wine_corr, dtype=np.bool)\n",
    "mask[np.triu_indices_from(mask)] = True\n",
    "\n",
    "# Plot the heatmap with seaborn.\n",
    "# Assign the matplotlib axis the function returns. This will let us resize the labels.\n",
    "ax = sns.heatmap(wine_corr, mask=mask)\n",
    "\n",
    "# Resize the labels.\n",
    "ax.set_xticklabels(ax.xaxis.get_ticklabels(), fontsize=14)\n",
    "ax.set_yticklabels(ax.yaxis.get_ticklabels(), fontsize=14)\n",
    "\n",
    "# If you put plt.show() at the bottom, it prevents those useless printouts from matplotlib.\n",
    "plt.show()"
   ]
  },
  {
   "cell_type": "markdown",
   "metadata": {},
   "source": [
    "---\n",
    "\n",
    "### 5. Make X and Y data\n",
    "\n",
    "Import patsy so we can use the formula syntax.\n",
    "\n",
    "We will be making two X, Y datasets. \n",
    "\n",
    "1. The first is going to just be all the variables added together.\n",
    "2. The second will 'multiply' the variables together. This means that every possible interaction between variables will be modeled, which should overfit the target quite a bit!\n"
   ]
  },
  {
   "cell_type": "code",
<<<<<<< HEAD
   "execution_count": 14,
=======
   "execution_count": 27,
>>>>>>> 065d7e12db1816bc03274892c63d523a7a537c27
   "metadata": {
    "collapsed": false
   },
   "outputs": [
    {
     "name": "stdout",
     "output_type": "stream",
     "text": [
      "quality ~ fixed_acidity + volatile_acidity + citric_acid + residual_sugar + chlorides + free_sulfur_dioxide + total_sulfur_dioxide + density + ph + sulphates + alcohol + red_wine -1\n",
      "quality ~ (fixed_acidity + volatile_acidity + citric_acid + residual_sugar + chlorides + free_sulfur_dioxide + total_sulfur_dioxide + density + ph + sulphates + alcohol + red_wine)**2 -1\n"
     ]
    }
   ],
   "source": [
    "import patsy\n",
    "\n",
    "# Get the non-target cols with a simple list comprehension\n",
    "non_target_cols = [c for c in wine.columns if c != target]\n",
    "\n",
    "# Use some string adding and joining to make the simple model formula:\n",
    "formula_simple = target + ' ~ ' + ' + '.join(non_target_cols) + ' -1'\n",
    "print formula_simple\n",
    "\n",
    "# Make the complex formula:\n",
    "formula_complex = target + ' ~ (' + ' + '.join(non_target_cols) + ')**2 -1'\n",
    "print formula_complex\n",
    "\n",
    "# Create the X and Y pairs for both!\n",
    "Y, X = patsy.dmatrices(formula_simple, data=wine)\n",
    "Yoverfit, Xoverfit = patsy.dmatrices(formula_complex, data=wine)\n"
   ]
  },
  {
   "cell_type": "markdown",
   "metadata": {},
   "source": [
    "Look at how the shapes of the X matrices differ. You can see taht the Xoverfit has a ton of columns due to the creation of all possible interactions."
   ]
  },
  {
   "cell_type": "code",
<<<<<<< HEAD
   "execution_count": 15,
=======
   "execution_count": 28,
>>>>>>> 065d7e12db1816bc03274892c63d523a7a537c27
   "metadata": {
    "collapsed": false
   },
   "outputs": [
    {
     "name": "stdout",
     "output_type": "stream",
     "text": [
      "(6497, 12)\n",
      "(6497, 78)\n"
     ]
    }
   ],
   "source": [
    "print X.shape\n",
    "print Xoverfit.shape"
   ]
  },
  {
   "cell_type": "markdown",
   "metadata": {},
   "source": [
    "Assign the feature names for the simple and complex models to variables. We can use the `.design_info.column_names` attribute of these patsy matrix objects.\n",
    "\n",
    "You can print out the complex feature names if you feel like it. There are a ton."
   ]
  },
  {
   "cell_type": "code",
<<<<<<< HEAD
   "execution_count": 16,
=======
   "execution_count": 29,
>>>>>>> 065d7e12db1816bc03274892c63d523a7a537c27
   "metadata": {
    "collapsed": false
   },
   "outputs": [],
   "source": [
    "simple_feature_names = X.design_info.column_names\n",
    "complex_feature_names = Xoverfit.design_info.column_names"
   ]
  },
  {
   "cell_type": "markdown",
   "metadata": {},
   "source": [
    "---\n",
    "\n",
    "### 6. Visualize the Ridge and Lasso regularization on coefficients\n",
    "\n",
    "We will only do this for the simple data since the model that will overfit has too many coefficients to see anything properly on a graph!"
   ]
  },
  {
   "cell_type": "markdown",
   "metadata": {},
   "source": [
    "#### 6.1 Visualizing the Ridge"
   ]
  },
  {
   "cell_type": "markdown",
   "metadata": {},
   "source": [
    "Import the `Ridge` model class (a \"blueprint\" for the model) from sklearn:"
   ]
  },
  {
   "cell_type": "code",
<<<<<<< HEAD
   "execution_count": 17,
=======
   "execution_count": 30,
>>>>>>> 065d7e12db1816bc03274892c63d523a7a537c27
   "metadata": {
    "collapsed": true
   },
   "outputs": [],
   "source": [
    "from sklearn.linear_model import Ridge"
   ]
  },
  {
   "cell_type": "markdown",
   "metadata": {},
   "source": [
    "Here I write a function that iterates over a series of different alpha regularization parameters. The alpha is related to the lambda value that multiples the square of betas from the equation (though it may not be exactly the same numerically – regardless, increasing the alpha increases the regularization of the ridge on the coefficients)."
   ]
  },
  {
   "cell_type": "code",
<<<<<<< HEAD
   "execution_count": 18,
=======
   "execution_count": 31,
>>>>>>> 065d7e12db1816bc03274892c63d523a7a537c27
   "metadata": {
    "collapsed": false
   },
   "outputs": [],
   "source": [
    "def ridge_coefs(X, Y, alphas):\n",
    "    \n",
    "    # set up the list to hold the different sets of coefficients:\n",
    "    coefs = []\n",
    "    \n",
    "    # Set up a ridge regression object\n",
    "    ridge_reg = Ridge()\n",
    "    \n",
    "    # Iterate through the alphas fed into the function:\n",
    "    for a in alphas:\n",
    "        \n",
    "        # On each alpha reset the ridge model's alpha to the current one:\n",
    "        ridge_reg.set_params(alpha=a)\n",
    "        \n",
    "        # fit or refit the model on the provided X, Y\n",
    "        ridge_reg.fit(X, Y)\n",
    "        \n",
    "        # Get out the coefficient list (first element of the .coef_ attribute)\n",
    "        coefs.append(ridge_reg.coef_[0])\n",
    "        \n",
    "    return coefs"
   ]
  },
  {
   "cell_type": "markdown",
   "metadata": {},
   "source": [
    "Alpha values for the ridge are best visualized on a logarithmic \"magnitude\" scale. Essentially the effect does not increase linearly so much as by the increase in orders of magnitude. You will see that this is different for the lasso (and is related to the fact that for the Ridge the beta coefficients are squared, rather than just the absolute value like in the Lasso)."
   ]
  },
  {
   "cell_type": "code",
<<<<<<< HEAD
   "execution_count": 19,
=======
   "execution_count": 32,
>>>>>>> 065d7e12db1816bc03274892c63d523a7a537c27
   "metadata": {
    "collapsed": false
   },
   "outputs": [],
   "source": [
    "# np.logspace gives us points between specified orders of magnitude on a logarithmic scale. It is base 10.\n",
    "r_alphas = np.logspace(0, 5, 200)\n",
    "\n",
    "# Get the coefficients for each alpha for the Ridge, using the function above\n",
    "r_coefs = ridge_coefs(X, Y, r_alphas)"
   ]
  },
  {
   "cell_type": "markdown",
   "metadata": {},
   "source": [
    "---\n",
    "\n",
    "Below I've written a plotting function that will:\n",
    "\n",
    " - Plot the effect of changing alpha on the coefficient size on a **path** graph\n",
    " - Plot the effect of changing alpha on the coefficient size on a **bar** graph\n",
    " \n",
    "Each one gives informative information. It's just two different ways of visualizing the same thing. The chart is interactive so you can play around with the values of alpha across the specified range above."
   ]
  },
  {
   "cell_type": "code",
<<<<<<< HEAD
   "execution_count": 20,
=======
   "execution_count": 33,
>>>>>>> 065d7e12db1816bc03274892c63d523a7a537c27
   "metadata": {
    "collapsed": false
   },
   "outputs": [],
   "source": [
    "# The cycler package lets us \"cycle\" throug colors.\n",
    "# Just another thing i had to look up on stackoverflow. That's my life.\n",
    "from cycler import cycler\n",
    "\n",
    "def coef_plotter(alphas, coefs, feature_names, to_alpha, regtype='ridge'):\n",
    "    \n",
    "    # Get the full range of alphas before subsetting to keep the plots from \n",
    "    # resetting axes each time. (We use these values to set static axes later).\n",
    "    amin = np.min(alphas)\n",
    "    amax = np.max(alphas)\n",
    "    \n",
    "    # Subset the alphas and coefficients to just the ones below the set limit\n",
    "    # from the interactive widget:\n",
    "    alphas = [a for a in alphas if a <= to_alpha]\n",
    "    coefs = coefs[0:len(alphas)]\n",
    "    \n",
    "    # Get some colors from seaborn:\n",
    "    colors = sns.color_palette(\"husl\", len(coefs[0]))\n",
    "    \n",
    "    # Get the figure and reset the size to be wider:\n",
    "    fig = plt.figure()\n",
    "    fig.set_size_inches(18,7)\n",
    "\n",
    "    # We have two axes this time on our figure. \n",
    "    # The fig.add_subplot adds axes to our figure. The number inside stands for:\n",
    "    #[figure_rows|figure_cols|position_of_current_axes]\n",
    "    ax1 = fig.add_subplot(121)\n",
    "    \n",
    "    # Give it the color cycler:\n",
    "    ax1.set_prop_cycle(cycler('color', colors))\n",
    "    \n",
    "    # Print a vertical line showing our current alpha threshold:\n",
    "    ax1.axvline(to_alpha, lw=2, ls='dashed', c='k', alpha=0.4)\n",
    "    \n",
    "    # Plot the lines of the alphas on x-axis and coefficients on y-axis\n",
    "    ax1.plot(alphas, coefs, lw=2)\n",
    "    \n",
    "    # set labels for axes:\n",
    "    ax1.set_xlabel('alpha', fontsize=20)\n",
    "    ax1.set_ylabel('coefficients', fontsize=20)\n",
    "    \n",
    "    # If this is for the ridge, set this to a log scale on the x-axis:\n",
    "    if regtype == 'ridge':\n",
    "        ax1.set_xscale('log')\n",
    "    \n",
    "    # Enforce the axis limits:\n",
    "    ax1.set_xlim([amin, amax])\n",
    "    \n",
    "    # Put a title on the axis\n",
    "    ax1.set_title(regtype+' coef paths\\n', fontsize=20)\n",
    "    \n",
    "    # Get the ymin and ymax for this axis to enforce it to be the same on the \n",
    "    # second chart:\n",
    "    ymin, ymax = ax1.get_ylim()\n",
    "\n",
    "    # Add our second axes for the barplot in position 2:\n",
    "    ax2 = fig.add_subplot(122)\n",
    "    \n",
    "    # Position the bars according to their index from the feature names variable:\n",
    "    ax2.bar(range(1, len(feature_names)+1), coefs[-1], align='center', color=colors)\n",
    "    ax2.set_xticks(range(1, len(feature_names)+1))\n",
    "    \n",
    "    # Reset the ticks from numbers to acutally be the names:\n",
    "    ax2.set_xticklabels(feature_names, rotation=65, fontsize=12)\n",
    "    \n",
    "    # enforce limits and add titles, labels\n",
    "    ax2.set_ylim([ymin, ymax])\n",
    "    ax2.set_title(regtype+' predictor coefs\\n', fontsize=20)\n",
    "    ax2.set_xlabel('coefficients', fontsize=20)\n",
    "    ax2.set_ylabel('alpha', fontsize=20)\n",
    "    \n",
    "    plt.show()\n"
   ]
  },
  {
   "cell_type": "markdown",
   "metadata": {},
   "source": [
    "Load the ipython widgets so we can make this plotting function interactive!"
   ]
  },
  {
   "cell_type": "code",
<<<<<<< HEAD
   "execution_count": 21,
=======
   "execution_count": 34,
>>>>>>> 065d7e12db1816bc03274892c63d523a7a537c27
   "metadata": {
    "collapsed": false,
    "scrolled": false
   },
   "outputs": [],
   "source": [
    "from ipywidgets import *\n",
    "from IPython.display import display"
   ]
  },
  {
   "cell_type": "markdown",
   "metadata": {},
   "source": [
    "The function and `interact` from ipywidgets lets me take some specified alphas that we have already calculated the coefficients for and plot them out."
   ]
  },
  {
   "cell_type": "code",
<<<<<<< HEAD
   "execution_count": 22,
=======
   "execution_count": 35,
>>>>>>> 065d7e12db1816bc03274892c63d523a7a537c27
   "metadata": {
    "collapsed": false,
    "scrolled": true
   },
   "outputs": [
    {
<<<<<<< HEAD
     "data": {
      "image/png": "iVBORw0KGgoAAAANSUhEUgAABC0AAAI/CAYAAABTQiOhAAAABHNCSVQICAgIfAhkiAAAAAlwSFlz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\n",
      "text/plain": [
       "<matplotlib.figure.Figure at 0x10d608cd0>"
      ]
     },
     "metadata": {},
     "output_type": "display_data"
    },
    {
     "data": {
      "text/plain": [
       "<function __main__.ridge_plot_runner>"
      ]
     },
     "execution_count": 22,
     "metadata": {},
     "output_type": "execute_result"
=======
     "ename": "TraitError",
     "evalue": "The 'kernel' trait of a Comm instance must be a Kernel, but a value of type 'NoneType' (i.e. None) was specified.",
     "output_type": "error",
     "traceback": [
      "\u001b[0;31m---------------------------------------------------------------------------\u001b[0m",
      "\u001b[0;31mTraitError\u001b[0m                                Traceback (most recent call last)",
      "\u001b[0;32m<ipython-input-35-bf196af7378b>\u001b[0m in \u001b[0;36m<module>\u001b[0;34m()\u001b[0m\n\u001b[1;32m      2\u001b[0m     \u001b[0mcoef_plotter\u001b[0m\u001b[0;34m(\u001b[0m\u001b[0mr_alphas\u001b[0m\u001b[0;34m,\u001b[0m \u001b[0mr_coefs\u001b[0m\u001b[0;34m,\u001b[0m \u001b[0msimple_feature_names\u001b[0m\u001b[0;34m,\u001b[0m \u001b[0;36m10\u001b[0m\u001b[0;34m**\u001b[0m\u001b[0mlog_of_alpha\u001b[0m\u001b[0;34m,\u001b[0m \u001b[0mregtype\u001b[0m\u001b[0;34m=\u001b[0m\u001b[0;34m'ridge'\u001b[0m\u001b[0;34m)\u001b[0m\u001b[0;34m\u001b[0m\u001b[0m\n\u001b[1;32m      3\u001b[0m \u001b[0;34m\u001b[0m\u001b[0m\n\u001b[0;32m----> 4\u001b[0;31m \u001b[0minteract\u001b[0m\u001b[0;34m(\u001b[0m\u001b[0mridge_plot_runner\u001b[0m\u001b[0;34m,\u001b[0m \u001b[0mlog_of_alpha\u001b[0m\u001b[0;34m=\u001b[0m\u001b[0;34m(\u001b[0m\u001b[0;36m0.0\u001b[0m\u001b[0;34m,\u001b[0m\u001b[0;36m5.0\u001b[0m\u001b[0;34m,\u001b[0m\u001b[0;36m0.05\u001b[0m\u001b[0;34m)\u001b[0m\u001b[0;34m)\u001b[0m\u001b[0;34m\u001b[0m\u001b[0m\n\u001b[0m",
      "\u001b[0;32m/usr/local/lib/python2.7/site-packages/ipywidgets/widgets/interaction.pyc\u001b[0m in \u001b[0;36minteract\u001b[0;34m(__interact_f, **kwargs)\u001b[0m\n\u001b[1;32m    356\u001b[0m         \u001b[0;31m#        ...\u001b[0m\u001b[0;34m\u001b[0m\u001b[0;34m\u001b[0m\u001b[0m\n\u001b[1;32m    357\u001b[0m         \u001b[0mf\u001b[0m \u001b[0;34m=\u001b[0m \u001b[0m__interact_f\u001b[0m\u001b[0;34m\u001b[0m\u001b[0m\n\u001b[0;32m--> 358\u001b[0;31m         \u001b[0mw\u001b[0m \u001b[0;34m=\u001b[0m \u001b[0minteractive\u001b[0m\u001b[0;34m(\u001b[0m\u001b[0mf\u001b[0m\u001b[0;34m,\u001b[0m \u001b[0;34m**\u001b[0m\u001b[0mkwargs\u001b[0m\u001b[0;34m)\u001b[0m\u001b[0;34m\u001b[0m\u001b[0m\n\u001b[0m\u001b[1;32m    359\u001b[0m         \u001b[0;32mtry\u001b[0m\u001b[0;34m:\u001b[0m\u001b[0;34m\u001b[0m\u001b[0m\n\u001b[1;32m    360\u001b[0m             \u001b[0mf\u001b[0m\u001b[0;34m.\u001b[0m\u001b[0mwidget\u001b[0m \u001b[0;34m=\u001b[0m \u001b[0mw\u001b[0m\u001b[0;34m\u001b[0m\u001b[0m\n",
      "\u001b[0;32m/usr/local/lib/python2.7/site-packages/ipywidgets/widgets/interaction.pyc\u001b[0m in \u001b[0;36minteractive\u001b[0;34m(__interact_f, **kwargs)\u001b[0m\n\u001b[1;32m    216\u001b[0m     \u001b[0mmanual\u001b[0m \u001b[0;34m=\u001b[0m \u001b[0mkwargs\u001b[0m\u001b[0;34m.\u001b[0m\u001b[0mpop\u001b[0m\u001b[0;34m(\u001b[0m\u001b[0;34m'__manual'\u001b[0m\u001b[0;34m,\u001b[0m \u001b[0mFalse\u001b[0m\u001b[0;34m)\u001b[0m\u001b[0;34m\u001b[0m\u001b[0m\n\u001b[1;32m    217\u001b[0m     \u001b[0mkwargs_widgets\u001b[0m \u001b[0;34m=\u001b[0m \u001b[0;34m[\u001b[0m\u001b[0;34m]\u001b[0m\u001b[0;34m\u001b[0m\u001b[0m\n\u001b[0;32m--> 218\u001b[0;31m     \u001b[0mcontainer\u001b[0m \u001b[0;34m=\u001b[0m \u001b[0mBox\u001b[0m\u001b[0;34m(\u001b[0m\u001b[0m_dom_classes\u001b[0m\u001b[0;34m=\u001b[0m\u001b[0;34m[\u001b[0m\u001b[0;34m'widget-interact'\u001b[0m\u001b[0;34m]\u001b[0m\u001b[0;34m)\u001b[0m\u001b[0;34m\u001b[0m\u001b[0m\n\u001b[0m\u001b[1;32m    219\u001b[0m     \u001b[0mcontainer\u001b[0m\u001b[0;34m.\u001b[0m\u001b[0mresult\u001b[0m \u001b[0;34m=\u001b[0m \u001b[0mNone\u001b[0m\u001b[0;34m\u001b[0m\u001b[0m\n\u001b[1;32m    220\u001b[0m     \u001b[0mcontainer\u001b[0m\u001b[0;34m.\u001b[0m\u001b[0margs\u001b[0m \u001b[0;34m=\u001b[0m \u001b[0;34m[\u001b[0m\u001b[0;34m]\u001b[0m\u001b[0;34m\u001b[0m\u001b[0m\n",
      "\u001b[0;32m/usr/local/lib/python2.7/site-packages/ipywidgets/widgets/widget_box.pyc\u001b[0m in \u001b[0;36m__init__\u001b[0;34m(self, children, **kwargs)\u001b[0m\n\u001b[1;32m     42\u001b[0m     \u001b[0;32mdef\u001b[0m \u001b[0m__init__\u001b[0m\u001b[0;34m(\u001b[0m\u001b[0mself\u001b[0m\u001b[0;34m,\u001b[0m \u001b[0mchildren\u001b[0m \u001b[0;34m=\u001b[0m \u001b[0;34m(\u001b[0m\u001b[0;34m)\u001b[0m\u001b[0;34m,\u001b[0m \u001b[0;34m**\u001b[0m\u001b[0mkwargs\u001b[0m\u001b[0;34m)\u001b[0m\u001b[0;34m:\u001b[0m\u001b[0;34m\u001b[0m\u001b[0m\n\u001b[1;32m     43\u001b[0m         \u001b[0mkwargs\u001b[0m\u001b[0;34m[\u001b[0m\u001b[0;34m'children'\u001b[0m\u001b[0;34m]\u001b[0m \u001b[0;34m=\u001b[0m \u001b[0mchildren\u001b[0m\u001b[0;34m\u001b[0m\u001b[0m\n\u001b[0;32m---> 44\u001b[0;31m         \u001b[0msuper\u001b[0m\u001b[0;34m(\u001b[0m\u001b[0mBox\u001b[0m\u001b[0;34m,\u001b[0m \u001b[0mself\u001b[0m\u001b[0;34m)\u001b[0m\u001b[0;34m.\u001b[0m\u001b[0m__init__\u001b[0m\u001b[0;34m(\u001b[0m\u001b[0;34m**\u001b[0m\u001b[0mkwargs\u001b[0m\u001b[0;34m)\u001b[0m\u001b[0;34m\u001b[0m\u001b[0m\n\u001b[0m\u001b[1;32m     45\u001b[0m         \u001b[0mself\u001b[0m\u001b[0;34m.\u001b[0m\u001b[0mon_displayed\u001b[0m\u001b[0;34m(\u001b[0m\u001b[0mBox\u001b[0m\u001b[0;34m.\u001b[0m\u001b[0m_fire_children_displayed\u001b[0m\u001b[0;34m)\u001b[0m\u001b[0;34m\u001b[0m\u001b[0m\n\u001b[1;32m     46\u001b[0m \u001b[0;34m\u001b[0m\u001b[0m\n",
      "\u001b[0;32m/usr/local/lib/python2.7/site-packages/ipywidgets/widgets/domwidget.pyc\u001b[0m in \u001b[0;36m__init__\u001b[0;34m(self, *pargs, **kwargs)\u001b[0m\n\u001b[1;32m     88\u001b[0m \u001b[0;34m\u001b[0m\u001b[0m\n\u001b[1;32m     89\u001b[0m     \u001b[0;32mdef\u001b[0m \u001b[0m__init__\u001b[0m\u001b[0;34m(\u001b[0m\u001b[0mself\u001b[0m\u001b[0;34m,\u001b[0m \u001b[0;34m*\u001b[0m\u001b[0mpargs\u001b[0m\u001b[0;34m,\u001b[0m \u001b[0;34m**\u001b[0m\u001b[0mkwargs\u001b[0m\u001b[0;34m)\u001b[0m\u001b[0;34m:\u001b[0m\u001b[0;34m\u001b[0m\u001b[0m\n\u001b[0;32m---> 90\u001b[0;31m         \u001b[0msuper\u001b[0m\u001b[0;34m(\u001b[0m\u001b[0mDOMWidget\u001b[0m\u001b[0;34m,\u001b[0m \u001b[0mself\u001b[0m\u001b[0;34m)\u001b[0m\u001b[0;34m.\u001b[0m\u001b[0m__init__\u001b[0m\u001b[0;34m(\u001b[0m\u001b[0;34m*\u001b[0m\u001b[0mpargs\u001b[0m\u001b[0;34m,\u001b[0m \u001b[0;34m**\u001b[0m\u001b[0mkwargs\u001b[0m\u001b[0;34m)\u001b[0m\u001b[0;34m\u001b[0m\u001b[0m\n\u001b[0m\u001b[1;32m     91\u001b[0m \u001b[0;34m\u001b[0m\u001b[0m\n\u001b[1;32m     92\u001b[0m         \u001b[0;31m# Deprecation added in 5.0.  TODO: Remove me and corresponging traits.\u001b[0m\u001b[0;34m\u001b[0m\u001b[0;34m\u001b[0m\u001b[0m\n",
      "\u001b[0;32m/usr/local/lib/python2.7/site-packages/ipywidgets/widgets/widget.pyc\u001b[0m in \u001b[0;36m__init__\u001b[0;34m(self, **kwargs)\u001b[0m\n\u001b[1;32m    182\u001b[0m \u001b[0;34m\u001b[0m\u001b[0m\n\u001b[1;32m    183\u001b[0m         \u001b[0mWidget\u001b[0m\u001b[0;34m.\u001b[0m\u001b[0m_call_widget_constructed\u001b[0m\u001b[0;34m(\u001b[0m\u001b[0mself\u001b[0m\u001b[0;34m)\u001b[0m\u001b[0;34m\u001b[0m\u001b[0m\n\u001b[0;32m--> 184\u001b[0;31m         \u001b[0mself\u001b[0m\u001b[0;34m.\u001b[0m\u001b[0mopen\u001b[0m\u001b[0;34m(\u001b[0m\u001b[0;34m)\u001b[0m\u001b[0;34m\u001b[0m\u001b[0m\n\u001b[0m\u001b[1;32m    185\u001b[0m \u001b[0;34m\u001b[0m\u001b[0m\n\u001b[1;32m    186\u001b[0m     \u001b[0;32mdef\u001b[0m \u001b[0m__del__\u001b[0m\u001b[0;34m(\u001b[0m\u001b[0mself\u001b[0m\u001b[0;34m)\u001b[0m\u001b[0;34m:\u001b[0m\u001b[0;34m\u001b[0m\u001b[0m\n",
      "\u001b[0;32m/usr/local/lib/python2.7/site-packages/ipywidgets/widgets/widget.pyc\u001b[0m in \u001b[0;36mopen\u001b[0;34m(self)\u001b[0m\n\u001b[1;32m    195\u001b[0m         \u001b[0;34m\"\"\"Open a comm to the frontend if one isn't already open.\"\"\"\u001b[0m\u001b[0;34m\u001b[0m\u001b[0m\n\u001b[1;32m    196\u001b[0m         \u001b[0;32mif\u001b[0m \u001b[0mself\u001b[0m\u001b[0;34m.\u001b[0m\u001b[0mcomm\u001b[0m \u001b[0;32mis\u001b[0m \u001b[0mNone\u001b[0m\u001b[0;34m:\u001b[0m\u001b[0;34m\u001b[0m\u001b[0m\n\u001b[0;32m--> 197\u001b[0;31m             \u001b[0mstate\u001b[0m\u001b[0;34m,\u001b[0m \u001b[0mbuffer_keys\u001b[0m\u001b[0;34m,\u001b[0m \u001b[0mbuffers\u001b[0m \u001b[0;34m=\u001b[0m \u001b[0mself\u001b[0m\u001b[0;34m.\u001b[0m\u001b[0m_split_state_buffers\u001b[0m\u001b[0;34m(\u001b[0m\u001b[0mself\u001b[0m\u001b[0;34m.\u001b[0m\u001b[0mget_state\u001b[0m\u001b[0;34m(\u001b[0m\u001b[0;34m)\u001b[0m\u001b[0;34m)\u001b[0m\u001b[0;34m\u001b[0m\u001b[0m\n\u001b[0m\u001b[1;32m    198\u001b[0m \u001b[0;34m\u001b[0m\u001b[0m\n\u001b[1;32m    199\u001b[0m             \u001b[0margs\u001b[0m \u001b[0;34m=\u001b[0m \u001b[0mdict\u001b[0m\u001b[0;34m(\u001b[0m\u001b[0mtarget_name\u001b[0m\u001b[0;34m=\u001b[0m\u001b[0;34m'jupyter.widget'\u001b[0m\u001b[0;34m,\u001b[0m \u001b[0mdata\u001b[0m\u001b[0;34m=\u001b[0m\u001b[0mstate\u001b[0m\u001b[0;34m)\u001b[0m\u001b[0;34m\u001b[0m\u001b[0m\n",
      "\u001b[0;32m/usr/local/lib/python2.7/site-packages/ipywidgets/widgets/widget.pyc\u001b[0m in \u001b[0;36mget_state\u001b[0;34m(self, key)\u001b[0m\n\u001b[1;32m    288\u001b[0m         \u001b[0;32mfor\u001b[0m \u001b[0mk\u001b[0m \u001b[0;32min\u001b[0m \u001b[0mkeys\u001b[0m\u001b[0;34m:\u001b[0m\u001b[0;34m\u001b[0m\u001b[0m\n\u001b[1;32m    289\u001b[0m             \u001b[0mto_json\u001b[0m \u001b[0;34m=\u001b[0m \u001b[0mself\u001b[0m\u001b[0;34m.\u001b[0m\u001b[0mtrait_metadata\u001b[0m\u001b[0;34m(\u001b[0m\u001b[0mk\u001b[0m\u001b[0;34m,\u001b[0m \u001b[0;34m'to_json'\u001b[0m\u001b[0;34m,\u001b[0m \u001b[0mself\u001b[0m\u001b[0;34m.\u001b[0m\u001b[0m_trait_to_json\u001b[0m\u001b[0;34m)\u001b[0m\u001b[0;34m\u001b[0m\u001b[0m\n\u001b[0;32m--> 290\u001b[0;31m             \u001b[0mvalue\u001b[0m \u001b[0;34m=\u001b[0m \u001b[0mto_json\u001b[0m\u001b[0;34m(\u001b[0m\u001b[0mgetattr\u001b[0m\u001b[0;34m(\u001b[0m\u001b[0mself\u001b[0m\u001b[0;34m,\u001b[0m \u001b[0mk\u001b[0m\u001b[0;34m)\u001b[0m\u001b[0;34m,\u001b[0m \u001b[0mself\u001b[0m\u001b[0;34m)\u001b[0m\u001b[0;34m\u001b[0m\u001b[0m\n\u001b[0m\u001b[1;32m    291\u001b[0m             \u001b[0;32mif\u001b[0m \u001b[0;32mnot\u001b[0m \u001b[0mPY3\u001b[0m \u001b[0;32mand\u001b[0m \u001b[0misinstance\u001b[0m\u001b[0;34m(\u001b[0m\u001b[0mtraits\u001b[0m\u001b[0;34m[\u001b[0m\u001b[0mk\u001b[0m\u001b[0;34m]\u001b[0m\u001b[0;34m,\u001b[0m \u001b[0mBytes\u001b[0m\u001b[0;34m)\u001b[0m \u001b[0;32mand\u001b[0m \u001b[0misinstance\u001b[0m\u001b[0;34m(\u001b[0m\u001b[0mvalue\u001b[0m\u001b[0;34m,\u001b[0m \u001b[0mbytes\u001b[0m\u001b[0;34m)\u001b[0m\u001b[0;34m:\u001b[0m\u001b[0;34m\u001b[0m\u001b[0m\n\u001b[1;32m    292\u001b[0m                 \u001b[0mvalue\u001b[0m \u001b[0;34m=\u001b[0m \u001b[0mmemoryview\u001b[0m\u001b[0;34m(\u001b[0m\u001b[0mvalue\u001b[0m\u001b[0;34m)\u001b[0m\u001b[0;34m\u001b[0m\u001b[0m\n",
      "\u001b[0;32m/usr/local/lib/python2.7/site-packages/traitlets/traitlets.pyc\u001b[0m in \u001b[0;36m__get__\u001b[0;34m(self, obj, cls)\u001b[0m\n\u001b[1;32m    527\u001b[0m             \u001b[0;32mreturn\u001b[0m \u001b[0mself\u001b[0m\u001b[0;34m\u001b[0m\u001b[0m\n\u001b[1;32m    528\u001b[0m         \u001b[0;32melse\u001b[0m\u001b[0;34m:\u001b[0m\u001b[0;34m\u001b[0m\u001b[0m\n\u001b[0;32m--> 529\u001b[0;31m             \u001b[0;32mreturn\u001b[0m \u001b[0mself\u001b[0m\u001b[0;34m.\u001b[0m\u001b[0mget\u001b[0m\u001b[0;34m(\u001b[0m\u001b[0mobj\u001b[0m\u001b[0;34m,\u001b[0m \u001b[0mcls\u001b[0m\u001b[0;34m)\u001b[0m\u001b[0;34m\u001b[0m\u001b[0m\n\u001b[0m\u001b[1;32m    530\u001b[0m \u001b[0;34m\u001b[0m\u001b[0m\n\u001b[1;32m    531\u001b[0m     \u001b[0;32mdef\u001b[0m \u001b[0mset\u001b[0m\u001b[0;34m(\u001b[0m\u001b[0mself\u001b[0m\u001b[0;34m,\u001b[0m \u001b[0mobj\u001b[0m\u001b[0;34m,\u001b[0m \u001b[0mvalue\u001b[0m\u001b[0;34m)\u001b[0m\u001b[0;34m:\u001b[0m\u001b[0;34m\u001b[0m\u001b[0m\n",
      "\u001b[0;32m/usr/local/lib/python2.7/site-packages/traitlets/traitlets.pyc\u001b[0m in \u001b[0;36mget\u001b[0;34m(self, obj, cls)\u001b[0m\n\u001b[1;32m    506\u001b[0m                 raise TraitError(\"No default value found for %s trait of %r\"\n\u001b[1;32m    507\u001b[0m                                  % (self.name, obj))\n\u001b[0;32m--> 508\u001b[0;31m             \u001b[0mvalue\u001b[0m \u001b[0;34m=\u001b[0m \u001b[0mself\u001b[0m\u001b[0;34m.\u001b[0m\u001b[0m_validate\u001b[0m\u001b[0;34m(\u001b[0m\u001b[0mobj\u001b[0m\u001b[0;34m,\u001b[0m \u001b[0mdynamic_default\u001b[0m\u001b[0;34m(\u001b[0m\u001b[0;34m)\u001b[0m\u001b[0;34m)\u001b[0m\u001b[0;34m\u001b[0m\u001b[0m\n\u001b[0m\u001b[1;32m    509\u001b[0m             \u001b[0mobj\u001b[0m\u001b[0;34m.\u001b[0m\u001b[0m_trait_values\u001b[0m\u001b[0;34m[\u001b[0m\u001b[0mself\u001b[0m\u001b[0;34m.\u001b[0m\u001b[0mname\u001b[0m\u001b[0;34m]\u001b[0m \u001b[0;34m=\u001b[0m \u001b[0mvalue\u001b[0m\u001b[0;34m\u001b[0m\u001b[0m\n\u001b[1;32m    510\u001b[0m             \u001b[0;32mreturn\u001b[0m \u001b[0mvalue\u001b[0m\u001b[0;34m\u001b[0m\u001b[0m\n",
      "\u001b[0;32m/usr/local/lib/python2.7/site-packages/ipywidgets/widgets/domwidget.pyc\u001b[0m in \u001b[0;36m_layout_default\u001b[0;34m(self)\u001b[0m\n\u001b[1;32m     21\u001b[0m     \u001b[0mlayout\u001b[0m \u001b[0;34m=\u001b[0m \u001b[0mInstance\u001b[0m\u001b[0;34m(\u001b[0m\u001b[0mLayout\u001b[0m\u001b[0;34m,\u001b[0m \u001b[0mallow_none\u001b[0m\u001b[0;34m=\u001b[0m\u001b[0mTrue\u001b[0m\u001b[0;34m)\u001b[0m\u001b[0;34m.\u001b[0m\u001b[0mtag\u001b[0m\u001b[0;34m(\u001b[0m\u001b[0msync\u001b[0m\u001b[0;34m=\u001b[0m\u001b[0mTrue\u001b[0m\u001b[0;34m,\u001b[0m \u001b[0;34m**\u001b[0m\u001b[0mwidget_serialization\u001b[0m\u001b[0;34m)\u001b[0m\u001b[0;34m\u001b[0m\u001b[0m\n\u001b[1;32m     22\u001b[0m     \u001b[0;32mdef\u001b[0m \u001b[0m_layout_default\u001b[0m\u001b[0;34m(\u001b[0m\u001b[0mself\u001b[0m\u001b[0;34m)\u001b[0m\u001b[0;34m:\u001b[0m\u001b[0;34m\u001b[0m\u001b[0m\n\u001b[0;32m---> 23\u001b[0;31m         \u001b[0;32mreturn\u001b[0m \u001b[0mLayout\u001b[0m\u001b[0;34m(\u001b[0m\u001b[0;34m)\u001b[0m\u001b[0;34m\u001b[0m\u001b[0m\n\u001b[0m\u001b[1;32m     24\u001b[0m \u001b[0;34m\u001b[0m\u001b[0m\n\u001b[1;32m     25\u001b[0m     \u001b[0;31m# width, height, padding, margin border properties rebinding to the layout attribute.\u001b[0m\u001b[0;34m\u001b[0m\u001b[0;34m\u001b[0m\u001b[0m\n",
      "\u001b[0;32m/usr/local/lib/python2.7/site-packages/ipywidgets/widgets/widget.pyc\u001b[0m in \u001b[0;36m__init__\u001b[0;34m(self, **kwargs)\u001b[0m\n\u001b[1;32m    182\u001b[0m \u001b[0;34m\u001b[0m\u001b[0m\n\u001b[1;32m    183\u001b[0m         \u001b[0mWidget\u001b[0m\u001b[0;34m.\u001b[0m\u001b[0m_call_widget_constructed\u001b[0m\u001b[0;34m(\u001b[0m\u001b[0mself\u001b[0m\u001b[0;34m)\u001b[0m\u001b[0;34m\u001b[0m\u001b[0m\n\u001b[0;32m--> 184\u001b[0;31m         \u001b[0mself\u001b[0m\u001b[0;34m.\u001b[0m\u001b[0mopen\u001b[0m\u001b[0;34m(\u001b[0m\u001b[0;34m)\u001b[0m\u001b[0;34m\u001b[0m\u001b[0m\n\u001b[0m\u001b[1;32m    185\u001b[0m \u001b[0;34m\u001b[0m\u001b[0m\n\u001b[1;32m    186\u001b[0m     \u001b[0;32mdef\u001b[0m \u001b[0m__del__\u001b[0m\u001b[0;34m(\u001b[0m\u001b[0mself\u001b[0m\u001b[0;34m)\u001b[0m\u001b[0;34m:\u001b[0m\u001b[0;34m\u001b[0m\u001b[0m\n",
      "\u001b[0;32m/usr/local/lib/python2.7/site-packages/ipywidgets/widgets/widget.pyc\u001b[0m in \u001b[0;36mopen\u001b[0;34m(self)\u001b[0m\n\u001b[1;32m    201\u001b[0m                 \u001b[0margs\u001b[0m\u001b[0;34m[\u001b[0m\u001b[0;34m'comm_id'\u001b[0m\u001b[0;34m]\u001b[0m \u001b[0;34m=\u001b[0m \u001b[0mself\u001b[0m\u001b[0;34m.\u001b[0m\u001b[0m_model_id\u001b[0m\u001b[0;34m\u001b[0m\u001b[0m\n\u001b[1;32m    202\u001b[0m \u001b[0;34m\u001b[0m\u001b[0m\n\u001b[0;32m--> 203\u001b[0;31m             \u001b[0mself\u001b[0m\u001b[0;34m.\u001b[0m\u001b[0mcomm\u001b[0m \u001b[0;34m=\u001b[0m \u001b[0mComm\u001b[0m\u001b[0;34m(\u001b[0m\u001b[0;34m**\u001b[0m\u001b[0margs\u001b[0m\u001b[0;34m)\u001b[0m\u001b[0;34m\u001b[0m\u001b[0m\n\u001b[0m\u001b[1;32m    204\u001b[0m             \u001b[0;32mif\u001b[0m \u001b[0mbuffers\u001b[0m\u001b[0;34m:\u001b[0m\u001b[0;34m\u001b[0m\u001b[0m\n\u001b[1;32m    205\u001b[0m                 \u001b[0;31m# FIXME: workaround ipykernel missing binary message support in open-on-init\u001b[0m\u001b[0;34m\u001b[0m\u001b[0;34m\u001b[0m\u001b[0m\n",
      "\u001b[0;32m/usr/local/lib/python2.7/site-packages/ipykernel/comm/comm.pyc\u001b[0m in \u001b[0;36m__init__\u001b[0;34m(self, target_name, data, metadata, buffers, **kwargs)\u001b[0m\n\u001b[1;32m     61\u001b[0m         \u001b[0;32mif\u001b[0m \u001b[0mself\u001b[0m\u001b[0;34m.\u001b[0m\u001b[0mprimary\u001b[0m\u001b[0;34m:\u001b[0m\u001b[0;34m\u001b[0m\u001b[0m\n\u001b[1;32m     62\u001b[0m             \u001b[0;31m# I am primary, open my peer.\u001b[0m\u001b[0;34m\u001b[0m\u001b[0;34m\u001b[0m\u001b[0m\n\u001b[0;32m---> 63\u001b[0;31m             \u001b[0mself\u001b[0m\u001b[0;34m.\u001b[0m\u001b[0mopen\u001b[0m\u001b[0;34m(\u001b[0m\u001b[0mdata\u001b[0m\u001b[0;34m=\u001b[0m\u001b[0mdata\u001b[0m\u001b[0;34m,\u001b[0m \u001b[0mmetadata\u001b[0m\u001b[0;34m=\u001b[0m\u001b[0mmetadata\u001b[0m\u001b[0;34m,\u001b[0m \u001b[0mbuffers\u001b[0m\u001b[0;34m=\u001b[0m\u001b[0mbuffers\u001b[0m\u001b[0;34m)\u001b[0m\u001b[0;34m\u001b[0m\u001b[0m\n\u001b[0m\u001b[1;32m     64\u001b[0m         \u001b[0;32melse\u001b[0m\u001b[0;34m:\u001b[0m\u001b[0;34m\u001b[0m\u001b[0m\n\u001b[1;32m     65\u001b[0m             \u001b[0mself\u001b[0m\u001b[0;34m.\u001b[0m\u001b[0m_closed\u001b[0m \u001b[0;34m=\u001b[0m \u001b[0mFalse\u001b[0m\u001b[0;34m\u001b[0m\u001b[0m\n",
      "\u001b[0;32m/usr/local/lib/python2.7/site-packages/ipykernel/comm/comm.pyc\u001b[0m in \u001b[0;36mopen\u001b[0;34m(self, data, metadata, buffers)\u001b[0m\n\u001b[1;32m     92\u001b[0m         \u001b[0;32mif\u001b[0m \u001b[0mdata\u001b[0m \u001b[0;32mis\u001b[0m \u001b[0mNone\u001b[0m\u001b[0;34m:\u001b[0m\u001b[0;34m\u001b[0m\u001b[0m\n\u001b[1;32m     93\u001b[0m             \u001b[0mdata\u001b[0m \u001b[0;34m=\u001b[0m \u001b[0mself\u001b[0m\u001b[0;34m.\u001b[0m\u001b[0m_open_data\u001b[0m\u001b[0;34m\u001b[0m\u001b[0m\n\u001b[0;32m---> 94\u001b[0;31m         \u001b[0mcomm_manager\u001b[0m \u001b[0;34m=\u001b[0m \u001b[0mgetattr\u001b[0m\u001b[0;34m(\u001b[0m\u001b[0mself\u001b[0m\u001b[0;34m.\u001b[0m\u001b[0mkernel\u001b[0m\u001b[0;34m,\u001b[0m \u001b[0;34m'comm_manager'\u001b[0m\u001b[0;34m,\u001b[0m \u001b[0mNone\u001b[0m\u001b[0;34m)\u001b[0m\u001b[0;34m\u001b[0m\u001b[0m\n\u001b[0m\u001b[1;32m     95\u001b[0m         \u001b[0;32mif\u001b[0m \u001b[0mcomm_manager\u001b[0m \u001b[0;32mis\u001b[0m \u001b[0mNone\u001b[0m\u001b[0;34m:\u001b[0m\u001b[0;34m\u001b[0m\u001b[0m\n\u001b[1;32m     96\u001b[0m             raise RuntimeError(\"Comms cannot be opened without a kernel \"\n",
      "\u001b[0;32m/usr/local/lib/python2.7/site-packages/traitlets/traitlets.pyc\u001b[0m in \u001b[0;36m__get__\u001b[0;34m(self, obj, cls)\u001b[0m\n\u001b[1;32m    527\u001b[0m             \u001b[0;32mreturn\u001b[0m \u001b[0mself\u001b[0m\u001b[0;34m\u001b[0m\u001b[0m\n\u001b[1;32m    528\u001b[0m         \u001b[0;32melse\u001b[0m\u001b[0;34m:\u001b[0m\u001b[0;34m\u001b[0m\u001b[0m\n\u001b[0;32m--> 529\u001b[0;31m             \u001b[0;32mreturn\u001b[0m \u001b[0mself\u001b[0m\u001b[0;34m.\u001b[0m\u001b[0mget\u001b[0m\u001b[0;34m(\u001b[0m\u001b[0mobj\u001b[0m\u001b[0;34m,\u001b[0m \u001b[0mcls\u001b[0m\u001b[0;34m)\u001b[0m\u001b[0;34m\u001b[0m\u001b[0m\n\u001b[0m\u001b[1;32m    530\u001b[0m \u001b[0;34m\u001b[0m\u001b[0m\n\u001b[1;32m    531\u001b[0m     \u001b[0;32mdef\u001b[0m \u001b[0mset\u001b[0m\u001b[0;34m(\u001b[0m\u001b[0mself\u001b[0m\u001b[0;34m,\u001b[0m \u001b[0mobj\u001b[0m\u001b[0;34m,\u001b[0m \u001b[0mvalue\u001b[0m\u001b[0;34m)\u001b[0m\u001b[0;34m:\u001b[0m\u001b[0;34m\u001b[0m\u001b[0m\n",
      "\u001b[0;32m/usr/local/lib/python2.7/site-packages/traitlets/traitlets.pyc\u001b[0m in \u001b[0;36mget\u001b[0;34m(self, obj, cls)\u001b[0m\n\u001b[1;32m    506\u001b[0m                 raise TraitError(\"No default value found for %s trait of %r\"\n\u001b[1;32m    507\u001b[0m                                  % (self.name, obj))\n\u001b[0;32m--> 508\u001b[0;31m             \u001b[0mvalue\u001b[0m \u001b[0;34m=\u001b[0m \u001b[0mself\u001b[0m\u001b[0;34m.\u001b[0m\u001b[0m_validate\u001b[0m\u001b[0;34m(\u001b[0m\u001b[0mobj\u001b[0m\u001b[0;34m,\u001b[0m \u001b[0mdynamic_default\u001b[0m\u001b[0;34m(\u001b[0m\u001b[0;34m)\u001b[0m\u001b[0;34m)\u001b[0m\u001b[0;34m\u001b[0m\u001b[0m\n\u001b[0m\u001b[1;32m    509\u001b[0m             \u001b[0mobj\u001b[0m\u001b[0;34m.\u001b[0m\u001b[0m_trait_values\u001b[0m\u001b[0;34m[\u001b[0m\u001b[0mself\u001b[0m\u001b[0;34m.\u001b[0m\u001b[0mname\u001b[0m\u001b[0;34m]\u001b[0m \u001b[0;34m=\u001b[0m \u001b[0mvalue\u001b[0m\u001b[0;34m\u001b[0m\u001b[0m\n\u001b[1;32m    510\u001b[0m             \u001b[0;32mreturn\u001b[0m \u001b[0mvalue\u001b[0m\u001b[0;34m\u001b[0m\u001b[0m\n",
      "\u001b[0;32m/usr/local/lib/python2.7/site-packages/traitlets/traitlets.pyc\u001b[0m in \u001b[0;36m_validate\u001b[0;34m(self, obj, value)\u001b[0m\n\u001b[1;32m    562\u001b[0m             \u001b[0;32mreturn\u001b[0m \u001b[0mvalue\u001b[0m\u001b[0;34m\u001b[0m\u001b[0m\n\u001b[1;32m    563\u001b[0m         \u001b[0;32mif\u001b[0m \u001b[0mhasattr\u001b[0m\u001b[0;34m(\u001b[0m\u001b[0mself\u001b[0m\u001b[0;34m,\u001b[0m \u001b[0;34m'validate'\u001b[0m\u001b[0;34m)\u001b[0m\u001b[0;34m:\u001b[0m\u001b[0;34m\u001b[0m\u001b[0m\n\u001b[0;32m--> 564\u001b[0;31m             \u001b[0mvalue\u001b[0m \u001b[0;34m=\u001b[0m \u001b[0mself\u001b[0m\u001b[0;34m.\u001b[0m\u001b[0mvalidate\u001b[0m\u001b[0;34m(\u001b[0m\u001b[0mobj\u001b[0m\u001b[0;34m,\u001b[0m \u001b[0mvalue\u001b[0m\u001b[0;34m)\u001b[0m\u001b[0;34m\u001b[0m\u001b[0m\n\u001b[0m\u001b[1;32m    565\u001b[0m         \u001b[0;32mif\u001b[0m \u001b[0mobj\u001b[0m\u001b[0;34m.\u001b[0m\u001b[0m_cross_validation_lock\u001b[0m \u001b[0;32mis\u001b[0m \u001b[0mFalse\u001b[0m\u001b[0;34m:\u001b[0m\u001b[0;34m\u001b[0m\u001b[0m\n\u001b[1;32m    566\u001b[0m             \u001b[0mvalue\u001b[0m \u001b[0;34m=\u001b[0m \u001b[0mself\u001b[0m\u001b[0;34m.\u001b[0m\u001b[0m_cross_validate\u001b[0m\u001b[0;34m(\u001b[0m\u001b[0mobj\u001b[0m\u001b[0;34m,\u001b[0m \u001b[0mvalue\u001b[0m\u001b[0;34m)\u001b[0m\u001b[0;34m\u001b[0m\u001b[0m\n",
      "\u001b[0;32m/usr/local/lib/python2.7/site-packages/traitlets/traitlets.pyc\u001b[0m in \u001b[0;36mvalidate\u001b[0;34m(self, obj, value)\u001b[0m\n\u001b[1;32m   1587\u001b[0m             \u001b[0;32mreturn\u001b[0m \u001b[0mvalue\u001b[0m\u001b[0;34m\u001b[0m\u001b[0m\n\u001b[1;32m   1588\u001b[0m         \u001b[0;32melse\u001b[0m\u001b[0;34m:\u001b[0m\u001b[0;34m\u001b[0m\u001b[0m\n\u001b[0;32m-> 1589\u001b[0;31m             \u001b[0mself\u001b[0m\u001b[0;34m.\u001b[0m\u001b[0merror\u001b[0m\u001b[0;34m(\u001b[0m\u001b[0mobj\u001b[0m\u001b[0;34m,\u001b[0m \u001b[0mvalue\u001b[0m\u001b[0;34m)\u001b[0m\u001b[0;34m\u001b[0m\u001b[0m\n\u001b[0m\u001b[1;32m   1590\u001b[0m \u001b[0;34m\u001b[0m\u001b[0m\n\u001b[1;32m   1591\u001b[0m     \u001b[0;32mdef\u001b[0m \u001b[0minfo\u001b[0m\u001b[0;34m(\u001b[0m\u001b[0mself\u001b[0m\u001b[0;34m)\u001b[0m\u001b[0;34m:\u001b[0m\u001b[0;34m\u001b[0m\u001b[0m\n",
      "\u001b[0;32m/usr/local/lib/python2.7/site-packages/traitlets/traitlets.pyc\u001b[0m in \u001b[0;36merror\u001b[0;34m(self, obj, value)\u001b[0m\n\u001b[1;32m   1434\u001b[0m                 \u001b[0;34m%\u001b[0m \u001b[0;34m(\u001b[0m\u001b[0mself\u001b[0m\u001b[0;34m.\u001b[0m\u001b[0mname\u001b[0m\u001b[0;34m,\u001b[0m \u001b[0mself\u001b[0m\u001b[0;34m.\u001b[0m\u001b[0minfo\u001b[0m\u001b[0;34m(\u001b[0m\u001b[0;34m)\u001b[0m\u001b[0;34m,\u001b[0m \u001b[0mmsg\u001b[0m\u001b[0;34m)\u001b[0m\u001b[0;34m\u001b[0m\u001b[0m\n\u001b[1;32m   1435\u001b[0m \u001b[0;34m\u001b[0m\u001b[0m\n\u001b[0;32m-> 1436\u001b[0;31m         \u001b[0;32mraise\u001b[0m \u001b[0mTraitError\u001b[0m\u001b[0;34m(\u001b[0m\u001b[0me\u001b[0m\u001b[0;34m)\u001b[0m\u001b[0;34m\u001b[0m\u001b[0m\n\u001b[0m\u001b[1;32m   1437\u001b[0m \u001b[0;34m\u001b[0m\u001b[0m\n\u001b[1;32m   1438\u001b[0m \u001b[0;34m\u001b[0m\u001b[0m\n",
      "\u001b[0;31mTraitError\u001b[0m: The 'kernel' trait of a Comm instance must be a Kernel, but a value of type 'NoneType' (i.e. None) was specified."
     ]
>>>>>>> 065d7e12db1816bc03274892c63d523a7a537c27
    }
   ],
   "source": [
    "def ridge_plot_runner(log_of_alpha=0):\n",
    "    coef_plotter(r_alphas, r_coefs, simple_feature_names, 10**log_of_alpha, regtype='ridge')\n",
    "\n",
    "interact(ridge_plot_runner, log_of_alpha=(0.0,5.0,0.05))"
   ]
  },
  {
   "cell_type": "markdown",
   "metadata": {},
   "source": [
    "#### 6.2 Visualizing the Lasso\n",
    "\n",
    "Now we do the same thing as above but for the Lasso. You will be able to see how the coefficients change differently for both."
   ]
  },
  {
   "cell_type": "code",
<<<<<<< HEAD
   "execution_count": 23,
=======
   "execution_count": 36,
>>>>>>> 065d7e12db1816bc03274892c63d523a7a537c27
   "metadata": {
    "collapsed": true
   },
   "outputs": [],
   "source": [
    "from sklearn.linear_model import Lasso"
   ]
  },
  {
   "cell_type": "code",
<<<<<<< HEAD
   "execution_count": 24,
=======
   "execution_count": 37,
>>>>>>> 065d7e12db1816bc03274892c63d523a7a537c27
   "metadata": {
    "collapsed": false
   },
   "outputs": [],
   "source": [
    "# This is the same as the ridge coefficient by alpha calculator\n",
    "def lasso_coefs(X, Y, alphas):\n",
    "    coefs = []\n",
    "    lasso_reg = Lasso()\n",
    "    for a in alphas:\n",
    "        lasso_reg.set_params(alpha=a)\n",
    "        lasso_reg.fit(X, Y)\n",
    "        coefs.append(lasso_reg.coef_)\n",
    "        \n",
    "    return coefs\n"
   ]
  },
  {
   "cell_type": "markdown",
   "metadata": {},
   "source": [
    "Alphas for the Lasso don't have their effects by orders of magnitude. A linear series of alphas is sufficient. Don't worry about the warning for Lasso at alpha 0."
   ]
  },
  {
   "cell_type": "code",
<<<<<<< HEAD
   "execution_count": 25,
=======
   "execution_count": 38,
>>>>>>> 065d7e12db1816bc03274892c63d523a7a537c27
   "metadata": {
    "collapsed": false
   },
   "outputs": [
    {
     "name": "stderr",
     "output_type": "stream",
     "text": [
<<<<<<< HEAD
      "/Users/davidswan/anaconda/lib/python2.7/site-packages/ipykernel/__main__.py:7: UserWarning: With alpha=0, this algorithm does not converge well. You are advised to use the LinearRegression estimator\n",
      "/Users/davidswan/anaconda/lib/python2.7/site-packages/sklearn/linear_model/coordinate_descent.py:454: UserWarning: Coordinate descent with alpha=0 may lead to unexpected results and is discouraged.\n",
      "  positive)\n",
      "/Users/davidswan/anaconda/lib/python2.7/site-packages/sklearn/linear_model/coordinate_descent.py:466: ConvergenceWarning: Objective did not converge. You might want to increase the number of iterations\n",
=======
      "/usr/local/lib/python2.7/site-packages/IPython/kernel/__main__.py:7: UserWarning: With alpha=0, this algorithm does not converge well. You are advised to use the LinearRegression estimator\n",
      "/usr/local/lib/python2.7/site-packages/sklearn/linear_model/coordinate_descent.py:432: UserWarning: Coordinate descent with alpha=0 may lead to unexpected results and is discouraged.\n",
      "  positive)\n",
      "/usr/local/lib/python2.7/site-packages/sklearn/linear_model/coordinate_descent.py:444: ConvergenceWarning: Objective did not converge. You might want to increase the number of iterations\n",
>>>>>>> 065d7e12db1816bc03274892c63d523a7a537c27
      "  ConvergenceWarning)\n"
     ]
    }
   ],
   "source": [
    "l_alphas = np.arange(0, 0.2, 0.0025)\n",
    "l_coefs = lasso_coefs(X, Y, l_alphas)"
   ]
  },
  {
   "cell_type": "markdown",
   "metadata": {},
   "source": [
    "Run the same plotting function above, but now with the calculated coefficients by alpha for the Lasso."
   ]
  },
  {
   "cell_type": "code",
<<<<<<< HEAD
   "execution_count": 26,
=======
   "execution_count": 39,
>>>>>>> 065d7e12db1816bc03274892c63d523a7a537c27
   "metadata": {
    "collapsed": false
   },
   "outputs": [
    {
<<<<<<< HEAD
     "data": {
      "image/png": "iVBORw0KGgoAAAANSUhEUgAABC0AAAI/CAYAAABTQiOhAAAABHNCSVQICAgIfAhkiAAAAAlwSFlz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\nYII=\n",
      "text/plain": [
       "<matplotlib.figure.Figure at 0x120d72650>"
      ]
     },
     "metadata": {},
     "output_type": "display_data"
    },
    {
     "data": {
      "text/plain": [
       "<function __main__.lasso_plot_runner>"
      ]
     },
     "execution_count": 26,
     "metadata": {},
     "output_type": "execute_result"
=======
     "ename": "TraitError",
     "evalue": "The 'kernel' trait of a Comm instance must be a Kernel, but a value of type 'NoneType' (i.e. None) was specified.",
     "output_type": "error",
     "traceback": [
      "\u001b[0;31m---------------------------------------------------------------------------\u001b[0m",
      "\u001b[0;31mTraitError\u001b[0m                                Traceback (most recent call last)",
      "\u001b[0;32m<ipython-input-39-ac8602bb9a32>\u001b[0m in \u001b[0;36m<module>\u001b[0;34m()\u001b[0m\n\u001b[1;32m      2\u001b[0m     \u001b[0mcoef_plotter\u001b[0m\u001b[0;34m(\u001b[0m\u001b[0ml_alphas\u001b[0m\u001b[0;34m,\u001b[0m \u001b[0ml_coefs\u001b[0m\u001b[0;34m,\u001b[0m \u001b[0msimple_feature_names\u001b[0m\u001b[0;34m,\u001b[0m \u001b[0malpha\u001b[0m\u001b[0;34m,\u001b[0m \u001b[0mregtype\u001b[0m\u001b[0;34m=\u001b[0m\u001b[0;34m'lasso'\u001b[0m\u001b[0;34m)\u001b[0m\u001b[0;34m\u001b[0m\u001b[0m\n\u001b[1;32m      3\u001b[0m \u001b[0;34m\u001b[0m\u001b[0m\n\u001b[0;32m----> 4\u001b[0;31m \u001b[0minteract\u001b[0m\u001b[0;34m(\u001b[0m\u001b[0mlasso_plot_runner\u001b[0m\u001b[0;34m,\u001b[0m \u001b[0malpha\u001b[0m\u001b[0;34m=\u001b[0m\u001b[0;34m(\u001b[0m\u001b[0;36m0.0\u001b[0m\u001b[0;34m,\u001b[0m\u001b[0;36m0.2\u001b[0m\u001b[0;34m,\u001b[0m\u001b[0;36m0.0025\u001b[0m\u001b[0;34m)\u001b[0m\u001b[0;34m)\u001b[0m\u001b[0;34m\u001b[0m\u001b[0m\n\u001b[0m",
      "\u001b[0;32m/usr/local/lib/python2.7/site-packages/ipywidgets/widgets/interaction.pyc\u001b[0m in \u001b[0;36minteract\u001b[0;34m(__interact_f, **kwargs)\u001b[0m\n\u001b[1;32m    356\u001b[0m         \u001b[0;31m#        ...\u001b[0m\u001b[0;34m\u001b[0m\u001b[0;34m\u001b[0m\u001b[0m\n\u001b[1;32m    357\u001b[0m         \u001b[0mf\u001b[0m \u001b[0;34m=\u001b[0m \u001b[0m__interact_f\u001b[0m\u001b[0;34m\u001b[0m\u001b[0m\n\u001b[0;32m--> 358\u001b[0;31m         \u001b[0mw\u001b[0m \u001b[0;34m=\u001b[0m \u001b[0minteractive\u001b[0m\u001b[0;34m(\u001b[0m\u001b[0mf\u001b[0m\u001b[0;34m,\u001b[0m \u001b[0;34m**\u001b[0m\u001b[0mkwargs\u001b[0m\u001b[0;34m)\u001b[0m\u001b[0;34m\u001b[0m\u001b[0m\n\u001b[0m\u001b[1;32m    359\u001b[0m         \u001b[0;32mtry\u001b[0m\u001b[0;34m:\u001b[0m\u001b[0;34m\u001b[0m\u001b[0m\n\u001b[1;32m    360\u001b[0m             \u001b[0mf\u001b[0m\u001b[0;34m.\u001b[0m\u001b[0mwidget\u001b[0m \u001b[0;34m=\u001b[0m \u001b[0mw\u001b[0m\u001b[0;34m\u001b[0m\u001b[0m\n",
      "\u001b[0;32m/usr/local/lib/python2.7/site-packages/ipywidgets/widgets/interaction.pyc\u001b[0m in \u001b[0;36minteractive\u001b[0;34m(__interact_f, **kwargs)\u001b[0m\n\u001b[1;32m    216\u001b[0m     \u001b[0mmanual\u001b[0m \u001b[0;34m=\u001b[0m \u001b[0mkwargs\u001b[0m\u001b[0;34m.\u001b[0m\u001b[0mpop\u001b[0m\u001b[0;34m(\u001b[0m\u001b[0;34m'__manual'\u001b[0m\u001b[0;34m,\u001b[0m \u001b[0mFalse\u001b[0m\u001b[0;34m)\u001b[0m\u001b[0;34m\u001b[0m\u001b[0m\n\u001b[1;32m    217\u001b[0m     \u001b[0mkwargs_widgets\u001b[0m \u001b[0;34m=\u001b[0m \u001b[0;34m[\u001b[0m\u001b[0;34m]\u001b[0m\u001b[0;34m\u001b[0m\u001b[0m\n\u001b[0;32m--> 218\u001b[0;31m     \u001b[0mcontainer\u001b[0m \u001b[0;34m=\u001b[0m \u001b[0mBox\u001b[0m\u001b[0;34m(\u001b[0m\u001b[0m_dom_classes\u001b[0m\u001b[0;34m=\u001b[0m\u001b[0;34m[\u001b[0m\u001b[0;34m'widget-interact'\u001b[0m\u001b[0;34m]\u001b[0m\u001b[0;34m)\u001b[0m\u001b[0;34m\u001b[0m\u001b[0m\n\u001b[0m\u001b[1;32m    219\u001b[0m     \u001b[0mcontainer\u001b[0m\u001b[0;34m.\u001b[0m\u001b[0mresult\u001b[0m \u001b[0;34m=\u001b[0m \u001b[0mNone\u001b[0m\u001b[0;34m\u001b[0m\u001b[0m\n\u001b[1;32m    220\u001b[0m     \u001b[0mcontainer\u001b[0m\u001b[0;34m.\u001b[0m\u001b[0margs\u001b[0m \u001b[0;34m=\u001b[0m \u001b[0;34m[\u001b[0m\u001b[0;34m]\u001b[0m\u001b[0;34m\u001b[0m\u001b[0m\n",
      "\u001b[0;32m/usr/local/lib/python2.7/site-packages/ipywidgets/widgets/widget_box.pyc\u001b[0m in \u001b[0;36m__init__\u001b[0;34m(self, children, **kwargs)\u001b[0m\n\u001b[1;32m     42\u001b[0m     \u001b[0;32mdef\u001b[0m \u001b[0m__init__\u001b[0m\u001b[0;34m(\u001b[0m\u001b[0mself\u001b[0m\u001b[0;34m,\u001b[0m \u001b[0mchildren\u001b[0m \u001b[0;34m=\u001b[0m \u001b[0;34m(\u001b[0m\u001b[0;34m)\u001b[0m\u001b[0;34m,\u001b[0m \u001b[0;34m**\u001b[0m\u001b[0mkwargs\u001b[0m\u001b[0;34m)\u001b[0m\u001b[0;34m:\u001b[0m\u001b[0;34m\u001b[0m\u001b[0m\n\u001b[1;32m     43\u001b[0m         \u001b[0mkwargs\u001b[0m\u001b[0;34m[\u001b[0m\u001b[0;34m'children'\u001b[0m\u001b[0;34m]\u001b[0m \u001b[0;34m=\u001b[0m \u001b[0mchildren\u001b[0m\u001b[0;34m\u001b[0m\u001b[0m\n\u001b[0;32m---> 44\u001b[0;31m         \u001b[0msuper\u001b[0m\u001b[0;34m(\u001b[0m\u001b[0mBox\u001b[0m\u001b[0;34m,\u001b[0m \u001b[0mself\u001b[0m\u001b[0;34m)\u001b[0m\u001b[0;34m.\u001b[0m\u001b[0m__init__\u001b[0m\u001b[0;34m(\u001b[0m\u001b[0;34m**\u001b[0m\u001b[0mkwargs\u001b[0m\u001b[0;34m)\u001b[0m\u001b[0;34m\u001b[0m\u001b[0m\n\u001b[0m\u001b[1;32m     45\u001b[0m         \u001b[0mself\u001b[0m\u001b[0;34m.\u001b[0m\u001b[0mon_displayed\u001b[0m\u001b[0;34m(\u001b[0m\u001b[0mBox\u001b[0m\u001b[0;34m.\u001b[0m\u001b[0m_fire_children_displayed\u001b[0m\u001b[0;34m)\u001b[0m\u001b[0;34m\u001b[0m\u001b[0m\n\u001b[1;32m     46\u001b[0m \u001b[0;34m\u001b[0m\u001b[0m\n",
      "\u001b[0;32m/usr/local/lib/python2.7/site-packages/ipywidgets/widgets/domwidget.pyc\u001b[0m in \u001b[0;36m__init__\u001b[0;34m(self, *pargs, **kwargs)\u001b[0m\n\u001b[1;32m     88\u001b[0m \u001b[0;34m\u001b[0m\u001b[0m\n\u001b[1;32m     89\u001b[0m     \u001b[0;32mdef\u001b[0m \u001b[0m__init__\u001b[0m\u001b[0;34m(\u001b[0m\u001b[0mself\u001b[0m\u001b[0;34m,\u001b[0m \u001b[0;34m*\u001b[0m\u001b[0mpargs\u001b[0m\u001b[0;34m,\u001b[0m \u001b[0;34m**\u001b[0m\u001b[0mkwargs\u001b[0m\u001b[0;34m)\u001b[0m\u001b[0;34m:\u001b[0m\u001b[0;34m\u001b[0m\u001b[0m\n\u001b[0;32m---> 90\u001b[0;31m         \u001b[0msuper\u001b[0m\u001b[0;34m(\u001b[0m\u001b[0mDOMWidget\u001b[0m\u001b[0;34m,\u001b[0m \u001b[0mself\u001b[0m\u001b[0;34m)\u001b[0m\u001b[0;34m.\u001b[0m\u001b[0m__init__\u001b[0m\u001b[0;34m(\u001b[0m\u001b[0;34m*\u001b[0m\u001b[0mpargs\u001b[0m\u001b[0;34m,\u001b[0m \u001b[0;34m**\u001b[0m\u001b[0mkwargs\u001b[0m\u001b[0;34m)\u001b[0m\u001b[0;34m\u001b[0m\u001b[0m\n\u001b[0m\u001b[1;32m     91\u001b[0m \u001b[0;34m\u001b[0m\u001b[0m\n\u001b[1;32m     92\u001b[0m         \u001b[0;31m# Deprecation added in 5.0.  TODO: Remove me and corresponging traits.\u001b[0m\u001b[0;34m\u001b[0m\u001b[0;34m\u001b[0m\u001b[0m\n",
      "\u001b[0;32m/usr/local/lib/python2.7/site-packages/ipywidgets/widgets/widget.pyc\u001b[0m in \u001b[0;36m__init__\u001b[0;34m(self, **kwargs)\u001b[0m\n\u001b[1;32m    182\u001b[0m \u001b[0;34m\u001b[0m\u001b[0m\n\u001b[1;32m    183\u001b[0m         \u001b[0mWidget\u001b[0m\u001b[0;34m.\u001b[0m\u001b[0m_call_widget_constructed\u001b[0m\u001b[0;34m(\u001b[0m\u001b[0mself\u001b[0m\u001b[0;34m)\u001b[0m\u001b[0;34m\u001b[0m\u001b[0m\n\u001b[0;32m--> 184\u001b[0;31m         \u001b[0mself\u001b[0m\u001b[0;34m.\u001b[0m\u001b[0mopen\u001b[0m\u001b[0;34m(\u001b[0m\u001b[0;34m)\u001b[0m\u001b[0;34m\u001b[0m\u001b[0m\n\u001b[0m\u001b[1;32m    185\u001b[0m \u001b[0;34m\u001b[0m\u001b[0m\n\u001b[1;32m    186\u001b[0m     \u001b[0;32mdef\u001b[0m \u001b[0m__del__\u001b[0m\u001b[0;34m(\u001b[0m\u001b[0mself\u001b[0m\u001b[0;34m)\u001b[0m\u001b[0;34m:\u001b[0m\u001b[0;34m\u001b[0m\u001b[0m\n",
      "\u001b[0;32m/usr/local/lib/python2.7/site-packages/ipywidgets/widgets/widget.pyc\u001b[0m in \u001b[0;36mopen\u001b[0;34m(self)\u001b[0m\n\u001b[1;32m    195\u001b[0m         \u001b[0;34m\"\"\"Open a comm to the frontend if one isn't already open.\"\"\"\u001b[0m\u001b[0;34m\u001b[0m\u001b[0m\n\u001b[1;32m    196\u001b[0m         \u001b[0;32mif\u001b[0m \u001b[0mself\u001b[0m\u001b[0;34m.\u001b[0m\u001b[0mcomm\u001b[0m \u001b[0;32mis\u001b[0m \u001b[0mNone\u001b[0m\u001b[0;34m:\u001b[0m\u001b[0;34m\u001b[0m\u001b[0m\n\u001b[0;32m--> 197\u001b[0;31m             \u001b[0mstate\u001b[0m\u001b[0;34m,\u001b[0m \u001b[0mbuffer_keys\u001b[0m\u001b[0;34m,\u001b[0m \u001b[0mbuffers\u001b[0m \u001b[0;34m=\u001b[0m \u001b[0mself\u001b[0m\u001b[0;34m.\u001b[0m\u001b[0m_split_state_buffers\u001b[0m\u001b[0;34m(\u001b[0m\u001b[0mself\u001b[0m\u001b[0;34m.\u001b[0m\u001b[0mget_state\u001b[0m\u001b[0;34m(\u001b[0m\u001b[0;34m)\u001b[0m\u001b[0;34m)\u001b[0m\u001b[0;34m\u001b[0m\u001b[0m\n\u001b[0m\u001b[1;32m    198\u001b[0m \u001b[0;34m\u001b[0m\u001b[0m\n\u001b[1;32m    199\u001b[0m             \u001b[0margs\u001b[0m \u001b[0;34m=\u001b[0m \u001b[0mdict\u001b[0m\u001b[0;34m(\u001b[0m\u001b[0mtarget_name\u001b[0m\u001b[0;34m=\u001b[0m\u001b[0;34m'jupyter.widget'\u001b[0m\u001b[0;34m,\u001b[0m \u001b[0mdata\u001b[0m\u001b[0;34m=\u001b[0m\u001b[0mstate\u001b[0m\u001b[0;34m)\u001b[0m\u001b[0;34m\u001b[0m\u001b[0m\n",
      "\u001b[0;32m/usr/local/lib/python2.7/site-packages/ipywidgets/widgets/widget.pyc\u001b[0m in \u001b[0;36mget_state\u001b[0;34m(self, key)\u001b[0m\n\u001b[1;32m    288\u001b[0m         \u001b[0;32mfor\u001b[0m \u001b[0mk\u001b[0m \u001b[0;32min\u001b[0m \u001b[0mkeys\u001b[0m\u001b[0;34m:\u001b[0m\u001b[0;34m\u001b[0m\u001b[0m\n\u001b[1;32m    289\u001b[0m             \u001b[0mto_json\u001b[0m \u001b[0;34m=\u001b[0m \u001b[0mself\u001b[0m\u001b[0;34m.\u001b[0m\u001b[0mtrait_metadata\u001b[0m\u001b[0;34m(\u001b[0m\u001b[0mk\u001b[0m\u001b[0;34m,\u001b[0m \u001b[0;34m'to_json'\u001b[0m\u001b[0;34m,\u001b[0m \u001b[0mself\u001b[0m\u001b[0;34m.\u001b[0m\u001b[0m_trait_to_json\u001b[0m\u001b[0;34m)\u001b[0m\u001b[0;34m\u001b[0m\u001b[0m\n\u001b[0;32m--> 290\u001b[0;31m             \u001b[0mvalue\u001b[0m \u001b[0;34m=\u001b[0m \u001b[0mto_json\u001b[0m\u001b[0;34m(\u001b[0m\u001b[0mgetattr\u001b[0m\u001b[0;34m(\u001b[0m\u001b[0mself\u001b[0m\u001b[0;34m,\u001b[0m \u001b[0mk\u001b[0m\u001b[0;34m)\u001b[0m\u001b[0;34m,\u001b[0m \u001b[0mself\u001b[0m\u001b[0;34m)\u001b[0m\u001b[0;34m\u001b[0m\u001b[0m\n\u001b[0m\u001b[1;32m    291\u001b[0m             \u001b[0;32mif\u001b[0m \u001b[0;32mnot\u001b[0m \u001b[0mPY3\u001b[0m \u001b[0;32mand\u001b[0m \u001b[0misinstance\u001b[0m\u001b[0;34m(\u001b[0m\u001b[0mtraits\u001b[0m\u001b[0;34m[\u001b[0m\u001b[0mk\u001b[0m\u001b[0;34m]\u001b[0m\u001b[0;34m,\u001b[0m \u001b[0mBytes\u001b[0m\u001b[0;34m)\u001b[0m \u001b[0;32mand\u001b[0m \u001b[0misinstance\u001b[0m\u001b[0;34m(\u001b[0m\u001b[0mvalue\u001b[0m\u001b[0;34m,\u001b[0m \u001b[0mbytes\u001b[0m\u001b[0;34m)\u001b[0m\u001b[0;34m:\u001b[0m\u001b[0;34m\u001b[0m\u001b[0m\n\u001b[1;32m    292\u001b[0m                 \u001b[0mvalue\u001b[0m \u001b[0;34m=\u001b[0m \u001b[0mmemoryview\u001b[0m\u001b[0;34m(\u001b[0m\u001b[0mvalue\u001b[0m\u001b[0;34m)\u001b[0m\u001b[0;34m\u001b[0m\u001b[0m\n",
      "\u001b[0;32m/usr/local/lib/python2.7/site-packages/traitlets/traitlets.pyc\u001b[0m in \u001b[0;36m__get__\u001b[0;34m(self, obj, cls)\u001b[0m\n\u001b[1;32m    527\u001b[0m             \u001b[0;32mreturn\u001b[0m \u001b[0mself\u001b[0m\u001b[0;34m\u001b[0m\u001b[0m\n\u001b[1;32m    528\u001b[0m         \u001b[0;32melse\u001b[0m\u001b[0;34m:\u001b[0m\u001b[0;34m\u001b[0m\u001b[0m\n\u001b[0;32m--> 529\u001b[0;31m             \u001b[0;32mreturn\u001b[0m \u001b[0mself\u001b[0m\u001b[0;34m.\u001b[0m\u001b[0mget\u001b[0m\u001b[0;34m(\u001b[0m\u001b[0mobj\u001b[0m\u001b[0;34m,\u001b[0m \u001b[0mcls\u001b[0m\u001b[0;34m)\u001b[0m\u001b[0;34m\u001b[0m\u001b[0m\n\u001b[0m\u001b[1;32m    530\u001b[0m \u001b[0;34m\u001b[0m\u001b[0m\n\u001b[1;32m    531\u001b[0m     \u001b[0;32mdef\u001b[0m \u001b[0mset\u001b[0m\u001b[0;34m(\u001b[0m\u001b[0mself\u001b[0m\u001b[0;34m,\u001b[0m \u001b[0mobj\u001b[0m\u001b[0;34m,\u001b[0m \u001b[0mvalue\u001b[0m\u001b[0;34m)\u001b[0m\u001b[0;34m:\u001b[0m\u001b[0;34m\u001b[0m\u001b[0m\n",
      "\u001b[0;32m/usr/local/lib/python2.7/site-packages/traitlets/traitlets.pyc\u001b[0m in \u001b[0;36mget\u001b[0;34m(self, obj, cls)\u001b[0m\n\u001b[1;32m    506\u001b[0m                 raise TraitError(\"No default value found for %s trait of %r\"\n\u001b[1;32m    507\u001b[0m                                  % (self.name, obj))\n\u001b[0;32m--> 508\u001b[0;31m             \u001b[0mvalue\u001b[0m \u001b[0;34m=\u001b[0m \u001b[0mself\u001b[0m\u001b[0;34m.\u001b[0m\u001b[0m_validate\u001b[0m\u001b[0;34m(\u001b[0m\u001b[0mobj\u001b[0m\u001b[0;34m,\u001b[0m \u001b[0mdynamic_default\u001b[0m\u001b[0;34m(\u001b[0m\u001b[0;34m)\u001b[0m\u001b[0;34m)\u001b[0m\u001b[0;34m\u001b[0m\u001b[0m\n\u001b[0m\u001b[1;32m    509\u001b[0m             \u001b[0mobj\u001b[0m\u001b[0;34m.\u001b[0m\u001b[0m_trait_values\u001b[0m\u001b[0;34m[\u001b[0m\u001b[0mself\u001b[0m\u001b[0;34m.\u001b[0m\u001b[0mname\u001b[0m\u001b[0;34m]\u001b[0m \u001b[0;34m=\u001b[0m \u001b[0mvalue\u001b[0m\u001b[0;34m\u001b[0m\u001b[0m\n\u001b[1;32m    510\u001b[0m             \u001b[0;32mreturn\u001b[0m \u001b[0mvalue\u001b[0m\u001b[0;34m\u001b[0m\u001b[0m\n",
      "\u001b[0;32m/usr/local/lib/python2.7/site-packages/ipywidgets/widgets/domwidget.pyc\u001b[0m in \u001b[0;36m_layout_default\u001b[0;34m(self)\u001b[0m\n\u001b[1;32m     21\u001b[0m     \u001b[0mlayout\u001b[0m \u001b[0;34m=\u001b[0m \u001b[0mInstance\u001b[0m\u001b[0;34m(\u001b[0m\u001b[0mLayout\u001b[0m\u001b[0;34m,\u001b[0m \u001b[0mallow_none\u001b[0m\u001b[0;34m=\u001b[0m\u001b[0mTrue\u001b[0m\u001b[0;34m)\u001b[0m\u001b[0;34m.\u001b[0m\u001b[0mtag\u001b[0m\u001b[0;34m(\u001b[0m\u001b[0msync\u001b[0m\u001b[0;34m=\u001b[0m\u001b[0mTrue\u001b[0m\u001b[0;34m,\u001b[0m \u001b[0;34m**\u001b[0m\u001b[0mwidget_serialization\u001b[0m\u001b[0;34m)\u001b[0m\u001b[0;34m\u001b[0m\u001b[0m\n\u001b[1;32m     22\u001b[0m     \u001b[0;32mdef\u001b[0m \u001b[0m_layout_default\u001b[0m\u001b[0;34m(\u001b[0m\u001b[0mself\u001b[0m\u001b[0;34m)\u001b[0m\u001b[0;34m:\u001b[0m\u001b[0;34m\u001b[0m\u001b[0m\n\u001b[0;32m---> 23\u001b[0;31m         \u001b[0;32mreturn\u001b[0m \u001b[0mLayout\u001b[0m\u001b[0;34m(\u001b[0m\u001b[0;34m)\u001b[0m\u001b[0;34m\u001b[0m\u001b[0m\n\u001b[0m\u001b[1;32m     24\u001b[0m \u001b[0;34m\u001b[0m\u001b[0m\n\u001b[1;32m     25\u001b[0m     \u001b[0;31m# width, height, padding, margin border properties rebinding to the layout attribute.\u001b[0m\u001b[0;34m\u001b[0m\u001b[0;34m\u001b[0m\u001b[0m\n",
      "\u001b[0;32m/usr/local/lib/python2.7/site-packages/ipywidgets/widgets/widget.pyc\u001b[0m in \u001b[0;36m__init__\u001b[0;34m(self, **kwargs)\u001b[0m\n\u001b[1;32m    182\u001b[0m \u001b[0;34m\u001b[0m\u001b[0m\n\u001b[1;32m    183\u001b[0m         \u001b[0mWidget\u001b[0m\u001b[0;34m.\u001b[0m\u001b[0m_call_widget_constructed\u001b[0m\u001b[0;34m(\u001b[0m\u001b[0mself\u001b[0m\u001b[0;34m)\u001b[0m\u001b[0;34m\u001b[0m\u001b[0m\n\u001b[0;32m--> 184\u001b[0;31m         \u001b[0mself\u001b[0m\u001b[0;34m.\u001b[0m\u001b[0mopen\u001b[0m\u001b[0;34m(\u001b[0m\u001b[0;34m)\u001b[0m\u001b[0;34m\u001b[0m\u001b[0m\n\u001b[0m\u001b[1;32m    185\u001b[0m \u001b[0;34m\u001b[0m\u001b[0m\n\u001b[1;32m    186\u001b[0m     \u001b[0;32mdef\u001b[0m \u001b[0m__del__\u001b[0m\u001b[0;34m(\u001b[0m\u001b[0mself\u001b[0m\u001b[0;34m)\u001b[0m\u001b[0;34m:\u001b[0m\u001b[0;34m\u001b[0m\u001b[0m\n",
      "\u001b[0;32m/usr/local/lib/python2.7/site-packages/ipywidgets/widgets/widget.pyc\u001b[0m in \u001b[0;36mopen\u001b[0;34m(self)\u001b[0m\n\u001b[1;32m    201\u001b[0m                 \u001b[0margs\u001b[0m\u001b[0;34m[\u001b[0m\u001b[0;34m'comm_id'\u001b[0m\u001b[0;34m]\u001b[0m \u001b[0;34m=\u001b[0m \u001b[0mself\u001b[0m\u001b[0;34m.\u001b[0m\u001b[0m_model_id\u001b[0m\u001b[0;34m\u001b[0m\u001b[0m\n\u001b[1;32m    202\u001b[0m \u001b[0;34m\u001b[0m\u001b[0m\n\u001b[0;32m--> 203\u001b[0;31m             \u001b[0mself\u001b[0m\u001b[0;34m.\u001b[0m\u001b[0mcomm\u001b[0m \u001b[0;34m=\u001b[0m \u001b[0mComm\u001b[0m\u001b[0;34m(\u001b[0m\u001b[0;34m**\u001b[0m\u001b[0margs\u001b[0m\u001b[0;34m)\u001b[0m\u001b[0;34m\u001b[0m\u001b[0m\n\u001b[0m\u001b[1;32m    204\u001b[0m             \u001b[0;32mif\u001b[0m \u001b[0mbuffers\u001b[0m\u001b[0;34m:\u001b[0m\u001b[0;34m\u001b[0m\u001b[0m\n\u001b[1;32m    205\u001b[0m                 \u001b[0;31m# FIXME: workaround ipykernel missing binary message support in open-on-init\u001b[0m\u001b[0;34m\u001b[0m\u001b[0;34m\u001b[0m\u001b[0m\n",
      "\u001b[0;32m/usr/local/lib/python2.7/site-packages/ipykernel/comm/comm.pyc\u001b[0m in \u001b[0;36m__init__\u001b[0;34m(self, target_name, data, metadata, buffers, **kwargs)\u001b[0m\n\u001b[1;32m     61\u001b[0m         \u001b[0;32mif\u001b[0m \u001b[0mself\u001b[0m\u001b[0;34m.\u001b[0m\u001b[0mprimary\u001b[0m\u001b[0;34m:\u001b[0m\u001b[0;34m\u001b[0m\u001b[0m\n\u001b[1;32m     62\u001b[0m             \u001b[0;31m# I am primary, open my peer.\u001b[0m\u001b[0;34m\u001b[0m\u001b[0;34m\u001b[0m\u001b[0m\n\u001b[0;32m---> 63\u001b[0;31m             \u001b[0mself\u001b[0m\u001b[0;34m.\u001b[0m\u001b[0mopen\u001b[0m\u001b[0;34m(\u001b[0m\u001b[0mdata\u001b[0m\u001b[0;34m=\u001b[0m\u001b[0mdata\u001b[0m\u001b[0;34m,\u001b[0m \u001b[0mmetadata\u001b[0m\u001b[0;34m=\u001b[0m\u001b[0mmetadata\u001b[0m\u001b[0;34m,\u001b[0m \u001b[0mbuffers\u001b[0m\u001b[0;34m=\u001b[0m\u001b[0mbuffers\u001b[0m\u001b[0;34m)\u001b[0m\u001b[0;34m\u001b[0m\u001b[0m\n\u001b[0m\u001b[1;32m     64\u001b[0m         \u001b[0;32melse\u001b[0m\u001b[0;34m:\u001b[0m\u001b[0;34m\u001b[0m\u001b[0m\n\u001b[1;32m     65\u001b[0m             \u001b[0mself\u001b[0m\u001b[0;34m.\u001b[0m\u001b[0m_closed\u001b[0m \u001b[0;34m=\u001b[0m \u001b[0mFalse\u001b[0m\u001b[0;34m\u001b[0m\u001b[0m\n",
      "\u001b[0;32m/usr/local/lib/python2.7/site-packages/ipykernel/comm/comm.pyc\u001b[0m in \u001b[0;36mopen\u001b[0;34m(self, data, metadata, buffers)\u001b[0m\n\u001b[1;32m     92\u001b[0m         \u001b[0;32mif\u001b[0m \u001b[0mdata\u001b[0m \u001b[0;32mis\u001b[0m \u001b[0mNone\u001b[0m\u001b[0;34m:\u001b[0m\u001b[0;34m\u001b[0m\u001b[0m\n\u001b[1;32m     93\u001b[0m             \u001b[0mdata\u001b[0m \u001b[0;34m=\u001b[0m \u001b[0mself\u001b[0m\u001b[0;34m.\u001b[0m\u001b[0m_open_data\u001b[0m\u001b[0;34m\u001b[0m\u001b[0m\n\u001b[0;32m---> 94\u001b[0;31m         \u001b[0mcomm_manager\u001b[0m \u001b[0;34m=\u001b[0m \u001b[0mgetattr\u001b[0m\u001b[0;34m(\u001b[0m\u001b[0mself\u001b[0m\u001b[0;34m.\u001b[0m\u001b[0mkernel\u001b[0m\u001b[0;34m,\u001b[0m \u001b[0;34m'comm_manager'\u001b[0m\u001b[0;34m,\u001b[0m \u001b[0mNone\u001b[0m\u001b[0;34m)\u001b[0m\u001b[0;34m\u001b[0m\u001b[0m\n\u001b[0m\u001b[1;32m     95\u001b[0m         \u001b[0;32mif\u001b[0m \u001b[0mcomm_manager\u001b[0m \u001b[0;32mis\u001b[0m \u001b[0mNone\u001b[0m\u001b[0;34m:\u001b[0m\u001b[0;34m\u001b[0m\u001b[0m\n\u001b[1;32m     96\u001b[0m             raise RuntimeError(\"Comms cannot be opened without a kernel \"\n",
      "\u001b[0;32m/usr/local/lib/python2.7/site-packages/traitlets/traitlets.pyc\u001b[0m in \u001b[0;36m__get__\u001b[0;34m(self, obj, cls)\u001b[0m\n\u001b[1;32m    527\u001b[0m             \u001b[0;32mreturn\u001b[0m \u001b[0mself\u001b[0m\u001b[0;34m\u001b[0m\u001b[0m\n\u001b[1;32m    528\u001b[0m         \u001b[0;32melse\u001b[0m\u001b[0;34m:\u001b[0m\u001b[0;34m\u001b[0m\u001b[0m\n\u001b[0;32m--> 529\u001b[0;31m             \u001b[0;32mreturn\u001b[0m \u001b[0mself\u001b[0m\u001b[0;34m.\u001b[0m\u001b[0mget\u001b[0m\u001b[0;34m(\u001b[0m\u001b[0mobj\u001b[0m\u001b[0;34m,\u001b[0m \u001b[0mcls\u001b[0m\u001b[0;34m)\u001b[0m\u001b[0;34m\u001b[0m\u001b[0m\n\u001b[0m\u001b[1;32m    530\u001b[0m \u001b[0;34m\u001b[0m\u001b[0m\n\u001b[1;32m    531\u001b[0m     \u001b[0;32mdef\u001b[0m \u001b[0mset\u001b[0m\u001b[0;34m(\u001b[0m\u001b[0mself\u001b[0m\u001b[0;34m,\u001b[0m \u001b[0mobj\u001b[0m\u001b[0;34m,\u001b[0m \u001b[0mvalue\u001b[0m\u001b[0;34m)\u001b[0m\u001b[0;34m:\u001b[0m\u001b[0;34m\u001b[0m\u001b[0m\n",
      "\u001b[0;32m/usr/local/lib/python2.7/site-packages/traitlets/traitlets.pyc\u001b[0m in \u001b[0;36mget\u001b[0;34m(self, obj, cls)\u001b[0m\n\u001b[1;32m    506\u001b[0m                 raise TraitError(\"No default value found for %s trait of %r\"\n\u001b[1;32m    507\u001b[0m                                  % (self.name, obj))\n\u001b[0;32m--> 508\u001b[0;31m             \u001b[0mvalue\u001b[0m \u001b[0;34m=\u001b[0m \u001b[0mself\u001b[0m\u001b[0;34m.\u001b[0m\u001b[0m_validate\u001b[0m\u001b[0;34m(\u001b[0m\u001b[0mobj\u001b[0m\u001b[0;34m,\u001b[0m \u001b[0mdynamic_default\u001b[0m\u001b[0;34m(\u001b[0m\u001b[0;34m)\u001b[0m\u001b[0;34m)\u001b[0m\u001b[0;34m\u001b[0m\u001b[0m\n\u001b[0m\u001b[1;32m    509\u001b[0m             \u001b[0mobj\u001b[0m\u001b[0;34m.\u001b[0m\u001b[0m_trait_values\u001b[0m\u001b[0;34m[\u001b[0m\u001b[0mself\u001b[0m\u001b[0;34m.\u001b[0m\u001b[0mname\u001b[0m\u001b[0;34m]\u001b[0m \u001b[0;34m=\u001b[0m \u001b[0mvalue\u001b[0m\u001b[0;34m\u001b[0m\u001b[0m\n\u001b[1;32m    510\u001b[0m             \u001b[0;32mreturn\u001b[0m \u001b[0mvalue\u001b[0m\u001b[0;34m\u001b[0m\u001b[0m\n",
      "\u001b[0;32m/usr/local/lib/python2.7/site-packages/traitlets/traitlets.pyc\u001b[0m in \u001b[0;36m_validate\u001b[0;34m(self, obj, value)\u001b[0m\n\u001b[1;32m    562\u001b[0m             \u001b[0;32mreturn\u001b[0m \u001b[0mvalue\u001b[0m\u001b[0;34m\u001b[0m\u001b[0m\n\u001b[1;32m    563\u001b[0m         \u001b[0;32mif\u001b[0m \u001b[0mhasattr\u001b[0m\u001b[0;34m(\u001b[0m\u001b[0mself\u001b[0m\u001b[0;34m,\u001b[0m \u001b[0;34m'validate'\u001b[0m\u001b[0;34m)\u001b[0m\u001b[0;34m:\u001b[0m\u001b[0;34m\u001b[0m\u001b[0m\n\u001b[0;32m--> 564\u001b[0;31m             \u001b[0mvalue\u001b[0m \u001b[0;34m=\u001b[0m \u001b[0mself\u001b[0m\u001b[0;34m.\u001b[0m\u001b[0mvalidate\u001b[0m\u001b[0;34m(\u001b[0m\u001b[0mobj\u001b[0m\u001b[0;34m,\u001b[0m \u001b[0mvalue\u001b[0m\u001b[0;34m)\u001b[0m\u001b[0;34m\u001b[0m\u001b[0m\n\u001b[0m\u001b[1;32m    565\u001b[0m         \u001b[0;32mif\u001b[0m \u001b[0mobj\u001b[0m\u001b[0;34m.\u001b[0m\u001b[0m_cross_validation_lock\u001b[0m \u001b[0;32mis\u001b[0m \u001b[0mFalse\u001b[0m\u001b[0;34m:\u001b[0m\u001b[0;34m\u001b[0m\u001b[0m\n\u001b[1;32m    566\u001b[0m             \u001b[0mvalue\u001b[0m \u001b[0;34m=\u001b[0m \u001b[0mself\u001b[0m\u001b[0;34m.\u001b[0m\u001b[0m_cross_validate\u001b[0m\u001b[0;34m(\u001b[0m\u001b[0mobj\u001b[0m\u001b[0;34m,\u001b[0m \u001b[0mvalue\u001b[0m\u001b[0;34m)\u001b[0m\u001b[0;34m\u001b[0m\u001b[0m\n",
      "\u001b[0;32m/usr/local/lib/python2.7/site-packages/traitlets/traitlets.pyc\u001b[0m in \u001b[0;36mvalidate\u001b[0;34m(self, obj, value)\u001b[0m\n\u001b[1;32m   1587\u001b[0m             \u001b[0;32mreturn\u001b[0m \u001b[0mvalue\u001b[0m\u001b[0;34m\u001b[0m\u001b[0m\n\u001b[1;32m   1588\u001b[0m         \u001b[0;32melse\u001b[0m\u001b[0;34m:\u001b[0m\u001b[0;34m\u001b[0m\u001b[0m\n\u001b[0;32m-> 1589\u001b[0;31m             \u001b[0mself\u001b[0m\u001b[0;34m.\u001b[0m\u001b[0merror\u001b[0m\u001b[0;34m(\u001b[0m\u001b[0mobj\u001b[0m\u001b[0;34m,\u001b[0m \u001b[0mvalue\u001b[0m\u001b[0;34m)\u001b[0m\u001b[0;34m\u001b[0m\u001b[0m\n\u001b[0m\u001b[1;32m   1590\u001b[0m \u001b[0;34m\u001b[0m\u001b[0m\n\u001b[1;32m   1591\u001b[0m     \u001b[0;32mdef\u001b[0m \u001b[0minfo\u001b[0m\u001b[0;34m(\u001b[0m\u001b[0mself\u001b[0m\u001b[0;34m)\u001b[0m\u001b[0;34m:\u001b[0m\u001b[0;34m\u001b[0m\u001b[0m\n",
      "\u001b[0;32m/usr/local/lib/python2.7/site-packages/traitlets/traitlets.pyc\u001b[0m in \u001b[0;36merror\u001b[0;34m(self, obj, value)\u001b[0m\n\u001b[1;32m   1434\u001b[0m                 \u001b[0;34m%\u001b[0m \u001b[0;34m(\u001b[0m\u001b[0mself\u001b[0m\u001b[0;34m.\u001b[0m\u001b[0mname\u001b[0m\u001b[0;34m,\u001b[0m \u001b[0mself\u001b[0m\u001b[0;34m.\u001b[0m\u001b[0minfo\u001b[0m\u001b[0;34m(\u001b[0m\u001b[0;34m)\u001b[0m\u001b[0;34m,\u001b[0m \u001b[0mmsg\u001b[0m\u001b[0;34m)\u001b[0m\u001b[0;34m\u001b[0m\u001b[0m\n\u001b[1;32m   1435\u001b[0m \u001b[0;34m\u001b[0m\u001b[0m\n\u001b[0;32m-> 1436\u001b[0;31m         \u001b[0;32mraise\u001b[0m \u001b[0mTraitError\u001b[0m\u001b[0;34m(\u001b[0m\u001b[0me\u001b[0m\u001b[0;34m)\u001b[0m\u001b[0;34m\u001b[0m\u001b[0m\n\u001b[0m\u001b[1;32m   1437\u001b[0m \u001b[0;34m\u001b[0m\u001b[0m\n\u001b[1;32m   1438\u001b[0m \u001b[0;34m\u001b[0m\u001b[0m\n",
      "\u001b[0;31mTraitError\u001b[0m: The 'kernel' trait of a Comm instance must be a Kernel, but a value of type 'NoneType' (i.e. None) was specified."
     ]
>>>>>>> 065d7e12db1816bc03274892c63d523a7a537c27
    }
   ],
   "source": [
    "def lasso_plot_runner(alpha=0):\n",
    "    coef_plotter(l_alphas, l_coefs, simple_feature_names, alpha, regtype='lasso')\n",
    "\n",
    "interact(lasso_plot_runner, alpha=(0.0,0.2,0.0025))"
   ]
  },
  {
   "cell_type": "markdown",
   "metadata": {},
   "source": [
    "---\n",
    "\n",
    "### 7. Model performance of the Ridge and Lasso on the simple data\n",
    "\n",
    "Let's check out how the penalties affect the performance of our models."
   ]
  },
  {
   "cell_type": "markdown",
   "metadata": {},
   "source": [
    "Load in the KFold crossvalidation function from sklearn. We'll make five folds."
   ]
  },
  {
   "cell_type": "code",
   "execution_count": 27,
   "metadata": {
    "collapsed": true
   },
   "outputs": [],
   "source": [
    "from sklearn.cross_validation import KFold\n",
    "kfolds = KFold(wine.shape[0], n_folds=5)"
   ]
  },
  {
   "cell_type": "markdown",
   "metadata": {},
   "source": [
    "For both the Ridge and Lasso, iterate through their alphas and using the cross-validation folds calculate the average R2 at each regularization level:"
   ]
  },
  {
   "cell_type": "code",
   "execution_count": 28,
   "metadata": {
    "collapsed": false
   },
   "outputs": [
    {
     "name": "stdout",
     "output_type": "stream",
     "text": [
      "Lasso...\n"
     ]
    },
    {
     "name": "stderr",
     "output_type": "stream",
     "text": [
      "/Users/davidswan/anaconda/lib/python2.7/site-packages/ipykernel/__main__.py:28: UserWarning: With alpha=0, this algorithm does not converge well. You are advised to use the LinearRegression estimator\n"
     ]
    },
    {
     "name": "stdout",
     "output_type": "stream",
     "text": [
      "Ridge...\n"
     ]
    }
   ],
   "source": [
    "def ridge_lasso_cv_rsq(X, Y, r_alphas, l_alphas, kfolds, verbose=False):\n",
    "    \n",
    "    # lists to track mean R2s per alpha\n",
    "    ridge_rsq = []\n",
    "    lasso_rsq = []\n",
    "\n",
    "    # initialize models\n",
    "    lasso = Lasso()\n",
    "    ridge = Ridge()\n",
    "\n",
    "    print 'Lasso...'\n",
    "    # iterate through Lasso alphas\n",
    "    for la in l_alphas:\n",
    "        \n",
    "        if verbose: print la\n",
    "        \n",
    "        # set the current alpha to the model\n",
    "        lasso.set_params(alpha=la)\n",
    "        \n",
    "        # keep track of fold R2s\n",
    "        rsqs = []\n",
    "        \n",
    "        # iterate through the folds. Each iteration returns the training and\n",
    "        # testing indices\n",
    "        for traini, testi in kfolds:\n",
    "            \n",
    "            # run the current model with the subset training X and Y\n",
    "            lasso.fit(X[traini], Y[traini])\n",
    "            \n",
    "            # append the R2 on the test set to the tracker\n",
    "            rsqs.append(lasso.score(X[testi], Y[testi]))\n",
    "            \n",
    "        # append the mean of the R2s for this alpha to the R2 by alpha list\n",
    "        lasso_rsq.append(np.mean(rsqs))\n",
    "\n",
    "    print 'Ridge...'\n",
    "    # Do the same process as above for ridge...\n",
    "    for ra in r_alphas:\n",
    "        \n",
    "        if verbose: print ra\n",
    "        \n",
    "        ridge.set_params(alpha=ra)\n",
    "        rsqs = []\n",
    "        for traini, testi in kfolds:\n",
    "            ridge.fit(X[traini], Y[traini])\n",
    "            rsqs.append(ridge.score(X[testi], Y[testi]))\n",
    "        ridge_rsq.append(np.mean(rsqs))\n",
    "        \n",
    "    return ridge_rsq, lasso_rsq\n",
    "    \n",
    "# Get the ridge and lasso cross-validated R2s:\n",
    "ridge_rsq, lasso_rsq = ridge_lasso_cv_rsq(X, Y, r_alphas, l_alphas, kfolds)\n"
   ]
  },
  {
   "cell_type": "markdown",
   "metadata": {},
   "source": [
    "---\n",
    "\n",
    "Below we have a new plotting function that will track the performance of the model as the alphas increase, as measured by the mean R2s across cross-validation folds. Remember that R2 is a measure of how much variance in the target/dependent variable is explained by our predictor variables."
   ]
  },
  {
   "cell_type": "code",
   "execution_count": 29,
   "metadata": {
    "collapsed": true
   },
   "outputs": [],
   "source": [
    "def rsq_plotter(ridge_alphas, ridge_to_alpha, ridge_rsq,\n",
    "                lasso_alphas, lasso_to_alpha, lasso_rsq):\n",
    "    \n",
    "    \n",
    "    # Find the overall minimum and maximum alpha values for\n",
    "    # the Ridge and Lasso to fix the plot axes:\n",
    "    ridge_amin = np.min(ridge_alphas)\n",
    "    ridge_amax = np.max(ridge_alphas)\n",
    "    \n",
    "    lasso_amin = np.min(lasso_alphas)\n",
    "    lasso_amax = np.max(lasso_alphas)\n",
    "    \n",
    "    # Subet the models' alphas and rsqs according to the currently set\n",
    "    # alpha limits for each (passed in from the interactive sliders)\n",
    "    ridge_alphas = [a for a in ridge_alphas if a <= ridge_to_alpha]\n",
    "    ridge_rsq = ridge_rsq[0:len(ridge_alphas)]\n",
    "    \n",
    "    lasso_alphas = [a for a in lasso_alphas if a <= lasso_to_alpha]\n",
    "    lasso_rsq = lasso_rsq[0:len(lasso_alphas)]\n",
    "    \n",
    "    # Get some unique colors out for the Ridge R2 line, Lasso R2 line,\n",
    "    # and the 'max R2 achieved' line.\n",
    "    colors = sns.xkcd_palette(['windows blue', 'amber', 'faded green'])\n",
    "\n",
    "    # We will again be plotting two axes on the same figure:\n",
    "    fig = plt.figure()\n",
    "    fig.set_size_inches(18,7)\n",
    "\n",
    "    # The first subplot axes is for the ridge\n",
    "    ax1 = fig.add_subplot(121)\n",
    "    \n",
    "    # Plot a vertical line indicating the current alpha selected\n",
    "    ax1.axvline(ridge_to_alpha, lw=2, ls='dashed', c='k', alpha=0.4)\n",
    "    \n",
    "    # Plot a horizontal line for the maximum R2 achieved so far across alphas\n",
    "    # for the Ridge\n",
    "    ax1.axhline(np.max(ridge_rsq), lw=2, c=colors[2], alpha=0.8)\n",
    "    \n",
    "    # Plot the line tracking R2s by alpha values\n",
    "    ax1.plot(ridge_alphas, ridge_rsq, lw=3, c=colors[0])\n",
    "    \n",
    "    # Add the axis labels\n",
    "    ax1.set_xlabel('ridge alpha', fontsize=20)\n",
    "    ax1.set_ylabel('ridge CV R2', fontsize=20)\n",
    "    \n",
    "    # Set x-axis to logarithmic scale\n",
    "    ax1.set_xscale('log')\n",
    "    \n",
    "    # Fix the axes in place\n",
    "    ax1.set_xlim([ridge_amin, ridge_amax])\n",
    "    ax1.set_ylim([-0.05, 1])\n",
    "    \n",
    "    # set the title for the axes;\n",
    "    ax1.set_title('ridge cross-val performance\\n', fontsize=20)\n",
    "    \n",
    "    \n",
    "    # Now do all of this as above for the Lasso!\n",
    "    ax2 = fig.add_subplot(122)\n",
    "    ax2.axvline(lasso_to_alpha, lw=2, ls='dashed', c='k', alpha=0.4)\n",
    "    ax2.axhline(np.max(lasso_rsq), lw=2, c=colors[2], alpha=0.8)\n",
    "    \n",
    "    ax2.plot(lasso_alphas, lasso_rsq, lw=3, c=colors[0])\n",
    "    \n",
    "    ax2.set_xlabel('lasso alpha', fontsize=20)\n",
    "    ax2.set_ylabel('lasso CV R2', fontsize=20)\n",
    "    ax2.set_xlim([lasso_amin, lasso_amax])\n",
    "    ax2.set_ylim([-0.05, 1])\n",
    "        \n",
    "    ax2.set_title('lasso cross-val performance\\n', fontsize=20)\n",
    "    \n",
    "    plt.show()"
   ]
  },
  {
   "cell_type": "code",
   "execution_count": 30,
   "metadata": {
    "collapsed": false
   },
   "outputs": [
    {
     "data": {
      "image/png": "iVBORw0KGgoAAAANSUhEUgAABCcAAAHrCAYAAAD8J/fMAAAABHNCSVQICAgIfAhkiAAAAAlwSFlz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\nrkJggg==\n",
      "text/plain": [
       "<matplotlib.figure.Figure at 0x1232c6e50>"
      ]
     },
     "metadata": {},
     "output_type": "display_data"
    }
   ],
   "source": [
    "# We have our new widget where you can change both the Ridge and Lasso alphas to see how they compare:\n",
    "\n",
    "def rsq_plot_pipe(ra, la):\n",
    "    rsq_plotter(r_alphas, 10**ra, ridge_rsq, l_alphas, la, lasso_rsq)\n",
    "    \n",
    "w = widgets.interactive(rsq_plot_pipe, \n",
    "                        ra=widgets.FloatSlider(value=0, min=0., max=5., step=0.05, description='Ridge log10(alpha):'),\n",
    "                        la=widgets.FloatSlider(value=0, min=0., max=0.2, step=0.0025, description='Lasso alpha:')\n",
    ")\n",
    "\n",
    "display(w)"
   ]
  },
  {
   "cell_type": "markdown",
   "metadata": {},
   "source": [
    "---\n",
    "\n",
    "### 8. Model performance on the complex data\n",
    "\n",
    "Let's see what happens when we do this for the complex data that is designed to overfit.\n",
    "\n",
    "[This function takes a long time to run by comparison, as you might expect.]"
   ]
  },
  {
   "cell_type": "code",
   "execution_count": 31,
   "metadata": {
    "collapsed": false
   },
   "outputs": [
    {
     "name": "stdout",
     "output_type": "stream",
     "text": [
      "Lasso...\n",
      "0.0\n"
     ]
    },
    {
     "name": "stderr",
     "output_type": "stream",
     "text": [
      "/Users/davidswan/anaconda/lib/python2.7/site-packages/ipykernel/__main__.py:28: UserWarning: With alpha=0, this algorithm does not converge well. You are advised to use the LinearRegression estimator\n"
     ]
    },
    {
     "name": "stdout",
     "output_type": "stream",
     "text": [
      "0.0025\n",
      "0.005\n",
      "0.0075\n",
      "0.01\n",
      "0.0125\n",
      "0.015\n",
      "0.0175\n",
      "0.02\n",
      "0.0225\n",
      "0.025\n",
      "0.0275\n",
      "0.03\n",
      "0.0325\n",
      "0.035\n",
      "0.0375\n",
      "0.04\n",
      "0.0425\n",
      "0.045\n",
      "0.0475\n",
      "0.05\n",
      "0.0525\n",
      "0.055\n",
      "0.0575\n",
      "0.06\n",
      "0.0625\n",
      "0.065\n",
      "0.0675\n",
      "0.07\n",
      "0.0725\n",
      "0.075\n",
      "0.0775\n",
      "0.08\n",
      "0.0825\n",
      "0.085\n",
      "0.0875\n",
      "0.09\n",
      "0.0925\n",
      "0.095\n",
      "0.0975\n",
      "0.1\n",
      "0.1025\n",
      "0.105\n",
      "0.1075\n",
      "0.11\n",
      "0.1125\n",
      "0.115\n",
      "0.1175\n",
      "0.12\n",
      "0.1225\n",
      "0.125\n",
      "0.1275\n",
      "0.13\n",
      "0.1325\n",
      "0.135\n",
      "0.1375\n",
      "0.14\n",
      "0.1425\n",
      "0.145\n",
      "0.1475\n",
      "0.15\n",
      "0.1525\n",
      "0.155\n",
      "0.1575\n",
      "0.16\n",
      "0.1625\n",
      "0.165\n",
      "0.1675\n",
      "0.17\n",
      "0.1725\n",
      "0.175\n",
      "0.1775\n",
      "0.18\n",
      "0.1825\n",
      "0.185\n",
      "0.1875\n",
      "0.19\n",
      "0.1925\n",
      "0.195\n",
      "0.1975\n",
      "Ridge...\n",
      "1.0\n",
      "1.05956017928\n",
      "1.12266777351\n",
      "1.18953406737\n",
      "1.26038292968\n",
      "1.33545156293\n",
      "1.41499129743\n",
      "1.49926843279\n",
      "1.58856512943\n",
      "1.68318035333\n",
      "1.78343087693\n",
      "1.88965233969\n",
      "2.00220037182\n",
      "2.12145178491\n",
      "2.24780583355\n",
      "2.38168555198\n",
      "2.52353917043\n",
      "2.67384161584\n",
      "2.83309610184\n",
      "3.00183581358\n",
      "3.18062569279\n",
      "3.37006432927\n",
      "3.5707859649\n",
      "3.78346261713\n",
      "4.0088063289\n",
      "4.24757155254\n",
      "4.5005576757\n",
      "4.76861169771\n",
      "5.05263106534\n",
      "5.35356667741\n",
      "5.67242606849\n",
      "6.01027678207\n",
      "6.36824994472\n",
      "6.74754405311\n",
      "7.1494289866\n",
      "7.57525025877\n",
      "8.02643352226\n",
      "8.5044893418\n",
      "9.01101825167\n",
      "9.54771611421\n",
      "10.1163797977\n",
      "10.7189131921\n",
      "11.3573335834\n",
      "12.0337784078\n",
      "12.7505124071\n",
      "13.509935212\n",
      "14.3145893752\n",
      "15.1671688847\n",
      "16.0705281826\n",
      "17.0276917223\n",
      "18.0418640939\n",
      "19.1164407539\n",
      "20.2550193923\n",
      "21.4614119786\n",
      "22.7396575236\n",
      "24.0940356024\n",
      "25.5290806824\n",
      "27.0495973046\n",
      "28.6606761695\n",
      "30.3677111804\n",
      "32.1764175025\n",
      "34.0928506975\n",
      "36.1234269971\n",
      "38.2749447852\n",
      "40.5546073584\n",
      "42.9700470432\n",
      "45.5293507487\n",
      "48.2410870417\n",
      "51.1143348344\n",
      "54.1587137808\n",
      "57.384416483\n",
      "60.8022426165\n",
      "64.4236350872\n",
      "68.2607183427\n",
      "72.3263389648\n",
      "76.6341086801\n",
      "81.1984499318\n",
      "86.0346441668\n",
      "91.1588829975\n",
      "96.5883224116\n",
      "102.341140211\n",
      "108.436596869\n",
      "114.895100019\n",
      "121.738272774\n",
      "128.989026125\n",
      "136.671635646\n",
      "144.811822767\n",
      "153.436840893\n",
      "162.575566644\n",
      "172.25859654\n",
      "182.518349432\n",
      "193.389175046\n",
      "204.907468982\n",
      "217.111794569\n",
      "230.043011977\n",
      "243.744415012\n",
      "258.261876068\n",
      "273.643999707\n",
      "289.942285388\n",
      "307.211299886\n",
      "325.508859984\n",
      "344.896226041\n",
      "365.438307096\n",
      "387.203878181\n",
      "410.265810583\n",
      "434.701315813\n",
      "460.592204115\n",
      "488.025158365\n",
      "517.09202429\n",
      "547.890117959\n",
      "580.522551609\n",
      "615.098578858\n",
      "651.733960488\n",
      "690.551352016\n",
      "731.680714343\n",
      "775.259748863\n",
      "821.434358492\n",
      "870.359136149\n",
      "922.197882333\n",
      "977.124153535\n",
      "1035.3218433\n",
      "1096.98579789\n",
      "1162.32246868\n",
      "1231.55060329\n",
      "1304.90197801\n",
      "1382.62217376\n",
      "1464.97139831\n",
      "1552.22535743\n",
      "1644.67617799\n",
      "1742.63338601\n",
      "1846.4249429\n",
      "1956.39834352\n",
      "2072.9217796\n",
      "2196.38537242\n",
      "2327.20247896\n",
      "2465.81107582\n",
      "2612.67522556\n",
      "2768.28663039\n",
      "2933.16627839\n",
      "3107.86618778\n",
      "3292.9712551\n",
      "3489.10121341\n",
      "3696.9127072\n",
      "3917.10149081\n",
      "4150.40475785\n",
      "4397.6036093\n",
      "4659.52566866\n",
      "4937.04785284\n",
      "5231.09930806\n",
      "5542.66452066\n",
      "5872.78661319\n",
      "6222.57083673\n",
      "6593.18827133\n",
      "6985.87974679\n",
      "7401.95999692\n",
      "7842.82206134\n",
      "8309.94194935\n",
      "8804.88358164\n",
      "9329.30402628\n",
      "9884.95904663\n",
      "10473.7089796\n",
      "11097.5249641\n",
      "11758.4955405\n",
      "12458.833643\n",
      "13200.8840083\n",
      "13987.1310265\n",
      "14820.207058\n",
      "15702.9012473\n",
      "16638.1688608\n",
      "17629.141181\n",
      "18679.1359902\n",
      "19791.6686785\n",
      "20970.4640132\n",
      "22219.4686094\n",
      "23542.8641432\n",
      "24945.0813523\n",
      "26430.8148697\n",
      "28005.0389418\n",
      "29673.0240819\n",
      "31440.3547159\n",
      "33312.9478793\n",
      "35297.0730273\n",
      "37399.3730248\n",
      "39626.886387\n",
      "41987.0708444\n",
      "44487.8283113\n",
      "47137.5313412\n",
      "49945.0511586\n",
      "52919.7873596\n",
      "56071.6993821\n",
      "59411.3398497\n",
      "62949.8899022\n",
      "66699.1966303\n",
      "70671.8127393\n",
      "74881.0385759\n",
      "79340.966658\n",
      "84066.5288562\n",
      "89073.5463861\n",
      "94378.7827778\n",
      "100000.0\n"
     ]
    }
   ],
   "source": [
    "overfit_ridge_rsq, overfit_lasso_rsq = ridge_lasso_cv_rsq(Xoverfit, Yoverfit, \n",
    "                                                          r_alphas, l_alphas, \n",
    "                                                          kfolds, verbose=True)\n"
   ]
  },
  {
   "cell_type": "code",
   "execution_count": null,
   "metadata": {
    "collapsed": true
   },
   "outputs": [],
   "source": []
  }
 ],
 "metadata": {
  "kernelspec": {
   "display_name": "Python 2",
   "language": "python",
   "name": "python2"
  },
  "language_info": {
   "codemirror_mode": {
    "name": "ipython",
    "version": 2
   },
   "file_extension": ".py",
   "mimetype": "text/x-python",
   "name": "python",
   "nbconvert_exporter": "python",
   "pygments_lexer": "ipython2",
   "version": "2.7.11"
  },
  "widgets": {
   "state": {},
   "version": "1.1.2"
  }
 },
 "nbformat": 4,
 "nbformat_minor": 0
}
