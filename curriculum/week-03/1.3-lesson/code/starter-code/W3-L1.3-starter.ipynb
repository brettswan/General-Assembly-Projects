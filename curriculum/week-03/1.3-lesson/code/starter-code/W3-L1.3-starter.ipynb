{
 "cells": [
  {
   "cell_type": "markdown",
   "metadata": {},
   "source": [
    "# Linear Regression with Statsmodels and Scikit-Learn"
   ]
  },
  {
   "cell_type": "markdown",
   "metadata": {},
   "source": [
    "Let's investigate the housing dataset with linear regression. We'll use two different packages and you can see examples for linear regression of each:\n",
    "* statsmodels -- [linear regression](http://statsmodels.sourceforge.net/devel/examples/#regression)\n",
    "* scikit-learn -- [linear regression](http://scikit-learn.org/stable/modules/generated/sklearn.linear_model.LinearRegression.html)"
   ]
  },
  {
   "cell_type": "markdown",
   "metadata": {},
   "source": [
    "## Intro to Scikit-Learn\n",
    "\n",
    "Scikit-learn is a machine learning package for python that includes a huge array of models including linear regression. Scikit-learn includes a number of sample data sets including the Boston housing data set. (We could also load the data with pandas as in the last lesson.)"
   ]
  },
  {
   "cell_type": "code",
<<<<<<< HEAD
   "execution_count": 2,
=======
   "execution_count": 6,
>>>>>>> 065d7e12db1816bc03274892c63d523a7a537c27
   "metadata": {
    "collapsed": false
   },
   "outputs": [
    {
     "name": "stdout",
     "output_type": "stream",
     "text": [
      "Boston House Prices dataset\n",
      "\n",
      "Notes\n",
      "------\n",
      "Data Set Characteristics:  \n",
      "\n",
      "    :Number of Instances: 506 \n",
      "\n",
      "    :Number of Attributes: 13 numeric/categorical predictive\n",
      "    \n",
      "    :Median Value (attribute 14) is usually the target\n",
      "\n",
      "    :Attribute Information (in order):\n",
      "        - CRIM     per capita crime rate by town\n",
      "        - ZN       proportion of residential land zoned for lots over 25,000 sq.ft.\n",
      "        - INDUS    proportion of non-retail business acres per town\n",
      "        - CHAS     Charles River dummy variable (= 1 if tract bounds river; 0 otherwise)\n",
      "        - NOX      nitric oxides concentration (parts per 10 million)\n",
      "        - RM       average number of rooms per dwelling\n",
      "        - AGE      proportion of owner-occupied units built prior to 1940\n",
      "        - DIS      weighted distances to five Boston employment centres\n",
      "        - RAD      index of accessibility to radial highways\n",
      "        - TAX      full-value property-tax rate per $10,000\n",
      "        - PTRATIO  pupil-teacher ratio by town\n",
      "        - B        1000(Bk - 0.63)^2 where Bk is the proportion of blacks by town\n",
      "        - LSTAT    % lower status of the population\n",
      "        - MEDV     Median value of owner-occupied homes in $1000's\n",
      "\n",
      "    :Missing Attribute Values: None\n",
      "\n",
      "    :Creator: Harrison, D. and Rubinfeld, D.L.\n",
      "\n",
      "This is a copy of UCI ML housing dataset.\n",
      "http://archive.ics.uci.edu/ml/datasets/Housing\n",
      "\n",
      "\n",
      "This dataset was taken from the StatLib library which is maintained at Carnegie Mellon University.\n",
      "\n",
      "The Boston house-price data of Harrison, D. and Rubinfeld, D.L. 'Hedonic\n",
      "prices and the demand for clean air', J. Environ. Economics & Management,\n",
      "vol.5, 81-102, 1978.   Used in Belsley, Kuh & Welsch, 'Regression diagnostics\n",
      "...', Wiley, 1980.   N.B. Various transformations are used in the table on\n",
      "pages 244-261 of the latter.\n",
      "\n",
      "The Boston house-price data has been used in many machine learning papers that address regression\n",
      "problems.   \n",
      "     \n",
      "**References**\n",
      "\n",
      "   - Belsley, Kuh & Welsch, 'Regression diagnostics: Identifying Influential Data and Sources of Collinearity', Wiley, 1980. 244-261.\n",
      "   - Quinlan,R. (1993). Combining Instance-Based and Model-Based Learning. In Proceedings on the Tenth International Conference of Machine Learning, 236-243, University of Massachusetts, Amherst. Morgan Kaufmann.\n",
      "   - many more! (see http://archive.ics.uci.edu/ml/datasets/Housing)\n",
      "\n"
     ]
    }
   ],
   "source": [
    "%matplotlib inline\n",
    "from matplotlib import pyplot as plt\n",
    "\n",
    "from sklearn import datasets, linear_model\n",
    "from sklearn.metrics import mean_squared_error\n",
    "data = datasets.load_boston()\n",
    "\n",
    "print data.DESCR"
   ]
  },
  {
   "cell_type": "markdown",
   "metadata": {},
   "source": [
    "Let's take a minute to see what the data looks like."
   ]
  },
  {
   "cell_type": "code",
   "execution_count": 3,
   "metadata": {
    "collapsed": false
   },
   "outputs": [
    {
     "name": "stdout",
     "output_type": "stream",
     "text": [
      "['CRIM' 'ZN' 'INDUS' 'CHAS' 'NOX' 'RM' 'AGE' 'DIS' 'RAD' 'TAX' 'PTRATIO'\n",
      " 'B' 'LSTAT']\n",
      "[  6.32000000e-03   1.80000000e+01   2.31000000e+00   0.00000000e+00\n",
      "   5.38000000e-01   6.57500000e+00   6.52000000e+01   4.09000000e+00\n",
      "   1.00000000e+00   2.96000000e+02   1.53000000e+01   3.96900000e+02\n",
      "   4.98000000e+00]\n",
      "24.0\n"
     ]
    }
   ],
   "source": [
    "print data.feature_names\n",
    "print data.data[0]\n",
    "print data.target[0]"
   ]
  },
  {
   "cell_type": "markdown",
   "metadata": {},
   "source": [
    "Scikit-learn has already split off the house value data into the target variable. Let's see how to build a linear regression. First let's put the data into a data frame for convenience, and do a quick check to see that everything loaded correctly."
   ]
  },
  {
   "cell_type": "code",
<<<<<<< HEAD
   "execution_count": 4,
=======
   "execution_count": 7,
>>>>>>> 065d7e12db1816bc03274892c63d523a7a537c27
   "metadata": {
    "collapsed": false
   },
   "outputs": [
    {
     "name": "stdout",
     "output_type": "stream",
     "text": [
      "      CRIM  ZN  INDUS  CHAS    NOX     RM   AGE     DIS  RAD  TAX  PTRATIO  \\\n",
      "0  0.00632  18   2.31     0  0.538  6.575  65.2  4.0900    1  296     15.3   \n",
      "1  0.02731   0   7.07     0  0.469  6.421  78.9  4.9671    2  242     17.8   \n",
      "2  0.02729   0   7.07     0  0.469  7.185  61.1  4.9671    2  242     17.8   \n",
      "3  0.03237   0   2.18     0  0.458  6.998  45.8  6.0622    3  222     18.7   \n",
      "4  0.06905   0   2.18     0  0.458  7.147  54.2  6.0622    3  222     18.7   \n",
      "\n",
      "        B  LSTAT  \n",
      "0  396.90   4.98  \n",
      "1  396.90   9.14  \n",
      "2  392.83   4.03  \n",
      "3  394.63   2.94  \n",
      "4  396.90   5.33  \n",
      "   MEDV\n",
      "0  24.0\n",
      "1  21.6\n",
      "2  34.7\n",
      "3  33.4\n",
      "4  36.2\n"
     ]
    }
   ],
   "source": [
    "import numpy as np\n",
    "import pandas as pd\n",
    "df = pd.DataFrame(data.data, columns=data.feature_names)\n",
    "\n",
    "# Put the target (housing value -- MEDV) in another DataFrame\n",
    "targets = pd.DataFrame(data.target, columns=[\"MEDV\"])\n",
    "\n",
    "# Take a look at the first few rows\n",
    "print df.head()\n",
    "print targets.head()"
   ]
  },
  {
   "cell_type": "markdown",
   "metadata": {},
   "source": [
    "Now let's fit a linear model to the data. First let's take a look at some of the variables we identified visually as being linked to house value, RM and LSTAT. Let's look at each individually and then both together.\n",
    "\n",
    "Note: If for some reason scikit-learn crashes the jupyter notebook, have conda remove mkl (there's an issue with the newer build on some systems)."
   ]
  },
  {
   "cell_type": "code",
<<<<<<< HEAD
   "execution_count": 5,
=======
   "execution_count": 8,
>>>>>>> 065d7e12db1816bc03274892c63d523a7a537c27
   "metadata": {
    "collapsed": false
   },
   "outputs": [
    {
     "data": {
      "image/png": "iVBORw0KGgoAAAANSUhEUgAAAYEAAAEPCAYAAACk43iMAAAABHNCSVQICAgIfAhkiAAAAAlwSFlz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\nYII=\n",
      "text/plain": [
<<<<<<< HEAD
       "<matplotlib.figure.Figure at 0x106423d10>"
=======
       "<matplotlib.figure.Figure at 0x108e7ce10>"
>>>>>>> 065d7e12db1816bc03274892c63d523a7a537c27
      ]
     },
     "metadata": {},
     "output_type": "display_data"
    },
    {
     "name": "stdout",
     "output_type": "stream",
     "text": [
      "MSE: 43.6005517712\n"
     ]
    }
   ],
   "source": [
    "lm = linear_model.LinearRegression()\n",
    "\n",
    "X = df[[\"RM\"]]\n",
    "y = targets[\"MEDV\"]\n",
    "\n",
    "model = lm.fit(X, y)\n",
    "predictions = lm.predict(X)\n",
    "\n",
    "# Plot the model\n",
    "plt.scatter(predictions, y, s=30, c='r', marker='+', zorder=10)\n",
    "plt.xlabel(\"Predicted Values from RM\")\n",
    "plt.ylabel(\"Actual Values MEDV\")\n",
    "plt.show()\n",
    "print \"MSE:\", mean_squared_error(y, predictions)"
   ]
  },
  {
   "cell_type": "code",
   "execution_count": 8,
   "metadata": {
    "collapsed": false
   },
   "outputs": [
    {
     "data": {
      "text/plain": [
       "array([ 25.17574577,  23.77402099,  30.72803225,  29.02593787,\n",
       "        30.38215211,  23.85593997,  20.05125842,  21.50759586,\n",
       "        16.5833549 ,  19.97844155,  23.3735282 ,  20.02395209,\n",
       "        18.93169901,  19.47782555,  20.81583557,  18.43108302,\n",
       "        19.35039603,  19.85101202,  14.99048582,  17.45715736,\n",
       "        16.02812625,  19.6234593 ,  21.23453259,  18.23993873,\n",
       "        19.25027283,  16.29208741,  18.23993873,  20.36983223,\n",
       "        24.44757706,  26.07685456,  17.32972783,  20.59738496,\n",
       "        19.48692766,  17.22050253,  20.81583557,  19.33219181,\n",
       "        18.49479778,  18.57671676,  19.63256141,  25.35778795,\n",
       "        29.26259271,  26.95065703,  21.48028953,  21.86257811,\n",
       "        20.57007863,  17.04756245,  17.99418179,  20.21509638,\n",
       "        14.47166561,  16.31939374,  19.60525508,  20.98877564,\n",
       "        24.5932108 ,  19.92382889,  18.9225969 ,  31.31056723,\n",
       "        23.42814085,  27.36935404,  21.26183891,  19.27757916,\n",
       "        17.58458688,  19.63256141,  24.09259481,  26.87784015,\n",
       "        29.99076143,  22.58164472,  18.0032839 ,  18.83157581,\n",
       "        16.24657686,  18.89529058,  23.73761256,  19.58705086,\n",
       "        20.53367019,  22.17204981,  22.42690886,  22.54523628,\n",
       "        22.48152152,  21.21632837,  22.05372239,  18.79516738,\n",
       "        26.55926634,  25.57623857,  22.69087002,  21.46208531,\n",
       "        23.4827535 ,  25.67636177,  20.07856475,  21.0433883 ,\n",
       "        29.10785685,  29.7632087 ,  23.73761256,  23.62838725,\n",
       "        23.96516528,  21.86257811,  22.20845825,  25.63085122,\n",
       "        21.42567687,  38.77429659,  36.50787146,  32.83061943,\n",
       "        26.55926634,  27.05078022,  23.62838725,  21.18902204,\n",
       "        21.46208531,  18.58581887,  18.44928724,  21.09800095,\n",
       "        24.25643277,  22.02641607,  21.71694436,  26.45004103,\n",
       "        19.15014963,  20.77942714,  22.25396879,  19.28668126,\n",
       "        21.54400429,  20.1331774 ,  18.77696316,  17.49356579,\n",
       "        18.75875894,  19.97844155,  19.58705086,  18.63132942,\n",
       "        18.84067792,  19.81460358,  16.41951693,  17.14768565,\n",
       "        23.86504208,  16.63796755,  24.11079902,  22.90932064,\n",
       "        23.32801765,  18.32185771,  17.73022063,  22.99123962,\n",
       "        19.41411079,  24.07439059,  18.64043153,  21.31645157,\n",
       "        21.52580007,  11.0128642 ,  14.50807405,  15.09971113,\n",
       "         9.95701956,  21.12530728,  16.55604857,  10.16636806,\n",
       "        12.5329164 ,  16.27388319,  21.05249041,  14.51717616,\n",
       "        10.94914944,  17.2933194 ,  21.11620517,  21.32555368,\n",
       "        13.31569777,  28.52532188,  20.5427723 ,  24.58410869,\n",
       "        22.21756036,  33.49507338,  36.34403349,  41.55954194,\n",
       "        18.6131252 ,  20.86134612,  37.50000134,  18.82247371,\n",
       "        22.84560588,  23.60108092,  18.80426949,  18.84978003,\n",
       "        16.04633047,  23.72851045,  18.65863574,  24.91178461,\n",
       "        20.12407529,  22.80919744,  27.76984683,  28.86209991,\n",
       "        36.00725546,  21.2527368 ,  30.45496898,  25.06652047,\n",
       "        16.33759795,  21.33465578,  36.60799466,  27.05988233,\n",
       "        25.0028057 ,  30.72803225,  28.59813875,  26.66849165,\n",
       "        30.66431749,  27.2237203 ,  25.43970694,  37.00848745,\n",
       "        31.65644737,  30.01806775,  31.53811995,  28.81658937,\n",
       "        30.2729268 ,  21.41657477,  34.59642857,  36.80824105,\n",
       "        38.45572278,  18.94990323,  22.90932064,  17.96687546,\n",
       "        20.52456809,  13.97104962,  19.57794875,  14.51717616,\n",
       "        18.18532608,  23.35532398,  14.58999303,  21.59861695,\n",
       "        18.9225969 ,  25.78558708,  19.49602977,  23.33711976,\n",
       "        28.59813875,  21.43477898,  27.94278691,  25.56713646,\n",
       "        40.56741206,  44.74528008,  38.51033543,  30.52778586,\n",
       "        35.28818885,  24.96639727,  19.76909304,  32.79421099,\n",
       "        41.2136618 ,  40.39447199,  26.55016423,  20.72481448,\n",
       "        25.68546388,  32.30269711,  24.32014753,  25.45791115,\n",
       "        28.10662487,  20.80673346,  23.20058813,  23.51916194,\n",
       "        16.23747476,  16.34670006,  20.92506088,  21.99910974,\n",
       "        23.8832463 ,  26.47734736,  24.37476018,  23.92875684,\n",
       "        28.65275141,  40.5036973 ,  20.92506088,  18.8133716 ,\n",
       "        33.17649957,  44.5541358 ,  32.07514438,  27.60600887,\n",
       "        30.89187022,  33.77723876,  41.76889045,  32.02053173,\n",
       "        30.91917654,  15.93710516,  29.17157162,  40.84957744,\n",
       "        33.32213331,  19.21386439,  18.63132942,  22.12653927,\n",
       "        24.83896774,  35.3336994 ,  26.84143172,  27.71523418,\n",
       "        31.47440519,  27.46037513,  24.32924964,  27.3329456 ,\n",
       "        36.50787146,  28.7528746 ,  34.91500238,  37.44538868,\n",
       "        29.84512768,  24.06528848,  22.03551818,  21.84437389,\n",
       "        22.80919744,  25.08472469,  27.77894894,  30.39125422,\n",
       "        25.67636177,  21.09800095,  20.02395209,  26.113263  ,\n",
       "        24.93909094,  18.03059022,  23.08226071,  29.41732856,\n",
       "        27.86997003,  25.31227741,  24.44757706,  28.88030413,\n",
       "        31.19223981,  25.54893224,  32.86702786,  27.66972364,\n",
       "        25.72187231,  19.68717406,  10.59416719,  21.05249041,\n",
       "        20.15138162,  22.3631941 ,  25.1029289 ,  17.25691096,\n",
       "        19.15925174,  17.95777335,  23.41903874,  20.97057143,\n",
       "        23.81953154,  23.36442609,  20.31521958,  17.28421729,\n",
       "        23.71940834,  23.86504208,  22.78189111,  20.69750816,\n",
       "        18.74055473,  22.9730354 ,  21.2527368 ,  17.26601307,\n",
       "        20.22419849,  22.81829955,  22.76368689,  20.27881114,\n",
       "        18.74965683,  18.98631167,  20.47905754,  19.80550148,\n",
       "        19.65076562,  31.23775036,  24.85717196,  26.27710096,\n",
       "        27.89727636,  20.06946264,  19.01361799,  24.63872134,\n",
       "        25.72187231,  28.48891344,  24.40206651,  25.21215421,\n",
       "        18.88618847,  26.56836845,  16.87462238,  19.35949814,\n",
       "        21.87168021,  23.53736616,  21.09800095,  20.96146932,\n",
       "        23.56467249,  22.22666246,  14.13488758,  18.14891764,\n",
       "        45.24589608,  -2.25801069,  10.5031461 ,   0.49082622,\n",
       "        10.56686086,  26.15877354,  29.18977584,  21.90808865,\n",
       "        18.80426949,   9.98432589,   2.99390619,  31.8931022 ,\n",
       "        25.84930184,  27.16910764,  23.40083452,  21.97180341,\n",
       "        28.7528746 ,  24.90268251,  15.71865454,  15.5730208 ,\n",
       "         5.08739125,  13.36120832,   7.6723902 ,  10.83992413,\n",
       "         9.74767105,  14.38974663,  17.32972783,  20.40624067,\n",
       "        11.16760005,  21.69874014,  18.9134948 ,  24.22912644,\n",
       "        23.62838725,  17.63919954,  14.9631795 ,  18.59492098,\n",
       "        19.82370569,  23.06405649,  23.61928514,  14.01656016,\n",
       "        15.673144  ,  17.05666456,   2.99390619,  16.37400639,\n",
       "        16.45592537,  27.69702996,  17.73022063,  25.92211871,\n",
       "         7.45393959,  12.25075102,   6.46180971,  23.89234841,\n",
       "        27.05988233,  13.60696526,  19.55064242,  27.44217091,\n",
       "        23.6829999 ,  19.99664576,  16.73809075,  20.87955034,\n",
       "        15.9826157 ,  18.99541378,  18.45838935,  21.78065912,\n",
       "        21.69874014,  23.40083452,  23.10956704,  27.52408989,\n",
       "        23.81042943,  23.91055263,  21.83527178,  25.66725966,\n",
       "        24.13810535,  21.32555368,  19.35039603,  16.54694646,\n",
       "        18.28544928,  23.63748936,  21.93539498,  24.35655597,\n",
       "        18.6131252 ,  24.11990113,  23.04585227,  22.22666246,\n",
       "        21.62592327,  23.73761256,  26.75951274,  25.90391449,\n",
       "        22.64535948,  32.62127092,  26.56836845,  24.72064033,\n",
       "        19.7235825 ,  19.35949814,  22.68176791,  20.67930394,\n",
       "        26.32261151,  23.36442609,  22.82740166,  24.61141502,\n",
       "        21.84437389,  17.74842485,  19.50513188,  19.96933944,\n",
       "        19.26847705,  17.32972783,  21.46208531,  22.02641607,\n",
       "        23.91965474,  28.86209991,  14.72652466,  21.41657477,\n",
       "        24.34745386,  13.60696526,  21.62592327,  22.02641607,\n",
       "        22.14474348,  26.76861485,  29.59937074,  17.77573117,\n",
       "        18.76786105,  22.78189111,  20.97967353,  19.07733276,\n",
       "        14.97228161,  14.60819725,  11.68642026,  19.78729726,\n",
       "        19.78729726,  17.27511518,  19.26847705,  16.93833715,\n",
       "        14.38974663,  18.06699866,  20.11497318,  16.01902414,\n",
       "        20.18779005,  25.33958374,  21.03428619,  28.82569148,\n",
       "        27.16910764,  20.21509638])"
      ]
     },
     "execution_count": 8,
     "metadata": {},
     "output_type": "execute_result"
    }
   ],
   "source": [
    "predictions"
   ]
  },
  {
   "cell_type": "markdown",
   "metadata": {},
   "source": [
    "**Check**: How does this plot relate to the model? In other words, how are the independent variable (RM) and dependent variable (\"MEDV\") incorporated?"
   ]
  },
  {
   "cell_type": "code",
   "execution_count": 9,
   "metadata": {
    "collapsed": false
   },
   "outputs": [
    {
     "data": {
      "image/png": "iVBORw0KGgoAAAANSUhEUgAAAYEAAAEPCAYAAACk43iMAAAABHNCSVQICAgIfAhkiAAAAAlwSFlz\nAAALEgAACxIB0t1+/AAAIABJREFUeJztnXv0LUV15z8b0FHRBIjKZUYRYiRAQhQxxIQoPwVZmEEG\nJUE0iSQrUWcyaB7j6DVZy3tusqIR8zKaycMHQROJN0YREx/cID8w8Y08LiBCEq4RI9cH4DMPlT1/\ndB9Onz7V3dV9uk/3+fX3s1atXz+rdlWfX+2qXVW7zN0RQggxTvbrWwAhhBD9ISUghBAjRkpACCFG\njJSAEEKMGCkBIYQYMVICQggxYjpXAmZ2kJm9zcw+aWY3mdkPmdkhZrbbzG4xs8vM7KCu5RBCCLHI\nKnoCrwbe7e7HAD8A3AxsB3a7+1HA5em5EEKIFWNdLhYzs+8ErnH3785dvxk42d33mdk2YNPdj+5M\nECGEEEG67gkcCXzBzC40s0+Y2evM7EDgUHfflz6zDzi0YzmEEEIE6FoJHAA8Fvh/7v5Y4OvkTD+e\ndEXku0IIIXrggI7jvx243d0/lp6/DXgpcIeZbXP3O8zsMODz+RfNTIpBCCEa4O4W+2ynSiCt5D9j\nZke5+y3AqcCNaTgPeGX695KC96Mz0hdmNnH3Sd9ylLEOMoLkbBvJ2S5rJGetBnTXPQGAFwB/YWb3\nBf4J+Flgf2CXmf0csBc4ZwVyCCGEyNG5EnD364AfDNw6teu0hRBClKMVw8uz2bcAEWz2LUAkm30L\nEMlm3wJEstm3AJFs9i1AJJt9C9AFna4TWAYz83UYExBCiCFRt+5UT0AIIUaMlIAQQowYKQEhhBgx\nUgJCCDFipASEEGLESAkIIcSIkRIQQogRIyUghBAjRkpACCFGjJSAEEKMGCkBIYQYMVICQggxYqQE\nhBBixEgJCCHEiJESEEKIESMlIIQQI0ZKQAghRoyUgBBCjBgpASGEGDFSAkIIMWKkBIQQYsRICQgh\nxIiREhBCiBEjJSCEECNGSkAIIUaMlIAQQoyYA7pOwMz2Al8Bvg18091PNLNDgLcCjwD2Aue4+91d\nyyKEEGKeVfQEHNhw9+Pd/cT02nZgt7sfBVyengshhFgxqzIHWe78TOCi9Pgi4KwVySGEGDpmk6hr\ndeNoQxazSWHcZpsLzyVhs1Kesng7xty92wTM/hn4Mok56E/c/XVmdpe7H5zeN+DO6XnmPXf3vPIQ\nQmx1zJz8/37oWt042pDFLKkwQ3Fnn50+l6VMnrJ4a1K37ux8TAA4yd0/Z2YPAXab2c3Zm+7uFiow\nIYQQndO5OcjdP5f+/QLwDuBEYJ+ZbQMws8OAz4feNbNJJmx0LasQoicSc4jf2yKeHoevTWrGEX6+\niSyzZ6bX9gafDcc7L08+nYYym9lGtq6slVc6NgeZ2QOA/d39q2Z2IHAZsBM4FfiSu7/SzLYDB7n7\n9ty7MgcJMUb6MAeZTXCfVMazBc1BXSuBI0la/5CYnv7C3V+RThHdBRxOwRRRKQEhRko/SiD8/AiU\nQKdjAu5+G/CYwPU7SXoDQgiRZ2fktbpxNCEfz2K84V5E9rkNYLNmOiuj89lBTVFPQAjRKYn9fEfg\nzs6gaag4nqQH0NaMpCUZlDloGaQEhBAro2kF3pYiaZFBmYOEEGJLMsDKvynqCQghRNHsoLh319oc\nJC+iQgjRTuu9t8HdZVBPQAghlmG6QGsgZiANDAshxKoZiCkIZA4SQghRAykBIYRoQqyvop5cRMci\nc5AQQixLmTloxaYimYOEEKIPBt7iL0JKQAghlmcn2cVjbbm1XgEyBwkhRFOyi8xiPZF2LpLMQUII\nsSp2rEuLvwj5DhJCiGXI7iEQboEPeiWxegJCCFGHInt/0bMDWUlchMYEhBCiKfO7iU2AefcRPawk\nltsIIYRYFaHtJ8vOVyKSBoaFEGJV8/bD202u0WCxegJCiK3JqlrhZRvMwI6h9wSkBIQQW5M+PHsm\nrf8rgZMDd1ey65jMQUKI8TIMU8zJuNu9Cmh6PNBZQoU9ATN7N/AW4BJ3/9pKpUI9ASHEkvTTE5iQ\nNQGt+cDwnwJnALeZ2S4ze7qZ3XdpCYUQYqsx7YFMxwbK1g4MjEIl4O6XuPu5wBHA24HzgM+Y2YVm\ndtqK5BNCiKasbqWu+2TOBJQlb5Ia2CyhWgPDZvZo4CLgOHffvzOpkDlICDFAYlYAzy8gWzQHdWwi\nan1g2My2mdkLzeyDwCXAe4HHLiGjEEKsK6GpoHkG7SsoT6ESMLPnmdn7gU8AjwJeBHy3u2939+tW\nJaAQQqwV8z2FRCEMY9ZSkLLZQReSzA663N3vWalUyBwkhBgIZYvBmkz7HJg5qHRMwMweDDwbODq9\ndBNwsbt/qYZA+wMfB25396eZ2SHAW4FHAHuBc9z97mUzIoQQndNGBT4wJVBmDjoG2AOcAHwKuBU4\nEdhjZkcXvRfgF0mUx1TbbAd2u/tRwOXpuRBCjIVBjRmUmYP+Gniru+/KXT8beLa7n10ZudnDgD8D\nfhP4lbQncDNwsrvvM7NtwKa7LygV9QSEEI3o0of/OuwP0JY5yMxuSVvrte7lnvsr4OXAdwAvSpXA\nXe5+cHrfgDun58tkRAghgH5WCg+IunVn2faSX294byrIGcDn3f0aM9sIPePubiWr6mx+5HzT3Ter\n0hVCiDGR1q8bjd8v6QncDvwuENIov+zuD6sQ7OXATwPfAu5H0ht4O/CDwIa732FmhwFXyBwkhFiK\ntmfwrDFtmoMmzAZzF3D36MENMzuZmTnoAuBL7v5KM9sOHOTuC4PDUgJCiEasch+BASqYQe4nkCqB\n/+PuZ6ZTRHcBh6MpokKItlmdEhjk2EObU0R3ZY5fmbt3WR2h3P1Kdz8zPb7T3U9196Pc/bSQAhBC\niCUY1BTMoVPmO+hRmeO819CHdCCLEEIsTxcmmqwH0IG6f2iKdhYTQohqkkHnvMvoql3D1kA5lCmB\n+5vZY83shMzxvecrkk8IIfqlbkU+/3yM19FeKZsdtMlsdpCRmynk7k/qVDANDAsh+qRq2mnR7KCq\n/QQ6ZpCzg5ogJSCE6J3sYtbY+qh4AexK1iy0tmLYzJ5R9qK7v72OYEII0TpdzdUP9QKSyj1ckRf3\nGhLlMdA1BVBuDroHuBYIbiDj7j/boVzqCQgxZmIrzS7MLcuuPg6Zg1ZoFmpzxfBZwLOARwKXkuwj\ncGsrUsYIJiUgxHiJrTTnK9xixVG3JZ6tvCHeFFQk04CVQOHsIHe/xN2fSeKY6B+B3zGzf0hX/woh\nRD8UzdUvn4mzzCyduovPZltKwo6hrymIWSfw78CXga8AB6LpoUKILohdiFU0V7+L9BfvTwJvzjPt\ncdRdU9ATZeagU4BzSXYT202ywczHViaYzEFCjJc65qAw09Z7qAdwJe4btdLPjhM0qZcGbA6qGhje\nA3yARW+i7u4vbCxljGBSAkKMl3glMLP1l71Td+7+ohLI1oH1p3q2OV5RmVR7SuBnCLuSNhIlcFEj\nCSOREhBixDSpGGOUwLRFH6sEyqZ+Vi0aa0PuRtFpsZgQYoyUt7Y3gdCklqJ5/8magLK5/9lnl6mr\nelYCciAnhNgalLXG3TfmKtrQIG1+YHimABZnBy0702dA3kjVExBCDIu2V9c2WfwVHhPIDjYX9RKa\njBfIHBRCSkCIkdLlTJoy1w9lMpQNQG91c5CZvcrMvsPM7mNml5vZF83sp5cTUwghBkDx3P95E9C8\n0pjdizHfVD/T605oMWMCp7n7V4AzSPYEfiTwf7sUSggxMpaxkdezo+fNODsImXXyPYXiNKamoTLK\nVyv3vHis0hxkZje6+/eZ2RuAt7n7e8zsOnd/dKeCyRwkxDipax5Z5vmQb6DQmETROoMmaw46povZ\nQe8ys5uBE4DLzeyhJK4khBBiPSj2N8TceTKVtNrPUFmvZWpiGsjsnyqiBobN7BDgy+7+bTM7EHiQ\nu9/RqWDqCQgxTmJmBy3j7rmsJ5A9L18oFmK6eKzdgeOatD47KK30fwU43N2fa2aPAr7X3f9mOVEr\nBJMSEELEUMfdc37F8Kw3UD7ls445aAsqgV3A1cBz0rGBA4EPakxACDEI6imB2Xz/qcuHxF1+aDXx\nzNFcmRIod1aXKJc1VwJXu/sJZnaNux+fXtPAsBCiX5ZZBFbUOp83B81vDpNcn/cVlO1ZFG0gM/Ce\nQMzA8H+Y2b17CJjZI4H/aCKcEGJEdD0IGuuvv2ifgGL55qd8zir9HQvjFfNp7Zh7Z6sMDJvZacCv\nAceS7CtwEvAz7n5Fp4KpJyDEerPKFnDcVM0JVT2HMkdz2f0Eyp+bVw4D7wnEzg56MPD49PTD7v7F\nhvJFIyUgRMu07ZOnOr1VKoF6G9PHzu+v8iQap1gGrQRi3EacTNIL+GoajjWzJ0a8dz8z+4iZXWtm\nN5nZK9Lrh5jZbjO7xcwuM7ODYoUVQizFMvvsxtG1GaQonnjlFueiYZZOcZllFU+5SapXtxBVxJiD\n/obZ5jL3I9lu8mp3f3Jl5GYPcPdvmNkBwN8DLwLOBL7o7heY2UuAg919e+Bd9QSEaJMVt0g7Sa8q\nzqIeQf567FqE7EDv/O5iWZJZRKsu3wJa7wm4+xnu/rQ0PAX4fuDumMjd/Rvp4X2B/YG7SJTAdFey\ni4CzYoUVQtRk1QOU/Q98FrXc56/H9Bzydv1Fdqat/o17z9eQJpvK3A4cE/Ogme1nZtcC+4Ar3P1G\n4FB335c+sg84tIEMQogYYmfQFFG/Us9Wtu1Uin3MtJmPe+dcGU7Jl+H8tNG1IcYc9JrM6X7AY4Db\n3P2nohMx+07gfcBLgbe7+8GZe3e6+yGBd7KLMAA23X0zNk0hRI4m5oqunbnVJbxCd0K4B3AldbaU\nLEunzpqE1Q8Eb5AseJuyo4456ICIZ67OHH8LuNjd/z42AQB3/7KZ/S2JE7p9ZrbN3e8ws8OAz5e8\nN6mTjhCilG7MFfkKMuuKYVX/w+HVvBPCSmBLkTaON6fnZlZvAoC7dxKABwMHpcf3B64CTgEuAF6S\nXt8O/FbB+96VbAoKCiUBJg4eCJOId33ptOvez6aZT396HpIrH1dVvrNxLabTvMxaDnXrzkJzkJnt\nKdcd/gNlysXMjiMZ+N0vDW9291elHkl3AYeTbFJzjrsvDDRrdpAQA2DV5qBidw7Fs3nyrf/QQq3Z\n3+JtIvPPQ36fgeJ7+ThW2QtaSL6lxWJmdkTZi+6+t45gdZESEGIA1FcCyy1IC1XWITnKbPTFDuHm\nnbnFKIGyxWLZeEMziXqqv7TRvBCiPaoq9TZWIS+76rbMYVvoXjOqFcgsjQkr9hw6n3z7K4Z/2Mw+\nZmZfN7Nvmtk9ZvaV5cQUQqwF1RX88quQQ9NYp7QxNTQ/xXQ+bZsL2Wvz96vTnKYzLZMBO43LEuVK\nGjiXxI7/OOA5JJvKLKzybVUw9QTEOrJq/zx909Z0yHI3DeU++cvf/TTuR2SeLe4lVN0vG3tYlKmd\ncmlAF66kcfdbgf3d/dvufiFwelMBhdjiLFZEA28J1qabxVs70kp1Z+1WeNKTmO9NzOJ5RMmboSmz\nVxbkLbw38RYgpidwFfAU4PXA54A7gPNcm8oIsUhV63Kr0V5PYH5AODQQHL/KObwxTGw8RZ5G6+S1\nxx5haz0BM/vB9PCn0+fOB74BPAw4exkhhdhSrNEGIoMivNnLjmA51nNzcWUmvsV4Qt+l6lvV/Zbr\nZBIsWXBwLfCPwG8Axw59wYOCwiDCbEHRYBYPRcrdTK628pNf1FX0/1+WXmyZhxeOhd6bvTvkb5cL\ndevOUnOQmR1NMih8DonLiLcAf+kdrxFI03bfql1osXVZV3NQnzK26ZdncXFY3PeoM2A8cFodGHb3\nm9194u7HkswK+k7g/Wb2wSXlFGKrspbuhHslNCBcZ8Vt+R7COwufqRr0HYmZL2p2kJntBzyUxO3z\ngSQuoIUQecIV1zAVw5AquSK3zFAtZ3idwU6ms4bKWZyNlN0neBk33GtClTnoiSTmoLOAG4CLSVxB\nf7lzwWQOEmJ1DMXcka3Yw/fjzEHl8e8ImnvKeh9DKZ8I2pwd9BngFcBNwPHufpq7X7gKBSCEGCGz\nWUA7GvVGsuafxetTdsxdn91b9BGU31hmq1IywnzEOo1wKygoLBH6mvmSTbfMVXOMnPMupUPxTgIz\nfubP8/HVLZcBzCCqW3fKgZwQY6LOButtxl983ZkuEivaHWy2h29V2klcoeP6zHoGQ9pZLUoEeREV\nQhQRU0ktU5EVvVt2vZoyW/2ENpzYZdOKna4almftlECTjeaFECIhxnaff6bMq2eIxbUCk7l7oU3g\nm1OkUIrHKYY0y6oBZQPDrykJf7BKIUUPrMkPWEQQU0k1r8h2lLy7Sci1Miy6ay4beF2UJT+4W61Q\n6iqJ/PPTqaGh8ljzqaRlO4v9DDC9mS9Ad/eLOpRL5qC+GUC3dkvSt6vpGHfI9RylzT9btNoWwhVx\nXp5ZBT9vllncGCa8mrg+MTuHQXZ8YZkpqiugdt3Z90h2WyPcCi0HlX9/5drlDJP5GTRhWbKzaYrk\nK/KzU+07yR02F3zyFD+bfSecZlbuqrjmZZtEpr0YRx/fLjLUrTtjXEk/FHgxcCxw/5nu8Cc30VKx\nqCfQA3V8uIhmdD0wWyf9qkHcMjmKXT5v4r4xdz/LNN7scaiVnxD+LWZn7ZhtEt5POJxmmE8Deyvj\nCckywP+L1nsCwG7g54GbSQrpQuCCoWkzhZaDyr/Nsiz3bhnj5bIq/jrftXlLe+L5OfWhufX5v4st\n8SIZJnPxLcZVLGPTFn2+dV/3fIChbt0ZE+En0r/XZ659fGgZUWg5qPxXV67lZozJ0t+qrIKMf3Yy\n907WtBKfl6IwCealSOHMm528JO0ipVEsx/Sd+TiLzwcYulACH07/XgacATwW+KehZUSh5TAA2+aW\nDEVKoOqZunHGPBuqcLPXQ3LV60VMQ6xSmF/Rm5ctrwSatvjrKYbNnGyLMvf9m8qFLpTA04CDgOOA\nTeATwJlDy4iCQquhq3/urAmorCKskqH4/c2K9D3ieHLvtfIKd7IgZ52KdvZckRLZjFAwnimP+F5M\n6Hhe7urvM9DQuhJYl4woKLQaVvn7y7coi3zZxMha9k7Wpp99tqhiq2rlF6Vf1qrOpxf6G4q7erZR\n6HqZYtiMiNcX8rfq30aD0EVP4MJceCPwxqFlREGh1bB6JbCYXvtKwCsrvfkW/vy1UMs7m2Zs6znU\n24nrMVTJvxlML3m/7vhAuEyyMg80dKEEfpxkY/mzgZ8C/hp4zdAyoqCwdOjL7hs3v75YhpiZPclz\nHjxfrNxDcU3D3ig5FyvxSQsV8d1zspdV2KHyimnZh44HXunnQ+fmIBJXEx8aWkYUFFoNq/j9xVSk\ny8pdZg4pvl5tIsmmFadEJnPvLSqJ4nhjZZymX1w2mwVl5Lnyal7+Awh1684mDuSOAh4S86CZPdzM\nrjCzG83sBjN7YXr9EDPbbWa3mNllZnZQAzmEWG/a9jkTctRWnMYGiZvm6aKi6TaLJzPd87c4ncX9\nfLPH2YVK2bSrfPwUxZtlKmPR+7BRGP/svStz12d5nW5qk7++lYnQKl8DvpqGrwC3AmdHaqRtwGPS\n4wcCnwKOAS4AXpxefwnwW8tqMwWFwtCkO79qE0Do915/QxNfaHEX3Y9ZO9DcbDNZiCubpyozTlwa\nm7kewySY56oyXua5gYa6deeqhbsEOJVk9fGh6bVtwM3LZkRBoTCsw2+pmelnMndcZuaYni9TyWfj\nzF/LV/51Kve8rE0UTnGe48ZY1mgdQFVoXQkAl8dci4jnCBIfHQ8C7spct+x504woKBSGZX9LbVYE\noYq7ScUz7wQtFMdinPUq+8XB6mxZFj87/7foezQP8flo6o5jzeue1pQAibO47wKuBw7JhCNCLfcK\noR4IXA2clZ7flbt/ZygjwCQTNvouXIUBhy5bdm1WCkVx1U0jn598pTy7VqfS7CpMMnLHDzovTkvd\nnCurfJlVLeTaokqAZBwkW1fWkr8s4l8CbgP+I/07DdcD59cQ8D7A+4Bfyly7GdiWHh8mc5DC0qGN\nf/7F9yZLvR8rS1nltbjAK65Sz6cV71NnshBPNq5Ys07595iVa/b5kFKrp2A8Kt3Y776moQtz0AuW\nEMaANwG/l7t+AfCS9Hi7BoYVlg5tK4F2exLlcYVay1nZqyvgfIvZC+OZr9jLlEH9MJ92dZnXT2NS\nmL9QOY40dKEEzgcOzpwfDPxCpDA/CtwDXAtck4bTU7PS3wG3kDimO2jZjCiMMNQZ9GsWv8/9bUfm\naZyThWuh81Drtl7lnR+UzZeNz6UT0zuoc28x/3trVfbh/GfLZ8sM6LYVulAC1wWuXTu0jCiMPLT1\ne+m6UqmudKvMPZOF43m5Q9eK87O48KraZl/1XLYsQ/mvHya5OMLnqjNw70YJ7AH2y5zvD9w4tIys\nbRhxi6XlcvTO4uxidtBiaz92ADf+ufn4vbCMZvFOFp4vUgKhvCwqgcX0yhVLXH6Kv1P7v4E1DF0o\ngd8GdgGnkMzx/yvgd4aWkbUN657PoSixLuRo+9vEtJ7z6cZU+IvxlymKzcp8xi3amlTkKbZH4gvp\n1Sl/mYMWQhdKYH/gfwFvS8Pzgf2HlpG1Deuezy7l7/sfucv051vBk4V70+vVFb9XVoT5ija5VjSu\nMMnEPVmIJ/TN46akTubyXawIJgvlUPRtVPkHQ+tKIJDAE4A/HFpG1ipspR/wMt+pKr9D+A00H1Su\nzltR/sItcw++Fzt9dD7dycK1snzMpz0p/K2W9Wjy+S7Lf92yL1JOIw2dKAGSLSVfBewl2V2s8bTR\nrjKytmEd89mWEquuBPovm6YyhCvAcjNNjKmkqrxDFWJZmrHfIUaGoh5NuAwmlenWLet1bER1ENpc\nLPa96eqzTwJXAS8A/mWoGVnbMKR8NpsD31z+ehVlfdn6/D7FeZvce7+qJ9CkLOovtnIPjxNU2fGr\nyyWul1Lvu4YVXz+/jYGGNpXAPcClwOGZa7cNNSNrG4b0A25S5nXfadKq7eOb1KmwYgZJp/mZN62E\n81dkRpn/W/67WZwd1LwSrlYi1XG09V3HUi8sEdpUAmcBb01NQH+czg7aO9SMKLQQmimBSWfpDeE3\nENfiXXym6Np8Kz9cdvNKZTIXX+yc+PippNNQ/B2zaYVMOVXz+Nv8rkP4TQw8dDE76IHATwJ/A3wd\n+CPgtKFlRKFh6H5xVHE8MRVZ/+VTLmPRM9UmneoyziuNumUXU/nX/Yb5HklIlra/69BMhAMPnc4O\nSt09PA94/9AyotBC6KLMy+IM2aKHFspa6+Wmn8X36lS8oeebVoZ5E1RoTn7d71k2lbPL/13VC5Wh\nbt1p6UuDw8zcs9vUie4xc9ou87I4u0ivLaZbM8Y9G5eP0PaL+bTMNinaPjHZ7nAH7lYYV5l8xVs7\n7izNa7Jt5Y7KdJrEXZch/2YGQt26s8kew2Lr0s6eqmaThf1ikzBpJf7VUF7ptZuXHZk4Tya7L2/C\nTor2Hq4nx05i9zTOxlu8T/HiXsJ190uuX47j2Pd3hagnIMLUaQmXxzPfcituVbbbYlyWqhZn9n5s\nWRX3BKpa6jHMl19VOdfJX9n1UJ7qtNbVsm8d9QTWiT5axvFpNu3+l1PcqoyVqzua9mBmppzF5/Jx\nzsc7n1aYnWkai2U2S3+x/KrLOb5FPZ+vnSV5qh+36J++BzHaGtxYy9BHHuNnhLQj2zKzg4b2bWJ9\n9MS/t1lxL3TdS+VYZr1FrIO7Zb+hZvt0GurWnb0L3FZGWgmr+BHGOsjqLv3iNNv45+zq2abxNPf9\nU/5twkrCKyvM7Oya4kq++Bvk1xBUzcwpW48Qm7+2lUCb7yssBCmBZcIq0qz6J+8mzfqVe9OyGNp3\na56PScW51y7bIsdt1a37xTxk3y3L7zLfMSZfy/5upQRaD1ICy4RVKYFVptc0j10pgS6UXVct1dCK\n3fC9OoqgzMzjmfuzyj/fmo/vRYQVSGze2yjDOukotBKkBOqGVdgnm9hau8tvXJp1zTrxlWA7eW5m\nZ6/3TbPfqKw1Hnq+qgyrWv5ZeWfXqvMV+1wXvxmFQYS6daemiM4n6nSdZpOphe2m322aTacetpVm\naApj0/KuWlxVNP21SJb5uJNnQ3EnzMcDBPNVlt8qGWLp43cqGlO77uxba7WlzVoJqzYHbcUQbjG3\n39sqN4kUm1ym7zaLd1KZlyIzSlmvaN7sU5R2Xo7Z37z8Vd9DYUuHunVn7wK3lZFWwqpnB22V0Jc5\nKBtnjE28zLQTTsNrmYPKy8Ir7k+CaTdRREXlpDCKULfulDlItEuX5qB5HzuzeKrMQWGqVyhnzTAh\nk0i9VcWLz85MOuVxF5mDpuj/RGTQimHRLu2val5mNWnIhp7EWbRaF65MK8l8ujsiVgPvZLZit+y5\n+TRDq46zx/k0w3HvzOQhOQ+t1J3FG5Zvvfw1NWcs+ewA9QREOXVb7l0OIpa7Vtix0KouGiRt2hvJ\n5235nkB1WSV5Xuy1zMqiygNo857XOjGWfEZQt+6UEhDl9P3PVebGuGoWUGj2TozztGJZkgo51gFe\nlRKITbPIkRtUm4L6/n6rYiz5jEDmILE8Q3IFXeQIrUzOqaknL3sd52nZvMa5VZ6wyM6C4+q0q8t/\nZqqq+/5WMZ0M6Xe6xqgnIMoZUgurbM5/dpA1u/FK80Ho+fgWmZmgumTZ8i8bkN5KbMU8NWRQPQEz\ne6OZ7TOzPZlrh5jZbjO7xcwuM7ODupRBdEyTVlfzltqs5RveCCXpBcyO49Iqe2aaTrjlL5fJYu3p\n2hx0IXB67tp2YLe7HwVcnp6LVVJ3N6pyimbstP1O1QydnXMtwemMoLhB6qniKJ/ZM30mTp5+WPy2\ns1lGW9t0IoXckM7NQWZ2BPAudz8uPb8ZONnd95nZNpLNxo8OvCdzUFe02XVuElfbXfdldysLDeCG\nr63efUL92VnVz8t0sqUZlDmogEPdfV96vA84tAcZxDI0aVXWeadJ63R+t63iPXmr5ClPo75cMeTz\nu/Vb7WLdC60NAAANCElEQVRIrGAJ8xHAnsz5Xbn7d7ax9FmhInTlLbXJd6p6p26cIdcQdd+P9QfU\nzbcpljkmP3W/rVxJbOlQt+7syxy04e53mNlhwBVeYA5i3s636e6bnQo7FoZuDlrGBNLEZNPGfP5l\nKEuzC3OQ2FKY2Qawkbm0wwduDroUOC89Pg+4pOhBd59kwuYqhBO1aTIgl3eJUN8E0sScUyVPLG2Y\nZeLzqwFPUYq7b2bryrrvd9oTMLOLgZOBB5PY/18GvBPYBRwO7AXOcfe7A+96HW0marCq1mJVq7xs\nNWxfrd9YVw5NXEDUia8p8v0/euQ2Yl1Z5T/v6pRAM7NPrHxN3EC0Uc5lC7CWNUcJsSTrMDtIhGk2\ndz6WrmfntCtHrAlkWmZ1TCbNyjm+/JrEL5OP6A31BIbCKluDbQ/Mzr87oYmDtWZptT8oXSeOZdcn\nCNEB6gmsE23OBx/KHPJ6DtYWqcpH12sU6jDNa7O9CoQYBOoJDIVVtYqnFdNiq3xCWau2C1t3k926\nmj67zDuLcUwWyiS00liIHtDAcJd0vWHKapRA9XNlA5/1ZOp2kLTJ+oCu1kgsu1eBEC0hc1C3dDl4\nW39wcOjuBZbdkrE6H9kyi/023QzC1tmrQIgBoZ5AHYbcyitfdTohZgAzb+boY+CzaRmvcu2DBoPF\ngJE5qH1BJqzDP30b5qA23Rc0pe6c/z6/zZAbBWK0SAl0yZD/6duwiQ9DCTQbdxmazx8hekJjAmMl\nvuKct1mv2odNlZ1/SL2ramT/F2uPegJ12Op+WVbRsu0qja3+bYSIRD2BLtlKlcxQZhC1RbXTt/L7\nQowUKYHxEh5Q7YJhTGXt1jeTEGuKzEFjpa9BzbGlK8SKkTlIFDOMFvnqGFt+hWiAegJjpb8WeT8D\nuOoJiJGgdQIijrFVimPLrxgtMgeJWMY2x31s+RUiCvUEhBBiC6GegBBCiGikBIQQYsRICQghxIiR\nEhBCiBEjJSCEECNGSkAIIUaMlIAQQowYKQEhhBgxUgJCCDFielMCZna6md1sZrea2Uv6kkMIIcZM\nL0rAzPYHXgucDhwLPMvMjulDlmUxs42+ZahiHWQEydk2krNd1kXOuvTVEzgR+Ed33+vu3wT+Evgf\nPcmyLBt9CxDBRt8CRLLRtwCRbPQtQCQbfQsQyUbfAkSy0bcAXdCXEvhvwGcy57en14QQQqyQvpTA\nMF2XCiHEyOjFlbSZPR6YuPvp6flLgXvc/ZWZZ6QohBCiAYPfWczMDgA+BZwC/CvwUeBZ7v7JlQsj\nhBAj5oA+EnX3b5nZ+cD7gP2BN0gBCCHE6hnszmJCCCG6Z7Arhs1sYma3m9k1aTi9b5myrMtiNzPb\na2bXp2X40b7lmWJmbzSzfWa2J3PtEDPbbWa3mNllZnZQnzKmMoXkHNRv08webmZXmNmNZnaDmb0w\nvT6o8iyRc2jleT8z+4iZXWtmN5nZK9LrQyvPIjlrledgewJmtgP4qrv/bt+y5EkXu30KOBX4LPAx\nBjqmYWa3ASe4+519y5LFzJ4AfA14k7sfl167APiiu1+QKtaD3X37AOUc1G/TzLYB29z9WjN7IHA1\ncBbwswyoPEvkPIcBlSeAmT3A3b+Rjl/+PfAi4EwGVJ4lcp5CjfIcbE8gZagbza/bYrfBlaO7fwC4\nK3f5TOCi9PgikgqiVwrkhAGVqbvf4e7XpsdfAz5Jsu5mUOVZIicMqDwB3P0b6eF9ScYt72Jg5QmF\nckKN8hy6EniBmV1nZm/ou+uVY50Wuznwd2b2cTN7bt/CVHCou+9Lj/cBh/YpTAWD/G2a2RHA8cBH\nGHB5ZuT8cHppUOVpZvuZ2bUk5XaFu9/IAMuzQE6oUZ69KoHUvrYnEM4E/gg4EngM8Dngd/qUNccw\nbWhhTnL344GnAv87NW8MHk/slEMt50H+NlMTy18Dv+juX83eG1J5pnK+jUTOrzHA8nT3e9z9McDD\ngCea2ZNy9wdRngE5N6hZnr1MEZ3i7k+Jec7MXg+8q2Nx6vBZ4OGZ84eT9AYGh7t/Lv37BTN7B4kp\n6wP9SlXIPjPb5u53mNlhwOf7FiiEu98r11B+m2Z2HxIF8GZ3vyS9PLjyzMj551M5h1ieU9z9y2b2\nt8AJDLA8p2TkfJy7b06vx5TnYM1BaSFPeTqwp+jZHvg48CgzO8LM7gs8E7i0Z5kWMLMHmNmD0uMD\ngdMYVjnmuRQ4Lz0+D7ik5NneGNpv08wMeANwk7v/fubWoMqzSM4BlueDpyYUM7s/8BTgGoZXnkE5\n0wH4KZXlOeTZQW8i6c44cBvw/Iw9rnfM7KnA7zNb7PaKnkVawMyOBN6Rnh4A/MVQ5DSzi4GTgQeT\n2DNfBrwT2AUcDuwFznH3u/uSEYJy7iDxJjmY36aZ/ShwFXA9MxPFS0lW4g+mPAvk/FXgWQyrPI8j\nGfjdLw1vdvdXmdkhDKs8i+SsVXcOVgkIIYTonsGag4QQQnSPlIAQQowYKQEhhBgxUgJCCDFipASE\nEGLESAkIIcSIkRIQhZjZt1NXtHvMbFe6IKVpXH9mZmenx68zs2NKnj3ZzH64QRp707nc2WsXmtnz\nctfOMrN3x8jaBWb2E6nr38u7SiNNZyEfqa+ZP0i/6fVm9tF00eOH02/9aTP7vM3cEB9uZgeY2Rds\n5qr41zL3v505Pr/L/IhukBIQZXzD3Y9PXSj/J/A/szdT97Wx3Otrxd2fW+F2+0nAj9QVlrAvl7cA\n5+aunZteL4unywU0Pwf8vLufkr1YszxjCOXjmcBh7n6cu/8AiSfMu9398amPqZcBf5l+9+Pd/V9I\nVqJeDZwN4O6/Ob3P7DdyvLu/tmX5xQqQEhCxfAD4nrSV/gEzeydwQ9qyfFXaorxu2uq2hNdasvHO\nbuCh04jMbNPMTkiPTzezqy3ZGGO3mT0CeD7wy2nr8iQze4iZvS1N46Nm9iPpu99lyeYeN5jZ6wi7\nz30/cPR0KX3qPuMU4BIze1ka3x4z+5NQprO9CzN7nJldMY3Hkg1nPmJmn7DE6SFm9n3ptWvS8vie\nXHwvA04C3mhmF5jZeWZ2ador2G1mB5vZJem7H0pXhU43CrnIzK5KZXqGmf122pp/T4kCyZfJNhKn\nYgC4+7/mVr1a4J1zSZyS/XOTHpoYNlICopK0gvkxkuX+kLgAfqG7Hw38PElL8kQS53TPtcRN8NOB\no4BjgOcw37J3wM3sIcCfAs9IPSH+hLt/Gvhj4HfT1uU/AK8Gfi9N48eB16fx7ACucvfvJ3GPcXhe\ndnf/NonDsnPSS08jcbn7NeA17n5i2tO5v5mdEch+UY/g14DL3f2HgCcDrzKzB5AosFenreQTyDkW\ndPdfJ/E99Wx3fzFJhXs8cLa7Pwn4deBqd380iUuFN2VeP5Kkl3Qm8OfA7rQ1/2/Afy+QM88u4Gmp\nkvptM3tMWX7N7H5p/t6TvvusyHTEmiAlIMq4v5ldQ7Jz2l7gjSSV1kfTyhoSp3TPSZ/7MHAI8Cjg\nCcBbPOFzJC3yLAY8nqQS/zRAoEU65VTgtWka7wQelLbon0BSGeLu7ya8+QvAxcxMQuem5wBPTm3h\n15NUdMdWF8m9nAZsT2W6AvgvJEroQ8CvmtmLgSPc/d8j4tqdyftJwJvTPF0BfJclTgAdeE+q1G4A\n9nP396Xv7AGOiBHa3T8LfC+Jb6F7gMvN7Mklr5wBbLr7f5I4TDvLzFRvbCF6dSUtBs+/pS3aezEz\ngK/nnjvf3Xfnnvsxqnc3irW7G/BDaUWUlyVmB6UPAYeZ2aOBHwbOSVu4f0iy9eZnLdky8n6Bd7/F\nrLGUv/8Md781d+1mM/swSeX5bjN7flqZF+EslmdRnv4TEh/yZvbNzPV7KP5fXijjtBzfC7zXzPaR\njAvklfSUZwEnWbJNKSRK/snA3xU8L9YMaXSxLO8DfmFqkzazo1KzyFXAM9Mxg8NIzBhZnKTn8MTU\nfITNZvZ8FXhQ5tnLgBdOT9LKnDSNZ6fXngocHBIw3QDkrSQeF9+dVoLTCv1Llmxy8hMF+dsLPC49\nzs60eV9OpuPTv0e6+23u/hqSXstxBfHe+2ru/APAT6ZxbQBfSDeIabr94tx7Zna8mf3X9Hg/4NEk\neVx43sy+A/hR4OHufqS7Hwmcj0xCWwopAVFGqKWen3HyeuAm4BNmtodkAHF/d38HcGt67yLggwsR\nuX8ReB7wdku2yJuaad4FPH06MExS2T4uHSy9kcTuDrCTRIncQDIG8WmKuZikQr44Tftu4HUkppX3\nkmzHGGIn8Goz+xhJr2Ca998A7pMOzN6QPgdJL+OG1Ez0fczb9EPky3MCnGBm1wEvZ+a/Pv9c/tsU\n9ar+xMw+k4YPkgzQX5p+q+tIehfZWT3ZdJ5OMu6R7XVcSjKmcJ+KdMWaIFfSQggxYtQTEEKIESMl\nIIQQI0ZKQAghRoyUgBBCjBgpASGEGDFSAkIIMWKkBIQQYsRICQghxIj5/0I1uFlJDpv8AAAAAElF\nTkSuQmCC\n",
      "text/plain": [
       "<matplotlib.figure.Figure at 0x10bb42050>"
      ]
     },
     "metadata": {},
     "output_type": "display_data"
    },
    {
     "name": "stdout",
     "output_type": "stream",
     "text": [
      "MSE: 38.4829672299\n"
     ]
    }
   ],
   "source": [
    "lm = linear_model.LinearRegression()\n",
    "\n",
    "X = df[[\"LSTAT\"]]\n",
    "y = targets[\"MEDV\"]\n",
    "\n",
    "model = lm.fit(X, y)\n",
    "predictions = lm.predict(X)\n",
    "\n",
    "# Plot the model\n",
    "plt.scatter(predictions, y, s=30, c='r', marker='+', zorder=10)\n",
    "plt.xlabel(\"Predicted Values from LSTAT\")\n",
    "plt.ylabel(\"Actual Values MEDV\")\n",
    "plt.show()\n",
    "print \"MSE:\", mean_squared_error(y, predictions)"
   ]
  },
  {
   "cell_type": "code",
<<<<<<< HEAD
   "execution_count": 10,
=======
   "execution_count": 14,
>>>>>>> 065d7e12db1816bc03274892c63d523a7a537c27
   "metadata": {
    "collapsed": false
   },
   "outputs": [
    {
     "data": {
      "image/png": "iVBORw0KGgoAAAANSUhEUgAAAYEAAAEPCAYAAACk43iMAAAABHNCSVQICAgIfAhkiAAAAAlwSFlz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\nlulzX2RKnAAAAABJRU5ErkJggg==\n",
      "text/plain": [
<<<<<<< HEAD
       "<matplotlib.figure.Figure at 0x1103f72d0>"
=======
       "<matplotlib.figure.Figure at 0x10bbb4190>"
>>>>>>> 065d7e12db1816bc03274892c63d523a7a537c27
      ]
     },
     "metadata": {},
     "output_type": "display_data"
    },
    {
     "name": "stdout",
     "output_type": "stream",
     "text": [
      "MSE: 30.5124687773\n"
     ]
    }
   ],
   "source": [
    "lm = linear_model.LinearRegression()\n",
    "\n",
    "X = df[[\"RM\", \"LSTAT\"]]\n",
    "y = targets[\"MEDV\"]\n",
    "\n",
    "model = lm.fit(X, y)\n",
    "predictions = model.predict(X)\n",
    "\n",
    "# Plot the model\n",
    "plt.scatter(predictions, y, s=30, c='r', marker='+', zorder=10)\n",
    "plt.xlabel(\"Predicted Values from RM and LSTAT\")\n",
    "plt.ylabel(\"Actual Values MEDV\")\n",
    "plt.show()\n",
    "print \"MSE:\", mean_squared_error(y, predictions)"
   ]
  },
  {
   "cell_type": "markdown",
   "metadata": {},
   "source": [
    "## Comparing the models\n",
    "\n",
    "A perfect fit would yield a straight line when we plot the predicted values versus the true values. We'll quantify the goodness of fit soon.\n",
    "\n",
    "### Exercise\n",
    "\n",
    "Run the fit on all the variables with `X = df`. Did this improve the fit versus the previously tested variable combinations? (Use mean squared error)."
   ]
  },
  {
   "cell_type": "markdown",
   "metadata": {
    "collapsed": true
   },
   "source": [
    "## Intro to Statsmodels\n",
    "\n",
    "Now let's see how to use another popular package for regressions."
   ]
  },
  {
   "cell_type": "code",
   "execution_count": 13,
   "metadata": {
    "collapsed": false
   },
   "outputs": [
    {
     "ename": "ImportError",
     "evalue": "No module named statsmodels.api",
     "output_type": "error",
     "traceback": [
      "\u001b[0;31m---------------------------------------------------------------------------\u001b[0m",
      "\u001b[0;31mImportError\u001b[0m                               Traceback (most recent call last)",
      "\u001b[0;32m<ipython-input-13-3e91cac96e0c>\u001b[0m in \u001b[0;36m<module>\u001b[0;34m()\u001b[0m\n\u001b[0;32m----> 1\u001b[0;31m \u001b[0;32mimport\u001b[0m \u001b[0mstatsmodels\u001b[0m\u001b[0;34m.\u001b[0m\u001b[0mapi\u001b[0m \u001b[0;32mas\u001b[0m \u001b[0msm\u001b[0m\u001b[0;34m\u001b[0m\u001b[0m\n\u001b[0m\u001b[1;32m      2\u001b[0m \u001b[0;34m\u001b[0m\u001b[0m\n\u001b[1;32m      3\u001b[0m \u001b[0mX\u001b[0m \u001b[0;34m=\u001b[0m \u001b[0mdf\u001b[0m\u001b[0;34m[\u001b[0m\u001b[0;34m\"RM\"\u001b[0m\u001b[0;34m]\u001b[0m\u001b[0;34m\u001b[0m\u001b[0m\n\u001b[1;32m      4\u001b[0m \u001b[0my\u001b[0m \u001b[0;34m=\u001b[0m \u001b[0mtargets\u001b[0m\u001b[0;34m[\u001b[0m\u001b[0;34m\"MEDV\"\u001b[0m\u001b[0;34m]\u001b[0m\u001b[0;34m\u001b[0m\u001b[0m\n\u001b[1;32m      5\u001b[0m \u001b[0;34m\u001b[0m\u001b[0m\n",
      "\u001b[0;31mImportError\u001b[0m: No module named statsmodels.api"
     ]
    }
   ],
   "source": [
    "import statsmodels.api as sm\n",
    "\n",
    "X = df[\"RM\"]\n",
    "y = targets[\"MEDV\"]\n",
    "\n",
    "# Note the difference in argument order\n",
    "model = sm.OLS(y, X).fit()\n",
    "predictions = model.predict(X)\n",
    "\n",
    "# Plot the model\n",
    "plt.scatter(predictions, y, s=30, c='r', marker='+', zorder=10)\n",
    "plt.xlabel(\"Predicted Values from RM\")\n",
    "plt.ylabel(\"Actual Values MEDV\")\n",
    "plt.show()\n",
    "print \"MSE:\", mean_squared_error(y, predictions)"
   ]
  },
  {
   "cell_type": "markdown",
   "metadata": {
    "collapsed": true
   },
   "source": [
    "## Guided Practice\n",
    "\n",
    "Compare this to the analgous fit from scikit-learn above.\n",
    "\n",
    "### Exercises\n",
    "\n",
    "Recreate the model fits above with `statsmodels`:\n",
    "* a model using LSTAT\n",
    "* a model using RM and LSTAT\n",
    "* a model using all the variables\n",
    "\n",
    "Compare the mean squared errors for each model between the two packages. Do they differ significantly? Why or why not?"
   ]
  },
  {
   "cell_type": "code",
   "execution_count": null,
   "metadata": {
    "collapsed": true
   },
   "outputs": [],
   "source": [
    "# Start your exercises here"
   ]
  },
  {
   "cell_type": "markdown",
   "metadata": {},
   "source": [
    "## Independent Practice\n",
    "\n",
    "Using our preference of `scikit-learn` or `statsmodels`, try to find the best models that you can that:\n",
    "* use only two variables\n",
    "* only three variables\n",
    "* only four variables\n",
    "\n",
    "Evaluate your models using the squared error. Which has the lowest? How do the errors compare to using all the variables?"
   ]
  },
  {
   "cell_type": "code",
   "execution_count": 12,
   "metadata": {
    "collapsed": false
   },
   "outputs": [
    {
     "data": {
      "image/png": "iVBORw0KGgoAAAANSUhEUgAAAYMAAAEPCAYAAACgFqixAAAABHNCSVQICAgIfAhkiAAAAAlwSFlz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\nAfx/aMzjqVNqRKcAAAAASUVORK5CYII=\n",
      "text/plain": [
       "<matplotlib.figure.Figure at 0x1185193d0>"
      ]
     },
     "metadata": {},
     "output_type": "display_data"
    },
    {
     "name": "stdout",
     "output_type": "stream",
     "text": [
      "MSE: 30.5124687773\n"
     ]
    }
   ],
   "source": [
    "# Start your exercises here\n",
    "lm = linear_model.LinearRegression()\n",
    "w = df[['CRIM']]\n",
    "z = targets['MEDV']\n",
    "\n",
    "model = lm.fit(w,z)\n",
    "plt.scatter(predictions, z, s=30, c='r', marker='+', zorder=10)\n",
    "plt.xlabel(\"Predicted Values from CRIM\")\n",
    "plt.ylabel(\"Actual Values MEDV\")\n",
    "plt.show()\n",
    "print \"MSE:\", mean_squared_error(z, predictions)"
   ]
  },
  {
   "cell_type": "markdown",
   "metadata": {},
   "source": [
    "# Bonus Exercises\n",
    "\n",
    "From the LSTAT plot you may have noticed that the relationship is not quite linear. Add a new column `\"LSTAT2\"` to your data frame for the LSTAT values squared and try to fit a quadratic function using `[\"LSTAT\", \"LSTAT2\"]`. Is the resulting fit better or worse?"
   ]
  },
  {
   "cell_type": "code",
   "execution_count": null,
   "metadata": {
    "collapsed": true
   },
   "outputs": [],
   "source": [
    "# Start your exercises here"
   ]
  }
 ],
 "metadata": {
  "kernelspec": {
   "display_name": "Python 2",
   "language": "python",
   "name": "python2"
  },
  "language_info": {
   "codemirror_mode": {
    "name": "ipython",
    "version": 2
   },
   "file_extension": ".py",
   "mimetype": "text/x-python",
   "name": "python",
   "nbconvert_exporter": "python",
   "pygments_lexer": "ipython2",
   "version": "2.7.11"
  }
 },
 "nbformat": 4,
 "nbformat_minor": 0
}
