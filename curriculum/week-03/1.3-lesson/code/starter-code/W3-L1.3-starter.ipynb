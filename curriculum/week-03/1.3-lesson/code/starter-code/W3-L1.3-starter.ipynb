{
 "cells": [
  {
   "cell_type": "markdown",
   "metadata": {},
   "source": [
    "# Linear Regression with Statsmodels and Scikit-Learn"
   ]
  },
  {
   "cell_type": "markdown",
   "metadata": {},
   "source": [
    "Let's investigate the housing dataset with linear regression. We'll use two different packages and you can see examples for linear regression of each:\n",
    "* statsmodels -- [linear regression](http://statsmodels.sourceforge.net/devel/examples/#regression)\n",
    "* scikit-learn -- [linear regression](http://scikit-learn.org/stable/modules/generated/sklearn.linear_model.LinearRegression.html)"
   ]
  },
  {
   "cell_type": "markdown",
   "metadata": {},
   "source": [
    "## Intro to Scikit-Learn\n",
    "\n",
    "Scikit-learn is a machine learning package for python that includes a huge array of models including linear regression. Scikit-learn includes a number of sample data sets including the Boston housing data set. (We could also load the data with pandas as in the last lesson.)"
   ]
  },
  {
   "cell_type": "code",
   "execution_count": 2,
   "metadata": {
    "collapsed": false
   },
   "outputs": [
    {
     "name": "stdout",
     "output_type": "stream",
     "text": [
      "Boston House Prices dataset\n",
      "\n",
      "Notes\n",
      "------\n",
      "Data Set Characteristics:  \n",
      "\n",
      "    :Number of Instances: 506 \n",
      "\n",
      "    :Number of Attributes: 13 numeric/categorical predictive\n",
      "    \n",
      "    :Median Value (attribute 14) is usually the target\n",
      "\n",
      "    :Attribute Information (in order):\n",
      "        - CRIM     per capita crime rate by town\n",
      "        - ZN       proportion of residential land zoned for lots over 25,000 sq.ft.\n",
      "        - INDUS    proportion of non-retail business acres per town\n",
      "        - CHAS     Charles River dummy variable (= 1 if tract bounds river; 0 otherwise)\n",
      "        - NOX      nitric oxides concentration (parts per 10 million)\n",
      "        - RM       average number of rooms per dwelling\n",
      "        - AGE      proportion of owner-occupied units built prior to 1940\n",
      "        - DIS      weighted distances to five Boston employment centres\n",
      "        - RAD      index of accessibility to radial highways\n",
      "        - TAX      full-value property-tax rate per $10,000\n",
      "        - PTRATIO  pupil-teacher ratio by town\n",
      "        - B        1000(Bk - 0.63)^2 where Bk is the proportion of blacks by town\n",
      "        - LSTAT    % lower status of the population\n",
      "        - MEDV     Median value of owner-occupied homes in $1000's\n",
      "\n",
      "    :Missing Attribute Values: None\n",
      "\n",
      "    :Creator: Harrison, D. and Rubinfeld, D.L.\n",
      "\n",
      "This is a copy of UCI ML housing dataset.\n",
      "http://archive.ics.uci.edu/ml/datasets/Housing\n",
      "\n",
      "\n",
      "This dataset was taken from the StatLib library which is maintained at Carnegie Mellon University.\n",
      "\n",
      "The Boston house-price data of Harrison, D. and Rubinfeld, D.L. 'Hedonic\n",
      "prices and the demand for clean air', J. Environ. Economics & Management,\n",
      "vol.5, 81-102, 1978.   Used in Belsley, Kuh & Welsch, 'Regression diagnostics\n",
      "...', Wiley, 1980.   N.B. Various transformations are used in the table on\n",
      "pages 244-261 of the latter.\n",
      "\n",
      "The Boston house-price data has been used in many machine learning papers that address regression\n",
      "problems.   \n",
      "     \n",
      "**References**\n",
      "\n",
      "   - Belsley, Kuh & Welsch, 'Regression diagnostics: Identifying Influential Data and Sources of Collinearity', Wiley, 1980. 244-261.\n",
      "   - Quinlan,R. (1993). Combining Instance-Based and Model-Based Learning. In Proceedings on the Tenth International Conference of Machine Learning, 236-243, University of Massachusetts, Amherst. Morgan Kaufmann.\n",
      "   - many more! (see http://archive.ics.uci.edu/ml/datasets/Housing)\n",
      "\n"
     ]
    }
   ],
   "source": [
    "%matplotlib inline\n",
    "from matplotlib import pyplot as plt\n",
    "\n",
    "from sklearn import datasets, linear_model\n",
    "from sklearn.metrics import mean_squared_error\n",
    "data = datasets.load_boston()\n",
    "\n",
    "print data.DESCR"
   ]
  },
  {
   "cell_type": "markdown",
   "metadata": {},
   "source": [
    "Let's take a minute to see what the data looks like."
   ]
  },
  {
   "cell_type": "code",
   "execution_count": 3,
   "metadata": {
    "collapsed": false
   },
   "outputs": [
    {
     "name": "stdout",
     "output_type": "stream",
     "text": [
      "['CRIM' 'ZN' 'INDUS' 'CHAS' 'NOX' 'RM' 'AGE' 'DIS' 'RAD' 'TAX' 'PTRATIO'\n",
      " 'B' 'LSTAT']\n",
      "[  6.32000000e-03   1.80000000e+01   2.31000000e+00   0.00000000e+00\n",
      "   5.38000000e-01   6.57500000e+00   6.52000000e+01   4.09000000e+00\n",
      "   1.00000000e+00   2.96000000e+02   1.53000000e+01   3.96900000e+02\n",
      "   4.98000000e+00]\n",
      "24.0\n"
     ]
    }
   ],
   "source": [
    "print data.feature_names\n",
    "print data.data[0]\n",
    "print data.target[0]"
   ]
  },
  {
   "cell_type": "markdown",
   "metadata": {},
   "source": [
    "Scikit-learn has already split off the house value data into the target variable. Let's see how to build a linear regression. First let's put the data into a data frame for convenience, and do a quick check to see that everything loaded correctly."
   ]
  },
  {
   "cell_type": "code",
   "execution_count": 4,
   "metadata": {
    "collapsed": false
   },
   "outputs": [
    {
     "name": "stdout",
     "output_type": "stream",
     "text": [
      "      CRIM    ZN  INDUS  CHAS    NOX     RM   AGE     DIS  RAD    TAX  \\\n",
      "0  0.00632  18.0   2.31   0.0  0.538  6.575  65.2  4.0900  1.0  296.0   \n",
      "1  0.02731   0.0   7.07   0.0  0.469  6.421  78.9  4.9671  2.0  242.0   \n",
      "2  0.02729   0.0   7.07   0.0  0.469  7.185  61.1  4.9671  2.0  242.0   \n",
      "3  0.03237   0.0   2.18   0.0  0.458  6.998  45.8  6.0622  3.0  222.0   \n",
      "4  0.06905   0.0   2.18   0.0  0.458  7.147  54.2  6.0622  3.0  222.0   \n",
      "\n",
      "   PTRATIO       B  LSTAT  \n",
      "0     15.3  396.90   4.98  \n",
      "1     17.8  396.90   9.14  \n",
      "2     17.8  392.83   4.03  \n",
      "3     18.7  394.63   2.94  \n",
      "4     18.7  396.90   5.33  \n",
      "   MEDV\n",
      "0  24.0\n",
      "1  21.6\n",
      "2  34.7\n",
      "3  33.4\n",
      "4  36.2\n"
     ]
    }
   ],
   "source": [
    "import numpy as np\n",
    "import pandas as pd\n",
    "df = pd.DataFrame(data.data, columns=data.feature_names)\n",
    "\n",
    "# Put the target (housing value -- MEDV) in another DataFrame\n",
    "targets = pd.DataFrame(data.target, columns=[\"MEDV\"])\n",
    "\n",
    "# Take a look at the first few rows\n",
    "print df.head()\n",
    "print targets.head()"
   ]
  },
  {
   "cell_type": "markdown",
   "metadata": {},
   "source": [
    "Now let's fit a linear model to the data. First let's take a look at some of the variables we identified visually as being linked to house value, RM and LSTAT. Let's look at each individually and then both together.\n",
    "\n",
    "Note: If for some reason scikit-learn crashes the jupyter notebook, have conda remove mkl (there's an issue with the newer build on some systems)."
   ]
  },
  {
   "cell_type": "code",
   "execution_count": 5,
   "metadata": {
    "collapsed": false
   },
   "outputs": [
    {
     "data": {
      "image/png": "[encoded data removed]",
      "text/plain": [
       "<matplotlib.figure.Figure at 0x106423d10>"
      ]
     },
     "metadata": {},
     "output_type": "display_data"
    },
    {
     "name": "stdout",
     "output_type": "stream",
     "text": [
      "MSE: 43.6005517712\n"
     ]
    }
   ],
   "source": [
    "lm = linear_model.LinearRegression()\n",
    "\n",
    "X = df[[\"RM\"]]\n",
    "y = targets[\"MEDV\"]\n",
    "\n",
    "model = lm.fit(X, y)\n",
    "predictions = lm.predict(X)\n",
    "\n",
    "# Plot the model\n",
    "plt.scatter(predictions, y, s=30, c='r', marker='+', zorder=10)\n",
    "plt.xlabel(\"Predicted Values from RM\")\n",
    "plt.ylabel(\"Actual Values MEDV\")\n",
    "plt.show()\n",
    "print \"MSE:\", mean_squared_error(y, predictions)"
   ]
  },
  {
   "cell_type": "code",
   "execution_count": 8,
   "metadata": {
    "collapsed": false
   },
   "outputs": [
    {
     "data": {
      "text/plain": [
       "array([ 25.17574577,  23.77402099,  30.72803225,  29.02593787,\n",
       "        30.38215211,  23.85593997,  20.05125842,  21.50759586,\n",
       "        16.5833549 ,  19.97844155,  23.3735282 ,  20.02395209,\n",
       "        18.93169901,  19.47782555,  20.81583557,  18.43108302,\n",
       "        19.35039603,  19.85101202,  14.99048582,  17.45715736,\n",
       "        16.02812625,  19.6234593 ,  21.23453259,  18.23993873,\n",
       "        19.25027283,  16.29208741,  18.23993873,  20.36983223,\n",
       "        24.44757706,  26.07685456,  17.32972783,  20.59738496,\n",
       "        19.48692766,  17.22050253,  20.81583557,  19.33219181,\n",
       "        18.49479778,  18.57671676,  19.63256141,  25.35778795,\n",
       "        29.26259271,  26.95065703,  21.48028953,  21.86257811,\n",
       "        20.57007863,  17.04756245,  17.99418179,  20.21509638,\n",
       "        14.47166561,  16.31939374,  19.60525508,  20.98877564,\n",
       "        24.5932108 ,  19.92382889,  18.9225969 ,  31.31056723,\n",
       "        23.42814085,  27.36935404,  21.26183891,  19.27757916,\n",
       "        17.58458688,  19.63256141,  24.09259481,  26.87784015,\n",
       "        29.99076143,  22.58164472,  18.0032839 ,  18.83157581,\n",
       "        16.24657686,  18.89529058,  23.73761256,  19.58705086,\n",
       "        20.53367019,  22.17204981,  22.42690886,  22.54523628,\n",
       "        22.48152152,  21.21632837,  22.05372239,  18.79516738,\n",
       "        26.55926634,  25.57623857,  22.69087002,  21.46208531,\n",
       "        23.4827535 ,  25.67636177,  20.07856475,  21.0433883 ,\n",
       "        29.10785685,  29.7632087 ,  23.73761256,  23.62838725,\n",
       "        23.96516528,  21.86257811,  22.20845825,  25.63085122,\n",
       "        21.42567687,  38.77429659,  36.50787146,  32.83061943,\n",
       "        26.55926634,  27.05078022,  23.62838725,  21.18902204,\n",
       "        21.46208531,  18.58581887,  18.44928724,  21.09800095,\n",
       "        24.25643277,  22.02641607,  21.71694436,  26.45004103,\n",
       "        19.15014963,  20.77942714,  22.25396879,  19.28668126,\n",
       "        21.54400429,  20.1331774 ,  18.77696316,  17.49356579,\n",
       "        18.75875894,  19.97844155,  19.58705086,  18.63132942,\n",
       "        18.84067792,  19.81460358,  16.41951693,  17.14768565,\n",
       "        23.86504208,  16.63796755,  24.11079902,  22.90932064,\n",
       "        23.32801765,  18.32185771,  17.73022063,  22.99123962,\n",
       "        19.41411079,  24.07439059,  18.64043153,  21.31645157,\n",
       "        21.52580007,  11.0128642 ,  14.50807405,  15.09971113,\n",
       "         9.95701956,  21.12530728,  16.55604857,  10.16636806,\n",
       "        12.5329164 ,  16.27388319,  21.05249041,  14.51717616,\n",
       "        10.94914944,  17.2933194 ,  21.11620517,  21.32555368,\n",
       "        13.31569777,  28.52532188,  20.5427723 ,  24.58410869,\n",
       "        22.21756036,  33.49507338,  36.34403349,  41.55954194,\n",
       "        18.6131252 ,  20.86134612,  37.50000134,  18.82247371,\n",
       "        22.84560588,  23.60108092,  18.80426949,  18.84978003,\n",
       "        16.04633047,  23.72851045,  18.65863574,  24.91178461,\n",
       "        20.12407529,  22.80919744,  27.76984683,  28.86209991,\n",
       "        36.00725546,  21.2527368 ,  30.45496898,  25.06652047,\n",
       "        16.33759795,  21.33465578,  36.60799466,  27.05988233,\n",
       "        25.0028057 ,  30.72803225,  28.59813875,  26.66849165,\n",
       "        30.66431749,  27.2237203 ,  25.43970694,  37.00848745,\n",
       "        31.65644737,  30.01806775,  31.53811995,  28.81658937,\n",
       "        30.2729268 ,  21.41657477,  34.59642857,  36.80824105,\n",
       "        38.45572278,  18.94990323,  22.90932064,  17.96687546,\n",
       "        20.52456809,  13.97104962,  19.57794875,  14.51717616,\n",
       "        18.18532608,  23.35532398,  14.58999303,  21.59861695,\n",
       "        18.9225969 ,  25.78558708,  19.49602977,  23.33711976,\n",
       "        28.59813875,  21.43477898,  27.94278691,  25.56713646,\n",
       "        40.56741206,  44.74528008,  38.51033543,  30.52778586,\n",
       "        35.28818885,  24.96639727,  19.76909304,  32.79421099,\n",
       "        41.2136618 ,  40.39447199,  26.55016423,  20.72481448,\n",
       "        25.68546388,  32.30269711,  24.32014753,  25.45791115,\n",
       "        28.10662487,  20.80673346,  23.20058813,  23.51916194,\n",
       "        16.23747476,  16.34670006,  20.92506088,  21.99910974,\n",
       "        23.8832463 ,  26.47734736,  24.37476018,  23.92875684,\n",
       "        28.65275141,  40.5036973 ,  20.92506088,  18.8133716 ,\n",
       "        33.17649957,  44.5541358 ,  32.07514438,  27.60600887,\n",
       "        30.89187022,  33.77723876,  41.76889045,  32.02053173,\n",
       "        30.91917654,  15.93710516,  29.17157162,  40.84957744,\n",
       "        33.32213331,  19.21386439,  18.63132942,  22.12653927,\n",
       "        24.83896774,  35.3336994 ,  26.84143172,  27.71523418,\n",
       "        31.47440519,  27.46037513,  24.32924964,  27.3329456 ,\n",
       "        36.50787146,  28.7528746 ,  34.91500238,  37.44538868,\n",
       "        29.84512768,  24.06528848,  22.03551818,  21.84437389,\n",
       "        22.80919744,  25.08472469,  27.77894894,  30.39125422,\n",
       "        25.67636177,  21.09800095,  20.02395209,  26.113263  ,\n",
       "        24.93909094,  18.03059022,  23.08226071,  29.41732856,\n",
       "        27.86997003,  25.31227741,  24.44757706,  28.88030413,\n",
       "        31.19223981,  25.54893224,  32.86702786,  27.66972364,\n",
       "        25.72187231,  19.68717406,  10.59416719,  21.05249041,\n",
       "        20.15138162,  22.3631941 ,  25.1029289 ,  17.25691096,\n",
       "        19.15925174,  17.95777335,  23.41903874,  20.97057143,\n",
       "        23.81953154,  23.36442609,  20.31521958,  17.28421729,\n",
       "        23.71940834,  23.86504208,  22.78189111,  20.69750816,\n",
       "        18.74055473,  22.9730354 ,  21.2527368 ,  17.26601307,\n",
       "        20.22419849,  22.81829955,  22.76368689,  20.27881114,\n",
       "        18.74965683,  18.98631167,  20.47905754,  19.80550148,\n",
       "        19.65076562,  31.23775036,  24.85717196,  26.27710096,\n",
       "        27.89727636,  20.06946264,  19.01361799,  24.63872134,\n",
       "        25.72187231,  28.48891344,  24.40206651,  25.21215421,\n",
       "        18.88618847,  26.56836845,  16.87462238,  19.35949814,\n",
       "        21.87168021,  23.53736616,  21.09800095,  20.96146932,\n",
       "        23.56467249,  22.22666246,  14.13488758,  18.14891764,\n",
       "        45.24589608,  -2.25801069,  10.5031461 ,   0.49082622,\n",
       "        10.56686086,  26.15877354,  29.18977584,  21.90808865,\n",
       "        18.80426949,   9.98432589,   2.99390619,  31.8931022 ,\n",
       "        25.84930184,  27.16910764,  23.40083452,  21.97180341,\n",
       "        28.7528746 ,  24.90268251,  15.71865454,  15.5730208 ,\n",
       "         5.08739125,  13.36120832,   7.6723902 ,  10.83992413,\n",
       "         9.74767105,  14.38974663,  17.32972783,  20.40624067,\n",
       "        11.16760005,  21.69874014,  18.9134948 ,  24.22912644,\n",
       "        23.62838725,  17.63919954,  14.9631795 ,  18.59492098,\n",
       "        19.82370569,  23.06405649,  23.61928514,  14.01656016,\n",
       "        15.673144  ,  17.05666456,   2.99390619,  16.37400639,\n",
       "        16.45592537,  27.69702996,  17.73022063,  25.92211871,\n",
       "         7.45393959,  12.25075102,   6.46180971,  23.89234841,\n",
       "        27.05988233,  13.60696526,  19.55064242,  27.44217091,\n",
       "        23.6829999 ,  19.99664576,  16.73809075,  20.87955034,\n",
       "        15.9826157 ,  18.99541378,  18.45838935,  21.78065912,\n",
       "        21.69874014,  23.40083452,  23.10956704,  27.52408989,\n",
       "        23.81042943,  23.91055263,  21.83527178,  25.66725966,\n",
       "        24.13810535,  21.32555368,  19.35039603,  16.54694646,\n",
       "        18.28544928,  23.63748936,  21.93539498,  24.35655597,\n",
       "        18.6131252 ,  24.11990113,  23.04585227,  22.22666246,\n",
       "        21.62592327,  23.73761256,  26.75951274,  25.90391449,\n",
       "        22.64535948,  32.62127092,  26.56836845,  24.72064033,\n",
       "        19.7235825 ,  19.35949814,  22.68176791,  20.67930394,\n",
       "        26.32261151,  23.36442609,  22.82740166,  24.61141502,\n",
       "        21.84437389,  17.74842485,  19.50513188,  19.96933944,\n",
       "        19.26847705,  17.32972783,  21.46208531,  22.02641607,\n",
       "        23.91965474,  28.86209991,  14.72652466,  21.41657477,\n",
       "        24.34745386,  13.60696526,  21.62592327,  22.02641607,\n",
       "        22.14474348,  26.76861485,  29.59937074,  17.77573117,\n",
       "        18.76786105,  22.78189111,  20.97967353,  19.07733276,\n",
       "        14.97228161,  14.60819725,  11.68642026,  19.78729726,\n",
       "        19.78729726,  17.27511518,  19.26847705,  16.93833715,\n",
       "        14.38974663,  18.06699866,  20.11497318,  16.01902414,\n",
       "        20.18779005,  25.33958374,  21.03428619,  28.82569148,\n",
       "        27.16910764,  20.21509638])"
      ]
     },
     "execution_count": 8,
     "metadata": {},
     "output_type": "execute_result"
    }
   ],
   "source": [
    "predictions"
   ]
  },
  {
   "cell_type": "markdown",
   "metadata": {},
   "source": [
    "**Check**: How does this plot relate to the model? In other words, how are the independent variable (RM) and dependent variable (\"MEDV\") incorporated?"
   ]
  },
  {
   "cell_type": "code",
   "execution_count": 5,
   "metadata": {
    "collapsed": false
   },
   "outputs": [
    {
     "data": {
      "image/png": "[encoded data removed]",
      "text/plain": [
       "<matplotlib.figure.Figure at 0x7f8bdbfa6cd0>"
      ]
     },
     "metadata": {},
     "output_type": "display_data"
    },
    {
     "name": "stdout",
     "output_type": "stream",
     "text": [
      "MSE: 38.4829672299\n"
     ]
    }
   ],
   "source": [
    "lm = linear_model.LinearRegression()\n",
    "\n",
    "X = df[[\"LSTAT\"]]\n",
    "y = targets[\"MEDV\"]\n",
    "\n",
    "model = lm.fit(X, y)\n",
    "predictions = lm.predict(X)\n",
    "\n",
    "# Plot the model\n",
    "plt.scatter(predictions, y, s=30, c='r', marker='+', zorder=10)\n",
    "plt.xlabel(\"Predicted Values from LSTAT\")\n",
    "plt.ylabel(\"Actual Values MEDV\")\n",
    "plt.show()\n",
    "print \"MSE:\", mean_squared_error(y, predictions)"
   ]
  },
  {
   "cell_type": "code",
   "execution_count": 10,
   "metadata": {
    "collapsed": false
   },
   "outputs": [
    {
     "data": {
      "image/png": "[encoded data removed]",
      "text/plain": [
       "<matplotlib.figure.Figure at 0x1103f72d0>"
      ]
     },
     "metadata": {},
     "output_type": "display_data"
    },
    {
     "name": "stdout",
     "output_type": "stream",
     "text": [
      "MSE: 30.5124687773\n"
     ]
    }
   ],
   "source": [
    "lm = linear_model.LinearRegression()\n",
    "\n",
    "X = df[[\"RM\", \"LSTAT\"]]\n",
    "y = targets[\"MEDV\"]\n",
    "\n",
    "model = lm.fit(X, y)\n",
    "predictions = model.predict(X)\n",
    "\n",
    "# Plot the model\n",
    "plt.scatter(predictions, y, s=30, c='r', marker='+', zorder=10)\n",
    "plt.xlabel(\"Predicted Values from RM and LSTAT\")\n",
    "plt.ylabel(\"Actual Values MEDV\")\n",
    "plt.show()\n",
    "print \"MSE:\", mean_squared_error(y, predictions)"
   ]
  },
  {
   "cell_type": "markdown",
   "metadata": {},
   "source": [
    "## Comparing the models\n",
    "\n",
    "A perfect fit would yield a straight line when we plot the predicted values versus the true values. We'll quantify the goodness of fit soon.\n",
    "\n",
    "### Exercise\n",
    "\n",
    "Run the fit on all the variables with `X = df`. Did this improve the fit versus the previously tested variable combinations? (Use mean squared error)."
   ]
  },
  {
   "cell_type": "markdown",
   "metadata": {
    "collapsed": true
   },
   "source": [
    "## Intro to Statsmodels\n",
    "\n",
    "Now let's see how to use another popular package for regressions."
   ]
  },
  {
   "cell_type": "code",
   "execution_count": null,
   "metadata": {
    "collapsed": true
   },
   "outputs": [],
   "source": [
    "import statsmodels.api as sm\n",
    "\n",
    "X = df[\"RM\"]\n",
    "y = targets[\"MEDV\"]\n",
    "\n",
    "# Note the difference in argument order\n",
    "model = sm.OLS(y, X).fit()\n",
    "predictions = model.predict(X)\n",
    "\n",
    "# Plot the model\n",
    "plt.scatter(predictions, y, s=30, c='r', marker='+', zorder=10)\n",
    "plt.xlabel(\"Predicted Values from RM\")\n",
    "plt.ylabel(\"Actual Values MEDV\")\n",
    "plt.show()\n",
    "print \"MSE:\", mean_squared_error(y, predictions)"
   ]
  },
  {
   "cell_type": "markdown",
   "metadata": {
    "collapsed": true
   },
   "source": [
    "## Guided Practice\n",
    "\n",
    "Compare this to the analgous fit from scikit-learn above.\n",
    "\n",
    "### Exercises\n",
    "\n",
    "Recreate the model fits above with `statsmodels`:\n",
    "* a model using LSTAT\n",
    "* a model using RM and LSTAT\n",
    "* a model using all the variables\n",
    "\n",
    "Compare the mean squared errors for each model between the two packages. Do they differ significantly? Why or why not?"
   ]
  },
  {
   "cell_type": "code",
   "execution_count": null,
   "metadata": {
    "collapsed": true
   },
   "outputs": [],
   "source": [
    "# Start your exercises here"
   ]
  },
  {
   "cell_type": "markdown",
   "metadata": {},
   "source": [
    "## Independent Practice\n",
    "\n",
    "Using our preference of `scikit-learn` or `statsmodels`, try to find the best models that you can that:\n",
    "* use only two variables\n",
    "* only three variables\n",
    "* only four variables\n",
    "\n",
    "Evaluate your models using the squared error. Which has the lowest? How do the errors compare to using all the variables?"
   ]
  },
  {
   "cell_type": "code",
   "execution_count": 12,
   "metadata": {
    "collapsed": false
   },
   "outputs": [
    {
     "data": {
      "image/png": "[encoded data removed]",
      "text/plain": [
       "<matplotlib.figure.Figure at 0x1185193d0>"
      ]
     },
     "metadata": {},
     "output_type": "display_data"
    },
    {
     "name": "stdout",
     "output_type": "stream",
     "text": [
      "MSE: 30.5124687773\n"
     ]
    }
   ],
   "source": [
    "# Start your exercises here\n",
    "lm = linear_model.LinearRegression()\n",
    "w = df[['CRIM']]\n",
    "z = targets['MEDV']\n",
    "\n",
    "model = lm.fit(w,z)\n",
    "plt.scatter(predictions, z, s=30, c='r', marker='+', zorder=10)\n",
    "plt.xlabel(\"Predicted Values from CRIM\")\n",
    "plt.ylabel(\"Actual Values MEDV\")\n",
    "plt.show()\n",
    "print \"MSE:\", mean_squared_error(z, predictions)"
   ]
  },
  {
   "cell_type": "markdown",
   "metadata": {},
   "source": [
    "# Bonus Exercises\n",
    "\n",
    "From the LSTAT plot you may have noticed that the relationship is not quite linear. Add a new column `\"LSTAT2\"` to your data frame for the LSTAT values squared and try to fit a quadratic function using `[\"LSTAT\", \"LSTAT2\"]`. Is the resulting fit better or worse?"
   ]
  },
  {
   "cell_type": "code",
   "execution_count": null,
   "metadata": {
    "collapsed": true
   },
   "outputs": [],
   "source": [
    "# Start your exercises here"
   ]
  }
 ],
 "metadata": {
  "kernelspec": {
   "display_name": "Python 2",
   "language": "python",
   "name": "python2"
  },
  "language_info": {
   "codemirror_mode": {
    "name": "ipython",
    "version": 2
   },
   "file_extension": ".py",
   "mimetype": "text/x-python",
   "name": "python",
   "nbconvert_exporter": "python",
   "pygments_lexer": "ipython2",
   "version": "2.7.11"
  }
 },
 "nbformat": 4,
 "nbformat_minor": 0
}
