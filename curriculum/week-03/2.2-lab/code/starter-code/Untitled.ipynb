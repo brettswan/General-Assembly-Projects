{
 "cells": [
  {
   "cell_type": "code",
   "execution_count": 5,
   "metadata": {
    "collapsed": false
   },
   "outputs": [
    {
     "data": {
      "text/plain": [
       "True"
      ]
     },
     "execution_count": 5,
     "metadata": {},
     "output_type": "execute_result"
    }
   ],
   "source": [
    "# Implement a function is_vowel(str), which should return true if a given object is a vowel, false otherwise.\n",
    "# Use regex.\n",
    "# Try two solutions: \n",
    "# 1) use the package re\n",
    "# 2) use pandas \n",
    "# starter code: \n",
    "def is_vowel(string):\n",
    "    vowels = ['a', 'e', 'i', 'o', 'u']\n",
    "    if string in vowels:\n",
    "        return True\n",
    "    else:\n",
    "        return False\n",
    "is_vowel('i')"
   ]
  },
  {
   "cell_type": "code",
   "execution_count": 40,
   "metadata": {
    "collapsed": false
   },
   "outputs": [
    {
     "data": {
      "text/plain": [
       "True"
      ]
     },
     "execution_count": 40,
     "metadata": {},
     "output_type": "execute_result"
    }
   ],
   "source": [
    "import re\n",
    "def is_vowelREG(string):\n",
    "    VFinder = re.compile(r'[aeiou]|[AEIOU]')\n",
    "    if VFinder.findall(string):#.lower()):\n",
    "        return True\n",
    "    else:\n",
    "        return False\n",
    "\n",
    "is_vowelREG('E')\n",
    "    "
   ]
  },
  {
   "cell_type": "code",
   "execution_count": null,
   "metadata": {
    "collapsed": true
   },
   "outputs": [],
   "source": []
  }
 ],
 "metadata": {
  "kernelspec": {
   "display_name": "Python 2",
   "language": "python",
   "name": "python2"
  },
  "language_info": {
   "codemirror_mode": {
    "name": "ipython",
    "version": 2
   },
   "file_extension": ".py",
   "mimetype": "text/x-python",
   "name": "python",
   "nbconvert_exporter": "python",
   "pygments_lexer": "ipython2",
   "version": "2.7.11"
  }
 },
 "nbformat": 4,
 "nbformat_minor": 0
}
