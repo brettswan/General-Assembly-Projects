{
 "cells": [
  {
   "cell_type": "code",
   "execution_count": 41,
   "metadata": {
    "collapsed": false
   },
   "outputs": [
    {
     "data": {
      "text/plain": [
       "2015-01-01 00:00:00    0.308819\n",
       "2015-01-01 01:00:00   -1.266990\n",
       "2015-01-01 02:00:00    1.629426\n",
       "2015-01-01 03:00:00   -0.398988\n",
       "2015-01-01 04:00:00    0.296715\n",
       "2015-01-01 05:00:00   -0.067686\n",
       "2015-01-01 06:00:00   -0.418011\n",
       "2015-01-01 07:00:00   -1.309411\n",
       "2015-01-01 08:00:00   -0.753290\n",
       "2015-01-01 09:00:00   -0.082899\n",
       "2015-01-01 10:00:00   -1.295237\n",
       "2015-01-01 11:00:00    0.041016\n",
       "2015-01-01 12:00:00    1.453940\n",
       "2015-01-01 13:00:00   -0.390905\n",
       "2015-01-01 14:00:00    0.841945\n",
       "2015-01-01 15:00:00    1.554515\n",
       "2015-01-01 16:00:00   -0.404775\n",
       "2015-01-01 17:00:00    0.078734\n",
       "2015-01-01 18:00:00   -1.882173\n",
       "2015-01-01 19:00:00    1.530933\n",
       "2015-01-01 20:00:00   -1.612734\n",
       "2015-01-01 21:00:00   -0.065516\n",
       "2015-01-01 22:00:00    1.357461\n",
       "2015-01-01 23:00:00    0.497147\n",
       "2015-01-02 00:00:00    0.051259\n",
       "2015-01-02 01:00:00   -0.843415\n",
       "2015-01-02 02:00:00   -1.016923\n",
       "2015-01-02 03:00:00    0.509529\n",
       "2015-01-02 04:00:00    2.098141\n",
       "2015-01-02 05:00:00   -2.103487\n",
       "                         ...   \n",
       "2015-01-02 18:00:00   -0.067992\n",
       "2015-01-02 19:00:00    0.989905\n",
       "2015-01-02 20:00:00   -0.438873\n",
       "2015-01-02 21:00:00   -0.059867\n",
       "2015-01-02 22:00:00   -1.400705\n",
       "2015-01-02 23:00:00   -0.288965\n",
       "2015-01-03 00:00:00   -1.751926\n",
       "2015-01-03 01:00:00   -1.285764\n",
       "2015-01-03 02:00:00   -2.060886\n",
       "2015-01-03 03:00:00    0.236019\n",
       "2015-01-03 04:00:00   -1.720621\n",
       "2015-01-03 05:00:00    2.342578\n",
       "2015-01-03 06:00:00   -0.846094\n",
       "2015-01-03 07:00:00    1.388417\n",
       "2015-01-03 08:00:00    0.169201\n",
       "2015-01-03 09:00:00   -0.456675\n",
       "2015-01-03 10:00:00    1.859192\n",
       "2015-01-03 11:00:00    2.466494\n",
       "2015-01-03 12:00:00   -0.435383\n",
       "2015-01-03 13:00:00    0.946243\n",
       "2015-01-03 14:00:00   -1.354833\n",
       "2015-01-03 15:00:00   -0.820709\n",
       "2015-01-03 16:00:00    0.065379\n",
       "2015-01-03 17:00:00    0.616484\n",
       "2015-01-03 18:00:00   -0.529213\n",
       "2015-01-03 19:00:00    0.368693\n",
       "2015-01-03 20:00:00   -0.595994\n",
       "2015-01-03 21:00:00   -0.462284\n",
       "2015-01-03 22:00:00   -0.314045\n",
       "2015-01-03 23:00:00   -2.773864\n",
       "Freq: 60T, dtype: float64"
      ]
     },
     "execution_count": 41,
     "metadata": {},
     "output_type": "execute_result"
    }
   ],
   "source": [
    "# - Create a series\n",
    "# - Look at the head, tail, and summary stats\n",
    "# - Select certain values by location\n",
    "# - Slice for certain rows\n",
    "# - Using Boolean indexing find values that are < than another value\n",
    "# - Using Boolean indexing find values that are > than another value\n",
    "# - Using Boolean indexing find values that are < than another value and > another value\n",
    "\n",
    "import pandas as pd\n",
    "import numpy as np\n",
    "rng = pd.date_range('1/1/2015', periods=72, freq='H')\n",
    "ts = pd.Series(np.random.randn(len(rng)), index=rng)\n",
    "\n",
    "#optional fun functions on timeseries\n",
    "converted = ts.asfreq('60min', method='pad')\n",
    "converted\n",
    "#ts.resample('D').mean()"
   ]
  },
  {
   "cell_type": "code",
   "execution_count": 2,
   "metadata": {
    "collapsed": false
   },
   "outputs": [
    {
     "data": {
      "text/plain": [
       "2015-01-01 00:00:00   -0.553230\n",
       "2015-01-01 00:45:00   -0.553230\n",
       "2015-01-01 01:30:00   -0.294297\n",
       "2015-01-01 02:15:00   -1.206535\n",
       "2015-01-01 03:00:00    1.197723\n",
       "Freq: 45T, dtype: float64"
      ]
     },
     "execution_count": 2,
     "metadata": {},
     "output_type": "execute_result"
    }
   ],
   "source": [
    "converted.head()"
   ]
  },
  {
   "cell_type": "code",
   "execution_count": 3,
   "metadata": {
    "collapsed": false
   },
   "outputs": [
    {
     "data": {
      "text/plain": [
       "2015-01-03 19:30:00    0.307953\n",
       "2015-01-03 20:15:00    0.812442\n",
       "2015-01-03 21:00:00   -0.236156\n",
       "2015-01-03 21:45:00   -0.236156\n",
       "2015-01-03 22:30:00    0.434409\n",
       "Freq: 45T, dtype: float64"
      ]
     },
     "execution_count": 3,
     "metadata": {},
     "output_type": "execute_result"
    }
   ],
   "source": [
    "converted.tail()"
   ]
  },
  {
   "cell_type": "code",
   "execution_count": 6,
   "metadata": {
    "collapsed": false
   },
   "outputs": [
    {
     "data": {
      "text/plain": [
       "-0.12111359260089567"
      ]
     },
     "execution_count": 6,
     "metadata": {},
     "output_type": "execute_result"
    }
   ],
   "source": [
    "converted['2015-01-03 00:45:00']"
   ]
  },
  {
   "cell_type": "code",
   "execution_count": 31,
   "metadata": {
    "collapsed": false
   },
   "outputs": [
    {
     "data": {
      "text/plain": [
       "DatetimeIndex(['2015-01-01 00:00:00', '2015-01-01 00:45:00',\n",
       "               '2015-01-01 01:30:00', '2015-01-01 02:15:00',\n",
       "               '2015-01-01 03:00:00', '2015-01-01 03:45:00',\n",
       "               '2015-01-01 04:30:00', '2015-01-01 05:15:00',\n",
       "               '2015-01-01 06:00:00', '2015-01-01 06:45:00',\n",
       "               '2015-01-01 07:30:00', '2015-01-01 08:15:00',\n",
       "               '2015-01-01 09:00:00', '2015-01-01 09:45:00',\n",
       "               '2015-01-01 10:30:00', '2015-01-01 11:15:00',\n",
       "               '2015-01-01 12:00:00', '2015-01-01 12:45:00',\n",
       "               '2015-01-01 13:30:00', '2015-01-01 14:15:00',\n",
       "               '2015-01-01 15:00:00', '2015-01-01 15:45:00',\n",
       "               '2015-01-01 16:30:00', '2015-01-01 17:15:00',\n",
       "               '2015-01-01 18:00:00', '2015-01-01 18:45:00',\n",
       "               '2015-01-01 19:30:00', '2015-01-01 20:15:00',\n",
       "               '2015-01-01 21:00:00', '2015-01-01 21:45:00',\n",
       "               '2015-01-01 22:30:00', '2015-01-01 23:15:00',\n",
       "               '2015-01-02 00:00:00', '2015-01-02 00:45:00',\n",
       "               '2015-01-02 01:30:00', '2015-01-02 02:15:00',\n",
       "               '2015-01-02 03:00:00', '2015-01-02 03:45:00',\n",
       "               '2015-01-02 04:30:00', '2015-01-02 05:15:00',\n",
       "               '2015-01-02 06:00:00', '2015-01-02 06:45:00',\n",
       "               '2015-01-02 07:30:00', '2015-01-02 08:15:00',\n",
       "               '2015-01-02 09:00:00', '2015-01-02 09:45:00',\n",
       "               '2015-01-02 10:30:00', '2015-01-02 11:15:00',\n",
       "               '2015-01-02 12:00:00', '2015-01-02 12:45:00',\n",
       "               '2015-01-02 13:30:00', '2015-01-02 14:15:00',\n",
       "               '2015-01-02 15:00:00', '2015-01-02 15:45:00',\n",
       "               '2015-01-02 16:30:00', '2015-01-02 17:15:00',\n",
       "               '2015-01-02 18:00:00', '2015-01-02 18:45:00',\n",
       "               '2015-01-02 19:30:00', '2015-01-02 20:15:00',\n",
       "               '2015-01-02 21:00:00', '2015-01-02 21:45:00',\n",
       "               '2015-01-02 22:30:00', '2015-01-02 23:15:00',\n",
       "               '2015-01-03 00:00:00', '2015-01-03 00:45:00',\n",
       "               '2015-01-03 01:30:00', '2015-01-03 02:15:00',\n",
       "               '2015-01-03 03:00:00', '2015-01-03 03:45:00',\n",
       "               '2015-01-03 04:30:00', '2015-01-03 05:15:00',\n",
       "               '2015-01-03 06:00:00', '2015-01-03 06:45:00',\n",
       "               '2015-01-03 07:30:00', '2015-01-03 08:15:00',\n",
       "               '2015-01-03 09:00:00', '2015-01-03 09:45:00',\n",
       "               '2015-01-03 10:30:00', '2015-01-03 11:15:00',\n",
       "               '2015-01-03 12:00:00', '2015-01-03 12:45:00',\n",
       "               '2015-01-03 13:30:00', '2015-01-03 14:15:00',\n",
       "               '2015-01-03 15:00:00', '2015-01-03 15:45:00',\n",
       "               '2015-01-03 16:30:00', '2015-01-03 17:15:00',\n",
       "               '2015-01-03 18:00:00', '2015-01-03 18:45:00',\n",
       "               '2015-01-03 19:30:00', '2015-01-03 20:15:00',\n",
       "               '2015-01-03 21:00:00', '2015-01-03 21:45:00',\n",
       "               '2015-01-03 22:30:00'],\n",
       "              dtype='datetime64[ns]', freq='45T')"
      ]
     },
     "execution_count": 31,
     "metadata": {},
     "output_type": "execute_result"
    }
   ],
   "source": [
    "converted.index"
   ]
  },
  {
   "cell_type": "code",
   "execution_count": 10,
   "metadata": {
    "collapsed": false
   },
   "outputs": [
    {
     "data": {
      "text/plain": [
       "2015-01-01 00:00:00   -0.553230\n",
       "2015-01-01 00:45:00   -0.553230\n",
       "2015-01-01 01:30:00   -0.294297\n",
       "2015-01-01 02:15:00   -1.206535\n",
       "2015-01-01 03:00:00    1.197723\n",
       "2015-01-01 03:45:00    1.197723\n",
       "2015-01-01 04:30:00   -1.608400\n",
       "2015-01-01 05:15:00   -1.130800\n",
       "2015-01-01 06:00:00    0.033377\n",
       "2015-01-01 06:45:00    0.033377\n",
       "2015-01-01 07:30:00   -0.110916\n",
       "2015-01-01 08:15:00    0.638791\n",
       "2015-01-01 09:00:00   -0.388892\n",
       "2015-01-01 09:45:00   -0.388892\n",
       "2015-01-01 10:30:00   -0.486890\n",
       "2015-01-01 11:15:00   -0.581033\n",
       "2015-01-01 12:00:00    1.372610\n",
       "2015-01-01 12:45:00    1.372610\n",
       "2015-01-01 13:30:00    1.396247\n",
       "2015-01-01 14:15:00   -0.920314\n",
       "2015-01-01 15:00:00    1.726883\n",
       "2015-01-01 15:45:00    1.726883\n",
       "2015-01-01 16:30:00    0.242080\n",
       "2015-01-01 17:15:00    1.300990\n",
       "2015-01-01 18:00:00    0.558431\n",
       "2015-01-01 18:45:00    0.558431\n",
       "2015-01-01 19:30:00    1.364283\n",
       "2015-01-01 20:15:00    1.427120\n",
       "2015-01-01 21:00:00    0.146860\n",
       "2015-01-01 21:45:00    0.146860\n",
       "                         ...   \n",
       "2015-01-03 00:45:00   -0.121114\n",
       "2015-01-03 01:30:00   -0.820391\n",
       "2015-01-03 02:15:00   -2.410828\n",
       "2015-01-03 03:00:00    1.221167\n",
       "2015-01-03 03:45:00    1.221167\n",
       "2015-01-03 04:30:00   -0.568684\n",
       "2015-01-03 05:15:00    0.117269\n",
       "2015-01-03 06:00:00    2.076289\n",
       "2015-01-03 06:45:00    2.076289\n",
       "2015-01-03 07:30:00    0.821804\n",
       "2015-01-03 08:15:00    0.987258\n",
       "2015-01-03 09:00:00    0.137627\n",
       "2015-01-03 09:45:00    0.137627\n",
       "2015-01-03 10:30:00    0.718505\n",
       "2015-01-03 11:15:00    0.860456\n",
       "2015-01-03 12:00:00    0.902533\n",
       "2015-01-03 12:45:00    0.902533\n",
       "2015-01-03 13:30:00    0.008333\n",
       "2015-01-03 14:15:00   -1.873655\n",
       "2015-01-03 15:00:00    0.609531\n",
       "2015-01-03 15:45:00    0.609531\n",
       "2015-01-03 16:30:00    2.459869\n",
       "2015-01-03 17:15:00    0.947480\n",
       "2015-01-03 18:00:00   -1.238917\n",
       "2015-01-03 18:45:00   -1.238917\n",
       "2015-01-03 19:30:00    0.307953\n",
       "2015-01-03 20:15:00    0.812442\n",
       "2015-01-03 21:00:00   -0.236156\n",
       "2015-01-03 21:45:00   -0.236156\n",
       "2015-01-03 22:30:00    0.434409\n",
       "Freq: 45T, dtype: float64"
      ]
     },
     "execution_count": 10,
     "metadata": {},
     "output_type": "execute_result"
    }
   ],
   "source": [
    "converted[(converted < 1) | (converted > .5)]"
   ]
  },
  {
   "cell_type": "code",
   "execution_count": 13,
   "metadata": {
    "collapsed": false
   },
   "outputs": [
    {
     "data": {
      "text/plain": [
       "2015-01-01 00:00:00   -0.553230\n",
       "2015-01-01 00:45:00   -0.553230\n",
       "2015-01-01 01:30:00   -0.294297\n",
       "2015-01-01 02:15:00   -1.206535\n",
       "2015-01-01 04:30:00   -1.608400\n",
       "2015-01-01 05:15:00   -1.130800\n",
       "2015-01-01 07:30:00   -0.110916\n",
       "2015-01-01 09:00:00   -0.388892\n",
       "2015-01-01 09:45:00   -0.388892\n",
       "2015-01-01 10:30:00   -0.486890\n",
       "2015-01-01 11:15:00   -0.581033\n",
       "2015-01-01 14:15:00   -0.920314\n",
       "2015-01-01 23:15:00   -1.329144\n",
       "2015-01-02 00:00:00   -0.048547\n",
       "2015-01-02 00:45:00   -0.048547\n",
       "2015-01-02 02:15:00   -1.167658\n",
       "2015-01-02 03:00:00   -0.380677\n",
       "2015-01-02 03:45:00   -0.380677\n",
       "2015-01-02 04:30:00   -0.007774\n",
       "2015-01-02 05:15:00   -0.552806\n",
       "2015-01-02 06:00:00   -2.133065\n",
       "2015-01-02 06:45:00   -2.133065\n",
       "2015-01-02 07:30:00   -0.216825\n",
       "2015-01-02 08:15:00   -1.038601\n",
       "2015-01-02 09:00:00   -0.367891\n",
       "2015-01-02 09:45:00   -0.367891\n",
       "2015-01-02 10:30:00   -0.299226\n",
       "2015-01-02 11:15:00   -1.347797\n",
       "2015-01-02 12:00:00   -0.942974\n",
       "2015-01-02 12:45:00   -0.942974\n",
       "2015-01-02 14:15:00   -1.212269\n",
       "2015-01-02 17:15:00   -0.385227\n",
       "2015-01-02 18:00:00   -0.568781\n",
       "2015-01-02 18:45:00   -0.568781\n",
       "2015-01-02 20:15:00   -0.082889\n",
       "2015-01-03 00:00:00   -0.121114\n",
       "2015-01-03 00:45:00   -0.121114\n",
       "2015-01-03 01:30:00   -0.820391\n",
       "2015-01-03 02:15:00   -2.410828\n",
       "2015-01-03 04:30:00   -0.568684\n",
       "2015-01-03 14:15:00   -1.873655\n",
       "2015-01-03 18:00:00   -1.238917\n",
       "2015-01-03 18:45:00   -1.238917\n",
       "2015-01-03 21:00:00   -0.236156\n",
       "2015-01-03 21:45:00   -0.236156\n",
       "dtype: float64"
      ]
     },
     "execution_count": 13,
     "metadata": {},
     "output_type": "execute_result"
    }
   ],
   "source": [
    "converted[converted < 0]"
   ]
  },
  {
   "cell_type": "code",
   "execution_count": 42,
   "metadata": {
    "collapsed": false
   },
   "outputs": [
    {
     "data": {
      "text/plain": [
       "<matplotlib.text.Text at 0x119284410>"
      ]
     },
     "execution_count": 42,
     "metadata": {},
     "output_type": "execute_result"
    },
    {
     "data": {
      "image/png": "[encoded data removed]",
      "text/plain": [
       "<matplotlib.figure.Figure at 0x1070e0ad0>"
      ]
     },
     "metadata": {},
     "output_type": "display_data"
    }
   ],
   "source": [
    "import matplotlib.pyplot as plt\n",
    "%matplotlib inline\n",
    "\n",
    "plt.plot(converted)\n",
    "plt.xlabel(\"Time\")\n",
    "plt.ylabel(\"Value\")"
   ]
  },
  {
   "cell_type": "code",
   "execution_count": null,
   "metadata": {
    "collapsed": true
   },
   "outputs": [],
   "source": []
  }
 ],
 "metadata": {
  "kernelspec": {
   "display_name": "Python 2",
   "language": "python",
   "name": "python2"
  },
  "language_info": {
   "codemirror_mode": {
    "name": "ipython",
    "version": 2
   },
   "file_extension": ".py",
   "mimetype": "text/x-python",
   "name": "python",
   "nbconvert_exporter": "python",
   "pygments_lexer": "ipython2",
   "version": "2.7.11"
  }
 },
 "nbformat": 4,
 "nbformat_minor": 0
}
