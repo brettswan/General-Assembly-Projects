{
 "cells": [
  {
   "cell_type": "code",
   "execution_count": 3,
   "metadata": {
    "collapsed": true
   },
   "outputs": [],
   "source": [
    "import pandas as pd\n",
    "import numpy as np"
   ]
  },
  {
   "cell_type": "code",
   "execution_count": 10,
   "metadata": {
    "collapsed": false
   },
   "outputs": [
    {
     "name": "stdout",
     "output_type": "stream",
     "text": [
      "a   -0.497179\n",
      "b    0.438304\n",
      "c   -0.137569\n",
      "d    1.915251\n",
      "e    1.057316\n",
      "f    0.762795\n",
      "g    0.439741\n",
      "dtype: float64\n",
      "a   -0.497179\n",
      "b    0.438304\n",
      "c   -0.137569\n",
      "d    1.915251\n",
      "e    1.057316\n",
      "f    0.762795\n",
      "g    0.439741\n",
      "dtype: float64\n"
     ]
    }
   ],
   "source": [
    "# create a series using a numpy random number generator\n",
    "\n",
    "s = pd.Series(np.random.randn(7), index=['a', 'b', 'c', 'd', 'e', 'f', 'g'])  \n",
    "print s\n",
    "print s['a':]"
   ]
  },
  {
   "cell_type": "code",
   "execution_count": 32,
   "metadata": {
    "collapsed": false
   },
   "outputs": [
    {
     "data": {
      "text/plain": [
       "a    2.069906\n",
       "b    0.023266\n",
       "c    0.815262\n",
       "d    0.506705\n",
       "e    0.072054\n",
       "dtype: float64"
      ]
     },
     "execution_count": 32,
     "metadata": {},
     "output_type": "execute_result"
    }
   ],
   "source": [
    "# head of series\n",
    "\n",
    "pd.Series.head(s)"
   ]
  },
  {
   "cell_type": "code",
   "execution_count": 36,
   "metadata": {
    "collapsed": false
   },
   "outputs": [
    {
     "data": {
      "text/plain": [
       "c    0.815262\n",
       "d    0.506705\n",
       "e    0.072054\n",
       "f   -0.515751\n",
       "g   -0.191931\n",
       "dtype: float64"
      ]
     },
     "execution_count": 36,
     "metadata": {},
     "output_type": "execute_result"
    }
   ],
   "source": [
    "# tail of series\n",
    "\n",
    "pd.Series.tail(s)"
   ]
  },
  {
   "cell_type": "code",
   "execution_count": 38,
   "metadata": {
    "collapsed": false
   },
   "outputs": [
    {
     "data": {
      "text/plain": [
       "count    7.000000\n",
       "mean     0.397073\n",
       "std      0.857400\n",
       "min     -0.515751\n",
       "25%     -0.084332\n",
       "50%      0.072054\n",
       "75%      0.660984\n",
       "max      2.069906\n",
       "dtype: float64"
      ]
     },
     "execution_count": 38,
     "metadata": {},
     "output_type": "execute_result"
    }
   ],
   "source": [
    "# summary stats\n",
    "\n",
    "pd.Series.describe(s)"
   ]
  },
  {
   "cell_type": "code",
   "execution_count": 40,
   "metadata": {
    "collapsed": false
   },
   "outputs": [
    {
     "data": {
      "text/plain": [
       "c    0.815262\n",
       "d    0.506705\n",
       "e    0.072054\n",
       "f   -0.515751\n",
       "g   -0.191931\n",
       "dtype: float64"
      ]
     },
     "execution_count": 40,
     "metadata": {},
     "output_type": "execute_result"
    }
   ],
   "source": [
    "# select by location c to g\n",
    "\n",
    "s.loc['c':]"
   ]
  },
  {
   "cell_type": "code",
   "execution_count": 41,
   "metadata": {
    "collapsed": false
   },
   "outputs": [
    {
     "data": {
      "text/plain": [
       "0.023265944389124635"
      ]
     },
     "execution_count": 41,
     "metadata": {},
     "output_type": "execute_result"
    }
   ],
   "source": [
    "# select just b\n",
    "\n",
    "s.loc['b']"
   ]
  },
  {
   "cell_type": "code",
   "execution_count": 42,
   "metadata": {
    "collapsed": false
   },
   "outputs": [
    {
     "data": {
      "text/plain": [
       "a    2.069906\n",
       "b    0.023266\n",
       "c    0.815262\n",
       "dtype: float64"
      ]
     },
     "execution_count": 42,
     "metadata": {},
     "output_type": "execute_result"
    }
   ],
   "source": [
    "# slice for rows 1-3\n",
    "\n",
    "s[:3]"
   ]
  },
  {
   "cell_type": "markdown",
   "metadata": {},
   "source": [
    "### Boolean indexing"
   ]
  },
  {
   "cell_type": "code",
   "execution_count": 45,
   "metadata": {
    "collapsed": false
   },
   "outputs": [
    {
     "data": {
      "text/plain": [
       "0   -3\n",
       "1   -2\n",
       "2   -1\n",
       "3    0\n",
       "4    1\n",
       "5    2\n",
       "6    3\n",
       "dtype: int64"
      ]
     },
     "execution_count": 45,
     "metadata": {},
     "output_type": "execute_result"
    }
   ],
   "source": [
    "# create another series ranging from -3 to 3\n",
    "\n",
    "s = pd.Series(range(-3, 4))\n",
    "s"
   ]
  },
  {
   "cell_type": "code",
   "execution_count": 46,
   "metadata": {
    "collapsed": false
   },
   "outputs": [
    {
     "data": {
      "text/plain": [
       "4    1\n",
       "5    2\n",
       "6    3\n",
       "dtype: int64"
      ]
     },
     "execution_count": 46,
     "metadata": {},
     "output_type": "execute_result"
    }
   ],
   "source": [
    "# find the values that are > 0. \n",
    "\n",
    "s[s > 0]"
   ]
  },
  {
   "cell_type": "code",
   "execution_count": 47,
   "metadata": {
    "collapsed": false
   },
   "outputs": [
    {
     "data": {
      "text/plain": [
       "0   -3\n",
       "1   -2\n",
       "4    1\n",
       "5    2\n",
       "6    3\n",
       "dtype: int64"
      ]
     },
     "execution_count": 47,
     "metadata": {},
     "output_type": "execute_result"
    }
   ],
   "source": [
    "# find the values that are < -1 or > 0.5\n",
    "\n",
    "s[(s < -1) | (s > 0.5)]"
   ]
  },
  {
   "cell_type": "code",
   "execution_count": 50,
   "metadata": {
    "collapsed": false
   },
   "outputs": [
    {
     "data": {
      "text/plain": [
       "3    0\n",
       "4    1\n",
       "5    2\n",
       "6    3\n",
       "dtype: int64"
      ]
     },
     "execution_count": 50,
     "metadata": {},
     "output_type": "execute_result"
    }
   ],
   "source": [
    "# find the values that are not < 0.\n",
    "\n",
    "s[~(s < 0)]"
   ]
  },
  {
   "cell_type": "code",
   "execution_count": 51,
   "metadata": {
    "collapsed": false
   },
   "outputs": [
    {
     "data": {
      "text/plain": [
       "0   -3\n",
       "1   -2\n",
       "2   -1\n",
       "3    0\n",
       "4    1\n",
       "dtype: int64"
      ]
     },
     "execution_count": 51,
     "metadata": {},
     "output_type": "execute_result"
    }
   ],
   "source": [
    "# find the values that are < 2\n",
    "\n",
    "s[s < 2]"
   ]
  },
  {
   "cell_type": "code",
   "execution_count": 17,
   "metadata": {
    "collapsed": false
   },
   "outputs": [
    {
     "data": {
      "text/plain": [
       "2015-01-01 00:00:00    0.933292\n",
       "2015-01-01 00:45:00    0.933292\n",
       "2015-01-01 01:30:00    1.027040\n",
       "2015-01-01 02:15:00    0.918704\n",
       "2015-01-01 03:00:00   -1.413028\n",
       "2015-01-01 03:45:00   -1.413028\n",
       "2015-01-01 04:30:00    0.780921\n",
       "2015-01-01 05:15:00    0.537933\n",
       "2015-01-01 06:00:00    0.479490\n",
       "2015-01-01 06:45:00    0.479490\n",
       "2015-01-01 07:30:00    1.414508\n",
       "2015-01-01 08:15:00    0.299179\n",
       "2015-01-01 09:00:00   -0.925136\n",
       "2015-01-01 09:45:00   -0.925136\n",
       "2015-01-01 10:30:00    0.558645\n",
       "2015-01-01 11:15:00   -0.851106\n",
       "2015-01-01 12:00:00    0.440117\n",
       "2015-01-01 12:45:00    0.440117\n",
       "2015-01-01 13:30:00    0.424793\n",
       "2015-01-01 14:15:00    1.091502\n",
       "2015-01-01 15:00:00    1.337563\n",
       "2015-01-01 15:45:00    1.337563\n",
       "2015-01-01 16:30:00    0.283526\n",
       "2015-01-01 17:15:00    3.056179\n",
       "2015-01-01 18:00:00    0.440675\n",
       "2015-01-01 18:45:00    0.440675\n",
       "2015-01-01 19:30:00   -2.014017\n",
       "2015-01-01 20:15:00    0.424880\n",
       "2015-01-01 21:00:00    0.333002\n",
       "2015-01-01 21:45:00    0.333002\n",
       "                         ...   \n",
       "2015-01-03 00:45:00    0.866631\n",
       "2015-01-03 01:30:00    0.144191\n",
       "2015-01-03 02:15:00   -1.431376\n",
       "2015-01-03 03:00:00   -0.140729\n",
       "2015-01-03 03:45:00   -0.140729\n",
       "2015-01-03 04:30:00    0.025098\n",
       "2015-01-03 05:15:00    1.185181\n",
       "2015-01-03 06:00:00    1.438037\n",
       "2015-01-03 06:45:00    1.438037\n",
       "2015-01-03 07:30:00   -0.067352\n",
       "2015-01-03 08:15:00   -0.871104\n",
       "2015-01-03 09:00:00    0.965175\n",
       "2015-01-03 09:45:00    0.965175\n",
       "2015-01-03 10:30:00   -0.187985\n",
       "2015-01-03 11:15:00    0.096116\n",
       "2015-01-03 12:00:00   -0.248940\n",
       "2015-01-03 12:45:00   -0.248940\n",
       "2015-01-03 13:30:00   -0.406985\n",
       "2015-01-03 14:15:00   -1.140338\n",
       "2015-01-03 15:00:00    1.171409\n",
       "2015-01-03 15:45:00    1.171409\n",
       "2015-01-03 16:30:00   -1.844853\n",
       "2015-01-03 17:15:00    0.654416\n",
       "2015-01-03 18:00:00    0.320711\n",
       "2015-01-03 18:45:00    0.320711\n",
       "2015-01-03 19:30:00   -0.124926\n",
       "2015-01-03 20:15:00   -0.035792\n",
       "2015-01-03 21:00:00   -0.681997\n",
       "2015-01-03 21:45:00   -0.681997\n",
       "2015-01-03 22:30:00   -0.055180\n",
       "Freq: 45T, dtype: float64"
      ]
     },
     "execution_count": 17,
     "metadata": {},
     "output_type": "execute_result"
    }
   ],
   "source": []
  },
  {
   "cell_type": "code",
   "execution_count": 19,
   "metadata": {
    "collapsed": false
   },
   "outputs": [
    {
     "data": {
      "text/plain": [
       "2015-01-01 00:00:00    0.933292\n",
       "2015-01-01 00:45:00    0.933292\n",
       "2015-01-01 01:30:00    1.027040\n",
       "2015-01-01 02:15:00    0.918704\n",
       "2015-01-01 03:00:00   -1.413028\n",
       "Freq: 45T, dtype: float64"
      ]
     },
     "execution_count": 19,
     "metadata": {},
     "output_type": "execute_result"
    }
   ],
   "source": [
    "converted.head()"
   ]
  },
  {
   "cell_type": "code",
   "execution_count": null,
   "metadata": {
    "collapsed": true
   },
   "outputs": [],
   "source": []
  }
 ],
 "metadata": {
  "kernelspec": {
   "display_name": "Python 2",
   "language": "python",
   "name": "python2"
  },
  "language_info": {
   "codemirror_mode": {
    "name": "ipython",
    "version": 2
   },
   "file_extension": ".py",
   "mimetype": "text/x-python",
   "name": "python",
   "nbconvert_exporter": "python",
   "pygments_lexer": "ipython2",
   "version": "2.7.11"
  }
 },
 "nbformat": 4,
 "nbformat_minor": 0
}
