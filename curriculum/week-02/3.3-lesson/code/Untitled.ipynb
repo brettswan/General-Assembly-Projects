{
 "cells": [
  {
   "cell_type": "code",
   "execution_count": 1,
   "metadata": {
    "collapsed": false
   },
   "outputs": [
    {
     "data": {
      "text/plain": [
       "1"
      ]
     },
     "execution_count": 1,
     "metadata": {},
     "output_type": "execute_result"
    }
   ],
   "source": [
    "def fusc(n):\n",
    "     assert type(n) == int and n >= 0\n",
    "#     if (n == 0):\n",
    "#         return 0\n",
    "#     elif (n == 1):\n",
    "#         return 1\n",
    "#     elif (n%2 == 0):\n",
    "#         return fusc(n/2)\n",
    "#     else:\n",
    "#         return fusc(n/2) + fusc((n/2)+1)\n",
    "    return n if (n==0 or n==1) else fusc(n//2) if n%2==0 else fusc(n//2)+fusc(n//2+1)\n",
    "\n",
    "fusc(8)"
   ]
  },
  {
   "cell_type": "code",
   "execution_count": null,
   "metadata": {
    "collapsed": true
   },
   "outputs": [],
   "source": []
  }
 ],
 "metadata": {
  "kernelspec": {
   "display_name": "Python 2",
   "language": "python",
   "name": "python2"
  },
  "language_info": {
   "codemirror_mode": {
    "name": "ipython",
    "version": 2
   },
   "file_extension": ".py",
   "mimetype": "text/x-python",
   "name": "python",
   "nbconvert_exporter": "python",
   "pygments_lexer": "ipython2",
   "version": "2.7.11"
  }
 },
 "nbformat": 4,
 "nbformat_minor": 0
}
