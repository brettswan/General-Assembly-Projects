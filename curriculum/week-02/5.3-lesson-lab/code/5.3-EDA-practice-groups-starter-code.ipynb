{
 "cells": [
  {
   "cell_type": "markdown",
   "metadata": {},
   "source": [
    "# Today: Data Wrangling GROUPS!\n",
    "\n",
    "Choose a team, and then spend some time looking at data.  We want you to explore the data using the techniques we learned this far including:\n",
    "\n",
    "- Grouping / subsetting / segmentation\n",
    "- Summary statistics\n",
    "    - Histograms\n",
    "    - Plotting\n",
    "- Slicing\n",
    "- Cleaning data\n",
    "    - assessing proper types\n",
    "    - expected values\n",
    "    - object converstion\n",
    "   \n",
    "\n",
    "At the end of our exploratory analysis, each group will be giving a 10 minute presentation on their findings to the rest of class.\n"
   ]
  },
  {
   "cell_type": "code",
<<<<<<< HEAD
   "execution_count": 1,
=======
   "execution_count": 3,
>>>>>>> 065d7e12db1816bc03274892c63d523a7a537c27
   "metadata": {
    "collapsed": false
   },
   "outputs": [],
   "source": [
    "import pandas as pd, numpy as np, seaborn as sns\n",
    "\n",
    "%matplotlib inline"
   ]
  },
  {
   "cell_type": "markdown",
   "metadata": {},
   "source": [
    "## Team Alpha Drone\n",
    "\n",
    "Since the API from `api.dronestre.am` provides data on drone strikes in near real time, this **might** be useful to hold President Obama accountable to his promise of reducing drone strikes.  Your mission, is to explore drone strike data, doing any accomanying research with your analysis, and report back any good summary statistics.\n",
    "\n",
    "Also, we would like to know:\n",
    " - Is this a good source of data?\n",
    "     - Why / why not?\n",
    "     \n",
    "*Politics aside -- let's keep it to what is measurable in our dataset.  This isn't meant to prove or disprove anything.  It's a **fun** dataset to look at moreso than a motivator of political discourse.*"
   ]
  },
  {
   "cell_type": "code",
<<<<<<< HEAD
   "execution_count": 41,
=======
   "execution_count": 4,
>>>>>>> 065d7e12db1816bc03274892c63d523a7a537c27
   "metadata": {
    "collapsed": false
   },
   "outputs": [
    {
     "data": {
      "text/plain": [
       "Index([u'_id', u'articles', u'bij_link', u'bij_summary_short', u'bureau_id',\n",
       "       u'children', u'civilians', u'country', u'date', u'deaths',\n",
       "       u'deaths_max', u'deaths_min', u'injuries', u'lat', u'location', u'lon',\n",
       "       u'names', u'narrative', u'number', u'target', u'town', u'tweet_id'],\n",
       "      dtype='object')"
      ]
     },
     "execution_count": 41,
     "metadata": {},
     "output_type": "execute_result"
    }
   ],
   "source": [
    "# First we need to fetch some data using Python requests from API\n",
    "# Read more about Python requests:\n",
    "# http://docs.python-requests.org/en/master/user/quickstart/\n",
    "\n",
    "import requests\n",
    "\n",
    "response = requests.get(\"http://api.dronestre.am/data\")\n",
    "json_data = response.json()\n",
    "drone_df = pd.DataFrame(json_data['strike'])\n",
    "\n",
    "drone_df.columns\n"
   ]
  },
  {
   "cell_type": "code",
<<<<<<< HEAD
   "execution_count": 89,
=======
   "execution_count": 37,
>>>>>>> 065d7e12db1816bc03274892c63d523a7a537c27
   "metadata": {
    "collapsed": false,
    "scrolled": true
   },
   "outputs": [
    {
     "data": {
      "text/html": [
       "<div style=\"max-height:1000px;max-width:1500px;overflow:auto;\">\n",
       "<table border=\"1\" class=\"dataframe\">\n",
       "  <thead>\n",
       "    <tr style=\"text-align: right;\">\n",
       "      <th></th>\n",
<<<<<<< HEAD
       "      <th>deaths_max</th>\n",
       "    </tr>\n",
       "    <tr>\n",
       "      <th>country</th>\n",
=======
       "      <th>injuries</th>\n",
       "      <th>children</th>\n",
       "    </tr>\n",
       "    <tr>\n",
       "      <th>target</th>\n",
       "      <th></th>\n",
>>>>>>> 065d7e12db1816bc03274892c63d523a7a537c27
       "      <th></th>\n",
       "    </tr>\n",
       "  </thead>\n",
       "  <tbody>\n",
       "    <tr>\n",
<<<<<<< HEAD
       "      <th>Pakistan</th>\n",
       "      <td>428</td>\n",
       "    </tr>\n",
       "    <tr>\n",
       "      <th>Pakistan-Afghanistan Border</th>\n",
       "      <td>1</td>\n",
       "    </tr>\n",
       "    <tr>\n",
       "      <th>Somalia</th>\n",
       "      <td>20</td>\n",
       "    </tr>\n",
       "    <tr>\n",
       "      <th>Yemen</th>\n",
       "      <td>175</td>\n",
=======
       "      <th>Abu Sulayman al-Jazairi</th>\n",
       "      <td>94</td>\n",
       "      <td>3</td>\n",
       "    </tr>\n",
       "    <tr>\n",
       "      <th></th>\n",
       "      <td>9151695448395211323252735101213672974356657888...</td>\n",
       "      <td>10-1PossiblyYes413PossiblyPossiblyAt least 210...</td>\n",
       "    </tr>\n",
       "    <tr>\n",
       "      <th>Maulvi Noor Mohammed</th>\n",
       "      <td>9</td>\n",
       "      <td></td>\n",
       "    </tr>\n",
       "    <tr>\n",
       "      <th>Wali Muhammad Mehsud</th>\n",
       "      <td>7</td>\n",
       "      <td>0</td>\n",
       "    </tr>\n",
       "    <tr>\n",
       "      <th>Abdullah Azzam al-Saudi</th>\n",
       "      <td>7</td>\n",
       "      <td></td>\n",
       "    </tr>\n",
       "    <tr>\n",
       "      <th>Niaz Wali</th>\n",
       "      <td>7</td>\n",
       "      <td></td>\n",
       "    </tr>\n",
       "    <tr>\n",
       "      <th>Khalid Habib</th>\n",
       "      <td>7</td>\n",
       "      <td></td>\n",
       "    </tr>\n",
       "    <tr>\n",
       "      <th>Bahram Khan Kochi</th>\n",
       "      <td>7</td>\n",
       "      <td></td>\n",
       "    </tr>\n",
       "    <tr>\n",
       "      <th>Zubair al-Masri</th>\n",
       "      <td>6</td>\n",
       "      <td></td>\n",
       "    </tr>\n",
       "    <tr>\n",
       "      <th>Hafiz Gul Bahadur</th>\n",
       "      <td>534</td>\n",
       "      <td>At least 1</td>\n",
       "    </tr>\n",
       "    <tr>\n",
       "      <th>Baitullah Mehsud</th>\n",
       "      <td>5153505745</td>\n",
       "      <td>1</td>\n",
       "    </tr>\n",
       "    <tr>\n",
       "      <th>Saifullah</th>\n",
       "      <td>5</td>\n",
       "      <td></td>\n",
       "    </tr>\n",
       "    <tr>\n",
       "      <th>Abu Kasha</th>\n",
       "      <td>5</td>\n",
       "      <td></td>\n",
       "    </tr>\n",
       "    <tr>\n",
       "      <th>Abdul Rehman</th>\n",
       "      <td>4</td>\n",
       "      <td>Possibly</td>\n",
       "    </tr>\n",
       "    <tr>\n",
       "      <th>Abu Wafa al-Saudi</th>\n",
       "      <td>4</td>\n",
       "      <td></td>\n",
       "    </tr>\n",
       "    <tr>\n",
       "      <th>Sheikh Yaseen al Somali</th>\n",
       "      <td>4</td>\n",
       "      <td>0-1</td>\n",
       "    </tr>\n",
       "    <tr>\n",
       "      <th>Maulvi Nazir?</th>\n",
       "      <td>4</td>\n",
       "      <td></td>\n",
       "    </tr>\n",
       "    <tr>\n",
       "      <th>Maulvi Liaqat</th>\n",
       "      <td>3</td>\n",
       "      <td>69</td>\n",
       "    </tr>\n",
       "    <tr>\n",
       "      <th>Abdul Rehman al-Zaman Yemeni?</th>\n",
       "      <td>3</td>\n",
       "      <td>0</td>\n",
       "    </tr>\n",
       "    <tr>\n",
       "      <th>Abu Khabab al-Masri</th>\n",
       "      <td>3</td>\n",
       "      <td>3</td>\n",
       "    </tr>\n",
       "    <tr>\n",
       "      <th>Ilyas Kashmiri</th>\n",
       "      <td>3</td>\n",
       "      <td></td>\n",
       "    </tr>\n",
       "    <tr>\n",
       "      <th>Maulvi Nazir</th>\n",
       "      <td>230545510420</td>\n",
       "      <td>0-330</td>\n",
       "    </tr>\n",
       "    <tr>\n",
       "      <th>Hakimullah Mehsud; Baitullah Mehsud</th>\n",
       "      <td>2</td>\n",
       "      <td>Yes</td>\n",
       "    </tr>\n",
       "    <tr>\n",
       "      <th>Abu Kasha al Iraqi, Saleh al Turki</th>\n",
       "      <td>2</td>\n",
       "      <td>0</td>\n",
       "    </tr>\n",
       "    <tr>\n",
       "      <th>Hafiz Sahar Gul</th>\n",
       "      <td>2</td>\n",
       "      <td>4-Mar</td>\n",
       "    </tr>\n",
       "    <tr>\n",
       "      <th>Hafiz Gul Bahadar</th>\n",
       "      <td>17</td>\n",
       "      <td></td>\n",
       "    </tr>\n",
       "    <tr>\n",
       "      <th>Hakimullah Mehsud</th>\n",
       "      <td>16</td>\n",
       "      <td>3</td>\n",
       "    </tr>\n",
       "    <tr>\n",
       "      <th>Qari Imran</th>\n",
       "      <td>14</td>\n",
       "      <td></td>\n",
       "    </tr>\n",
       "    <tr>\n",
       "      <th>Jalalludin Haqqani</th>\n",
       "      <td>1225</td>\n",
       "      <td>8</td>\n",
       "    </tr>\n",
       "    <tr>\n",
       "      <th>Maulvi Nazir; Malang Wazir</th>\n",
       "      <td>10</td>\n",
       "      <td></td>\n",
       "    </tr>\n",
       "    <tr>\n",
       "      <th>Tariq Khan</th>\n",
       "      <td>1</td>\n",
       "      <td>4</td>\n",
       "    </tr>\n",
       "    <tr>\n",
       "      <th>Shaykh Issa al-Masri</th>\n",
       "      <td>1</td>\n",
       "      <td></td>\n",
       "    </tr>\n",
       "    <tr>\n",
       "      <th>Baitullah Mehsud ally</th>\n",
       "      <td>1</td>\n",
       "      <td>1</td>\n",
       "    </tr>\n",
       "    <tr>\n",
       "      <th>Abu Hamza Rabia</th>\n",
       "      <td>1</td>\n",
       "      <td>32</td>\n",
       "    </tr>\n",
       "    <tr>\n",
       "      <th>Nek Mohammed</th>\n",
       "      <td>1</td>\n",
       "      <td>2</td>\n",
       "    </tr>\n",
       "    <tr>\n",
       "      <th>Nader al Shaddadi</th>\n",
       "      <td>1</td>\n",
       "      <td>1</td>\n",
       "    </tr>\n",
       "    <tr>\n",
       "      <th>Abu Laith al-Libi</th>\n",
       "      <td>1</td>\n",
       "      <td>3</td>\n",
       "    </tr>\n",
       "    <tr>\n",
       "      <th>Abu Jihad al-Masri; Abdur Rehman abu Akash</th>\n",
       "      <td>0</td>\n",
       "      <td></td>\n",
       "    </tr>\n",
       "    <tr>\n",
       "      <th>Taj Ali Khan</th>\n",
       "      <td>0</td>\n",
       "      <td></td>\n",
       "    </tr>\n",
       "    <tr>\n",
       "      <th>Qasim al-Raimi</th>\n",
       "      <td></td>\n",
       "      <td></td>\n",
       "    </tr>\n",
       "    <tr>\n",
       "      <th>Saeed al-Shehri</th>\n",
       "      <td></td>\n",
       "      <td></td>\n",
       "    </tr>\n",
       "    <tr>\n",
       "      <th>Fahd al-Qusaa</th>\n",
       "      <td></td>\n",
       "      <td></td>\n",
       "    </tr>\n",
       "    <tr>\n",
       "      <th>Malang Wazir</th>\n",
       "      <td></td>\n",
       "      <td></td>\n",
       "    </tr>\n",
       "    <tr>\n",
       "      <th>Haitham al-Yemeni</th>\n",
       "      <td></td>\n",
       "      <td></td>\n",
       "    </tr>\n",
       "    <tr>\n",
       "      <th>Ayman al-Zawahiri; Abu Khabab al-Masri; Abd Rahman al-Masri al-Maghribi; Abu Ubeidah al-Masri; Marwan al-Suri; Khalid Habib; Abdul Hadi al-Iraqi</th>\n",
       "      <td></td>\n",
       "      <td>5</td>\n",
>>>>>>> 065d7e12db1816bc03274892c63d523a7a537c27
       "    </tr>\n",
       "  </tbody>\n",
       "</table>\n",
       "</div>"
      ],
      "text/plain": [
<<<<<<< HEAD
       "                             deaths_max\n",
       "country                                \n",
       "Pakistan                            428\n",
       "Pakistan-Afghanistan Border           1\n",
       "Somalia                              20\n",
       "Yemen                               175"
      ]
     },
     "execution_count": 89,
=======
       "                                                                                                                                                                                           injuries  \\\n",
       "target                                                                                                                                                                                                \n",
       "Abu Sulayman al-Jazairi                                                                                                                                                                          94   \n",
       "                                                                                                                                                  9151695448395211323252735101213672974356657888...   \n",
       "Maulvi Noor Mohammed                                                                                                                                                                              9   \n",
       "Wali Muhammad Mehsud                                                                                                                                                                              7   \n",
       "Abdullah Azzam al-Saudi                                                                                                                                                                           7   \n",
       "Niaz Wali                                                                                                                                                                                         7   \n",
       "Khalid Habib                                                                                                                                                                                      7   \n",
       "Bahram Khan Kochi                                                                                                                                                                                 7   \n",
       "Zubair al-Masri                                                                                                                                                                                   6   \n",
       "Hafiz Gul Bahadur                                                                                                                                                                               534   \n",
       "Baitullah Mehsud                                                                                                                                                                         5153505745   \n",
       "Saifullah                                                                                                                                                                                         5   \n",
       "Abu Kasha                                                                                                                                                                                         5   \n",
       "Abdul Rehman                                                                                                                                                                                      4   \n",
       "Abu Wafa al-Saudi                                                                                                                                                                                 4   \n",
       "Sheikh Yaseen al Somali                                                                                                                                                                           4   \n",
       "Maulvi Nazir?                                                                                                                                                                                     4   \n",
       "Maulvi Liaqat                                                                                                                                                                                     3   \n",
       "Abdul Rehman al-Zaman Yemeni?                                                                                                                                                                     3   \n",
       "Abu Khabab al-Masri                                                                                                                                                                               3   \n",
       "Ilyas Kashmiri                                                                                                                                                                                    3   \n",
       "Maulvi Nazir                                                                                                                                                                           230545510420   \n",
       "Hakimullah Mehsud; Baitullah Mehsud                                                                                                                                                               2   \n",
       "Abu Kasha al Iraqi, Saleh al Turki                                                                                                                                                                2   \n",
       "Hafiz Sahar Gul                                                                                                                                                                                   2   \n",
       "Hafiz Gul Bahadar                                                                                                                                                                                17   \n",
       "Hakimullah Mehsud                                                                                                                                                                                16   \n",
       "Qari Imran                                                                                                                                                                                       14   \n",
       "Jalalludin Haqqani                                                                                                                                                                             1225   \n",
       "Maulvi Nazir; Malang Wazir                                                                                                                                                                       10   \n",
       "Tariq Khan                                                                                                                                                                                        1   \n",
       "Shaykh Issa al-Masri                                                                                                                                                                              1   \n",
       "Baitullah Mehsud ally                                                                                                                                                                             1   \n",
       "Abu Hamza Rabia                                                                                                                                                                                   1   \n",
       "Nek Mohammed                                                                                                                                                                                      1   \n",
       "Nader al Shaddadi                                                                                                                                                                                 1   \n",
       "Abu Laith al-Libi                                                                                                                                                                                 1   \n",
       "Abu Jihad al-Masri; Abdur Rehman abu Akash                                                                                                                                                        0   \n",
       "Taj Ali Khan                                                                                                                                                                                      0   \n",
       "Qasim al-Raimi                                                                                                                                                                                        \n",
       "Saeed al-Shehri                                                                                                                                                                                       \n",
       "Fahd al-Qusaa                                                                                                                                                                                         \n",
       "Malang Wazir                                                                                                                                                                                          \n",
       "Haitham al-Yemeni                                                                                                                                                                                     \n",
       "Ayman al-Zawahiri; Abu Khabab al-Masri; Abd Rahman al-Masri al-Maghribi; Abu Ubeidah al-Masri; Marwan al-Suri; Khalid Habib; Abdul Hadi al-Iraqi                                                      \n",
       "\n",
       "                                                                                                                                                                                           children  \n",
       "target                                                                                                                                                                                               \n",
       "Abu Sulayman al-Jazairi                                                                                                                                                                           3  \n",
       "                                                                                                                                                  10-1PossiblyYes413PossiblyPossiblyAt least 210...  \n",
       "Maulvi Noor Mohammed                                                                                                                                                                                 \n",
       "Wali Muhammad Mehsud                                                                                                                                                                              0  \n",
       "Abdullah Azzam al-Saudi                                                                                                                                                                              \n",
       "Niaz Wali                                                                                                                                                                                            \n",
       "Khalid Habib                                                                                                                                                                                         \n",
       "Bahram Khan Kochi                                                                                                                                                                                    \n",
       "Zubair al-Masri                                                                                                                                                                                      \n",
       "Hafiz Gul Bahadur                                                                                                                                                                        At least 1  \n",
       "Baitullah Mehsud                                                                                                                                                                                  1  \n",
       "Saifullah                                                                                                                                                                                            \n",
       "Abu Kasha                                                                                                                                                                                            \n",
       "Abdul Rehman                                                                                                                                                                               Possibly  \n",
       "Abu Wafa al-Saudi                                                                                                                                                                                    \n",
       "Sheikh Yaseen al Somali                                                                                                                                                                         0-1  \n",
       "Maulvi Nazir?                                                                                                                                                                                        \n",
       "Maulvi Liaqat                                                                                                                                                                                    69  \n",
       "Abdul Rehman al-Zaman Yemeni?                                                                                                                                                                     0  \n",
       "Abu Khabab al-Masri                                                                                                                                                                               3  \n",
       "Ilyas Kashmiri                                                                                                                                                                                       \n",
       "Maulvi Nazir                                                                                                                                                                                  0-330  \n",
       "Hakimullah Mehsud; Baitullah Mehsud                                                                                                                                                             Yes  \n",
       "Abu Kasha al Iraqi, Saleh al Turki                                                                                                                                                                0  \n",
       "Hafiz Sahar Gul                                                                                                                                                                               4-Mar  \n",
       "Hafiz Gul Bahadar                                                                                                                                                                                    \n",
       "Hakimullah Mehsud                                                                                                                                                                                 3  \n",
       "Qari Imran                                                                                                                                                                                           \n",
       "Jalalludin Haqqani                                                                                                                                                                                8  \n",
       "Maulvi Nazir; Malang Wazir                                                                                                                                                                           \n",
       "Tariq Khan                                                                                                                                                                                        4  \n",
       "Shaykh Issa al-Masri                                                                                                                                                                                 \n",
       "Baitullah Mehsud ally                                                                                                                                                                             1  \n",
       "Abu Hamza Rabia                                                                                                                                                                                  32  \n",
       "Nek Mohammed                                                                                                                                                                                      2  \n",
       "Nader al Shaddadi                                                                                                                                                                                 1  \n",
       "Abu Laith al-Libi                                                                                                                                                                                 3  \n",
       "Abu Jihad al-Masri; Abdur Rehman abu Akash                                                                                                                                                           \n",
       "Taj Ali Khan                                                                                                                                                                                         \n",
       "Qasim al-Raimi                                                                                                                                                                                       \n",
       "Saeed al-Shehri                                                                                                                                                                                      \n",
       "Fahd al-Qusaa                                                                                                                                                                                        \n",
       "Malang Wazir                                                                                                                                                                                         \n",
       "Haitham al-Yemeni                                                                                                                                                                                    \n",
       "Ayman al-Zawahiri; Abu Khabab al-Masri; Abd Rahman al-Masri al-Maghribi; Abu Ubeidah al-Masri; Marwan al-Suri; Khalid Habib; Abdul Hadi al-Iraqi                                                  5  "
      ]
     },
     "execution_count": 37,
     "metadata": {},
     "output_type": "execute_result"
    }
   ],
   "source": [
    "drone_df.groupby('target')['injuries', 'children'].sum().sort('injuries', ascending = False)"
   ]
  },
  {
   "cell_type": "code",
   "execution_count": 22,
   "metadata": {
    "collapsed": false
   },
   "outputs": [
    {
     "data": {
      "text/plain": [
       "country\n",
       "Pakistan                       428\n",
       "Pakistan-Afghanistan Border      1\n",
       "Somalia                         20\n",
       "Yemen                          175\n",
       "Name: deaths_min, dtype: int64"
      ]
     },
     "execution_count": 22,
>>>>>>> 065d7e12db1816bc03274892c63d523a7a537c27
     "metadata": {},
     "output_type": "execute_result"
    }
   ],
   "source": [
<<<<<<< HEAD
    "# drone_df[['country']]\n",
    "pd.DataFrame(drone_df.groupby('country')['deaths_max'].count())   \n"
   ]
  },
  {
   "cell_type": "code",
   "execution_count": 117,
   "metadata": {
    "collapsed": false
   },
   "outputs": [
    {
     "ename": "TypeError",
     "evalue": "unsupported operand type(s) for &: 'str' and 'unicode'",
     "output_type": "error",
     "traceback": [
      "\u001b[0;31m---------------------------------------------------------------------------\u001b[0m",
      "\u001b[0;31mTypeError\u001b[0m                                 Traceback (most recent call last)",
      "\u001b[0;32m<ipython-input-117-b89b75e98dc0>\u001b[0m in \u001b[0;36m<module>\u001b[0;34m()\u001b[0m\n\u001b[1;32m      2\u001b[0m \u001b[0mdeathtoll\u001b[0m \u001b[0;34m=\u001b[0m \u001b[0;36m0\u001b[0m\u001b[0;34m\u001b[0m\u001b[0m\n\u001b[1;32m      3\u001b[0m \u001b[0;32mfor\u001b[0m \u001b[0mi\u001b[0m \u001b[0;32min\u001b[0m \u001b[0mdrone_df\u001b[0m\u001b[0;34m[\u001b[0m\u001b[0;34m'deaths_max'\u001b[0m\u001b[0;34m]\u001b[0m\u001b[0;34m:\u001b[0m\u001b[0;34m\u001b[0m\u001b[0m\n\u001b[0;32m----> 4\u001b[0;31m     \u001b[0;32mif\u001b[0m \u001b[0mi\u001b[0m \u001b[0;34m!=\u001b[0m \u001b[0;34m''\u001b[0m \u001b[0;34m&\u001b[0m \u001b[0mi\u001b[0m \u001b[0;34m!=\u001b[0m \u001b[0;34m'?'\u001b[0m\u001b[0;34m:\u001b[0m\u001b[0;34m\u001b[0m\u001b[0m\n\u001b[0m\u001b[1;32m      5\u001b[0m         \u001b[0minteger\u001b[0m \u001b[0;34m=\u001b[0m \u001b[0mint\u001b[0m\u001b[0;34m(\u001b[0m\u001b[0mi\u001b[0m\u001b[0;34m)\u001b[0m\u001b[0;34m\u001b[0m\u001b[0m\n\u001b[1;32m      6\u001b[0m         \u001b[0mdeathtoll\u001b[0m \u001b[0;34m+=\u001b[0m \u001b[0minteger\u001b[0m\u001b[0;34m\u001b[0m\u001b[0m\n",
      "\u001b[0;31mTypeError\u001b[0m: unsupported operand type(s) for &: 'str' and 'unicode'"
     ]
    }
   ],
   "source": [
    "deathFrame = drone_df[['deaths_max']]\n",
    "deathtoll = 0\n",
    "for i in drone_df['deaths_max']:\n",
    "    if i != '' & i != '?':\n",
    "        integer = int(i)\n",
    "        deathtoll += integer\n",
    "        print deathtoll\n",
    "    \n",
    "            \n",
    "#     print j, type(j) \n",
    "deathtoll"
   ]
  },
  {
   "cell_type": "code",
   "execution_count": 104,
   "metadata": {
    "collapsed": false
   },
   "outputs": [
    {
     "ename": "SyntaxError",
     "evalue": "invalid syntax (<ipython-input-104-20a87cefcd63>, line 10)",
     "output_type": "error",
     "traceback": [
      "\u001b[0;36m  File \u001b[0;32m\"<ipython-input-104-20a87cefcd63>\"\u001b[0;36m, line \u001b[0;32m10\u001b[0m\n\u001b[0;31m    if type(i)==:\u001b[0m\n\u001b[0m                ^\u001b[0m\n\u001b[0;31mSyntaxError\u001b[0m\u001b[0;31m:\u001b[0m invalid syntax\n"
     ]
    }
   ],
   "source": [
    "deathList = drone_df['deaths_max']\n",
    "deathToll = 0\n",
    "# for i in deathList:\n",
    "#     if type(i) == 'int':\n",
    "#         print i\n",
    "#         deathToll += i\n",
    "# #         print int(i) #i += deathToll\n",
    "# #     print deathToll\n",
    "for i in deathList:\n",
    "    if type(i)==:\n",
    "        print i, type(i)"
   ]
  },
  {
   "cell_type": "code",
   "execution_count": 62,
   "metadata": {
    "collapsed": false
   },
   "outputs": [],
   "source": [
    "d = 6"
   ]
  },
  {
   "cell_type": "code",
   "execution_count": 68,
   "metadata": {
    "collapsed": false
   },
   "outputs": [
    {
     "ename": "AttributeError",
     "evalue": "'int' object has no attribute 'isdigit'",
     "output_type": "error",
     "traceback": [
      "\u001b[0;31m---------------------------------------------------------------------------\u001b[0m",
      "\u001b[0;31mAttributeError\u001b[0m                            Traceback (most recent call last)",
      "\u001b[0;32m<ipython-input-68-f04fe6ef95d5>\u001b[0m in \u001b[0;36m<module>\u001b[0;34m()\u001b[0m\n\u001b[0;32m----> 1\u001b[0;31m \u001b[0md\u001b[0m\u001b[0;34m.\u001b[0m\u001b[0misdigit\u001b[0m\u001b[0;34m(\u001b[0m\u001b[0;34m)\u001b[0m\u001b[0;34m\u001b[0m\u001b[0m\n\u001b[0m",
      "\u001b[0;31mAttributeError\u001b[0m: 'int' object has no attribute 'isdigit'"
     ]
    }
   ],
   "source": [
    "d.isdigit()"
=======
    "drone_df.groupby('country').deaths_min.count()\n",
    "#drone_df.groupby('town').children.count()"
>>>>>>> 065d7e12db1816bc03274892c63d523a7a537c27
   ]
  },
  {
   "cell_type": "markdown",
   "metadata": {},
   "source": [
    "## Team Popcorn\n",
    "\n",
    "You're a force to be reckoned with when you `read_csv` into your `movie_df` dataframe.  You are team \"Popcorn\".  It would be nice to know:\n",
    "\n",
    " - Which movies remained in the top 10 the longest\n",
    " - Which movies were good investments?\n",
    " \n",
    " Bonus:\n",
    " - Do any holidays impact sales performance or position?\n",
    "\n",
    "\n",
    "_[There's a data dictionary available!](http://www.amstat.org/publications/jse/v17n1/datasets.mclaren.html)_"
   ]
  },
  {
   "cell_type": "code",
   "execution_count": 5,
   "metadata": {
    "collapsed": false
   },
   "outputs": [
    {
     "data": {
      "text/html": [
       "<div>\n",
       "<table border=\"1\" class=\"dataframe\">\n",
       "  <thead>\n",
       "    <tr style=\"text-align: right;\">\n",
       "      <th></th>\n",
       "      <th>NUMBER</th>\n",
       "      <th>MOVIE</th>\n",
       "      <th>WEEK_NUM</th>\n",
       "      <th>WEEKEND_PER_THEATER</th>\n",
       "      <th>WEEKEND_DATE</th>\n",
       "    </tr>\n",
       "  </thead>\n",
       "  <tbody>\n",
       "    <tr>\n",
       "      <th>0</th>\n",
       "      <td>1</td>\n",
       "      <td>A Beautiful Mind</td>\n",
       "      <td>1</td>\n",
       "      <td>701</td>\n",
       "      <td>12/21/01</td>\n",
       "    </tr>\n",
       "    <tr>\n",
       "      <th>1</th>\n",
       "      <td>1</td>\n",
       "      <td>A Beautiful Mind</td>\n",
       "      <td>2</td>\n",
       "      <td>14820</td>\n",
       "      <td>12/28/01</td>\n",
       "    </tr>\n",
       "    <tr>\n",
       "      <th>2</th>\n",
       "      <td>1</td>\n",
       "      <td>A Beautiful Mind</td>\n",
       "      <td>3</td>\n",
       "      <td>8940</td>\n",
       "      <td>1/4/02</td>\n",
       "    </tr>\n",
       "    <tr>\n",
       "      <th>3</th>\n",
       "      <td>1</td>\n",
       "      <td>A Beautiful Mind</td>\n",
       "      <td>4</td>\n",
       "      <td>6850</td>\n",
       "      <td>1/11/02</td>\n",
       "    </tr>\n",
       "    <tr>\n",
       "      <th>4</th>\n",
       "      <td>1</td>\n",
       "      <td>A Beautiful Mind</td>\n",
       "      <td>5</td>\n",
       "      <td>5280</td>\n",
       "      <td>1/18/02</td>\n",
       "    </tr>\n",
       "  </tbody>\n",
       "</table>\n",
       "</div>"
      ],
      "text/plain": [
       "   NUMBER             MOVIE  WEEK_NUM  WEEKEND_PER_THEATER WEEKEND_DATE\n",
       "0       1  A Beautiful Mind         1                  701     12/21/01\n",
       "1       1  A Beautiful Mind         2                14820     12/28/01\n",
       "2       1  A Beautiful Mind         3                 8940       1/4/02\n",
       "3       1  A Beautiful Mind         4                 6850      1/11/02\n",
       "4       1  A Beautiful Mind         5                 5280      1/18/02"
      ]
     },
     "execution_count": 5,
     "metadata": {},
     "output_type": "execute_result"
    }
   ],
   "source": [
    "movie_df = pd.read_csv(\"../data/movie_weekend.csv\")\n",
    "movie_df.head(5)"
   ]
  },
  {
   "cell_type": "markdown",
   "metadata": {},
   "source": [
    "## Team Titanic\n",
    "\n",
    "Known for it's honesty, the Titanic dataset is a very common dataset for doing classification prediction of fatalities.  For our challenge, why don't we try to focus on the latent characteristics. \n",
    "\n",
    "For the record, this is how much know:\n",
    "\n",
    "![](http://www.glencoe.com/sec/math/studytools/books/0-07-829631-5/images/IQ02-003W-8228662.gif)\n",
    "\n",
    "Certainly there is a better story to tell.\n",
    "\n",
    "**Bonus**\n",
    " - Can you pull out titles (ie: Mr., Miss, Mrs) from the feature \"Name\" and assign it to a new variable? We think there could be something interesting to look at in aggregate based on titles!"
   ]
  },
  {
   "cell_type": "code",
   "execution_count": 411,
   "metadata": {
    "collapsed": false
   },
   "outputs": [
    {
     "data": {
      "text/html": [
       "<div>\n",
       "<table border=\"1\" class=\"dataframe\">\n",
       "  <thead>\n",
       "    <tr style=\"text-align: right;\">\n",
       "      <th></th>\n",
       "      <th>PassengerId</th>\n",
       "      <th>Survived</th>\n",
       "      <th>Pclass</th>\n",
       "      <th>Name</th>\n",
       "      <th>Sex</th>\n",
       "      <th>Age</th>\n",
       "      <th>SibSp</th>\n",
       "      <th>Parch</th>\n",
       "      <th>Ticket</th>\n",
       "      <th>Fare</th>\n",
       "      <th>Cabin</th>\n",
       "      <th>Embarked</th>\n",
       "    </tr>\n",
       "  </thead>\n",
       "  <tbody>\n",
       "    <tr>\n",
       "      <th>0</th>\n",
       "      <td>1</td>\n",
       "      <td>0</td>\n",
       "      <td>3</td>\n",
       "      <td>Braund, Mr. Owen Harris</td>\n",
       "      <td>male</td>\n",
       "      <td>22</td>\n",
       "      <td>1</td>\n",
       "      <td>0</td>\n",
       "      <td>A/5 21171</td>\n",
       "      <td>7.2500</td>\n",
       "      <td>NaN</td>\n",
       "      <td>S</td>\n",
       "    </tr>\n",
       "    <tr>\n",
       "      <th>1</th>\n",
       "      <td>2</td>\n",
       "      <td>1</td>\n",
       "      <td>1</td>\n",
       "      <td>Cumings, Mrs. John Bradley (Florence Briggs Th...</td>\n",
       "      <td>female</td>\n",
       "      <td>38</td>\n",
       "      <td>1</td>\n",
       "      <td>0</td>\n",
       "      <td>PC 17599</td>\n",
       "      <td>71.2833</td>\n",
       "      <td>C85</td>\n",
       "      <td>C</td>\n",
       "    </tr>\n",
       "    <tr>\n",
       "      <th>2</th>\n",
       "      <td>3</td>\n",
       "      <td>1</td>\n",
       "      <td>3</td>\n",
       "      <td>Heikkinen, Miss. Laina</td>\n",
       "      <td>female</td>\n",
       "      <td>26</td>\n",
       "      <td>0</td>\n",
       "      <td>0</td>\n",
       "      <td>STON/O2. 3101282</td>\n",
       "      <td>7.9250</td>\n",
       "      <td>NaN</td>\n",
       "      <td>S</td>\n",
       "    </tr>\n",
       "  </tbody>\n",
       "</table>\n",
       "</div>"
      ],
      "text/plain": [
       "   PassengerId  Survived  Pclass  \\\n",
       "0            1         0       3   \n",
       "1            2         1       1   \n",
       "2            3         1       3   \n",
       "\n",
       "                                                Name     Sex  Age  SibSp  \\\n",
       "0                            Braund, Mr. Owen Harris    male   22      1   \n",
       "1  Cumings, Mrs. John Bradley (Florence Briggs Th...  female   38      1   \n",
       "2                             Heikkinen, Miss. Laina  female   26      0   \n",
       "\n",
       "   Parch            Ticket     Fare Cabin Embarked  \n",
       "0      0         A/5 21171   7.2500   NaN        S  \n",
       "1      0          PC 17599  71.2833   C85        C  \n",
       "2      0  STON/O2. 3101282   7.9250   NaN        S  "
      ]
     },
     "execution_count": 411,
     "metadata": {},
     "output_type": "execute_result"
    }
   ],
   "source": [
    "titanic_df = pd.read_csv(\"../data/titanic.csv\")\n",
    "titanic_df.head(3)\n"
   ]
  },
  {
   "cell_type": "code",
   "execution_count": null,
   "metadata": {
    "collapsed": true
   },
   "outputs": [],
   "source": []
  }
 ],
 "metadata": {
  "kernelspec": {
   "display_name": "Python 2",
   "language": "python",
   "name": "python2"
  },
  "language_info": {
   "codemirror_mode": {
    "name": "ipython",
    "version": 2
   },
   "file_extension": ".py",
   "mimetype": "text/x-python",
   "name": "python",
   "nbconvert_exporter": "python",
   "pygments_lexer": "ipython2",
   "version": "2.7.11"
  },
  "widgets": {
   "state": {},
   "version": "1.1.2"
  }
 },
 "nbformat": 4,
 "nbformat_minor": 0
}
