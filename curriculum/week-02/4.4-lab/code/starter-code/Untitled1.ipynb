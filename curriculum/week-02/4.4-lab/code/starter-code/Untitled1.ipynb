{
 "cells": [
  {
   "cell_type": "code",
   "execution_count": 10,
   "metadata": {
    "collapsed": false
   },
   "outputs": [
    {
     "ename": "SyntaxError",
     "evalue": "invalid syntax (<ipython-input-10-9da66c154b1a>, line 21)",
     "output_type": "error",
     "traceback": [
      "\u001b[0;36m  File \u001b[0;32m\"<ipython-input-10-9da66c154b1a>\"\u001b[0;36m, line \u001b[0;32m21\u001b[0m\n\u001b[0;31m    n arg\u001b[0m\n\u001b[0m        ^\u001b[0m\n\u001b[0;31mSyntaxError\u001b[0m\u001b[0;31m:\u001b[0m invalid syntax\n"
     ]
    }
   ],
   "source": [
    "#assert add(1) == 1\n",
    "#assert add(2) == 3\n",
    "#assert add(3) == 6\n",
    "\n",
    "#assert add(1,2,3) == 10\n",
    "# global_num = 0\n",
    "# def add(n):\n",
    "#     total = 0\n",
    "#     for i in range(n+1):\n",
    "#         total += i\n",
    "    \n",
    "#     return total\n",
    "\n",
    "# add(3)\n",
    "\n",
    "global_num = 0\n",
    "def add(*argv):\n",
    "    print argv\n",
    "    \n",
    "    for arg in argv:\n",
    "        n arg\n",
    "    \n",
    "    return global_num\n",
    "\n",
    "add(3)\n",
    "\n"
   ]
  },
  {
   "cell_type": "code",
   "execution_count": 6,
   "metadata": {
    "collapsed": true
   },
   "outputs": [],
   "source": [
    "import numpy as np"
   ]
  },
  {
   "cell_type": "code",
   "execution_count": null,
   "metadata": {
    "collapsed": true
   },
   "outputs": [],
   "source": []
  }
 ],
 "metadata": {
  "kernelspec": {
   "display_name": "Python 2",
   "language": "python",
   "name": "python2"
  },
  "language_info": {
   "codemirror_mode": {
    "name": "ipython",
    "version": 2
   },
   "file_extension": ".py",
   "mimetype": "text/x-python",
   "name": "python",
   "nbconvert_exporter": "python",
   "pygments_lexer": "ipython2",
   "version": "2.7.11"
  }
 },
 "nbformat": 4,
 "nbformat_minor": 0
}
