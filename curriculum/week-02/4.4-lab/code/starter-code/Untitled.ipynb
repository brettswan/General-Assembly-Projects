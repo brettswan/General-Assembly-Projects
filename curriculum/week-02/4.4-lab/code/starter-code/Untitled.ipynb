{
 "cells": [
  {
   "cell_type": "code",
   "execution_count": 17,
   "metadata": {
    "collapsed": false
   },
   "outputs": [
    {
     "data": {
      "text/plain": [
       "'adak adak adak adak '"
      ]
     },
     "execution_count": 17,
     "metadata": {},
     "output_type": "execute_result"
    }
   ],
   "source": [
    "names = ['anane ','adak ']\n",
    "\n",
    "#1 = anane \n",
    "# 2 = adak \n",
    "# 3 = adak anane \n",
    "# 4 = adak adak \n",
    "# 5 = adak adak anane \n",
    "# 6 = adak adak adak\n",
    "# 7 = adak adak adak anane\n",
    "# 8 = adak adak adak adak \n",
    "\n",
    "def count_arara(n):\n",
    "    for i in range(n):\n",
    "        if n%2 ==0:\n",
    "            return ((names[1])*(n/2))\n",
    "        if n%2 !=0:\n",
    "            return ((names[1])*(n/2) + names[0])\n",
    "count_arara(8)"
   ]
  },
  {
   "cell_type": "code",
   "execution_count": null,
   "metadata": {
    "collapsed": true
   },
   "outputs": [],
   "source": []
  }
 ],
 "metadata": {
  "kernelspec": {
   "display_name": "Python 2",
   "language": "python",
   "name": "python2"
  },
  "language_info": {
   "codemirror_mode": {
    "name": "ipython",
    "version": 2
   },
   "file_extension": ".py",
   "mimetype": "text/x-python",
   "name": "python",
   "nbconvert_exporter": "python",
   "pygments_lexer": "ipython2",
   "version": "2.7.11"
  }
 },
 "nbformat": 4,
 "nbformat_minor": 0
}
